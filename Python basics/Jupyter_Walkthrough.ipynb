{
 "cells": [
  {
   "cell_type": "markdown",
   "id": "e53f5f04-ed6b-4e0c-9ce9-c2d7c5e4712a",
   "metadata": {},
   "source": [
    "### This is Jupyter notebook, used for running python code in a line by line manner"
   ]
  },
  {
   "cell_type": "markdown",
   "id": "daf1e3c0-1c91-4704-88be-d18d9ccaa550",
   "metadata": {},
   "source": [
    "#### The extention of any jupyter file is .ipynb and it runs the latest python 3 code"
   ]
  },
  {
   "cell_type": "markdown",
   "id": "e29e41d1-39b2-4ca9-9198-d2d3f3f360f9",
   "metadata": {},
   "source": [
    "##### Go to the help menu to look keyboard shortcuts"
   ]
  },
  {
   "cell_type": "markdown",
   "id": "c9fc0a90-610a-432b-b6ec-ce9c2c16a6d8",
   "metadata": {},
   "source": [
    "##### we can change the name of the notebook by clicking on untitled and renaming it"
   ]
  },
  {
   "cell_type": "markdown",
   "id": "0ef7debe-8a85-4e4a-ac98-99b27fceafac",
   "metadata": {},
   "source": [
    "##### we can write python code in the cell and use shift + enter to run it\n",
    "##### we can write python code in the cell and use alt + enter to run and add a cell below it"
   ]
  },
  {
   "cell_type": "code",
   "execution_count": 1,
   "id": "cdea2f98-c877-4a83-ab16-9917ee560751",
   "metadata": {},
   "outputs": [
    {
     "name": "stdout",
     "output_type": "stream",
     "text": [
      "Hello World\n"
     ]
    }
   ],
   "source": [
    "print(\"Hello World\")"
   ]
  },
  {
   "cell_type": "markdown",
   "id": "33632356-f31c-4b8a-a445-06b60202f076",
   "metadata": {},
   "source": [
    "##### it shows the output of the code in the cell just below it"
   ]
  },
  {
   "cell_type": "markdown",
   "id": "617d374d-6ac2-4550-97ad-71dbf01b9401",
   "metadata": {},
   "source": [
    "##### A cell can be a code cell or a markdown cell, for making a code cell into markdown, click on cell no. and m"
   ]
  },
  {
   "cell_type": "markdown",
   "id": "527ff1eb-8858-4b22-99ad-6746c33e1732",
   "metadata": {},
   "source": [
    "#####to again convert the cell into code cell simply press c"
   ]
  },
  {
   "cell_type": "markdown",
   "id": "4474bb6d-e8b6-4c40-a610-1bd34afc0407",
   "metadata": {},
   "source": [
    "##### To marking text use # to get the respective size you need"
   ]
  },
  {
   "cell_type": "markdown",
   "id": "e80eeb22-f84d-4013-9b3b-9c3559f550bd",
   "metadata": {},
   "source": [
    "##### if you add any command after 1 sign then it will be considered as a bash command"
   ]
  },
  {
   "cell_type": "markdown",
   "id": "282f2de2-3142-49d0-a285-40bac12c78bd",
   "metadata": {},
   "source": [
    "##### to get info about any method we can use shift + tab"
   ]
  },
  {
   "cell_type": "markdown",
   "id": "7f70950c-7067-4f95-a25f-c006c43e0a89",
   "metadata": {},
   "source": [
    "##### to autocomplete the names of methods use tab"
   ]
  },
  {
   "cell_type": "code",
   "execution_count": 6,
   "id": "1af3aa27-df39-4dfa-8a14-dd665b1d1833",
   "metadata": {},
   "outputs": [
    {
     "data": {
      "application/json": {
       "cell": {
        "!": "OSMagics",
        "HTML": "Other",
        "SVG": "Other",
        "bash": "Other",
        "capture": "ExecutionMagics",
        "debug": "ExecutionMagics",
        "file": "Other",
        "html": "DisplayMagics",
        "javascript": "DisplayMagics",
        "js": "DisplayMagics",
        "latex": "DisplayMagics",
        "markdown": "DisplayMagics",
        "perl": "Other",
        "prun": "ExecutionMagics",
        "pypy": "Other",
        "python": "Other",
        "python2": "Other",
        "python3": "Other",
        "ruby": "Other",
        "script": "ScriptMagics",
        "sh": "Other",
        "svg": "DisplayMagics",
        "sx": "OSMagics",
        "system": "OSMagics",
        "time": "ExecutionMagics",
        "timeit": "ExecutionMagics",
        "writefile": "OSMagics"
       },
       "line": {
        "alias": "OSMagics",
        "alias_magic": "BasicMagics",
        "autoawait": "AsyncMagics",
        "autocall": "AutoMagics",
        "automagic": "AutoMagics",
        "autosave": "KernelMagics",
        "bookmark": "OSMagics",
        "cat": "Other",
        "cd": "OSMagics",
        "clear": "KernelMagics",
        "colors": "BasicMagics",
        "conda": "PackagingMagics",
        "config": "ConfigMagics",
        "connect_info": "KernelMagics",
        "cp": "Other",
        "debug": "ExecutionMagics",
        "dhist": "OSMagics",
        "dirs": "OSMagics",
        "doctest_mode": "BasicMagics",
        "ed": "Other",
        "edit": "KernelMagics",
        "env": "OSMagics",
        "gui": "BasicMagics",
        "hist": "Other",
        "history": "HistoryMagics",
        "killbgscripts": "ScriptMagics",
        "ldir": "Other",
        "less": "KernelMagics",
        "lf": "Other",
        "lk": "Other",
        "ll": "Other",
        "load": "CodeMagics",
        "load_ext": "ExtensionMagics",
        "loadpy": "CodeMagics",
        "logoff": "LoggingMagics",
        "logon": "LoggingMagics",
        "logstart": "LoggingMagics",
        "logstate": "LoggingMagics",
        "logstop": "LoggingMagics",
        "ls": "Other",
        "lsmagic": "BasicMagics",
        "lx": "Other",
        "macro": "ExecutionMagics",
        "magic": "BasicMagics",
        "man": "KernelMagics",
        "matplotlib": "PylabMagics",
        "mkdir": "Other",
        "more": "KernelMagics",
        "mv": "Other",
        "notebook": "BasicMagics",
        "page": "BasicMagics",
        "pastebin": "CodeMagics",
        "pdb": "ExecutionMagics",
        "pdef": "NamespaceMagics",
        "pdoc": "NamespaceMagics",
        "pfile": "NamespaceMagics",
        "pinfo": "NamespaceMagics",
        "pinfo2": "NamespaceMagics",
        "pip": "PackagingMagics",
        "popd": "OSMagics",
        "pprint": "BasicMagics",
        "precision": "BasicMagics",
        "prun": "ExecutionMagics",
        "psearch": "NamespaceMagics",
        "psource": "NamespaceMagics",
        "pushd": "OSMagics",
        "pwd": "OSMagics",
        "pycat": "OSMagics",
        "pylab": "PylabMagics",
        "qtconsole": "KernelMagics",
        "quickref": "BasicMagics",
        "recall": "HistoryMagics",
        "rehashx": "OSMagics",
        "reload_ext": "ExtensionMagics",
        "rep": "Other",
        "rerun": "HistoryMagics",
        "reset": "NamespaceMagics",
        "reset_selective": "NamespaceMagics",
        "rm": "Other",
        "rmdir": "Other",
        "run": "ExecutionMagics",
        "save": "CodeMagics",
        "sc": "OSMagics",
        "set_env": "OSMagics",
        "store": "StoreMagics",
        "sx": "OSMagics",
        "system": "OSMagics",
        "tb": "ExecutionMagics",
        "time": "ExecutionMagics",
        "timeit": "ExecutionMagics",
        "unalias": "OSMagics",
        "unload_ext": "ExtensionMagics",
        "who": "NamespaceMagics",
        "who_ls": "NamespaceMagics",
        "whos": "NamespaceMagics",
        "xdel": "NamespaceMagics",
        "xmode": "BasicMagics"
       }
      },
      "text/plain": [
       "Available line magics:\n",
       "%alias  %alias_magic  %autoawait  %autocall  %automagic  %autosave  %bookmark  %cat  %cd  %clear  %colors  %conda  %config  %connect_info  %cp  %debug  %dhist  %dirs  %doctest_mode  %ed  %edit  %env  %gui  %hist  %history  %killbgscripts  %ldir  %less  %lf  %lk  %ll  %load  %load_ext  %loadpy  %logoff  %logon  %logstart  %logstate  %logstop  %ls  %lsmagic  %lx  %macro  %magic  %man  %matplotlib  %mkdir  %more  %mv  %notebook  %page  %pastebin  %pdb  %pdef  %pdoc  %pfile  %pinfo  %pinfo2  %pip  %popd  %pprint  %precision  %prun  %psearch  %psource  %pushd  %pwd  %pycat  %pylab  %qtconsole  %quickref  %recall  %rehashx  %reload_ext  %rep  %rerun  %reset  %reset_selective  %rm  %rmdir  %run  %save  %sc  %set_env  %store  %sx  %system  %tb  %time  %timeit  %unalias  %unload_ext  %who  %who_ls  %whos  %xdel  %xmode\n",
       "\n",
       "Available cell magics:\n",
       "%%!  %%HTML  %%SVG  %%bash  %%capture  %%debug  %%file  %%html  %%javascript  %%js  %%latex  %%markdown  %%perl  %%prun  %%pypy  %%python  %%python2  %%python3  %%ruby  %%script  %%sh  %%svg  %%sx  %%system  %%time  %%timeit  %%writefile\n",
       "\n",
       "Automagic is ON, % prefix IS NOT needed for line magics."
      ]
     },
     "execution_count": 6,
     "metadata": {},
     "output_type": "execute_result"
    }
   ],
   "source": [
    "%lsmagic"
   ]
  },
  {
   "cell_type": "markdown",
   "id": "f45c584a-bed0-4e27-ba69-36d7f72aeabc",
   "metadata": {},
   "source": [
    "##### this gives us the magic commands in jupyter"
   ]
  },
  {
   "cell_type": "code",
   "execution_count": 8,
   "id": "c998d878-af64-4de0-ada0-c93356befd7a",
   "metadata": {},
   "outputs": [
    {
     "data": {
      "text/plain": [
       "'/Users/rajatsaraswat/Desktop/data science 2/ds : ml 2/Refactored_Py_DS_ML_Bootcamp-master/My_Notes'"
      ]
     },
     "execution_count": 8,
     "metadata": {},
     "output_type": "execute_result"
    }
   ],
   "source": [
    "%pwd # use this to get the current working directory"
   ]
  },
  {
   "cell_type": "code",
   "execution_count": 10,
   "id": "b3e2f87b-e709-4c93-98ba-e8d0774811d6",
   "metadata": {},
   "outputs": [
    {
     "name": "stdout",
     "output_type": "stream",
     "text": [
      "Jupyter_Walkthrough.ipynb\n"
     ]
    }
   ],
   "source": [
    "%ls #this to list all the files in the current directory"
   ]
  },
  {
   "cell_type": "markdown",
   "id": "b5109e0a-0d42-421f-872e-dd2fc5a19051",
   "metadata": {},
   "source": [
    "##### this will automatically render html code in cell"
   ]
  },
  {
   "cell_type": "code",
   "execution_count": 12,
   "id": "a16160d4-8fbe-48d9-b61a-93e25f309293",
   "metadata": {},
   "outputs": [
    {
     "data": {
      "text/html": [
       "<body> Hi </body>\n"
      ],
      "text/plain": [
       "<IPython.core.display.HTML object>"
      ]
     },
     "metadata": {},
     "output_type": "display_data"
    }
   ],
   "source": [
    "%%HTML\n",
    "<body> Hi </body>"
   ]
  },
  {
   "cell_type": "markdown",
   "id": "0b9ab58f-92a3-4e0f-a8d5-3cd34d9ea716",
   "metadata": {},
   "source": [
    "##### this gives us the average time it takes to run the perticular command"
   ]
  },
  {
   "cell_type": "code",
   "execution_count": 16,
   "id": "74fb61cc-e860-4160-baf1-d2804ff964f8",
   "metadata": {},
   "outputs": [
    {
     "name": "stdout",
     "output_type": "stream",
     "text": [
      "20 µs ± 418 ns per loop (mean ± std. dev. of 7 runs, 10,000 loops each)\n"
     ]
    }
   ],
   "source": [
    "%%timeit\n",
    "square_evens = [n*n for n in range(0,1000)]"
   ]
  },
  {
   "cell_type": "markdown",
   "id": "a1a82639-9160-4488-abfa-3d312a55c1bb",
   "metadata": {},
   "source": [
    "##### the jupyter notebook is used in variety of ways and it makes graphical manipulation and visualization easier"
   ]
  },
  {
   "cell_type": "markdown",
   "id": "86fb618e-f739-4617-af86-1b4060cbecad",
   "metadata": {},
   "source": [
    "##### to export the file just download it there are lot of available formats"
   ]
  },
  {
   "cell_type": "markdown",
   "id": "e3c73e86-49ab-4b23-98ac-ce92cb9bded3",
   "metadata": {},
   "source": [
    "#### the jupyter thread moves from up to down , if any change is done downwards and then some change is made on top then\n",
    "#### it will be considered after all the cells runned after that cell"
   ]
  },
  {
   "cell_type": "code",
   "execution_count": null,
   "id": "c9e2235d-d9b2-4752-b7a7-43aa60b0fd69",
   "metadata": {},
   "outputs": [],
   "source": []
  }
 ],
 "metadata": {
  "kernelspec": {
   "display_name": "Python 3 (ipykernel)",
   "language": "python",
   "name": "python3"
  },
  "language_info": {
   "codemirror_mode": {
    "name": "ipython",
    "version": 3
   },
   "file_extension": ".py",
   "mimetype": "text/x-python",
   "name": "python",
   "nbconvert_exporter": "python",
   "pygments_lexer": "ipython3",
   "version": "3.11.5"
  }
 },
 "nbformat": 4,
 "nbformat_minor": 5
}
