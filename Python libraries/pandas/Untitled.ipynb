{
 "cells": [
  {
   "cell_type": "code",
   "execution_count": 7,
   "id": "390c1b2e-935f-4b39-87b1-a36426291c79",
   "metadata": {},
   "outputs": [],
   "source": [
    "import numpy as np\n",
    "import pandas as pd"
   ]
  },
  {
   "cell_type": "code",
   "execution_count": 8,
   "id": "aab038d5-503f-4f86-9bbf-cc16cfb8fd77",
   "metadata": {},
   "outputs": [],
   "source": [
    "labels = ['a' , 'b', 'c']\n",
    "my_list = [10, 20, 30]"
   ]
  },
  {
   "cell_type": "code",
   "execution_count": 11,
   "id": "c915295e-90b1-4793-bcd2-aac6e4f8f04f",
   "metadata": {},
   "outputs": [
    {
     "data": {
      "text/plain": [
       "a    10\n",
       "b    20\n",
       "c    30\n",
       "dtype: int64"
      ]
     },
     "execution_count": 11,
     "metadata": {},
     "output_type": "execute_result"
    }
   ],
   "source": [
    "pd.Series(data = my_list, index = labels)"
   ]
  },
  {
   "cell_type": "code",
   "execution_count": 14,
   "id": "4125dad1-d028-41a5-8e7b-5904a5629ee5",
   "metadata": {},
   "outputs": [
    {
     "data": {
      "text/plain": [
       "0    1\n",
       "1    2\n",
       "2    3\n",
       "dtype: int64"
      ]
     },
     "execution_count": 14,
     "metadata": {},
     "output_type": "execute_result"
    }
   ],
   "source": [
    "arr = np.array([1,2,3])\n",
    "\n",
    "pd.Series(arr)"
   ]
  },
  {
   "cell_type": "code",
   "execution_count": 15,
   "id": "3089562e-f572-4c0c-99ce-2e129ec91425",
   "metadata": {},
   "outputs": [
    {
     "data": {
      "text/plain": [
       "a    1\n",
       "b    2\n",
       "c    3\n",
       "dtype: int64"
      ]
     },
     "execution_count": 15,
     "metadata": {},
     "output_type": "execute_result"
    }
   ],
   "source": [
    "pd.Series(arr, labels)"
   ]
  },
  {
   "cell_type": "code",
   "execution_count": 16,
   "id": "efb9dc97-a565-4fcf-95c8-12e78baab93c",
   "metadata": {},
   "outputs": [
    {
     "data": {
      "text/plain": [
       "a      10\n",
       "b      23\n",
       "c    9087\n",
       "dtype: int64"
      ]
     },
     "execution_count": 16,
     "metadata": {},
     "output_type": "execute_result"
    }
   ],
   "source": [
    "d = {'a' : 10, 'b' : 23 ,  'c' :9087 }\n",
    "\n",
    "pd.Series(d)"
   ]
  },
  {
   "cell_type": "code",
   "execution_count": 19,
   "id": "07dbd825-786f-4949-80a2-2ede81ec053a",
   "metadata": {},
   "outputs": [],
   "source": [
    "ser1 = pd.Series([1,2,3,4], index = ['U', 'G', 'F', 'L'])"
   ]
  },
  {
   "cell_type": "code",
   "execution_count": 20,
   "id": "fd24e0f7-357e-4424-80f1-196ad7616e35",
   "metadata": {},
   "outputs": [
    {
     "data": {
      "text/plain": [
       "2"
      ]
     },
     "execution_count": 20,
     "metadata": {},
     "output_type": "execute_result"
    }
   ],
   "source": [
    "ser1['G']"
   ]
  },
  {
   "cell_type": "code",
   "execution_count": 22,
   "id": "0d550a1d-ca94-41c0-b12b-4a85860a3895",
   "metadata": {},
   "outputs": [],
   "source": [
    "from numpy.random import randn\n",
    "np.random.seed(101)"
   ]
  },
  {
   "cell_type": "code",
   "execution_count": 25,
   "id": "5090392b-b071-4bbb-95de-c2057836659f",
   "metadata": {},
   "outputs": [],
   "source": [
    "df = pd.DataFrame(randn(8,8), index = 'A B C D E F G H'.split(), columns = 'W X Y Z W X Y Z'.split() )"
   ]
  },
  {
   "cell_type": "code",
   "execution_count": 26,
   "id": "6c4eb9ca-7e8e-46bc-8504-db6eb5f7b913",
   "metadata": {},
   "outputs": [
    {
     "data": {
      "text/html": [
       "<div>\n",
       "<style scoped>\n",
       "    .dataframe tbody tr th:only-of-type {\n",
       "        vertical-align: middle;\n",
       "    }\n",
       "\n",
       "    .dataframe tbody tr th {\n",
       "        vertical-align: top;\n",
       "    }\n",
       "\n",
       "    .dataframe thead th {\n",
       "        text-align: right;\n",
       "    }\n",
       "</style>\n",
       "<table border=\"1\" class=\"dataframe\">\n",
       "  <thead>\n",
       "    <tr style=\"text-align: right;\">\n",
       "      <th></th>\n",
       "      <th>W</th>\n",
       "      <th>X</th>\n",
       "      <th>Y</th>\n",
       "      <th>Z</th>\n",
       "      <th>W</th>\n",
       "      <th>X</th>\n",
       "      <th>Y</th>\n",
       "      <th>Z</th>\n",
       "    </tr>\n",
       "  </thead>\n",
       "  <tbody>\n",
       "    <tr>\n",
       "      <th>A</th>\n",
       "      <td>-1.382920</td>\n",
       "      <td>1.482495</td>\n",
       "      <td>0.961458</td>\n",
       "      <td>-2.141212</td>\n",
       "      <td>0.992573</td>\n",
       "      <td>1.192241</td>\n",
       "      <td>-1.046780</td>\n",
       "      <td>1.292765</td>\n",
       "    </tr>\n",
       "    <tr>\n",
       "      <th>B</th>\n",
       "      <td>-1.467514</td>\n",
       "      <td>-0.494095</td>\n",
       "      <td>-0.162535</td>\n",
       "      <td>0.485809</td>\n",
       "      <td>0.392489</td>\n",
       "      <td>0.221491</td>\n",
       "      <td>-0.855196</td>\n",
       "      <td>1.541990</td>\n",
       "    </tr>\n",
       "    <tr>\n",
       "      <th>C</th>\n",
       "      <td>0.666319</td>\n",
       "      <td>-0.538235</td>\n",
       "      <td>-0.568581</td>\n",
       "      <td>1.407338</td>\n",
       "      <td>0.641806</td>\n",
       "      <td>-0.905100</td>\n",
       "      <td>-0.391157</td>\n",
       "      <td>1.028293</td>\n",
       "    </tr>\n",
       "    <tr>\n",
       "      <th>D</th>\n",
       "      <td>-1.972605</td>\n",
       "      <td>-0.866885</td>\n",
       "      <td>0.720788</td>\n",
       "      <td>-1.223082</td>\n",
       "      <td>1.606780</td>\n",
       "      <td>-1.115710</td>\n",
       "      <td>-1.385379</td>\n",
       "      <td>-1.329660</td>\n",
       "    </tr>\n",
       "    <tr>\n",
       "      <th>E</th>\n",
       "      <td>0.041460</td>\n",
       "      <td>-0.411055</td>\n",
       "      <td>-0.771329</td>\n",
       "      <td>0.110477</td>\n",
       "      <td>-0.804652</td>\n",
       "      <td>0.253548</td>\n",
       "      <td>0.649148</td>\n",
       "      <td>0.358941</td>\n",
       "    </tr>\n",
       "    <tr>\n",
       "      <th>F</th>\n",
       "      <td>-1.080471</td>\n",
       "      <td>0.902398</td>\n",
       "      <td>0.161781</td>\n",
       "      <td>0.833029</td>\n",
       "      <td>0.975720</td>\n",
       "      <td>-0.388239</td>\n",
       "      <td>0.783316</td>\n",
       "      <td>-0.708954</td>\n",
       "    </tr>\n",
       "    <tr>\n",
       "      <th>G</th>\n",
       "      <td>0.586847</td>\n",
       "      <td>-1.621348</td>\n",
       "      <td>0.677535</td>\n",
       "      <td>0.026105</td>\n",
       "      <td>-1.678284</td>\n",
       "      <td>0.333973</td>\n",
       "      <td>-0.532471</td>\n",
       "      <td>2.117727</td>\n",
       "    </tr>\n",
       "    <tr>\n",
       "      <th>H</th>\n",
       "      <td>0.197524</td>\n",
       "      <td>2.302987</td>\n",
       "      <td>0.729024</td>\n",
       "      <td>-0.863091</td>\n",
       "      <td>0.305632</td>\n",
       "      <td>0.243178</td>\n",
       "      <td>0.864165</td>\n",
       "      <td>-1.560931</td>\n",
       "    </tr>\n",
       "  </tbody>\n",
       "</table>\n",
       "</div>"
      ],
      "text/plain": [
       "          W         X         Y         Z         W         X         Y  \\\n",
       "A -1.382920  1.482495  0.961458 -2.141212  0.992573  1.192241 -1.046780   \n",
       "B -1.467514 -0.494095 -0.162535  0.485809  0.392489  0.221491 -0.855196   \n",
       "C  0.666319 -0.538235 -0.568581  1.407338  0.641806 -0.905100 -0.391157   \n",
       "D -1.972605 -0.866885  0.720788 -1.223082  1.606780 -1.115710 -1.385379   \n",
       "E  0.041460 -0.411055 -0.771329  0.110477 -0.804652  0.253548  0.649148   \n",
       "F -1.080471  0.902398  0.161781  0.833029  0.975720 -0.388239  0.783316   \n",
       "G  0.586847 -1.621348  0.677535  0.026105 -1.678284  0.333973 -0.532471   \n",
       "H  0.197524  2.302987  0.729024 -0.863091  0.305632  0.243178  0.864165   \n",
       "\n",
       "          Z  \n",
       "A  1.292765  \n",
       "B  1.541990  \n",
       "C  1.028293  \n",
       "D -1.329660  \n",
       "E  0.358941  \n",
       "F -0.708954  \n",
       "G  2.117727  \n",
       "H -1.560931  "
      ]
     },
     "execution_count": 26,
     "metadata": {},
     "output_type": "execute_result"
    }
   ],
   "source": [
    "df"
   ]
  },
  {
   "cell_type": "code",
   "execution_count": 27,
   "id": "810e8865-ea3d-4283-8f75-6117d19b3783",
   "metadata": {},
   "outputs": [
    {
     "data": {
      "text/html": [
       "<div>\n",
       "<style scoped>\n",
       "    .dataframe tbody tr th:only-of-type {\n",
       "        vertical-align: middle;\n",
       "    }\n",
       "\n",
       "    .dataframe tbody tr th {\n",
       "        vertical-align: top;\n",
       "    }\n",
       "\n",
       "    .dataframe thead th {\n",
       "        text-align: right;\n",
       "    }\n",
       "</style>\n",
       "<table border=\"1\" class=\"dataframe\">\n",
       "  <thead>\n",
       "    <tr style=\"text-align: right;\">\n",
       "      <th></th>\n",
       "      <th>W</th>\n",
       "      <th>W</th>\n",
       "    </tr>\n",
       "  </thead>\n",
       "  <tbody>\n",
       "    <tr>\n",
       "      <th>A</th>\n",
       "      <td>-1.382920</td>\n",
       "      <td>0.992573</td>\n",
       "    </tr>\n",
       "    <tr>\n",
       "      <th>B</th>\n",
       "      <td>-1.467514</td>\n",
       "      <td>0.392489</td>\n",
       "    </tr>\n",
       "    <tr>\n",
       "      <th>C</th>\n",
       "      <td>0.666319</td>\n",
       "      <td>0.641806</td>\n",
       "    </tr>\n",
       "    <tr>\n",
       "      <th>D</th>\n",
       "      <td>-1.972605</td>\n",
       "      <td>1.606780</td>\n",
       "    </tr>\n",
       "    <tr>\n",
       "      <th>E</th>\n",
       "      <td>0.041460</td>\n",
       "      <td>-0.804652</td>\n",
       "    </tr>\n",
       "    <tr>\n",
       "      <th>F</th>\n",
       "      <td>-1.080471</td>\n",
       "      <td>0.975720</td>\n",
       "    </tr>\n",
       "    <tr>\n",
       "      <th>G</th>\n",
       "      <td>0.586847</td>\n",
       "      <td>-1.678284</td>\n",
       "    </tr>\n",
       "    <tr>\n",
       "      <th>H</th>\n",
       "      <td>0.197524</td>\n",
       "      <td>0.305632</td>\n",
       "    </tr>\n",
       "  </tbody>\n",
       "</table>\n",
       "</div>"
      ],
      "text/plain": [
       "          W         W\n",
       "A -1.382920  0.992573\n",
       "B -1.467514  0.392489\n",
       "C  0.666319  0.641806\n",
       "D -1.972605  1.606780\n",
       "E  0.041460 -0.804652\n",
       "F -1.080471  0.975720\n",
       "G  0.586847 -1.678284\n",
       "H  0.197524  0.305632"
      ]
     },
     "execution_count": 27,
     "metadata": {},
     "output_type": "execute_result"
    }
   ],
   "source": [
    "df['W']"
   ]
  },
  {
   "cell_type": "code",
   "execution_count": 28,
   "id": "6da5ce16-b35a-4e39-b7e6-18dd9b0617d2",
   "metadata": {},
   "outputs": [
    {
     "data": {
      "text/html": [
       "<div>\n",
       "<style scoped>\n",
       "    .dataframe tbody tr th:only-of-type {\n",
       "        vertical-align: middle;\n",
       "    }\n",
       "\n",
       "    .dataframe tbody tr th {\n",
       "        vertical-align: top;\n",
       "    }\n",
       "\n",
       "    .dataframe thead th {\n",
       "        text-align: right;\n",
       "    }\n",
       "</style>\n",
       "<table border=\"1\" class=\"dataframe\">\n",
       "  <thead>\n",
       "    <tr style=\"text-align: right;\">\n",
       "      <th></th>\n",
       "      <th>Z</th>\n",
       "      <th>Z</th>\n",
       "    </tr>\n",
       "  </thead>\n",
       "  <tbody>\n",
       "    <tr>\n",
       "      <th>A</th>\n",
       "      <td>-2.141212</td>\n",
       "      <td>1.292765</td>\n",
       "    </tr>\n",
       "    <tr>\n",
       "      <th>B</th>\n",
       "      <td>0.485809</td>\n",
       "      <td>1.541990</td>\n",
       "    </tr>\n",
       "    <tr>\n",
       "      <th>C</th>\n",
       "      <td>1.407338</td>\n",
       "      <td>1.028293</td>\n",
       "    </tr>\n",
       "    <tr>\n",
       "      <th>D</th>\n",
       "      <td>-1.223082</td>\n",
       "      <td>-1.329660</td>\n",
       "    </tr>\n",
       "    <tr>\n",
       "      <th>E</th>\n",
       "      <td>0.110477</td>\n",
       "      <td>0.358941</td>\n",
       "    </tr>\n",
       "    <tr>\n",
       "      <th>F</th>\n",
       "      <td>0.833029</td>\n",
       "      <td>-0.708954</td>\n",
       "    </tr>\n",
       "    <tr>\n",
       "      <th>G</th>\n",
       "      <td>0.026105</td>\n",
       "      <td>2.117727</td>\n",
       "    </tr>\n",
       "    <tr>\n",
       "      <th>H</th>\n",
       "      <td>-0.863091</td>\n",
       "      <td>-1.560931</td>\n",
       "    </tr>\n",
       "  </tbody>\n",
       "</table>\n",
       "</div>"
      ],
      "text/plain": [
       "          Z         Z\n",
       "A -2.141212  1.292765\n",
       "B  0.485809  1.541990\n",
       "C  1.407338  1.028293\n",
       "D -1.223082 -1.329660\n",
       "E  0.110477  0.358941\n",
       "F  0.833029 -0.708954\n",
       "G  0.026105  2.117727\n",
       "H -0.863091 -1.560931"
      ]
     },
     "execution_count": 28,
     "metadata": {},
     "output_type": "execute_result"
    }
   ],
   "source": [
    "df.Z"
   ]
  },
  {
   "cell_type": "code",
   "execution_count": 29,
   "id": "7290a3ef-dce6-4df4-af04-0dfd4cd21b17",
   "metadata": {},
   "outputs": [
    {
     "data": {
      "text/html": [
       "<div>\n",
       "<style scoped>\n",
       "    .dataframe tbody tr th:only-of-type {\n",
       "        vertical-align: middle;\n",
       "    }\n",
       "\n",
       "    .dataframe tbody tr th {\n",
       "        vertical-align: top;\n",
       "    }\n",
       "\n",
       "    .dataframe thead th {\n",
       "        text-align: right;\n",
       "    }\n",
       "</style>\n",
       "<table border=\"1\" class=\"dataframe\">\n",
       "  <thead>\n",
       "    <tr style=\"text-align: right;\">\n",
       "      <th></th>\n",
       "      <th>W</th>\n",
       "      <th>X</th>\n",
       "      <th>Y</th>\n",
       "      <th>Z</th>\n",
       "      <th>W</th>\n",
       "      <th>X</th>\n",
       "      <th>Y</th>\n",
       "      <th>Z</th>\n",
       "    </tr>\n",
       "  </thead>\n",
       "  <tbody>\n",
       "    <tr>\n",
       "      <th>A</th>\n",
       "      <td>-1.382920</td>\n",
       "      <td>1.482495</td>\n",
       "      <td>0.961458</td>\n",
       "      <td>-2.141212</td>\n",
       "      <td>0.992573</td>\n",
       "      <td>1.192241</td>\n",
       "      <td>-1.046780</td>\n",
       "      <td>1.292765</td>\n",
       "    </tr>\n",
       "    <tr>\n",
       "      <th>B</th>\n",
       "      <td>-1.467514</td>\n",
       "      <td>-0.494095</td>\n",
       "      <td>-0.162535</td>\n",
       "      <td>0.485809</td>\n",
       "      <td>0.392489</td>\n",
       "      <td>0.221491</td>\n",
       "      <td>-0.855196</td>\n",
       "      <td>1.541990</td>\n",
       "    </tr>\n",
       "    <tr>\n",
       "      <th>C</th>\n",
       "      <td>0.666319</td>\n",
       "      <td>-0.538235</td>\n",
       "      <td>-0.568581</td>\n",
       "      <td>1.407338</td>\n",
       "      <td>0.641806</td>\n",
       "      <td>-0.905100</td>\n",
       "      <td>-0.391157</td>\n",
       "      <td>1.028293</td>\n",
       "    </tr>\n",
       "    <tr>\n",
       "      <th>D</th>\n",
       "      <td>-1.972605</td>\n",
       "      <td>-0.866885</td>\n",
       "      <td>0.720788</td>\n",
       "      <td>-1.223082</td>\n",
       "      <td>1.606780</td>\n",
       "      <td>-1.115710</td>\n",
       "      <td>-1.385379</td>\n",
       "      <td>-1.329660</td>\n",
       "    </tr>\n",
       "    <tr>\n",
       "      <th>E</th>\n",
       "      <td>0.041460</td>\n",
       "      <td>-0.411055</td>\n",
       "      <td>-0.771329</td>\n",
       "      <td>0.110477</td>\n",
       "      <td>-0.804652</td>\n",
       "      <td>0.253548</td>\n",
       "      <td>0.649148</td>\n",
       "      <td>0.358941</td>\n",
       "    </tr>\n",
       "    <tr>\n",
       "      <th>F</th>\n",
       "      <td>-1.080471</td>\n",
       "      <td>0.902398</td>\n",
       "      <td>0.161781</td>\n",
       "      <td>0.833029</td>\n",
       "      <td>0.975720</td>\n",
       "      <td>-0.388239</td>\n",
       "      <td>0.783316</td>\n",
       "      <td>-0.708954</td>\n",
       "    </tr>\n",
       "    <tr>\n",
       "      <th>G</th>\n",
       "      <td>0.586847</td>\n",
       "      <td>-1.621348</td>\n",
       "      <td>0.677535</td>\n",
       "      <td>0.026105</td>\n",
       "      <td>-1.678284</td>\n",
       "      <td>0.333973</td>\n",
       "      <td>-0.532471</td>\n",
       "      <td>2.117727</td>\n",
       "    </tr>\n",
       "    <tr>\n",
       "      <th>H</th>\n",
       "      <td>0.197524</td>\n",
       "      <td>2.302987</td>\n",
       "      <td>0.729024</td>\n",
       "      <td>-0.863091</td>\n",
       "      <td>0.305632</td>\n",
       "      <td>0.243178</td>\n",
       "      <td>0.864165</td>\n",
       "      <td>-1.560931</td>\n",
       "    </tr>\n",
       "  </tbody>\n",
       "</table>\n",
       "</div>"
      ],
      "text/plain": [
       "          W         X         Y         Z         W         X         Y  \\\n",
       "A -1.382920  1.482495  0.961458 -2.141212  0.992573  1.192241 -1.046780   \n",
       "B -1.467514 -0.494095 -0.162535  0.485809  0.392489  0.221491 -0.855196   \n",
       "C  0.666319 -0.538235 -0.568581  1.407338  0.641806 -0.905100 -0.391157   \n",
       "D -1.972605 -0.866885  0.720788 -1.223082  1.606780 -1.115710 -1.385379   \n",
       "E  0.041460 -0.411055 -0.771329  0.110477 -0.804652  0.253548  0.649148   \n",
       "F -1.080471  0.902398  0.161781  0.833029  0.975720 -0.388239  0.783316   \n",
       "G  0.586847 -1.621348  0.677535  0.026105 -1.678284  0.333973 -0.532471   \n",
       "H  0.197524  2.302987  0.729024 -0.863091  0.305632  0.243178  0.864165   \n",
       "\n",
       "          Z  \n",
       "A  1.292765  \n",
       "B  1.541990  \n",
       "C  1.028293  \n",
       "D -1.329660  \n",
       "E  0.358941  \n",
       "F -0.708954  \n",
       "G  2.117727  \n",
       "H -1.560931  "
      ]
     },
     "execution_count": 29,
     "metadata": {},
     "output_type": "execute_result"
    }
   ],
   "source": [
    "df"
   ]
  },
  {
   "cell_type": "code",
   "execution_count": 35,
   "id": "66b549ad-0bcd-4d1c-8bbd-b052ae1f6aea",
   "metadata": {},
   "outputs": [
    {
     "data": {
      "text/html": [
       "<div>\n",
       "<style scoped>\n",
       "    .dataframe tbody tr th:only-of-type {\n",
       "        vertical-align: middle;\n",
       "    }\n",
       "\n",
       "    .dataframe tbody tr th {\n",
       "        vertical-align: top;\n",
       "    }\n",
       "\n",
       "    .dataframe thead th {\n",
       "        text-align: right;\n",
       "    }\n",
       "</style>\n",
       "<table border=\"1\" class=\"dataframe\">\n",
       "  <thead>\n",
       "    <tr style=\"text-align: right;\">\n",
       "      <th></th>\n",
       "      <th>W</th>\n",
       "      <th>X</th>\n",
       "      <th>Y</th>\n",
       "      <th>Z</th>\n",
       "      <th>W</th>\n",
       "      <th>X</th>\n",
       "      <th>Y</th>\n",
       "      <th>Z</th>\n",
       "    </tr>\n",
       "  </thead>\n",
       "  <tbody>\n",
       "    <tr>\n",
       "      <th>A</th>\n",
       "      <td>-1.382920</td>\n",
       "      <td>1.482495</td>\n",
       "      <td>0.961458</td>\n",
       "      <td>-2.141212</td>\n",
       "      <td>0.992573</td>\n",
       "      <td>1.192241</td>\n",
       "      <td>-1.046780</td>\n",
       "      <td>1.292765</td>\n",
       "    </tr>\n",
       "    <tr>\n",
       "      <th>B</th>\n",
       "      <td>-1.467514</td>\n",
       "      <td>-0.494095</td>\n",
       "      <td>-0.162535</td>\n",
       "      <td>0.485809</td>\n",
       "      <td>0.392489</td>\n",
       "      <td>0.221491</td>\n",
       "      <td>-0.855196</td>\n",
       "      <td>1.541990</td>\n",
       "    </tr>\n",
       "    <tr>\n",
       "      <th>C</th>\n",
       "      <td>0.666319</td>\n",
       "      <td>-0.538235</td>\n",
       "      <td>-0.568581</td>\n",
       "      <td>1.407338</td>\n",
       "      <td>0.641806</td>\n",
       "      <td>-0.905100</td>\n",
       "      <td>-0.391157</td>\n",
       "      <td>1.028293</td>\n",
       "    </tr>\n",
       "    <tr>\n",
       "      <th>D</th>\n",
       "      <td>-1.972605</td>\n",
       "      <td>-0.866885</td>\n",
       "      <td>0.720788</td>\n",
       "      <td>-1.223082</td>\n",
       "      <td>1.606780</td>\n",
       "      <td>-1.115710</td>\n",
       "      <td>-1.385379</td>\n",
       "      <td>-1.329660</td>\n",
       "    </tr>\n",
       "    <tr>\n",
       "      <th>E</th>\n",
       "      <td>0.041460</td>\n",
       "      <td>-0.411055</td>\n",
       "      <td>-0.771329</td>\n",
       "      <td>0.110477</td>\n",
       "      <td>-0.804652</td>\n",
       "      <td>0.253548</td>\n",
       "      <td>0.649148</td>\n",
       "      <td>0.358941</td>\n",
       "    </tr>\n",
       "    <tr>\n",
       "      <th>F</th>\n",
       "      <td>-1.080471</td>\n",
       "      <td>0.902398</td>\n",
       "      <td>0.161781</td>\n",
       "      <td>0.833029</td>\n",
       "      <td>0.975720</td>\n",
       "      <td>-0.388239</td>\n",
       "      <td>0.783316</td>\n",
       "      <td>-0.708954</td>\n",
       "    </tr>\n",
       "    <tr>\n",
       "      <th>G</th>\n",
       "      <td>0.586847</td>\n",
       "      <td>-1.621348</td>\n",
       "      <td>0.677535</td>\n",
       "      <td>0.026105</td>\n",
       "      <td>-1.678284</td>\n",
       "      <td>0.333973</td>\n",
       "      <td>-0.532471</td>\n",
       "      <td>2.117727</td>\n",
       "    </tr>\n",
       "    <tr>\n",
       "      <th>H</th>\n",
       "      <td>0.197524</td>\n",
       "      <td>2.302987</td>\n",
       "      <td>0.729024</td>\n",
       "      <td>-0.863091</td>\n",
       "      <td>0.305632</td>\n",
       "      <td>0.243178</td>\n",
       "      <td>0.864165</td>\n",
       "      <td>-1.560931</td>\n",
       "    </tr>\n",
       "  </tbody>\n",
       "</table>\n",
       "</div>"
      ],
      "text/plain": [
       "          W         X         Y         Z         W         X         Y  \\\n",
       "A -1.382920  1.482495  0.961458 -2.141212  0.992573  1.192241 -1.046780   \n",
       "B -1.467514 -0.494095 -0.162535  0.485809  0.392489  0.221491 -0.855196   \n",
       "C  0.666319 -0.538235 -0.568581  1.407338  0.641806 -0.905100 -0.391157   \n",
       "D -1.972605 -0.866885  0.720788 -1.223082  1.606780 -1.115710 -1.385379   \n",
       "E  0.041460 -0.411055 -0.771329  0.110477 -0.804652  0.253548  0.649148   \n",
       "F -1.080471  0.902398  0.161781  0.833029  0.975720 -0.388239  0.783316   \n",
       "G  0.586847 -1.621348  0.677535  0.026105 -1.678284  0.333973 -0.532471   \n",
       "H  0.197524  2.302987  0.729024 -0.863091  0.305632  0.243178  0.864165   \n",
       "\n",
       "          Z  \n",
       "A  1.292765  \n",
       "B  1.541990  \n",
       "C  1.028293  \n",
       "D -1.329660  \n",
       "E  0.358941  \n",
       "F -0.708954  \n",
       "G  2.117727  \n",
       "H -1.560931  "
      ]
     },
     "execution_count": 35,
     "metadata": {},
     "output_type": "execute_result"
    }
   ],
   "source": [
    "df"
   ]
  },
  {
   "cell_type": "code",
   "execution_count": 36,
   "id": "dbd38572-5a46-4ee4-9136-3ce47bb8c81c",
   "metadata": {},
   "outputs": [
    {
     "data": {
      "text/html": [
       "<div>\n",
       "<style scoped>\n",
       "    .dataframe tbody tr th:only-of-type {\n",
       "        vertical-align: middle;\n",
       "    }\n",
       "\n",
       "    .dataframe tbody tr th {\n",
       "        vertical-align: top;\n",
       "    }\n",
       "\n",
       "    .dataframe thead th {\n",
       "        text-align: right;\n",
       "    }\n",
       "</style>\n",
       "<table border=\"1\" class=\"dataframe\">\n",
       "  <thead>\n",
       "    <tr style=\"text-align: right;\">\n",
       "      <th></th>\n",
       "      <th>W</th>\n",
       "      <th>W</th>\n",
       "    </tr>\n",
       "  </thead>\n",
       "  <tbody>\n",
       "    <tr>\n",
       "      <th>A</th>\n",
       "      <td>-1.382920</td>\n",
       "      <td>0.992573</td>\n",
       "    </tr>\n",
       "    <tr>\n",
       "      <th>B</th>\n",
       "      <td>-1.467514</td>\n",
       "      <td>0.392489</td>\n",
       "    </tr>\n",
       "    <tr>\n",
       "      <th>C</th>\n",
       "      <td>0.666319</td>\n",
       "      <td>0.641806</td>\n",
       "    </tr>\n",
       "    <tr>\n",
       "      <th>D</th>\n",
       "      <td>-1.972605</td>\n",
       "      <td>1.606780</td>\n",
       "    </tr>\n",
       "    <tr>\n",
       "      <th>E</th>\n",
       "      <td>0.041460</td>\n",
       "      <td>-0.804652</td>\n",
       "    </tr>\n",
       "    <tr>\n",
       "      <th>F</th>\n",
       "      <td>-1.080471</td>\n",
       "      <td>0.975720</td>\n",
       "    </tr>\n",
       "    <tr>\n",
       "      <th>G</th>\n",
       "      <td>0.586847</td>\n",
       "      <td>-1.678284</td>\n",
       "    </tr>\n",
       "    <tr>\n",
       "      <th>H</th>\n",
       "      <td>0.197524</td>\n",
       "      <td>0.305632</td>\n",
       "    </tr>\n",
       "  </tbody>\n",
       "</table>\n",
       "</div>"
      ],
      "text/plain": [
       "          W         W\n",
       "A -1.382920  0.992573\n",
       "B -1.467514  0.392489\n",
       "C  0.666319  0.641806\n",
       "D -1.972605  1.606780\n",
       "E  0.041460 -0.804652\n",
       "F -1.080471  0.975720\n",
       "G  0.586847 -1.678284\n",
       "H  0.197524  0.305632"
      ]
     },
     "execution_count": 36,
     "metadata": {},
     "output_type": "execute_result"
    }
   ],
   "source": [
    "df['W']"
   ]
  },
  {
   "cell_type": "code",
   "execution_count": 37,
   "id": "94d1b3cc-f278-49a8-8f26-e5ddf848d4e2",
   "metadata": {},
   "outputs": [
    {
     "data": {
      "text/plain": [
       "W    0.666319\n",
       "X   -0.538235\n",
       "Y   -0.568581\n",
       "Z    1.407338\n",
       "W    0.641806\n",
       "X   -0.905100\n",
       "Y   -0.391157\n",
       "Z    1.028293\n",
       "Name: C, dtype: float64"
      ]
     },
     "execution_count": 37,
     "metadata": {},
     "output_type": "execute_result"
    }
   ],
   "source": [
    "df.iloc[2]"
   ]
  },
  {
   "cell_type": "code",
   "execution_count": 39,
   "id": "0820b9b0-fe4a-402a-9ba0-78c2226440c4",
   "metadata": {},
   "outputs": [
    {
     "data": {
      "text/plain": [
       "array([[-0.25189695, -0.57812026,  0.23699563, ..., -2.62937071,\n",
       "        -0.08360808,  0.020984  ]])"
      ]
     },
     "execution_count": 39,
     "metadata": {},
     "output_type": "execute_result"
    }
   ],
   "source": [
    "np.random.randn(1,900000)"
   ]
  },
  {
   "cell_type": "code",
   "execution_count": 40,
   "id": "1a31442f-18f4-477a-8bb1-ee6bb56792b3",
   "metadata": {},
   "outputs": [
    {
     "data": {
      "text/plain": [
       "W    1.036564\n",
       "X    1.327050\n",
       "Y    0.657190\n",
       "Z    1.165964\n",
       "W    1.062549\n",
       "X    0.748027\n",
       "Y    0.886935\n",
       "Z    1.388140\n",
       "dtype: float64"
      ]
     },
     "execution_count": 40,
     "metadata": {},
     "output_type": "execute_result"
    }
   ],
   "source": [
    "df.std()"
   ]
  },
  {
   "cell_type": "code",
   "execution_count": null,
   "id": "204069b9-a66a-45c3-860e-1faf36b0180b",
   "metadata": {},
   "outputs": [],
   "source": []
  }
 ],
 "metadata": {
  "kernelspec": {
   "display_name": "Python 3 (ipykernel)",
   "language": "python",
   "name": "python3"
  },
  "language_info": {
   "codemirror_mode": {
    "name": "ipython",
    "version": 3
   },
   "file_extension": ".py",
   "mimetype": "text/x-python",
   "name": "python",
   "nbconvert_exporter": "python",
   "pygments_lexer": "ipython3",
   "version": "3.11.5"
  }
 },
 "nbformat": 4,
 "nbformat_minor": 5
}
