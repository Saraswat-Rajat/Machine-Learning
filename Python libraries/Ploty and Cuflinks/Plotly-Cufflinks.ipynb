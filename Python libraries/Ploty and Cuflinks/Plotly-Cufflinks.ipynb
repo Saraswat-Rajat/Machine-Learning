{
 "cells": [
  {
   "cell_type": "markdown",
   "id": "66808f69-4c56-4a24-b329-7cff58fddb54",
   "metadata": {},
   "source": [
    "# Plotly and Cufflinks"
   ]
  },
  {
   "cell_type": "markdown",
   "id": "8c940d72-dedb-405d-88c6-7bdf7c409815",
   "metadata": {},
   "source": [
    "Plotly is a library that allows you to create interactive plots that you can use in dashboards or websites (you can save them as html files or static images).\n",
    "\n",
    "## Installation\n",
    "\n",
    "In order for this all to work, you'll need to install plotly and cufflinks to call plots directly off of a pandas dataframe. These libraries are not currently available through **conda** but are available through **pip**. Install the libraries at your command line/terminal using:\n",
    "\n",
    "    pip install plotly\n",
    "    pip install cufflinks\n",
    "\n",
    "** NOTE: Make sure you only have one installation of Python on your computer when you do this, otherwise the installation may not work. **\n",
    "\n",
    "## Imports and Set-up"
   ]
  },
  {
   "cell_type": "code",
   "execution_count": 3,
   "id": "4bf1f0ad-78c3-41e4-8784-bf34f976553d",
   "metadata": {},
   "outputs": [],
   "source": [
    "import pandas as pd\n",
    "import numpy as np\n",
    "%matplotlib inline"
   ]
  },
  {
   "cell_type": "code",
   "execution_count": 4,
   "id": "d2ed6d71-f206-4130-bdba-be1bdcb4aa33",
   "metadata": {},
   "outputs": [
    {
     "name": "stdout",
     "output_type": "stream",
     "text": [
      "5.9.0\n"
     ]
    }
   ],
   "source": [
    "from plotly import __version__\n",
    "from plotly.offline import download_plotlyjs, init_notebook_mode, plot, iplot\n",
    "\n",
    "print(__version__) # requires version >= 1.9.0"
   ]
  },
  {
   "cell_type": "code",
   "execution_count": 5,
   "id": "1e762092-c312-4409-accc-ec8ecfce021c",
   "metadata": {},
   "outputs": [],
   "source": [
    "import cufflinks as cf"
   ]
  },
  {
   "cell_type": "code",
   "execution_count": 6,
   "id": "5df5f7f3-b6c2-4a8e-9cb5-3dc756cbf1c5",
   "metadata": {},
   "outputs": [
    {
     "data": {
      "text/html": [
       "        <script type=\"text/javascript\">\n",
       "        window.PlotlyConfig = {MathJaxConfig: 'local'};\n",
       "        if (window.MathJax && window.MathJax.Hub && window.MathJax.Hub.Config) {window.MathJax.Hub.Config({SVG: {font: \"STIX-Web\"}});}\n",
       "        if (typeof require !== 'undefined') {\n",
       "        require.undef(\"plotly\");\n",
       "        requirejs.config({\n",
       "            paths: {\n",
       "                'plotly': ['https://cdn.plot.ly/plotly-2.12.1.min']\n",
       "            }\n",
       "        });\n",
       "        require(['plotly'], function(Plotly) {\n",
       "            window._Plotly = Plotly;\n",
       "        });\n",
       "        }\n",
       "        </script>\n",
       "        "
      ]
     },
     "metadata": {},
     "output_type": "display_data"
    }
   ],
   "source": [
    "# For Notebooks\n",
    "init_notebook_mode(connected=True)"
   ]
  },
  {
   "cell_type": "code",
   "execution_count": 7,
   "id": "e5f4a583-3fdb-4c29-b7ff-030062ed88f6",
   "metadata": {},
   "outputs": [
    {
     "data": {
      "text/html": [
       "        <script type=\"text/javascript\">\n",
       "        window.PlotlyConfig = {MathJaxConfig: 'local'};\n",
       "        if (window.MathJax && window.MathJax.Hub && window.MathJax.Hub.Config) {window.MathJax.Hub.Config({SVG: {font: \"STIX-Web\"}});}\n",
       "        if (typeof require !== 'undefined') {\n",
       "        require.undef(\"plotly\");\n",
       "        requirejs.config({\n",
       "            paths: {\n",
       "                'plotly': ['https://cdn.plot.ly/plotly-2.12.1.min']\n",
       "            }\n",
       "        });\n",
       "        require(['plotly'], function(Plotly) {\n",
       "            window._Plotly = Plotly;\n",
       "        });\n",
       "        }\n",
       "        </script>\n",
       "        "
      ]
     },
     "metadata": {},
     "output_type": "display_data"
    }
   ],
   "source": [
    "# For offline use\n",
    "cf.go_offline()"
   ]
  },
  {
   "cell_type": "markdown",
   "id": "7c155b44-832d-4d92-93f7-a47064317616",
   "metadata": {},
   "source": [
    "### Fake Data"
   ]
  },
  {
   "cell_type": "code",
   "execution_count": 8,
   "id": "c1043be8-9ba2-497e-ba51-66b9bc71eb01",
   "metadata": {},
   "outputs": [],
   "source": [
    "df = pd.DataFrame(np.random.randn(100,4),columns='A B C D'.split())"
   ]
  },
  {
   "cell_type": "code",
   "execution_count": 9,
   "id": "c3c5c45f-1e6b-4fe7-bd15-0d994940c805",
   "metadata": {},
   "outputs": [
    {
     "data": {
      "text/html": [
       "<div>\n",
       "<style scoped>\n",
       "    .dataframe tbody tr th:only-of-type {\n",
       "        vertical-align: middle;\n",
       "    }\n",
       "\n",
       "    .dataframe tbody tr th {\n",
       "        vertical-align: top;\n",
       "    }\n",
       "\n",
       "    .dataframe thead th {\n",
       "        text-align: right;\n",
       "    }\n",
       "</style>\n",
       "<table border=\"1\" class=\"dataframe\">\n",
       "  <thead>\n",
       "    <tr style=\"text-align: right;\">\n",
       "      <th></th>\n",
       "      <th>A</th>\n",
       "      <th>B</th>\n",
       "      <th>C</th>\n",
       "      <th>D</th>\n",
       "    </tr>\n",
       "  </thead>\n",
       "  <tbody>\n",
       "    <tr>\n",
       "      <th>0</th>\n",
       "      <td>-0.256514</td>\n",
       "      <td>-0.029861</td>\n",
       "      <td>-0.389662</td>\n",
       "      <td>1.337998</td>\n",
       "    </tr>\n",
       "    <tr>\n",
       "      <th>1</th>\n",
       "      <td>-0.372356</td>\n",
       "      <td>-2.179953</td>\n",
       "      <td>-1.781384</td>\n",
       "      <td>0.435962</td>\n",
       "    </tr>\n",
       "    <tr>\n",
       "      <th>2</th>\n",
       "      <td>0.500242</td>\n",
       "      <td>-0.578909</td>\n",
       "      <td>-1.919348</td>\n",
       "      <td>-0.763120</td>\n",
       "    </tr>\n",
       "    <tr>\n",
       "      <th>3</th>\n",
       "      <td>-0.110001</td>\n",
       "      <td>-0.264343</td>\n",
       "      <td>0.306039</td>\n",
       "      <td>-0.567903</td>\n",
       "    </tr>\n",
       "    <tr>\n",
       "      <th>4</th>\n",
       "      <td>0.177787</td>\n",
       "      <td>-2.461828</td>\n",
       "      <td>1.190112</td>\n",
       "      <td>-0.787285</td>\n",
       "    </tr>\n",
       "  </tbody>\n",
       "</table>\n",
       "</div>"
      ],
      "text/plain": [
       "          A         B         C         D\n",
       "0 -0.256514 -0.029861 -0.389662  1.337998\n",
       "1 -0.372356 -2.179953 -1.781384  0.435962\n",
       "2  0.500242 -0.578909 -1.919348 -0.763120\n",
       "3 -0.110001 -0.264343  0.306039 -0.567903\n",
       "4  0.177787 -2.461828  1.190112 -0.787285"
      ]
     },
     "execution_count": 9,
     "metadata": {},
     "output_type": "execute_result"
    }
   ],
   "source": [
    "df.head()"
   ]
  },
  {
   "cell_type": "code",
   "execution_count": 10,
   "id": "32844b1b-9cf3-428c-85a5-08697a066b41",
   "metadata": {},
   "outputs": [],
   "source": [
    "df2 = pd.DataFrame({'Category':['A','B','C'],'Values':[32,43,50]})"
   ]
  },
  {
   "cell_type": "code",
   "execution_count": 11,
   "id": "a0474ea6-8e68-4695-8ac4-85fbad26a598",
   "metadata": {},
   "outputs": [
    {
     "data": {
      "text/html": [
       "<div>\n",
       "<style scoped>\n",
       "    .dataframe tbody tr th:only-of-type {\n",
       "        vertical-align: middle;\n",
       "    }\n",
       "\n",
       "    .dataframe tbody tr th {\n",
       "        vertical-align: top;\n",
       "    }\n",
       "\n",
       "    .dataframe thead th {\n",
       "        text-align: right;\n",
       "    }\n",
       "</style>\n",
       "<table border=\"1\" class=\"dataframe\">\n",
       "  <thead>\n",
       "    <tr style=\"text-align: right;\">\n",
       "      <th></th>\n",
       "      <th>Category</th>\n",
       "      <th>Values</th>\n",
       "    </tr>\n",
       "  </thead>\n",
       "  <tbody>\n",
       "    <tr>\n",
       "      <th>0</th>\n",
       "      <td>A</td>\n",
       "      <td>32</td>\n",
       "    </tr>\n",
       "    <tr>\n",
       "      <th>1</th>\n",
       "      <td>B</td>\n",
       "      <td>43</td>\n",
       "    </tr>\n",
       "    <tr>\n",
       "      <th>2</th>\n",
       "      <td>C</td>\n",
       "      <td>50</td>\n",
       "    </tr>\n",
       "  </tbody>\n",
       "</table>\n",
       "</div>"
      ],
      "text/plain": [
       "  Category  Values\n",
       "0        A      32\n",
       "1        B      43\n",
       "2        C      50"
      ]
     },
     "execution_count": 11,
     "metadata": {},
     "output_type": "execute_result"
    }
   ],
   "source": [
    "df2.head()"
   ]
  },
  {
   "cell_type": "markdown",
   "id": "60d5d3cc-9f47-48dc-a137-7b81a0b8d96f",
   "metadata": {},
   "source": [
    "## Using Cufflinks and iplot()\n",
    "\n",
    "* scatter\n",
    "* bar\n",
    "* box\n",
    "* spread\n",
    "* ratio\n",
    "* heatmap\n",
    "* surface\n",
    "* histogram\n",
    "* bubble"
   ]
  },
  {
   "cell_type": "markdown",
   "id": "c2012278-099f-4abe-9bd1-c7b6598ec2e5",
   "metadata": {},
   "source": [
    "## Scatter"
   ]
  },
  {
   "cell_type": "code",
   "execution_count": 13,
   "id": "3fe83636-5121-4fb9-9961-812114a525e0",
   "metadata": {},
   "outputs": [
    {
     "data": {
      "application/vnd.plotly.v1+json": {
       "config": {
        "linkText": "Export to plot.ly",
        "plotlyServerURL": "https://plot.ly",
        "showLink": true
       },
       "data": [
        {
         "line": {
          "color": "rgba(255, 153, 51, 1.0)",
          "dash": "solid",
          "shape": "linear",
          "width": 1.3
         },
         "marker": {
          "size": 10,
          "symbol": "circle"
         },
         "mode": "markers",
         "name": "B",
         "text": "",
         "type": "scatter",
         "x": [
          -0.25651358813864394,
          -0.37235581545779156,
          0.5002419357099328,
          -0.11000076537614083,
          0.17778660907896845,
          0.9604613024588065,
          0.4363214349672373,
          -1.4978277774334499,
          0.8645756506604332,
          2.0630604768166827,
          0.7542953169658457,
          0.1733651976552315,
          -0.6444331066497141,
          0.3209043316114856,
          1.6785806759597626,
          -0.768276598133913,
          -0.4437501612730779,
          -0.8302809130629326,
          -1.83130407644596,
          -0.08556917211148315,
          1.2200374641662524,
          0.43085791113408056,
          0.5511804573603465,
          -0.16353621251587924,
          0.6586323285433434,
          2.3517325607956496,
          0.6635657432207783,
          1.3361398298086415,
          0.9426893152605952,
          1.202750196660914,
          -1.0802834636380134,
          0.797596295522079,
          -2.1353376820151646,
          1.0124334336311576,
          -0.6884302626219291,
          1.4330491707214221,
          -1.9814602294362633,
          -0.5674998520256744,
          -0.12726165695591024,
          0.01690501096950438,
          0.21688201182560074,
          -0.41576239315205327,
          0.8413478303973625,
          -0.27555187555264804,
          1.3849573166344866,
          0.28965860152351597,
          1.71113605486422,
          1.3624272330785494,
          -1.7151558980168338,
          0.30445679202275927,
          2.246104807570592,
          -0.8776800083011371,
          0.7496073571507749,
          -1.6513468550235542,
          0.31427315248776627,
          -0.3863141353653024,
          0.6206796324142947,
          -0.5908078632707596,
          1.4202115846069745,
          -1.036074601565162,
          -0.662212444835709,
          1.398984597964883,
          -0.6071363585980336,
          0.3667053811579149,
          -0.44598615300190175,
          0.37423381822901,
          1.9557183485437437,
          0.6600142225878292,
          -1.0684482884249031,
          0.9454672943912482,
          0.2093456680515466,
          -0.7697453176044043,
          0.6287263791329405,
          0.07310029343322011,
          0.37831957374116265,
          1.9492504875561103,
          -0.35397126610753804,
          -2.0128095375517963,
          0.4523488963290223,
          0.9199987557671497,
          -1.5511665216942072,
          -0.08518306870572716,
          1.0818223115870886,
          0.585538987032418,
          0.9805161901529916,
          -0.1720247731071831,
          -0.868606625961535,
          -2.26358287161267,
          -0.8752904139047751,
          0.2127772672894863,
          1.4109648796754914,
          -0.2239337966605875,
          0.1678150319818709,
          1.2382020014030266,
          -0.780512342018624,
          -0.3419524964976665,
          1.60124412899403,
          -1.2243186234222085,
          -0.009284479700141263,
          -0.040504622303769944
         ],
         "y": [
          -0.02986067173150405,
          -2.1799531962001777,
          -0.5789093555075555,
          -0.26434333655992476,
          -2.4618284536959787,
          -0.7901403921644476,
          0.9451257286228039,
          0.7450082871813458,
          1.60857197920544,
          1.5730902365439665,
          -1.9551544660171785,
          -0.027464389901744,
          -0.7681178511940615,
          -0.004639915826817845,
          -0.44030564661417154,
          -0.3692583950171369,
          -1.0160336886291301,
          -1.3781463485673215,
          1.000589278434516,
          -0.17665477407802171,
          -1.5991067512786892,
          0.02603287124653106,
          -1.382667717669445,
          -0.6501603347811354,
          -0.491696789768064,
          -1.1197505696997012,
          0.1864545305948082,
          1.3933095281592436,
          -1.2292582923747872,
          1.2134378265696775,
          1.050807935302168,
          1.6636700003333091,
          -1.2521371769182432,
          -1.4376908538731823,
          1.9078646710548013,
          0.5392572409200751,
          -0.4075494873659262,
          0.7247154588412541,
          0.2971247849574402,
          2.1111710146999756,
          -0.11585537327132055,
          -0.22900374168186005,
          -0.3221851668739211,
          0.3982765657461531,
          0.5495004709504342,
          -0.12327604313195765,
          -1.3111841261043646,
          -1.2403296074462404,
          -1.5161925502679203,
          -0.5733980394850131,
          -0.20241035990620967,
          0.22263247666164349,
          1.369663058680841,
          -0.9133646856953234,
          -1.8124409659312697,
          -1.1107258388224654,
          -0.3427571301216928,
          0.19151614494155136,
          -0.46960384303453107,
          0.13722610539425925,
          -0.5317720123390297,
          -0.3174299589925087,
          2.425123045260628,
          -0.11569142169700684,
          -0.030427007788570996,
          -0.5735367738403896,
          0.007333424341847052,
          0.9902826111740487,
          1.1055959686423025,
          -0.9970025603825291,
          -0.25277369585452814,
          2.5213123175753536,
          -0.7071160259073414,
          -0.06466616856029736,
          0.12344557594127975,
          -0.29813438859524793,
          1.0990950460168007,
          -0.4601794141140354,
          0.5448734618952821,
          0.0016800027576676208,
          0.6911720212041327,
          -1.7856611044880513,
          -1.2775394585362982,
          -1.3056006849590482,
          -1.057648906837918,
          0.19503908471756207,
          0.6139499192349814,
          0.07335014026279132,
          -0.34543168922458883,
          0.13619752094940035,
          -0.548944960325151,
          -1.051112064124429,
          -0.25072059443028544,
          -0.7258091936414498,
          -0.23853488419716937,
          -1.0644028379374715,
          -0.34312747685653466,
          0.2876655847805023,
          -1.1120659435621976,
          1.2051869393236536
         ]
        }
       ],
       "layout": {
        "autosize": true,
        "legend": {
         "bgcolor": "#F5F6F9",
         "font": {
          "color": "#4D5663"
         }
        },
        "paper_bgcolor": "#F5F6F9",
        "plot_bgcolor": "#F5F6F9",
        "template": {
         "data": {
          "bar": [
           {
            "error_x": {
             "color": "#2a3f5f"
            },
            "error_y": {
             "color": "#2a3f5f"
            },
            "marker": {
             "line": {
              "color": "#E5ECF6",
              "width": 0.5
             },
             "pattern": {
              "fillmode": "overlay",
              "size": 10,
              "solidity": 0.2
             }
            },
            "type": "bar"
           }
          ],
          "barpolar": [
           {
            "marker": {
             "line": {
              "color": "#E5ECF6",
              "width": 0.5
             },
             "pattern": {
              "fillmode": "overlay",
              "size": 10,
              "solidity": 0.2
             }
            },
            "type": "barpolar"
           }
          ],
          "carpet": [
           {
            "aaxis": {
             "endlinecolor": "#2a3f5f",
             "gridcolor": "white",
             "linecolor": "white",
             "minorgridcolor": "white",
             "startlinecolor": "#2a3f5f"
            },
            "baxis": {
             "endlinecolor": "#2a3f5f",
             "gridcolor": "white",
             "linecolor": "white",
             "minorgridcolor": "white",
             "startlinecolor": "#2a3f5f"
            },
            "type": "carpet"
           }
          ],
          "choropleth": [
           {
            "colorbar": {
             "outlinewidth": 0,
             "ticks": ""
            },
            "type": "choropleth"
           }
          ],
          "contour": [
           {
            "colorbar": {
             "outlinewidth": 0,
             "ticks": ""
            },
            "colorscale": [
             [
              0,
              "#0d0887"
             ],
             [
              0.1111111111111111,
              "#46039f"
             ],
             [
              0.2222222222222222,
              "#7201a8"
             ],
             [
              0.3333333333333333,
              "#9c179e"
             ],
             [
              0.4444444444444444,
              "#bd3786"
             ],
             [
              0.5555555555555556,
              "#d8576b"
             ],
             [
              0.6666666666666666,
              "#ed7953"
             ],
             [
              0.7777777777777778,
              "#fb9f3a"
             ],
             [
              0.8888888888888888,
              "#fdca26"
             ],
             [
              1,
              "#f0f921"
             ]
            ],
            "type": "contour"
           }
          ],
          "contourcarpet": [
           {
            "colorbar": {
             "outlinewidth": 0,
             "ticks": ""
            },
            "type": "contourcarpet"
           }
          ],
          "heatmap": [
           {
            "colorbar": {
             "outlinewidth": 0,
             "ticks": ""
            },
            "colorscale": [
             [
              0,
              "#0d0887"
             ],
             [
              0.1111111111111111,
              "#46039f"
             ],
             [
              0.2222222222222222,
              "#7201a8"
             ],
             [
              0.3333333333333333,
              "#9c179e"
             ],
             [
              0.4444444444444444,
              "#bd3786"
             ],
             [
              0.5555555555555556,
              "#d8576b"
             ],
             [
              0.6666666666666666,
              "#ed7953"
             ],
             [
              0.7777777777777778,
              "#fb9f3a"
             ],
             [
              0.8888888888888888,
              "#fdca26"
             ],
             [
              1,
              "#f0f921"
             ]
            ],
            "type": "heatmap"
           }
          ],
          "heatmapgl": [
           {
            "colorbar": {
             "outlinewidth": 0,
             "ticks": ""
            },
            "colorscale": [
             [
              0,
              "#0d0887"
             ],
             [
              0.1111111111111111,
              "#46039f"
             ],
             [
              0.2222222222222222,
              "#7201a8"
             ],
             [
              0.3333333333333333,
              "#9c179e"
             ],
             [
              0.4444444444444444,
              "#bd3786"
             ],
             [
              0.5555555555555556,
              "#d8576b"
             ],
             [
              0.6666666666666666,
              "#ed7953"
             ],
             [
              0.7777777777777778,
              "#fb9f3a"
             ],
             [
              0.8888888888888888,
              "#fdca26"
             ],
             [
              1,
              "#f0f921"
             ]
            ],
            "type": "heatmapgl"
           }
          ],
          "histogram": [
           {
            "marker": {
             "pattern": {
              "fillmode": "overlay",
              "size": 10,
              "solidity": 0.2
             }
            },
            "type": "histogram"
           }
          ],
          "histogram2d": [
           {
            "colorbar": {
             "outlinewidth": 0,
             "ticks": ""
            },
            "colorscale": [
             [
              0,
              "#0d0887"
             ],
             [
              0.1111111111111111,
              "#46039f"
             ],
             [
              0.2222222222222222,
              "#7201a8"
             ],
             [
              0.3333333333333333,
              "#9c179e"
             ],
             [
              0.4444444444444444,
              "#bd3786"
             ],
             [
              0.5555555555555556,
              "#d8576b"
             ],
             [
              0.6666666666666666,
              "#ed7953"
             ],
             [
              0.7777777777777778,
              "#fb9f3a"
             ],
             [
              0.8888888888888888,
              "#fdca26"
             ],
             [
              1,
              "#f0f921"
             ]
            ],
            "type": "histogram2d"
           }
          ],
          "histogram2dcontour": [
           {
            "colorbar": {
             "outlinewidth": 0,
             "ticks": ""
            },
            "colorscale": [
             [
              0,
              "#0d0887"
             ],
             [
              0.1111111111111111,
              "#46039f"
             ],
             [
              0.2222222222222222,
              "#7201a8"
             ],
             [
              0.3333333333333333,
              "#9c179e"
             ],
             [
              0.4444444444444444,
              "#bd3786"
             ],
             [
              0.5555555555555556,
              "#d8576b"
             ],
             [
              0.6666666666666666,
              "#ed7953"
             ],
             [
              0.7777777777777778,
              "#fb9f3a"
             ],
             [
              0.8888888888888888,
              "#fdca26"
             ],
             [
              1,
              "#f0f921"
             ]
            ],
            "type": "histogram2dcontour"
           }
          ],
          "mesh3d": [
           {
            "colorbar": {
             "outlinewidth": 0,
             "ticks": ""
            },
            "type": "mesh3d"
           }
          ],
          "parcoords": [
           {
            "line": {
             "colorbar": {
              "outlinewidth": 0,
              "ticks": ""
             }
            },
            "type": "parcoords"
           }
          ],
          "pie": [
           {
            "automargin": true,
            "type": "pie"
           }
          ],
          "scatter": [
           {
            "fillpattern": {
             "fillmode": "overlay",
             "size": 10,
             "solidity": 0.2
            },
            "type": "scatter"
           }
          ],
          "scatter3d": [
           {
            "line": {
             "colorbar": {
              "outlinewidth": 0,
              "ticks": ""
             }
            },
            "marker": {
             "colorbar": {
              "outlinewidth": 0,
              "ticks": ""
             }
            },
            "type": "scatter3d"
           }
          ],
          "scattercarpet": [
           {
            "marker": {
             "colorbar": {
              "outlinewidth": 0,
              "ticks": ""
             }
            },
            "type": "scattercarpet"
           }
          ],
          "scattergeo": [
           {
            "marker": {
             "colorbar": {
              "outlinewidth": 0,
              "ticks": ""
             }
            },
            "type": "scattergeo"
           }
          ],
          "scattergl": [
           {
            "marker": {
             "colorbar": {
              "outlinewidth": 0,
              "ticks": ""
             }
            },
            "type": "scattergl"
           }
          ],
          "scattermapbox": [
           {
            "marker": {
             "colorbar": {
              "outlinewidth": 0,
              "ticks": ""
             }
            },
            "type": "scattermapbox"
           }
          ],
          "scatterpolar": [
           {
            "marker": {
             "colorbar": {
              "outlinewidth": 0,
              "ticks": ""
             }
            },
            "type": "scatterpolar"
           }
          ],
          "scatterpolargl": [
           {
            "marker": {
             "colorbar": {
              "outlinewidth": 0,
              "ticks": ""
             }
            },
            "type": "scatterpolargl"
           }
          ],
          "scatterternary": [
           {
            "marker": {
             "colorbar": {
              "outlinewidth": 0,
              "ticks": ""
             }
            },
            "type": "scatterternary"
           }
          ],
          "surface": [
           {
            "colorbar": {
             "outlinewidth": 0,
             "ticks": ""
            },
            "colorscale": [
             [
              0,
              "#0d0887"
             ],
             [
              0.1111111111111111,
              "#46039f"
             ],
             [
              0.2222222222222222,
              "#7201a8"
             ],
             [
              0.3333333333333333,
              "#9c179e"
             ],
             [
              0.4444444444444444,
              "#bd3786"
             ],
             [
              0.5555555555555556,
              "#d8576b"
             ],
             [
              0.6666666666666666,
              "#ed7953"
             ],
             [
              0.7777777777777778,
              "#fb9f3a"
             ],
             [
              0.8888888888888888,
              "#fdca26"
             ],
             [
              1,
              "#f0f921"
             ]
            ],
            "type": "surface"
           }
          ],
          "table": [
           {
            "cells": {
             "fill": {
              "color": "#EBF0F8"
             },
             "line": {
              "color": "white"
             }
            },
            "header": {
             "fill": {
              "color": "#C8D4E3"
             },
             "line": {
              "color": "white"
             }
            },
            "type": "table"
           }
          ]
         },
         "layout": {
          "annotationdefaults": {
           "arrowcolor": "#2a3f5f",
           "arrowhead": 0,
           "arrowwidth": 1
          },
          "autotypenumbers": "strict",
          "coloraxis": {
           "colorbar": {
            "outlinewidth": 0,
            "ticks": ""
           }
          },
          "colorscale": {
           "diverging": [
            [
             0,
             "#8e0152"
            ],
            [
             0.1,
             "#c51b7d"
            ],
            [
             0.2,
             "#de77ae"
            ],
            [
             0.3,
             "#f1b6da"
            ],
            [
             0.4,
             "#fde0ef"
            ],
            [
             0.5,
             "#f7f7f7"
            ],
            [
             0.6,
             "#e6f5d0"
            ],
            [
             0.7,
             "#b8e186"
            ],
            [
             0.8,
             "#7fbc41"
            ],
            [
             0.9,
             "#4d9221"
            ],
            [
             1,
             "#276419"
            ]
           ],
           "sequential": [
            [
             0,
             "#0d0887"
            ],
            [
             0.1111111111111111,
             "#46039f"
            ],
            [
             0.2222222222222222,
             "#7201a8"
            ],
            [
             0.3333333333333333,
             "#9c179e"
            ],
            [
             0.4444444444444444,
             "#bd3786"
            ],
            [
             0.5555555555555556,
             "#d8576b"
            ],
            [
             0.6666666666666666,
             "#ed7953"
            ],
            [
             0.7777777777777778,
             "#fb9f3a"
            ],
            [
             0.8888888888888888,
             "#fdca26"
            ],
            [
             1,
             "#f0f921"
            ]
           ],
           "sequentialminus": [
            [
             0,
             "#0d0887"
            ],
            [
             0.1111111111111111,
             "#46039f"
            ],
            [
             0.2222222222222222,
             "#7201a8"
            ],
            [
             0.3333333333333333,
             "#9c179e"
            ],
            [
             0.4444444444444444,
             "#bd3786"
            ],
            [
             0.5555555555555556,
             "#d8576b"
            ],
            [
             0.6666666666666666,
             "#ed7953"
            ],
            [
             0.7777777777777778,
             "#fb9f3a"
            ],
            [
             0.8888888888888888,
             "#fdca26"
            ],
            [
             1,
             "#f0f921"
            ]
           ]
          },
          "colorway": [
           "#636efa",
           "#EF553B",
           "#00cc96",
           "#ab63fa",
           "#FFA15A",
           "#19d3f3",
           "#FF6692",
           "#B6E880",
           "#FF97FF",
           "#FECB52"
          ],
          "font": {
           "color": "#2a3f5f"
          },
          "geo": {
           "bgcolor": "white",
           "lakecolor": "white",
           "landcolor": "#E5ECF6",
           "showlakes": true,
           "showland": true,
           "subunitcolor": "white"
          },
          "hoverlabel": {
           "align": "left"
          },
          "hovermode": "closest",
          "mapbox": {
           "style": "light"
          },
          "paper_bgcolor": "white",
          "plot_bgcolor": "#E5ECF6",
          "polar": {
           "angularaxis": {
            "gridcolor": "white",
            "linecolor": "white",
            "ticks": ""
           },
           "bgcolor": "#E5ECF6",
           "radialaxis": {
            "gridcolor": "white",
            "linecolor": "white",
            "ticks": ""
           }
          },
          "scene": {
           "xaxis": {
            "backgroundcolor": "#E5ECF6",
            "gridcolor": "white",
            "gridwidth": 2,
            "linecolor": "white",
            "showbackground": true,
            "ticks": "",
            "zerolinecolor": "white"
           },
           "yaxis": {
            "backgroundcolor": "#E5ECF6",
            "gridcolor": "white",
            "gridwidth": 2,
            "linecolor": "white",
            "showbackground": true,
            "ticks": "",
            "zerolinecolor": "white"
           },
           "zaxis": {
            "backgroundcolor": "#E5ECF6",
            "gridcolor": "white",
            "gridwidth": 2,
            "linecolor": "white",
            "showbackground": true,
            "ticks": "",
            "zerolinecolor": "white"
           }
          },
          "shapedefaults": {
           "line": {
            "color": "#2a3f5f"
           }
          },
          "ternary": {
           "aaxis": {
            "gridcolor": "white",
            "linecolor": "white",
            "ticks": ""
           },
           "baxis": {
            "gridcolor": "white",
            "linecolor": "white",
            "ticks": ""
           },
           "bgcolor": "#E5ECF6",
           "caxis": {
            "gridcolor": "white",
            "linecolor": "white",
            "ticks": ""
           }
          },
          "title": {
           "x": 0.05
          },
          "xaxis": {
           "automargin": true,
           "gridcolor": "white",
           "linecolor": "white",
           "ticks": "",
           "title": {
            "standoff": 15
           },
           "zerolinecolor": "white",
           "zerolinewidth": 2
          },
          "yaxis": {
           "automargin": true,
           "gridcolor": "white",
           "linecolor": "white",
           "ticks": "",
           "title": {
            "standoff": 15
           },
           "zerolinecolor": "white",
           "zerolinewidth": 2
          }
         }
        },
        "title": {
         "font": {
          "color": "#4D5663"
         }
        },
        "xaxis": {
         "autorange": true,
         "gridcolor": "#E1E5ED",
         "range": [
          -2.5793316315228485,
          2.667481320705828
         ],
         "showgrid": true,
         "tickfont": {
          "color": "#4D5663"
         },
         "title": {
          "font": {
           "color": "#4D5663"
          },
          "text": ""
         },
         "type": "linear",
         "zerolinecolor": "#E1E5ED"
        },
        "yaxis": {
         "autorange": true,
         "gridcolor": "#E1E5ED",
         "range": [
          -2.9701421444109473,
          3.029626008290322
         ],
         "showgrid": true,
         "tickfont": {
          "color": "#4D5663"
         },
         "title": {
          "font": {
           "color": "#4D5663"
          },
          "text": ""
         },
         "type": "linear",
         "zerolinecolor": "#E1E5ED"
        }
       }
      },
      "image/png": "[encoded data removed]",
      "text/html": [
       "<div>                            <div id=\"9eb666a5-e39d-48c0-afb9-cb9d7147ae24\" class=\"plotly-graph-div\" style=\"height:525px; width:100%;\"></div>            <script type=\"text/javascript\">                require([\"plotly\"], function(Plotly) {                    window.PLOTLYENV=window.PLOTLYENV || {};\n",
       "                    window.PLOTLYENV.BASE_URL='https://plot.ly';                                    if (document.getElementById(\"9eb666a5-e39d-48c0-afb9-cb9d7147ae24\")) {                    Plotly.newPlot(                        \"9eb666a5-e39d-48c0-afb9-cb9d7147ae24\",                        [{\"line\":{\"color\":\"rgba(255, 153, 51, 1.0)\",\"dash\":\"solid\",\"shape\":\"linear\",\"width\":1.3},\"marker\":{\"size\":10,\"symbol\":\"circle\"},\"mode\":\"markers\",\"name\":\"B\",\"text\":\"\",\"x\":[-0.25651358813864394,-0.37235581545779156,0.5002419357099328,-0.11000076537614083,0.17778660907896845,0.9604613024588065,0.4363214349672373,-1.4978277774334499,0.8645756506604332,2.0630604768166827,0.7542953169658457,0.1733651976552315,-0.6444331066497141,0.3209043316114856,1.6785806759597626,-0.768276598133913,-0.4437501612730779,-0.8302809130629326,-1.83130407644596,-0.08556917211148315,1.2200374641662524,0.43085791113408056,0.5511804573603465,-0.16353621251587924,0.6586323285433434,2.3517325607956496,0.6635657432207783,1.3361398298086415,0.9426893152605952,1.202750196660914,-1.0802834636380134,0.797596295522079,-2.1353376820151646,1.0124334336311576,-0.6884302626219291,1.4330491707214221,-1.9814602294362633,-0.5674998520256744,-0.12726165695591024,0.01690501096950438,0.21688201182560074,-0.41576239315205327,0.8413478303973625,-0.27555187555264804,1.3849573166344866,0.28965860152351597,1.71113605486422,1.3624272330785494,-1.7151558980168338,0.30445679202275927,2.246104807570592,-0.8776800083011371,0.7496073571507749,-1.6513468550235542,0.31427315248776627,-0.3863141353653024,0.6206796324142947,-0.5908078632707596,1.4202115846069745,-1.036074601565162,-0.662212444835709,1.398984597964883,-0.6071363585980336,0.3667053811579149,-0.44598615300190175,0.37423381822901,1.9557183485437437,0.6600142225878292,-1.0684482884249031,0.9454672943912482,0.2093456680515466,-0.7697453176044043,0.6287263791329405,0.07310029343322011,0.37831957374116265,1.9492504875561103,-0.35397126610753804,-2.0128095375517963,0.4523488963290223,0.9199987557671497,-1.5511665216942072,-0.08518306870572716,1.0818223115870886,0.585538987032418,0.9805161901529916,-0.1720247731071831,-0.868606625961535,-2.26358287161267,-0.8752904139047751,0.2127772672894863,1.4109648796754914,-0.2239337966605875,0.1678150319818709,1.2382020014030266,-0.780512342018624,-0.3419524964976665,1.60124412899403,-1.2243186234222085,-0.009284479700141263,-0.040504622303769944],\"y\":[-0.02986067173150405,-2.1799531962001777,-0.5789093555075555,-0.26434333655992476,-2.4618284536959787,-0.7901403921644476,0.9451257286228039,0.7450082871813458,1.60857197920544,1.5730902365439665,-1.9551544660171785,-0.027464389901744,-0.7681178511940615,-0.004639915826817845,-0.44030564661417154,-0.3692583950171369,-1.0160336886291301,-1.3781463485673215,1.000589278434516,-0.17665477407802171,-1.5991067512786892,0.02603287124653106,-1.382667717669445,-0.6501603347811354,-0.491696789768064,-1.1197505696997012,0.1864545305948082,1.3933095281592436,-1.2292582923747872,1.2134378265696775,1.050807935302168,1.6636700003333091,-1.2521371769182432,-1.4376908538731823,1.9078646710548013,0.5392572409200751,-0.4075494873659262,0.7247154588412541,0.2971247849574402,2.1111710146999756,-0.11585537327132055,-0.22900374168186005,-0.3221851668739211,0.3982765657461531,0.5495004709504342,-0.12327604313195765,-1.3111841261043646,-1.2403296074462404,-1.5161925502679203,-0.5733980394850131,-0.20241035990620967,0.22263247666164349,1.369663058680841,-0.9133646856953234,-1.8124409659312697,-1.1107258388224654,-0.3427571301216928,0.19151614494155136,-0.46960384303453107,0.13722610539425925,-0.5317720123390297,-0.3174299589925087,2.425123045260628,-0.11569142169700684,-0.030427007788570996,-0.5735367738403896,0.007333424341847052,0.9902826111740487,1.1055959686423025,-0.9970025603825291,-0.25277369585452814,2.5213123175753536,-0.7071160259073414,-0.06466616856029736,0.12344557594127975,-0.29813438859524793,1.0990950460168007,-0.4601794141140354,0.5448734618952821,0.0016800027576676208,0.6911720212041327,-1.7856611044880513,-1.2775394585362982,-1.3056006849590482,-1.057648906837918,0.19503908471756207,0.6139499192349814,0.07335014026279132,-0.34543168922458883,0.13619752094940035,-0.548944960325151,-1.051112064124429,-0.25072059443028544,-0.7258091936414498,-0.23853488419716937,-1.0644028379374715,-0.34312747685653466,0.2876655847805023,-1.1120659435621976,1.2051869393236536],\"type\":\"scatter\"}],                        {\"legend\":{\"bgcolor\":\"#F5F6F9\",\"font\":{\"color\":\"#4D5663\"}},\"paper_bgcolor\":\"#F5F6F9\",\"plot_bgcolor\":\"#F5F6F9\",\"template\":{\"data\":{\"barpolar\":[{\"marker\":{\"line\":{\"color\":\"#E5ECF6\",\"width\":0.5},\"pattern\":{\"fillmode\":\"overlay\",\"size\":10,\"solidity\":0.2}},\"type\":\"barpolar\"}],\"bar\":[{\"error_x\":{\"color\":\"#2a3f5f\"},\"error_y\":{\"color\":\"#2a3f5f\"},\"marker\":{\"line\":{\"color\":\"#E5ECF6\",\"width\":0.5},\"pattern\":{\"fillmode\":\"overlay\",\"size\":10,\"solidity\":0.2}},\"type\":\"bar\"}],\"carpet\":[{\"aaxis\":{\"endlinecolor\":\"#2a3f5f\",\"gridcolor\":\"white\",\"linecolor\":\"white\",\"minorgridcolor\":\"white\",\"startlinecolor\":\"#2a3f5f\"},\"baxis\":{\"endlinecolor\":\"#2a3f5f\",\"gridcolor\":\"white\",\"linecolor\":\"white\",\"minorgridcolor\":\"white\",\"startlinecolor\":\"#2a3f5f\"},\"type\":\"carpet\"}],\"choropleth\":[{\"colorbar\":{\"outlinewidth\":0,\"ticks\":\"\"},\"type\":\"choropleth\"}],\"contourcarpet\":[{\"colorbar\":{\"outlinewidth\":0,\"ticks\":\"\"},\"type\":\"contourcarpet\"}],\"contour\":[{\"colorbar\":{\"outlinewidth\":0,\"ticks\":\"\"},\"colorscale\":[[0.0,\"#0d0887\"],[0.1111111111111111,\"#46039f\"],[0.2222222222222222,\"#7201a8\"],[0.3333333333333333,\"#9c179e\"],[0.4444444444444444,\"#bd3786\"],[0.5555555555555556,\"#d8576b\"],[0.6666666666666666,\"#ed7953\"],[0.7777777777777778,\"#fb9f3a\"],[0.8888888888888888,\"#fdca26\"],[1.0,\"#f0f921\"]],\"type\":\"contour\"}],\"heatmapgl\":[{\"colorbar\":{\"outlinewidth\":0,\"ticks\":\"\"},\"colorscale\":[[0.0,\"#0d0887\"],[0.1111111111111111,\"#46039f\"],[0.2222222222222222,\"#7201a8\"],[0.3333333333333333,\"#9c179e\"],[0.4444444444444444,\"#bd3786\"],[0.5555555555555556,\"#d8576b\"],[0.6666666666666666,\"#ed7953\"],[0.7777777777777778,\"#fb9f3a\"],[0.8888888888888888,\"#fdca26\"],[1.0,\"#f0f921\"]],\"type\":\"heatmapgl\"}],\"heatmap\":[{\"colorbar\":{\"outlinewidth\":0,\"ticks\":\"\"},\"colorscale\":[[0.0,\"#0d0887\"],[0.1111111111111111,\"#46039f\"],[0.2222222222222222,\"#7201a8\"],[0.3333333333333333,\"#9c179e\"],[0.4444444444444444,\"#bd3786\"],[0.5555555555555556,\"#d8576b\"],[0.6666666666666666,\"#ed7953\"],[0.7777777777777778,\"#fb9f3a\"],[0.8888888888888888,\"#fdca26\"],[1.0,\"#f0f921\"]],\"type\":\"heatmap\"}],\"histogram2dcontour\":[{\"colorbar\":{\"outlinewidth\":0,\"ticks\":\"\"},\"colorscale\":[[0.0,\"#0d0887\"],[0.1111111111111111,\"#46039f\"],[0.2222222222222222,\"#7201a8\"],[0.3333333333333333,\"#9c179e\"],[0.4444444444444444,\"#bd3786\"],[0.5555555555555556,\"#d8576b\"],[0.6666666666666666,\"#ed7953\"],[0.7777777777777778,\"#fb9f3a\"],[0.8888888888888888,\"#fdca26\"],[1.0,\"#f0f921\"]],\"type\":\"histogram2dcontour\"}],\"histogram2d\":[{\"colorbar\":{\"outlinewidth\":0,\"ticks\":\"\"},\"colorscale\":[[0.0,\"#0d0887\"],[0.1111111111111111,\"#46039f\"],[0.2222222222222222,\"#7201a8\"],[0.3333333333333333,\"#9c179e\"],[0.4444444444444444,\"#bd3786\"],[0.5555555555555556,\"#d8576b\"],[0.6666666666666666,\"#ed7953\"],[0.7777777777777778,\"#fb9f3a\"],[0.8888888888888888,\"#fdca26\"],[1.0,\"#f0f921\"]],\"type\":\"histogram2d\"}],\"histogram\":[{\"marker\":{\"pattern\":{\"fillmode\":\"overlay\",\"size\":10,\"solidity\":0.2}},\"type\":\"histogram\"}],\"mesh3d\":[{\"colorbar\":{\"outlinewidth\":0,\"ticks\":\"\"},\"type\":\"mesh3d\"}],\"parcoords\":[{\"line\":{\"colorbar\":{\"outlinewidth\":0,\"ticks\":\"\"}},\"type\":\"parcoords\"}],\"pie\":[{\"automargin\":true,\"type\":\"pie\"}],\"scatter3d\":[{\"line\":{\"colorbar\":{\"outlinewidth\":0,\"ticks\":\"\"}},\"marker\":{\"colorbar\":{\"outlinewidth\":0,\"ticks\":\"\"}},\"type\":\"scatter3d\"}],\"scattercarpet\":[{\"marker\":{\"colorbar\":{\"outlinewidth\":0,\"ticks\":\"\"}},\"type\":\"scattercarpet\"}],\"scattergeo\":[{\"marker\":{\"colorbar\":{\"outlinewidth\":0,\"ticks\":\"\"}},\"type\":\"scattergeo\"}],\"scattergl\":[{\"marker\":{\"colorbar\":{\"outlinewidth\":0,\"ticks\":\"\"}},\"type\":\"scattergl\"}],\"scattermapbox\":[{\"marker\":{\"colorbar\":{\"outlinewidth\":0,\"ticks\":\"\"}},\"type\":\"scattermapbox\"}],\"scatterpolargl\":[{\"marker\":{\"colorbar\":{\"outlinewidth\":0,\"ticks\":\"\"}},\"type\":\"scatterpolargl\"}],\"scatterpolar\":[{\"marker\":{\"colorbar\":{\"outlinewidth\":0,\"ticks\":\"\"}},\"type\":\"scatterpolar\"}],\"scatter\":[{\"fillpattern\":{\"fillmode\":\"overlay\",\"size\":10,\"solidity\":0.2},\"type\":\"scatter\"}],\"scatterternary\":[{\"marker\":{\"colorbar\":{\"outlinewidth\":0,\"ticks\":\"\"}},\"type\":\"scatterternary\"}],\"surface\":[{\"colorbar\":{\"outlinewidth\":0,\"ticks\":\"\"},\"colorscale\":[[0.0,\"#0d0887\"],[0.1111111111111111,\"#46039f\"],[0.2222222222222222,\"#7201a8\"],[0.3333333333333333,\"#9c179e\"],[0.4444444444444444,\"#bd3786\"],[0.5555555555555556,\"#d8576b\"],[0.6666666666666666,\"#ed7953\"],[0.7777777777777778,\"#fb9f3a\"],[0.8888888888888888,\"#fdca26\"],[1.0,\"#f0f921\"]],\"type\":\"surface\"}],\"table\":[{\"cells\":{\"fill\":{\"color\":\"#EBF0F8\"},\"line\":{\"color\":\"white\"}},\"header\":{\"fill\":{\"color\":\"#C8D4E3\"},\"line\":{\"color\":\"white\"}},\"type\":\"table\"}]},\"layout\":{\"annotationdefaults\":{\"arrowcolor\":\"#2a3f5f\",\"arrowhead\":0,\"arrowwidth\":1},\"autotypenumbers\":\"strict\",\"coloraxis\":{\"colorbar\":{\"outlinewidth\":0,\"ticks\":\"\"}},\"colorscale\":{\"diverging\":[[0,\"#8e0152\"],[0.1,\"#c51b7d\"],[0.2,\"#de77ae\"],[0.3,\"#f1b6da\"],[0.4,\"#fde0ef\"],[0.5,\"#f7f7f7\"],[0.6,\"#e6f5d0\"],[0.7,\"#b8e186\"],[0.8,\"#7fbc41\"],[0.9,\"#4d9221\"],[1,\"#276419\"]],\"sequential\":[[0.0,\"#0d0887\"],[0.1111111111111111,\"#46039f\"],[0.2222222222222222,\"#7201a8\"],[0.3333333333333333,\"#9c179e\"],[0.4444444444444444,\"#bd3786\"],[0.5555555555555556,\"#d8576b\"],[0.6666666666666666,\"#ed7953\"],[0.7777777777777778,\"#fb9f3a\"],[0.8888888888888888,\"#fdca26\"],[1.0,\"#f0f921\"]],\"sequentialminus\":[[0.0,\"#0d0887\"],[0.1111111111111111,\"#46039f\"],[0.2222222222222222,\"#7201a8\"],[0.3333333333333333,\"#9c179e\"],[0.4444444444444444,\"#bd3786\"],[0.5555555555555556,\"#d8576b\"],[0.6666666666666666,\"#ed7953\"],[0.7777777777777778,\"#fb9f3a\"],[0.8888888888888888,\"#fdca26\"],[1.0,\"#f0f921\"]]},\"colorway\":[\"#636efa\",\"#EF553B\",\"#00cc96\",\"#ab63fa\",\"#FFA15A\",\"#19d3f3\",\"#FF6692\",\"#B6E880\",\"#FF97FF\",\"#FECB52\"],\"font\":{\"color\":\"#2a3f5f\"},\"geo\":{\"bgcolor\":\"white\",\"lakecolor\":\"white\",\"landcolor\":\"#E5ECF6\",\"showlakes\":true,\"showland\":true,\"subunitcolor\":\"white\"},\"hoverlabel\":{\"align\":\"left\"},\"hovermode\":\"closest\",\"mapbox\":{\"style\":\"light\"},\"paper_bgcolor\":\"white\",\"plot_bgcolor\":\"#E5ECF6\",\"polar\":{\"angularaxis\":{\"gridcolor\":\"white\",\"linecolor\":\"white\",\"ticks\":\"\"},\"bgcolor\":\"#E5ECF6\",\"radialaxis\":{\"gridcolor\":\"white\",\"linecolor\":\"white\",\"ticks\":\"\"}},\"scene\":{\"xaxis\":{\"backgroundcolor\":\"#E5ECF6\",\"gridcolor\":\"white\",\"gridwidth\":2,\"linecolor\":\"white\",\"showbackground\":true,\"ticks\":\"\",\"zerolinecolor\":\"white\"},\"yaxis\":{\"backgroundcolor\":\"#E5ECF6\",\"gridcolor\":\"white\",\"gridwidth\":2,\"linecolor\":\"white\",\"showbackground\":true,\"ticks\":\"\",\"zerolinecolor\":\"white\"},\"zaxis\":{\"backgroundcolor\":\"#E5ECF6\",\"gridcolor\":\"white\",\"gridwidth\":2,\"linecolor\":\"white\",\"showbackground\":true,\"ticks\":\"\",\"zerolinecolor\":\"white\"}},\"shapedefaults\":{\"line\":{\"color\":\"#2a3f5f\"}},\"ternary\":{\"aaxis\":{\"gridcolor\":\"white\",\"linecolor\":\"white\",\"ticks\":\"\"},\"baxis\":{\"gridcolor\":\"white\",\"linecolor\":\"white\",\"ticks\":\"\"},\"bgcolor\":\"#E5ECF6\",\"caxis\":{\"gridcolor\":\"white\",\"linecolor\":\"white\",\"ticks\":\"\"}},\"title\":{\"x\":0.05},\"xaxis\":{\"automargin\":true,\"gridcolor\":\"white\",\"linecolor\":\"white\",\"ticks\":\"\",\"title\":{\"standoff\":15},\"zerolinecolor\":\"white\",\"zerolinewidth\":2},\"yaxis\":{\"automargin\":true,\"gridcolor\":\"white\",\"linecolor\":\"white\",\"ticks\":\"\",\"title\":{\"standoff\":15},\"zerolinecolor\":\"white\",\"zerolinewidth\":2}}},\"title\":{\"font\":{\"color\":\"#4D5663\"}},\"xaxis\":{\"gridcolor\":\"#E1E5ED\",\"showgrid\":true,\"tickfont\":{\"color\":\"#4D5663\"},\"title\":{\"font\":{\"color\":\"#4D5663\"},\"text\":\"\"},\"zerolinecolor\":\"#E1E5ED\"},\"yaxis\":{\"gridcolor\":\"#E1E5ED\",\"showgrid\":true,\"tickfont\":{\"color\":\"#4D5663\"},\"title\":{\"font\":{\"color\":\"#4D5663\"},\"text\":\"\"},\"zerolinecolor\":\"#E1E5ED\"}},                        {\"showLink\": true, \"linkText\": \"Export to plot.ly\", \"plotlyServerURL\": \"https://plot.ly\", \"responsive\": true}                    ).then(function(){\n",
       "                            \n",
       "var gd = document.getElementById('9eb666a5-e39d-48c0-afb9-cb9d7147ae24');\n",
       "var x = new MutationObserver(function (mutations, observer) {{\n",
       "        var display = window.getComputedStyle(gd).display;\n",
       "        if (!display || display === 'none') {{\n",
       "            console.log([gd, 'removed!']);\n",
       "            Plotly.purge(gd);\n",
       "            observer.disconnect();\n",
       "        }}\n",
       "}});\n",
       "\n",
       "// Listen for the removal of the full notebook cells\n",
       "var notebookContainer = gd.closest('#notebook-container');\n",
       "if (notebookContainer) {{\n",
       "    x.observe(notebookContainer, {childList: true});\n",
       "}}\n",
       "\n",
       "// Listen for the clearing of the current output cell\n",
       "var outputEl = gd.closest('.output');\n",
       "if (outputEl) {{\n",
       "    x.observe(outputEl, {childList: true});\n",
       "}}\n",
       "\n",
       "                        })                };                });            </script>        </div>"
      ]
     },
     "metadata": {},
     "output_type": "display_data"
    }
   ],
   "source": [
    "df.iplot(kind='scatter',x='A',y='B',mode='markers',size=10)"
   ]
  },
  {
   "cell_type": "markdown",
   "id": "078789ce-3abf-49d2-922e-e7a35f119a85",
   "metadata": {},
   "source": [
    "## Bar Plots"
   ]
  },
  {
   "cell_type": "code",
   "execution_count": 14,
   "id": "b68f5757-0279-49ab-b5d9-d03a159ebfd7",
   "metadata": {},
   "outputs": [
    {
     "data": {
      "application/vnd.plotly.v1+json": {
       "config": {
        "linkText": "Export to plot.ly",
        "plotlyServerURL": "https://plot.ly",
        "showLink": true
       },
       "data": [
        {
         "marker": {
          "color": "rgba(255, 153, 51, 0.6)",
          "line": {
           "color": "rgba(255, 153, 51, 1.0)",
           "width": 1
          }
         },
         "name": "Values",
         "orientation": "v",
         "text": "",
         "type": "bar",
         "x": [
          "A",
          "B",
          "C"
         ],
         "y": [
          32,
          43,
          50
         ]
        }
       ],
       "layout": {
        "autosize": true,
        "legend": {
         "bgcolor": "#F5F6F9",
         "font": {
          "color": "#4D5663"
         }
        },
        "paper_bgcolor": "#F5F6F9",
        "plot_bgcolor": "#F5F6F9",
        "template": {
         "data": {
          "bar": [
           {
            "error_x": {
             "color": "#2a3f5f"
            },
            "error_y": {
             "color": "#2a3f5f"
            },
            "marker": {
             "line": {
              "color": "#E5ECF6",
              "width": 0.5
             },
             "pattern": {
              "fillmode": "overlay",
              "size": 10,
              "solidity": 0.2
             }
            },
            "type": "bar"
           }
          ],
          "barpolar": [
           {
            "marker": {
             "line": {
              "color": "#E5ECF6",
              "width": 0.5
             },
             "pattern": {
              "fillmode": "overlay",
              "size": 10,
              "solidity": 0.2
             }
            },
            "type": "barpolar"
           }
          ],
          "carpet": [
           {
            "aaxis": {
             "endlinecolor": "#2a3f5f",
             "gridcolor": "white",
             "linecolor": "white",
             "minorgridcolor": "white",
             "startlinecolor": "#2a3f5f"
            },
            "baxis": {
             "endlinecolor": "#2a3f5f",
             "gridcolor": "white",
             "linecolor": "white",
             "minorgridcolor": "white",
             "startlinecolor": "#2a3f5f"
            },
            "type": "carpet"
           }
          ],
          "choropleth": [
           {
            "colorbar": {
             "outlinewidth": 0,
             "ticks": ""
            },
            "type": "choropleth"
           }
          ],
          "contour": [
           {
            "colorbar": {
             "outlinewidth": 0,
             "ticks": ""
            },
            "colorscale": [
             [
              0,
              "#0d0887"
             ],
             [
              0.1111111111111111,
              "#46039f"
             ],
             [
              0.2222222222222222,
              "#7201a8"
             ],
             [
              0.3333333333333333,
              "#9c179e"
             ],
             [
              0.4444444444444444,
              "#bd3786"
             ],
             [
              0.5555555555555556,
              "#d8576b"
             ],
             [
              0.6666666666666666,
              "#ed7953"
             ],
             [
              0.7777777777777778,
              "#fb9f3a"
             ],
             [
              0.8888888888888888,
              "#fdca26"
             ],
             [
              1,
              "#f0f921"
             ]
            ],
            "type": "contour"
           }
          ],
          "contourcarpet": [
           {
            "colorbar": {
             "outlinewidth": 0,
             "ticks": ""
            },
            "type": "contourcarpet"
           }
          ],
          "heatmap": [
           {
            "colorbar": {
             "outlinewidth": 0,
             "ticks": ""
            },
            "colorscale": [
             [
              0,
              "#0d0887"
             ],
             [
              0.1111111111111111,
              "#46039f"
             ],
             [
              0.2222222222222222,
              "#7201a8"
             ],
             [
              0.3333333333333333,
              "#9c179e"
             ],
             [
              0.4444444444444444,
              "#bd3786"
             ],
             [
              0.5555555555555556,
              "#d8576b"
             ],
             [
              0.6666666666666666,
              "#ed7953"
             ],
             [
              0.7777777777777778,
              "#fb9f3a"
             ],
             [
              0.8888888888888888,
              "#fdca26"
             ],
             [
              1,
              "#f0f921"
             ]
            ],
            "type": "heatmap"
           }
          ],
          "heatmapgl": [
           {
            "colorbar": {
             "outlinewidth": 0,
             "ticks": ""
            },
            "colorscale": [
             [
              0,
              "#0d0887"
             ],
             [
              0.1111111111111111,
              "#46039f"
             ],
             [
              0.2222222222222222,
              "#7201a8"
             ],
             [
              0.3333333333333333,
              "#9c179e"
             ],
             [
              0.4444444444444444,
              "#bd3786"
             ],
             [
              0.5555555555555556,
              "#d8576b"
             ],
             [
              0.6666666666666666,
              "#ed7953"
             ],
             [
              0.7777777777777778,
              "#fb9f3a"
             ],
             [
              0.8888888888888888,
              "#fdca26"
             ],
             [
              1,
              "#f0f921"
             ]
            ],
            "type": "heatmapgl"
           }
          ],
          "histogram": [
           {
            "marker": {
             "pattern": {
              "fillmode": "overlay",
              "size": 10,
              "solidity": 0.2
             }
            },
            "type": "histogram"
           }
          ],
          "histogram2d": [
           {
            "colorbar": {
             "outlinewidth": 0,
             "ticks": ""
            },
            "colorscale": [
             [
              0,
              "#0d0887"
             ],
             [
              0.1111111111111111,
              "#46039f"
             ],
             [
              0.2222222222222222,
              "#7201a8"
             ],
             [
              0.3333333333333333,
              "#9c179e"
             ],
             [
              0.4444444444444444,
              "#bd3786"
             ],
             [
              0.5555555555555556,
              "#d8576b"
             ],
             [
              0.6666666666666666,
              "#ed7953"
             ],
             [
              0.7777777777777778,
              "#fb9f3a"
             ],
             [
              0.8888888888888888,
              "#fdca26"
             ],
             [
              1,
              "#f0f921"
             ]
            ],
            "type": "histogram2d"
           }
          ],
          "histogram2dcontour": [
           {
            "colorbar": {
             "outlinewidth": 0,
             "ticks": ""
            },
            "colorscale": [
             [
              0,
              "#0d0887"
             ],
             [
              0.1111111111111111,
              "#46039f"
             ],
             [
              0.2222222222222222,
              "#7201a8"
             ],
             [
              0.3333333333333333,
              "#9c179e"
             ],
             [
              0.4444444444444444,
              "#bd3786"
             ],
             [
              0.5555555555555556,
              "#d8576b"
             ],
             [
              0.6666666666666666,
              "#ed7953"
             ],
             [
              0.7777777777777778,
              "#fb9f3a"
             ],
             [
              0.8888888888888888,
              "#fdca26"
             ],
             [
              1,
              "#f0f921"
             ]
            ],
            "type": "histogram2dcontour"
           }
          ],
          "mesh3d": [
           {
            "colorbar": {
             "outlinewidth": 0,
             "ticks": ""
            },
            "type": "mesh3d"
           }
          ],
          "parcoords": [
           {
            "line": {
             "colorbar": {
              "outlinewidth": 0,
              "ticks": ""
             }
            },
            "type": "parcoords"
           }
          ],
          "pie": [
           {
            "automargin": true,
            "type": "pie"
           }
          ],
          "scatter": [
           {
            "fillpattern": {
             "fillmode": "overlay",
             "size": 10,
             "solidity": 0.2
            },
            "type": "scatter"
           }
          ],
          "scatter3d": [
           {
            "line": {
             "colorbar": {
              "outlinewidth": 0,
              "ticks": ""
             }
            },
            "marker": {
             "colorbar": {
              "outlinewidth": 0,
              "ticks": ""
             }
            },
            "type": "scatter3d"
           }
          ],
          "scattercarpet": [
           {
            "marker": {
             "colorbar": {
              "outlinewidth": 0,
              "ticks": ""
             }
            },
            "type": "scattercarpet"
           }
          ],
          "scattergeo": [
           {
            "marker": {
             "colorbar": {
              "outlinewidth": 0,
              "ticks": ""
             }
            },
            "type": "scattergeo"
           }
          ],
          "scattergl": [
           {
            "marker": {
             "colorbar": {
              "outlinewidth": 0,
              "ticks": ""
             }
            },
            "type": "scattergl"
           }
          ],
          "scattermapbox": [
           {
            "marker": {
             "colorbar": {
              "outlinewidth": 0,
              "ticks": ""
             }
            },
            "type": "scattermapbox"
           }
          ],
          "scatterpolar": [
           {
            "marker": {
             "colorbar": {
              "outlinewidth": 0,
              "ticks": ""
             }
            },
            "type": "scatterpolar"
           }
          ],
          "scatterpolargl": [
           {
            "marker": {
             "colorbar": {
              "outlinewidth": 0,
              "ticks": ""
             }
            },
            "type": "scatterpolargl"
           }
          ],
          "scatterternary": [
           {
            "marker": {
             "colorbar": {
              "outlinewidth": 0,
              "ticks": ""
             }
            },
            "type": "scatterternary"
           }
          ],
          "surface": [
           {
            "colorbar": {
             "outlinewidth": 0,
             "ticks": ""
            },
            "colorscale": [
             [
              0,
              "#0d0887"
             ],
             [
              0.1111111111111111,
              "#46039f"
             ],
             [
              0.2222222222222222,
              "#7201a8"
             ],
             [
              0.3333333333333333,
              "#9c179e"
             ],
             [
              0.4444444444444444,
              "#bd3786"
             ],
             [
              0.5555555555555556,
              "#d8576b"
             ],
             [
              0.6666666666666666,
              "#ed7953"
             ],
             [
              0.7777777777777778,
              "#fb9f3a"
             ],
             [
              0.8888888888888888,
              "#fdca26"
             ],
             [
              1,
              "#f0f921"
             ]
            ],
            "type": "surface"
           }
          ],
          "table": [
           {
            "cells": {
             "fill": {
              "color": "#EBF0F8"
             },
             "line": {
              "color": "white"
             }
            },
            "header": {
             "fill": {
              "color": "#C8D4E3"
             },
             "line": {
              "color": "white"
             }
            },
            "type": "table"
           }
          ]
         },
         "layout": {
          "annotationdefaults": {
           "arrowcolor": "#2a3f5f",
           "arrowhead": 0,
           "arrowwidth": 1
          },
          "autotypenumbers": "strict",
          "coloraxis": {
           "colorbar": {
            "outlinewidth": 0,
            "ticks": ""
           }
          },
          "colorscale": {
           "diverging": [
            [
             0,
             "#8e0152"
            ],
            [
             0.1,
             "#c51b7d"
            ],
            [
             0.2,
             "#de77ae"
            ],
            [
             0.3,
             "#f1b6da"
            ],
            [
             0.4,
             "#fde0ef"
            ],
            [
             0.5,
             "#f7f7f7"
            ],
            [
             0.6,
             "#e6f5d0"
            ],
            [
             0.7,
             "#b8e186"
            ],
            [
             0.8,
             "#7fbc41"
            ],
            [
             0.9,
             "#4d9221"
            ],
            [
             1,
             "#276419"
            ]
           ],
           "sequential": [
            [
             0,
             "#0d0887"
            ],
            [
             0.1111111111111111,
             "#46039f"
            ],
            [
             0.2222222222222222,
             "#7201a8"
            ],
            [
             0.3333333333333333,
             "#9c179e"
            ],
            [
             0.4444444444444444,
             "#bd3786"
            ],
            [
             0.5555555555555556,
             "#d8576b"
            ],
            [
             0.6666666666666666,
             "#ed7953"
            ],
            [
             0.7777777777777778,
             "#fb9f3a"
            ],
            [
             0.8888888888888888,
             "#fdca26"
            ],
            [
             1,
             "#f0f921"
            ]
           ],
           "sequentialminus": [
            [
             0,
             "#0d0887"
            ],
            [
             0.1111111111111111,
             "#46039f"
            ],
            [
             0.2222222222222222,
             "#7201a8"
            ],
            [
             0.3333333333333333,
             "#9c179e"
            ],
            [
             0.4444444444444444,
             "#bd3786"
            ],
            [
             0.5555555555555556,
             "#d8576b"
            ],
            [
             0.6666666666666666,
             "#ed7953"
            ],
            [
             0.7777777777777778,
             "#fb9f3a"
            ],
            [
             0.8888888888888888,
             "#fdca26"
            ],
            [
             1,
             "#f0f921"
            ]
           ]
          },
          "colorway": [
           "#636efa",
           "#EF553B",
           "#00cc96",
           "#ab63fa",
           "#FFA15A",
           "#19d3f3",
           "#FF6692",
           "#B6E880",
           "#FF97FF",
           "#FECB52"
          ],
          "font": {
           "color": "#2a3f5f"
          },
          "geo": {
           "bgcolor": "white",
           "lakecolor": "white",
           "landcolor": "#E5ECF6",
           "showlakes": true,
           "showland": true,
           "subunitcolor": "white"
          },
          "hoverlabel": {
           "align": "left"
          },
          "hovermode": "closest",
          "mapbox": {
           "style": "light"
          },
          "paper_bgcolor": "white",
          "plot_bgcolor": "#E5ECF6",
          "polar": {
           "angularaxis": {
            "gridcolor": "white",
            "linecolor": "white",
            "ticks": ""
           },
           "bgcolor": "#E5ECF6",
           "radialaxis": {
            "gridcolor": "white",
            "linecolor": "white",
            "ticks": ""
           }
          },
          "scene": {
           "xaxis": {
            "backgroundcolor": "#E5ECF6",
            "gridcolor": "white",
            "gridwidth": 2,
            "linecolor": "white",
            "showbackground": true,
            "ticks": "",
            "zerolinecolor": "white"
           },
           "yaxis": {
            "backgroundcolor": "#E5ECF6",
            "gridcolor": "white",
            "gridwidth": 2,
            "linecolor": "white",
            "showbackground": true,
            "ticks": "",
            "zerolinecolor": "white"
           },
           "zaxis": {
            "backgroundcolor": "#E5ECF6",
            "gridcolor": "white",
            "gridwidth": 2,
            "linecolor": "white",
            "showbackground": true,
            "ticks": "",
            "zerolinecolor": "white"
           }
          },
          "shapedefaults": {
           "line": {
            "color": "#2a3f5f"
           }
          },
          "ternary": {
           "aaxis": {
            "gridcolor": "white",
            "linecolor": "white",
            "ticks": ""
           },
           "baxis": {
            "gridcolor": "white",
            "linecolor": "white",
            "ticks": ""
           },
           "bgcolor": "#E5ECF6",
           "caxis": {
            "gridcolor": "white",
            "linecolor": "white",
            "ticks": ""
           }
          },
          "title": {
           "x": 0.05
          },
          "xaxis": {
           "automargin": true,
           "gridcolor": "white",
           "linecolor": "white",
           "ticks": "",
           "title": {
            "standoff": 15
           },
           "zerolinecolor": "white",
           "zerolinewidth": 2
          },
          "yaxis": {
           "automargin": true,
           "gridcolor": "white",
           "linecolor": "white",
           "ticks": "",
           "title": {
            "standoff": 15
           },
           "zerolinecolor": "white",
           "zerolinewidth": 2
          }
         }
        },
        "title": {
         "font": {
          "color": "#4D5663"
         }
        },
        "xaxis": {
         "autorange": true,
         "gridcolor": "#E1E5ED",
         "range": [
          -0.5,
          2.5
         ],
         "showgrid": true,
         "tickfont": {
          "color": "#4D5663"
         },
         "title": {
          "font": {
           "color": "#4D5663"
          },
          "text": ""
         },
         "type": "category",
         "zerolinecolor": "#E1E5ED"
        },
        "yaxis": {
         "autorange": true,
         "gridcolor": "#E1E5ED",
         "range": [
          0,
          52.63157894736842
         ],
         "showgrid": true,
         "tickfont": {
          "color": "#4D5663"
         },
         "title": {
          "font": {
           "color": "#4D5663"
          },
          "text": ""
         },
         "type": "linear",
         "zerolinecolor": "#E1E5ED"
        }
       }
      },
      "image/png": "[encoded data removed]",
      "text/html": [
       "<div>                            <div id=\"d27f679e-6dc7-4b47-b1b8-526ed0896ca4\" class=\"plotly-graph-div\" style=\"height:525px; width:100%;\"></div>            <script type=\"text/javascript\">                require([\"plotly\"], function(Plotly) {                    window.PLOTLYENV=window.PLOTLYENV || {};\n",
       "                    window.PLOTLYENV.BASE_URL='https://plot.ly';                                    if (document.getElementById(\"d27f679e-6dc7-4b47-b1b8-526ed0896ca4\")) {                    Plotly.newPlot(                        \"d27f679e-6dc7-4b47-b1b8-526ed0896ca4\",                        [{\"marker\":{\"color\":\"rgba(255, 153, 51, 0.6)\",\"line\":{\"color\":\"rgba(255, 153, 51, 1.0)\",\"width\":1}},\"name\":\"Values\",\"orientation\":\"v\",\"text\":\"\",\"x\":[\"A\",\"B\",\"C\"],\"y\":[32,43,50],\"type\":\"bar\"}],                        {\"legend\":{\"bgcolor\":\"#F5F6F9\",\"font\":{\"color\":\"#4D5663\"}},\"paper_bgcolor\":\"#F5F6F9\",\"plot_bgcolor\":\"#F5F6F9\",\"template\":{\"data\":{\"barpolar\":[{\"marker\":{\"line\":{\"color\":\"#E5ECF6\",\"width\":0.5},\"pattern\":{\"fillmode\":\"overlay\",\"size\":10,\"solidity\":0.2}},\"type\":\"barpolar\"}],\"bar\":[{\"error_x\":{\"color\":\"#2a3f5f\"},\"error_y\":{\"color\":\"#2a3f5f\"},\"marker\":{\"line\":{\"color\":\"#E5ECF6\",\"width\":0.5},\"pattern\":{\"fillmode\":\"overlay\",\"size\":10,\"solidity\":0.2}},\"type\":\"bar\"}],\"carpet\":[{\"aaxis\":{\"endlinecolor\":\"#2a3f5f\",\"gridcolor\":\"white\",\"linecolor\":\"white\",\"minorgridcolor\":\"white\",\"startlinecolor\":\"#2a3f5f\"},\"baxis\":{\"endlinecolor\":\"#2a3f5f\",\"gridcolor\":\"white\",\"linecolor\":\"white\",\"minorgridcolor\":\"white\",\"startlinecolor\":\"#2a3f5f\"},\"type\":\"carpet\"}],\"choropleth\":[{\"colorbar\":{\"outlinewidth\":0,\"ticks\":\"\"},\"type\":\"choropleth\"}],\"contourcarpet\":[{\"colorbar\":{\"outlinewidth\":0,\"ticks\":\"\"},\"type\":\"contourcarpet\"}],\"contour\":[{\"colorbar\":{\"outlinewidth\":0,\"ticks\":\"\"},\"colorscale\":[[0.0,\"#0d0887\"],[0.1111111111111111,\"#46039f\"],[0.2222222222222222,\"#7201a8\"],[0.3333333333333333,\"#9c179e\"],[0.4444444444444444,\"#bd3786\"],[0.5555555555555556,\"#d8576b\"],[0.6666666666666666,\"#ed7953\"],[0.7777777777777778,\"#fb9f3a\"],[0.8888888888888888,\"#fdca26\"],[1.0,\"#f0f921\"]],\"type\":\"contour\"}],\"heatmapgl\":[{\"colorbar\":{\"outlinewidth\":0,\"ticks\":\"\"},\"colorscale\":[[0.0,\"#0d0887\"],[0.1111111111111111,\"#46039f\"],[0.2222222222222222,\"#7201a8\"],[0.3333333333333333,\"#9c179e\"],[0.4444444444444444,\"#bd3786\"],[0.5555555555555556,\"#d8576b\"],[0.6666666666666666,\"#ed7953\"],[0.7777777777777778,\"#fb9f3a\"],[0.8888888888888888,\"#fdca26\"],[1.0,\"#f0f921\"]],\"type\":\"heatmapgl\"}],\"heatmap\":[{\"colorbar\":{\"outlinewidth\":0,\"ticks\":\"\"},\"colorscale\":[[0.0,\"#0d0887\"],[0.1111111111111111,\"#46039f\"],[0.2222222222222222,\"#7201a8\"],[0.3333333333333333,\"#9c179e\"],[0.4444444444444444,\"#bd3786\"],[0.5555555555555556,\"#d8576b\"],[0.6666666666666666,\"#ed7953\"],[0.7777777777777778,\"#fb9f3a\"],[0.8888888888888888,\"#fdca26\"],[1.0,\"#f0f921\"]],\"type\":\"heatmap\"}],\"histogram2dcontour\":[{\"colorbar\":{\"outlinewidth\":0,\"ticks\":\"\"},\"colorscale\":[[0.0,\"#0d0887\"],[0.1111111111111111,\"#46039f\"],[0.2222222222222222,\"#7201a8\"],[0.3333333333333333,\"#9c179e\"],[0.4444444444444444,\"#bd3786\"],[0.5555555555555556,\"#d8576b\"],[0.6666666666666666,\"#ed7953\"],[0.7777777777777778,\"#fb9f3a\"],[0.8888888888888888,\"#fdca26\"],[1.0,\"#f0f921\"]],\"type\":\"histogram2dcontour\"}],\"histogram2d\":[{\"colorbar\":{\"outlinewidth\":0,\"ticks\":\"\"},\"colorscale\":[[0.0,\"#0d0887\"],[0.1111111111111111,\"#46039f\"],[0.2222222222222222,\"#7201a8\"],[0.3333333333333333,\"#9c179e\"],[0.4444444444444444,\"#bd3786\"],[0.5555555555555556,\"#d8576b\"],[0.6666666666666666,\"#ed7953\"],[0.7777777777777778,\"#fb9f3a\"],[0.8888888888888888,\"#fdca26\"],[1.0,\"#f0f921\"]],\"type\":\"histogram2d\"}],\"histogram\":[{\"marker\":{\"pattern\":{\"fillmode\":\"overlay\",\"size\":10,\"solidity\":0.2}},\"type\":\"histogram\"}],\"mesh3d\":[{\"colorbar\":{\"outlinewidth\":0,\"ticks\":\"\"},\"type\":\"mesh3d\"}],\"parcoords\":[{\"line\":{\"colorbar\":{\"outlinewidth\":0,\"ticks\":\"\"}},\"type\":\"parcoords\"}],\"pie\":[{\"automargin\":true,\"type\":\"pie\"}],\"scatter3d\":[{\"line\":{\"colorbar\":{\"outlinewidth\":0,\"ticks\":\"\"}},\"marker\":{\"colorbar\":{\"outlinewidth\":0,\"ticks\":\"\"}},\"type\":\"scatter3d\"}],\"scattercarpet\":[{\"marker\":{\"colorbar\":{\"outlinewidth\":0,\"ticks\":\"\"}},\"type\":\"scattercarpet\"}],\"scattergeo\":[{\"marker\":{\"colorbar\":{\"outlinewidth\":0,\"ticks\":\"\"}},\"type\":\"scattergeo\"}],\"scattergl\":[{\"marker\":{\"colorbar\":{\"outlinewidth\":0,\"ticks\":\"\"}},\"type\":\"scattergl\"}],\"scattermapbox\":[{\"marker\":{\"colorbar\":{\"outlinewidth\":0,\"ticks\":\"\"}},\"type\":\"scattermapbox\"}],\"scatterpolargl\":[{\"marker\":{\"colorbar\":{\"outlinewidth\":0,\"ticks\":\"\"}},\"type\":\"scatterpolargl\"}],\"scatterpolar\":[{\"marker\":{\"colorbar\":{\"outlinewidth\":0,\"ticks\":\"\"}},\"type\":\"scatterpolar\"}],\"scatter\":[{\"fillpattern\":{\"fillmode\":\"overlay\",\"size\":10,\"solidity\":0.2},\"type\":\"scatter\"}],\"scatterternary\":[{\"marker\":{\"colorbar\":{\"outlinewidth\":0,\"ticks\":\"\"}},\"type\":\"scatterternary\"}],\"surface\":[{\"colorbar\":{\"outlinewidth\":0,\"ticks\":\"\"},\"colorscale\":[[0.0,\"#0d0887\"],[0.1111111111111111,\"#46039f\"],[0.2222222222222222,\"#7201a8\"],[0.3333333333333333,\"#9c179e\"],[0.4444444444444444,\"#bd3786\"],[0.5555555555555556,\"#d8576b\"],[0.6666666666666666,\"#ed7953\"],[0.7777777777777778,\"#fb9f3a\"],[0.8888888888888888,\"#fdca26\"],[1.0,\"#f0f921\"]],\"type\":\"surface\"}],\"table\":[{\"cells\":{\"fill\":{\"color\":\"#EBF0F8\"},\"line\":{\"color\":\"white\"}},\"header\":{\"fill\":{\"color\":\"#C8D4E3\"},\"line\":{\"color\":\"white\"}},\"type\":\"table\"}]},\"layout\":{\"annotationdefaults\":{\"arrowcolor\":\"#2a3f5f\",\"arrowhead\":0,\"arrowwidth\":1},\"autotypenumbers\":\"strict\",\"coloraxis\":{\"colorbar\":{\"outlinewidth\":0,\"ticks\":\"\"}},\"colorscale\":{\"diverging\":[[0,\"#8e0152\"],[0.1,\"#c51b7d\"],[0.2,\"#de77ae\"],[0.3,\"#f1b6da\"],[0.4,\"#fde0ef\"],[0.5,\"#f7f7f7\"],[0.6,\"#e6f5d0\"],[0.7,\"#b8e186\"],[0.8,\"#7fbc41\"],[0.9,\"#4d9221\"],[1,\"#276419\"]],\"sequential\":[[0.0,\"#0d0887\"],[0.1111111111111111,\"#46039f\"],[0.2222222222222222,\"#7201a8\"],[0.3333333333333333,\"#9c179e\"],[0.4444444444444444,\"#bd3786\"],[0.5555555555555556,\"#d8576b\"],[0.6666666666666666,\"#ed7953\"],[0.7777777777777778,\"#fb9f3a\"],[0.8888888888888888,\"#fdca26\"],[1.0,\"#f0f921\"]],\"sequentialminus\":[[0.0,\"#0d0887\"],[0.1111111111111111,\"#46039f\"],[0.2222222222222222,\"#7201a8\"],[0.3333333333333333,\"#9c179e\"],[0.4444444444444444,\"#bd3786\"],[0.5555555555555556,\"#d8576b\"],[0.6666666666666666,\"#ed7953\"],[0.7777777777777778,\"#fb9f3a\"],[0.8888888888888888,\"#fdca26\"],[1.0,\"#f0f921\"]]},\"colorway\":[\"#636efa\",\"#EF553B\",\"#00cc96\",\"#ab63fa\",\"#FFA15A\",\"#19d3f3\",\"#FF6692\",\"#B6E880\",\"#FF97FF\",\"#FECB52\"],\"font\":{\"color\":\"#2a3f5f\"},\"geo\":{\"bgcolor\":\"white\",\"lakecolor\":\"white\",\"landcolor\":\"#E5ECF6\",\"showlakes\":true,\"showland\":true,\"subunitcolor\":\"white\"},\"hoverlabel\":{\"align\":\"left\"},\"hovermode\":\"closest\",\"mapbox\":{\"style\":\"light\"},\"paper_bgcolor\":\"white\",\"plot_bgcolor\":\"#E5ECF6\",\"polar\":{\"angularaxis\":{\"gridcolor\":\"white\",\"linecolor\":\"white\",\"ticks\":\"\"},\"bgcolor\":\"#E5ECF6\",\"radialaxis\":{\"gridcolor\":\"white\",\"linecolor\":\"white\",\"ticks\":\"\"}},\"scene\":{\"xaxis\":{\"backgroundcolor\":\"#E5ECF6\",\"gridcolor\":\"white\",\"gridwidth\":2,\"linecolor\":\"white\",\"showbackground\":true,\"ticks\":\"\",\"zerolinecolor\":\"white\"},\"yaxis\":{\"backgroundcolor\":\"#E5ECF6\",\"gridcolor\":\"white\",\"gridwidth\":2,\"linecolor\":\"white\",\"showbackground\":true,\"ticks\":\"\",\"zerolinecolor\":\"white\"},\"zaxis\":{\"backgroundcolor\":\"#E5ECF6\",\"gridcolor\":\"white\",\"gridwidth\":2,\"linecolor\":\"white\",\"showbackground\":true,\"ticks\":\"\",\"zerolinecolor\":\"white\"}},\"shapedefaults\":{\"line\":{\"color\":\"#2a3f5f\"}},\"ternary\":{\"aaxis\":{\"gridcolor\":\"white\",\"linecolor\":\"white\",\"ticks\":\"\"},\"baxis\":{\"gridcolor\":\"white\",\"linecolor\":\"white\",\"ticks\":\"\"},\"bgcolor\":\"#E5ECF6\",\"caxis\":{\"gridcolor\":\"white\",\"linecolor\":\"white\",\"ticks\":\"\"}},\"title\":{\"x\":0.05},\"xaxis\":{\"automargin\":true,\"gridcolor\":\"white\",\"linecolor\":\"white\",\"ticks\":\"\",\"title\":{\"standoff\":15},\"zerolinecolor\":\"white\",\"zerolinewidth\":2},\"yaxis\":{\"automargin\":true,\"gridcolor\":\"white\",\"linecolor\":\"white\",\"ticks\":\"\",\"title\":{\"standoff\":15},\"zerolinecolor\":\"white\",\"zerolinewidth\":2}}},\"title\":{\"font\":{\"color\":\"#4D5663\"}},\"xaxis\":{\"gridcolor\":\"#E1E5ED\",\"showgrid\":true,\"tickfont\":{\"color\":\"#4D5663\"},\"title\":{\"font\":{\"color\":\"#4D5663\"},\"text\":\"\"},\"zerolinecolor\":\"#E1E5ED\"},\"yaxis\":{\"gridcolor\":\"#E1E5ED\",\"showgrid\":true,\"tickfont\":{\"color\":\"#4D5663\"},\"title\":{\"font\":{\"color\":\"#4D5663\"},\"text\":\"\"},\"zerolinecolor\":\"#E1E5ED\"}},                        {\"showLink\": true, \"linkText\": \"Export to plot.ly\", \"plotlyServerURL\": \"https://plot.ly\", \"responsive\": true}                    ).then(function(){\n",
       "                            \n",
       "var gd = document.getElementById('d27f679e-6dc7-4b47-b1b8-526ed0896ca4');\n",
       "var x = new MutationObserver(function (mutations, observer) {{\n",
       "        var display = window.getComputedStyle(gd).display;\n",
       "        if (!display || display === 'none') {{\n",
       "            console.log([gd, 'removed!']);\n",
       "            Plotly.purge(gd);\n",
       "            observer.disconnect();\n",
       "        }}\n",
       "}});\n",
       "\n",
       "// Listen for the removal of the full notebook cells\n",
       "var notebookContainer = gd.closest('#notebook-container');\n",
       "if (notebookContainer) {{\n",
       "    x.observe(notebookContainer, {childList: true});\n",
       "}}\n",
       "\n",
       "// Listen for the clearing of the current output cell\n",
       "var outputEl = gd.closest('.output');\n",
       "if (outputEl) {{\n",
       "    x.observe(outputEl, {childList: true});\n",
       "}}\n",
       "\n",
       "                        })                };                });            </script>        </div>"
      ]
     },
     "metadata": {},
     "output_type": "display_data"
    }
   ],
   "source": [
    "df2.iplot(kind='bar',x='Category',y='Values')"
   ]
  },
  {
   "cell_type": "code",
   "execution_count": 15,
   "id": "84eee2b0-a004-478b-bac5-1000a687b83f",
   "metadata": {},
   "outputs": [
    {
     "data": {
      "application/vnd.plotly.v1+json": {
       "config": {
        "linkText": "Export to plot.ly",
        "plotlyServerURL": "https://plot.ly",
        "showLink": true
       },
       "data": [
        {
         "marker": {
          "color": "rgba(255, 153, 51, 0.6)",
          "line": {
           "color": "rgba(255, 153, 51, 1.0)",
           "width": 1
          }
         },
         "name": "None",
         "orientation": "v",
         "text": "",
         "type": "bar",
         "x": [
          "A",
          "B",
          "C",
          "D"
         ],
         "y": [
          100,
          100,
          100,
          100
         ]
        }
       ],
       "layout": {
        "autosize": true,
        "legend": {
         "bgcolor": "#F5F6F9",
         "font": {
          "color": "#4D5663"
         }
        },
        "paper_bgcolor": "#F5F6F9",
        "plot_bgcolor": "#F5F6F9",
        "template": {
         "data": {
          "bar": [
           {
            "error_x": {
             "color": "#2a3f5f"
            },
            "error_y": {
             "color": "#2a3f5f"
            },
            "marker": {
             "line": {
              "color": "#E5ECF6",
              "width": 0.5
             },
             "pattern": {
              "fillmode": "overlay",
              "size": 10,
              "solidity": 0.2
             }
            },
            "type": "bar"
           }
          ],
          "barpolar": [
           {
            "marker": {
             "line": {
              "color": "#E5ECF6",
              "width": 0.5
             },
             "pattern": {
              "fillmode": "overlay",
              "size": 10,
              "solidity": 0.2
             }
            },
            "type": "barpolar"
           }
          ],
          "carpet": [
           {
            "aaxis": {
             "endlinecolor": "#2a3f5f",
             "gridcolor": "white",
             "linecolor": "white",
             "minorgridcolor": "white",
             "startlinecolor": "#2a3f5f"
            },
            "baxis": {
             "endlinecolor": "#2a3f5f",
             "gridcolor": "white",
             "linecolor": "white",
             "minorgridcolor": "white",
             "startlinecolor": "#2a3f5f"
            },
            "type": "carpet"
           }
          ],
          "choropleth": [
           {
            "colorbar": {
             "outlinewidth": 0,
             "ticks": ""
            },
            "type": "choropleth"
           }
          ],
          "contour": [
           {
            "colorbar": {
             "outlinewidth": 0,
             "ticks": ""
            },
            "colorscale": [
             [
              0,
              "#0d0887"
             ],
             [
              0.1111111111111111,
              "#46039f"
             ],
             [
              0.2222222222222222,
              "#7201a8"
             ],
             [
              0.3333333333333333,
              "#9c179e"
             ],
             [
              0.4444444444444444,
              "#bd3786"
             ],
             [
              0.5555555555555556,
              "#d8576b"
             ],
             [
              0.6666666666666666,
              "#ed7953"
             ],
             [
              0.7777777777777778,
              "#fb9f3a"
             ],
             [
              0.8888888888888888,
              "#fdca26"
             ],
             [
              1,
              "#f0f921"
             ]
            ],
            "type": "contour"
           }
          ],
          "contourcarpet": [
           {
            "colorbar": {
             "outlinewidth": 0,
             "ticks": ""
            },
            "type": "contourcarpet"
           }
          ],
          "heatmap": [
           {
            "colorbar": {
             "outlinewidth": 0,
             "ticks": ""
            },
            "colorscale": [
             [
              0,
              "#0d0887"
             ],
             [
              0.1111111111111111,
              "#46039f"
             ],
             [
              0.2222222222222222,
              "#7201a8"
             ],
             [
              0.3333333333333333,
              "#9c179e"
             ],
             [
              0.4444444444444444,
              "#bd3786"
             ],
             [
              0.5555555555555556,
              "#d8576b"
             ],
             [
              0.6666666666666666,
              "#ed7953"
             ],
             [
              0.7777777777777778,
              "#fb9f3a"
             ],
             [
              0.8888888888888888,
              "#fdca26"
             ],
             [
              1,
              "#f0f921"
             ]
            ],
            "type": "heatmap"
           }
          ],
          "heatmapgl": [
           {
            "colorbar": {
             "outlinewidth": 0,
             "ticks": ""
            },
            "colorscale": [
             [
              0,
              "#0d0887"
             ],
             [
              0.1111111111111111,
              "#46039f"
             ],
             [
              0.2222222222222222,
              "#7201a8"
             ],
             [
              0.3333333333333333,
              "#9c179e"
             ],
             [
              0.4444444444444444,
              "#bd3786"
             ],
             [
              0.5555555555555556,
              "#d8576b"
             ],
             [
              0.6666666666666666,
              "#ed7953"
             ],
             [
              0.7777777777777778,
              "#fb9f3a"
             ],
             [
              0.8888888888888888,
              "#fdca26"
             ],
             [
              1,
              "#f0f921"
             ]
            ],
            "type": "heatmapgl"
           }
          ],
          "histogram": [
           {
            "marker": {
             "pattern": {
              "fillmode": "overlay",
              "size": 10,
              "solidity": 0.2
             }
            },
            "type": "histogram"
           }
          ],
          "histogram2d": [
           {
            "colorbar": {
             "outlinewidth": 0,
             "ticks": ""
            },
            "colorscale": [
             [
              0,
              "#0d0887"
             ],
             [
              0.1111111111111111,
              "#46039f"
             ],
             [
              0.2222222222222222,
              "#7201a8"
             ],
             [
              0.3333333333333333,
              "#9c179e"
             ],
             [
              0.4444444444444444,
              "#bd3786"
             ],
             [
              0.5555555555555556,
              "#d8576b"
             ],
             [
              0.6666666666666666,
              "#ed7953"
             ],
             [
              0.7777777777777778,
              "#fb9f3a"
             ],
             [
              0.8888888888888888,
              "#fdca26"
             ],
             [
              1,
              "#f0f921"
             ]
            ],
            "type": "histogram2d"
           }
          ],
          "histogram2dcontour": [
           {
            "colorbar": {
             "outlinewidth": 0,
             "ticks": ""
            },
            "colorscale": [
             [
              0,
              "#0d0887"
             ],
             [
              0.1111111111111111,
              "#46039f"
             ],
             [
              0.2222222222222222,
              "#7201a8"
             ],
             [
              0.3333333333333333,
              "#9c179e"
             ],
             [
              0.4444444444444444,
              "#bd3786"
             ],
             [
              0.5555555555555556,
              "#d8576b"
             ],
             [
              0.6666666666666666,
              "#ed7953"
             ],
             [
              0.7777777777777778,
              "#fb9f3a"
             ],
             [
              0.8888888888888888,
              "#fdca26"
             ],
             [
              1,
              "#f0f921"
             ]
            ],
            "type": "histogram2dcontour"
           }
          ],
          "mesh3d": [
           {
            "colorbar": {
             "outlinewidth": 0,
             "ticks": ""
            },
            "type": "mesh3d"
           }
          ],
          "parcoords": [
           {
            "line": {
             "colorbar": {
              "outlinewidth": 0,
              "ticks": ""
             }
            },
            "type": "parcoords"
           }
          ],
          "pie": [
           {
            "automargin": true,
            "type": "pie"
           }
          ],
          "scatter": [
           {
            "fillpattern": {
             "fillmode": "overlay",
             "size": 10,
             "solidity": 0.2
            },
            "type": "scatter"
           }
          ],
          "scatter3d": [
           {
            "line": {
             "colorbar": {
              "outlinewidth": 0,
              "ticks": ""
             }
            },
            "marker": {
             "colorbar": {
              "outlinewidth": 0,
              "ticks": ""
             }
            },
            "type": "scatter3d"
           }
          ],
          "scattercarpet": [
           {
            "marker": {
             "colorbar": {
              "outlinewidth": 0,
              "ticks": ""
             }
            },
            "type": "scattercarpet"
           }
          ],
          "scattergeo": [
           {
            "marker": {
             "colorbar": {
              "outlinewidth": 0,
              "ticks": ""
             }
            },
            "type": "scattergeo"
           }
          ],
          "scattergl": [
           {
            "marker": {
             "colorbar": {
              "outlinewidth": 0,
              "ticks": ""
             }
            },
            "type": "scattergl"
           }
          ],
          "scattermapbox": [
           {
            "marker": {
             "colorbar": {
              "outlinewidth": 0,
              "ticks": ""
             }
            },
            "type": "scattermapbox"
           }
          ],
          "scatterpolar": [
           {
            "marker": {
             "colorbar": {
              "outlinewidth": 0,
              "ticks": ""
             }
            },
            "type": "scatterpolar"
           }
          ],
          "scatterpolargl": [
           {
            "marker": {
             "colorbar": {
              "outlinewidth": 0,
              "ticks": ""
             }
            },
            "type": "scatterpolargl"
           }
          ],
          "scatterternary": [
           {
            "marker": {
             "colorbar": {
              "outlinewidth": 0,
              "ticks": ""
             }
            },
            "type": "scatterternary"
           }
          ],
          "surface": [
           {
            "colorbar": {
             "outlinewidth": 0,
             "ticks": ""
            },
            "colorscale": [
             [
              0,
              "#0d0887"
             ],
             [
              0.1111111111111111,
              "#46039f"
             ],
             [
              0.2222222222222222,
              "#7201a8"
             ],
             [
              0.3333333333333333,
              "#9c179e"
             ],
             [
              0.4444444444444444,
              "#bd3786"
             ],
             [
              0.5555555555555556,
              "#d8576b"
             ],
             [
              0.6666666666666666,
              "#ed7953"
             ],
             [
              0.7777777777777778,
              "#fb9f3a"
             ],
             [
              0.8888888888888888,
              "#fdca26"
             ],
             [
              1,
              "#f0f921"
             ]
            ],
            "type": "surface"
           }
          ],
          "table": [
           {
            "cells": {
             "fill": {
              "color": "#EBF0F8"
             },
             "line": {
              "color": "white"
             }
            },
            "header": {
             "fill": {
              "color": "#C8D4E3"
             },
             "line": {
              "color": "white"
             }
            },
            "type": "table"
           }
          ]
         },
         "layout": {
          "annotationdefaults": {
           "arrowcolor": "#2a3f5f",
           "arrowhead": 0,
           "arrowwidth": 1
          },
          "autotypenumbers": "strict",
          "coloraxis": {
           "colorbar": {
            "outlinewidth": 0,
            "ticks": ""
           }
          },
          "colorscale": {
           "diverging": [
            [
             0,
             "#8e0152"
            ],
            [
             0.1,
             "#c51b7d"
            ],
            [
             0.2,
             "#de77ae"
            ],
            [
             0.3,
             "#f1b6da"
            ],
            [
             0.4,
             "#fde0ef"
            ],
            [
             0.5,
             "#f7f7f7"
            ],
            [
             0.6,
             "#e6f5d0"
            ],
            [
             0.7,
             "#b8e186"
            ],
            [
             0.8,
             "#7fbc41"
            ],
            [
             0.9,
             "#4d9221"
            ],
            [
             1,
             "#276419"
            ]
           ],
           "sequential": [
            [
             0,
             "#0d0887"
            ],
            [
             0.1111111111111111,
             "#46039f"
            ],
            [
             0.2222222222222222,
             "#7201a8"
            ],
            [
             0.3333333333333333,
             "#9c179e"
            ],
            [
             0.4444444444444444,
             "#bd3786"
            ],
            [
             0.5555555555555556,
             "#d8576b"
            ],
            [
             0.6666666666666666,
             "#ed7953"
            ],
            [
             0.7777777777777778,
             "#fb9f3a"
            ],
            [
             0.8888888888888888,
             "#fdca26"
            ],
            [
             1,
             "#f0f921"
            ]
           ],
           "sequentialminus": [
            [
             0,
             "#0d0887"
            ],
            [
             0.1111111111111111,
             "#46039f"
            ],
            [
             0.2222222222222222,
             "#7201a8"
            ],
            [
             0.3333333333333333,
             "#9c179e"
            ],
            [
             0.4444444444444444,
             "#bd3786"
            ],
            [
             0.5555555555555556,
             "#d8576b"
            ],
            [
             0.6666666666666666,
             "#ed7953"
            ],
            [
             0.7777777777777778,
             "#fb9f3a"
            ],
            [
             0.8888888888888888,
             "#fdca26"
            ],
            [
             1,
             "#f0f921"
            ]
           ]
          },
          "colorway": [
           "#636efa",
           "#EF553B",
           "#00cc96",
           "#ab63fa",
           "#FFA15A",
           "#19d3f3",
           "#FF6692",
           "#B6E880",
           "#FF97FF",
           "#FECB52"
          ],
          "font": {
           "color": "#2a3f5f"
          },
          "geo": {
           "bgcolor": "white",
           "lakecolor": "white",
           "landcolor": "#E5ECF6",
           "showlakes": true,
           "showland": true,
           "subunitcolor": "white"
          },
          "hoverlabel": {
           "align": "left"
          },
          "hovermode": "closest",
          "mapbox": {
           "style": "light"
          },
          "paper_bgcolor": "white",
          "plot_bgcolor": "#E5ECF6",
          "polar": {
           "angularaxis": {
            "gridcolor": "white",
            "linecolor": "white",
            "ticks": ""
           },
           "bgcolor": "#E5ECF6",
           "radialaxis": {
            "gridcolor": "white",
            "linecolor": "white",
            "ticks": ""
           }
          },
          "scene": {
           "xaxis": {
            "backgroundcolor": "#E5ECF6",
            "gridcolor": "white",
            "gridwidth": 2,
            "linecolor": "white",
            "showbackground": true,
            "ticks": "",
            "zerolinecolor": "white"
           },
           "yaxis": {
            "backgroundcolor": "#E5ECF6",
            "gridcolor": "white",
            "gridwidth": 2,
            "linecolor": "white",
            "showbackground": true,
            "ticks": "",
            "zerolinecolor": "white"
           },
           "zaxis": {
            "backgroundcolor": "#E5ECF6",
            "gridcolor": "white",
            "gridwidth": 2,
            "linecolor": "white",
            "showbackground": true,
            "ticks": "",
            "zerolinecolor": "white"
           }
          },
          "shapedefaults": {
           "line": {
            "color": "#2a3f5f"
           }
          },
          "ternary": {
           "aaxis": {
            "gridcolor": "white",
            "linecolor": "white",
            "ticks": ""
           },
           "baxis": {
            "gridcolor": "white",
            "linecolor": "white",
            "ticks": ""
           },
           "bgcolor": "#E5ECF6",
           "caxis": {
            "gridcolor": "white",
            "linecolor": "white",
            "ticks": ""
           }
          },
          "title": {
           "x": 0.05
          },
          "xaxis": {
           "automargin": true,
           "gridcolor": "white",
           "linecolor": "white",
           "ticks": "",
           "title": {
            "standoff": 15
           },
           "zerolinecolor": "white",
           "zerolinewidth": 2
          },
          "yaxis": {
           "automargin": true,
           "gridcolor": "white",
           "linecolor": "white",
           "ticks": "",
           "title": {
            "standoff": 15
           },
           "zerolinecolor": "white",
           "zerolinewidth": 2
          }
         }
        },
        "title": {
         "font": {
          "color": "#4D5663"
         }
        },
        "xaxis": {
         "autorange": true,
         "gridcolor": "#E1E5ED",
         "range": [
          -0.5,
          3.5
         ],
         "showgrid": true,
         "tickfont": {
          "color": "#4D5663"
         },
         "title": {
          "font": {
           "color": "#4D5663"
          },
          "text": ""
         },
         "type": "category",
         "zerolinecolor": "#E1E5ED"
        },
        "yaxis": {
         "autorange": true,
         "gridcolor": "#E1E5ED",
         "range": [
          0,
          105.26315789473684
         ],
         "showgrid": true,
         "tickfont": {
          "color": "#4D5663"
         },
         "title": {
          "font": {
           "color": "#4D5663"
          },
          "text": ""
         },
         "type": "linear",
         "zerolinecolor": "#E1E5ED"
        }
       }
      },
      "image/png": "[encoded data removed]",
      "text/html": [
       "<div>                            <div id=\"4df88497-0eda-4eef-a68f-4dcab6bf0e6e\" class=\"plotly-graph-div\" style=\"height:525px; width:100%;\"></div>            <script type=\"text/javascript\">                require([\"plotly\"], function(Plotly) {                    window.PLOTLYENV=window.PLOTLYENV || {};\n",
       "                    window.PLOTLYENV.BASE_URL='https://plot.ly';                                    if (document.getElementById(\"4df88497-0eda-4eef-a68f-4dcab6bf0e6e\")) {                    Plotly.newPlot(                        \"4df88497-0eda-4eef-a68f-4dcab6bf0e6e\",                        [{\"marker\":{\"color\":\"rgba(255, 153, 51, 0.6)\",\"line\":{\"color\":\"rgba(255, 153, 51, 1.0)\",\"width\":1}},\"name\":\"None\",\"orientation\":\"v\",\"text\":\"\",\"x\":[\"A\",\"B\",\"C\",\"D\"],\"y\":[100,100,100,100],\"type\":\"bar\"}],                        {\"legend\":{\"bgcolor\":\"#F5F6F9\",\"font\":{\"color\":\"#4D5663\"}},\"paper_bgcolor\":\"#F5F6F9\",\"plot_bgcolor\":\"#F5F6F9\",\"template\":{\"data\":{\"barpolar\":[{\"marker\":{\"line\":{\"color\":\"#E5ECF6\",\"width\":0.5},\"pattern\":{\"fillmode\":\"overlay\",\"size\":10,\"solidity\":0.2}},\"type\":\"barpolar\"}],\"bar\":[{\"error_x\":{\"color\":\"#2a3f5f\"},\"error_y\":{\"color\":\"#2a3f5f\"},\"marker\":{\"line\":{\"color\":\"#E5ECF6\",\"width\":0.5},\"pattern\":{\"fillmode\":\"overlay\",\"size\":10,\"solidity\":0.2}},\"type\":\"bar\"}],\"carpet\":[{\"aaxis\":{\"endlinecolor\":\"#2a3f5f\",\"gridcolor\":\"white\",\"linecolor\":\"white\",\"minorgridcolor\":\"white\",\"startlinecolor\":\"#2a3f5f\"},\"baxis\":{\"endlinecolor\":\"#2a3f5f\",\"gridcolor\":\"white\",\"linecolor\":\"white\",\"minorgridcolor\":\"white\",\"startlinecolor\":\"#2a3f5f\"},\"type\":\"carpet\"}],\"choropleth\":[{\"colorbar\":{\"outlinewidth\":0,\"ticks\":\"\"},\"type\":\"choropleth\"}],\"contourcarpet\":[{\"colorbar\":{\"outlinewidth\":0,\"ticks\":\"\"},\"type\":\"contourcarpet\"}],\"contour\":[{\"colorbar\":{\"outlinewidth\":0,\"ticks\":\"\"},\"colorscale\":[[0.0,\"#0d0887\"],[0.1111111111111111,\"#46039f\"],[0.2222222222222222,\"#7201a8\"],[0.3333333333333333,\"#9c179e\"],[0.4444444444444444,\"#bd3786\"],[0.5555555555555556,\"#d8576b\"],[0.6666666666666666,\"#ed7953\"],[0.7777777777777778,\"#fb9f3a\"],[0.8888888888888888,\"#fdca26\"],[1.0,\"#f0f921\"]],\"type\":\"contour\"}],\"heatmapgl\":[{\"colorbar\":{\"outlinewidth\":0,\"ticks\":\"\"},\"colorscale\":[[0.0,\"#0d0887\"],[0.1111111111111111,\"#46039f\"],[0.2222222222222222,\"#7201a8\"],[0.3333333333333333,\"#9c179e\"],[0.4444444444444444,\"#bd3786\"],[0.5555555555555556,\"#d8576b\"],[0.6666666666666666,\"#ed7953\"],[0.7777777777777778,\"#fb9f3a\"],[0.8888888888888888,\"#fdca26\"],[1.0,\"#f0f921\"]],\"type\":\"heatmapgl\"}],\"heatmap\":[{\"colorbar\":{\"outlinewidth\":0,\"ticks\":\"\"},\"colorscale\":[[0.0,\"#0d0887\"],[0.1111111111111111,\"#46039f\"],[0.2222222222222222,\"#7201a8\"],[0.3333333333333333,\"#9c179e\"],[0.4444444444444444,\"#bd3786\"],[0.5555555555555556,\"#d8576b\"],[0.6666666666666666,\"#ed7953\"],[0.7777777777777778,\"#fb9f3a\"],[0.8888888888888888,\"#fdca26\"],[1.0,\"#f0f921\"]],\"type\":\"heatmap\"}],\"histogram2dcontour\":[{\"colorbar\":{\"outlinewidth\":0,\"ticks\":\"\"},\"colorscale\":[[0.0,\"#0d0887\"],[0.1111111111111111,\"#46039f\"],[0.2222222222222222,\"#7201a8\"],[0.3333333333333333,\"#9c179e\"],[0.4444444444444444,\"#bd3786\"],[0.5555555555555556,\"#d8576b\"],[0.6666666666666666,\"#ed7953\"],[0.7777777777777778,\"#fb9f3a\"],[0.8888888888888888,\"#fdca26\"],[1.0,\"#f0f921\"]],\"type\":\"histogram2dcontour\"}],\"histogram2d\":[{\"colorbar\":{\"outlinewidth\":0,\"ticks\":\"\"},\"colorscale\":[[0.0,\"#0d0887\"],[0.1111111111111111,\"#46039f\"],[0.2222222222222222,\"#7201a8\"],[0.3333333333333333,\"#9c179e\"],[0.4444444444444444,\"#bd3786\"],[0.5555555555555556,\"#d8576b\"],[0.6666666666666666,\"#ed7953\"],[0.7777777777777778,\"#fb9f3a\"],[0.8888888888888888,\"#fdca26\"],[1.0,\"#f0f921\"]],\"type\":\"histogram2d\"}],\"histogram\":[{\"marker\":{\"pattern\":{\"fillmode\":\"overlay\",\"size\":10,\"solidity\":0.2}},\"type\":\"histogram\"}],\"mesh3d\":[{\"colorbar\":{\"outlinewidth\":0,\"ticks\":\"\"},\"type\":\"mesh3d\"}],\"parcoords\":[{\"line\":{\"colorbar\":{\"outlinewidth\":0,\"ticks\":\"\"}},\"type\":\"parcoords\"}],\"pie\":[{\"automargin\":true,\"type\":\"pie\"}],\"scatter3d\":[{\"line\":{\"colorbar\":{\"outlinewidth\":0,\"ticks\":\"\"}},\"marker\":{\"colorbar\":{\"outlinewidth\":0,\"ticks\":\"\"}},\"type\":\"scatter3d\"}],\"scattercarpet\":[{\"marker\":{\"colorbar\":{\"outlinewidth\":0,\"ticks\":\"\"}},\"type\":\"scattercarpet\"}],\"scattergeo\":[{\"marker\":{\"colorbar\":{\"outlinewidth\":0,\"ticks\":\"\"}},\"type\":\"scattergeo\"}],\"scattergl\":[{\"marker\":{\"colorbar\":{\"outlinewidth\":0,\"ticks\":\"\"}},\"type\":\"scattergl\"}],\"scattermapbox\":[{\"marker\":{\"colorbar\":{\"outlinewidth\":0,\"ticks\":\"\"}},\"type\":\"scattermapbox\"}],\"scatterpolargl\":[{\"marker\":{\"colorbar\":{\"outlinewidth\":0,\"ticks\":\"\"}},\"type\":\"scatterpolargl\"}],\"scatterpolar\":[{\"marker\":{\"colorbar\":{\"outlinewidth\":0,\"ticks\":\"\"}},\"type\":\"scatterpolar\"}],\"scatter\":[{\"fillpattern\":{\"fillmode\":\"overlay\",\"size\":10,\"solidity\":0.2},\"type\":\"scatter\"}],\"scatterternary\":[{\"marker\":{\"colorbar\":{\"outlinewidth\":0,\"ticks\":\"\"}},\"type\":\"scatterternary\"}],\"surface\":[{\"colorbar\":{\"outlinewidth\":0,\"ticks\":\"\"},\"colorscale\":[[0.0,\"#0d0887\"],[0.1111111111111111,\"#46039f\"],[0.2222222222222222,\"#7201a8\"],[0.3333333333333333,\"#9c179e\"],[0.4444444444444444,\"#bd3786\"],[0.5555555555555556,\"#d8576b\"],[0.6666666666666666,\"#ed7953\"],[0.7777777777777778,\"#fb9f3a\"],[0.8888888888888888,\"#fdca26\"],[1.0,\"#f0f921\"]],\"type\":\"surface\"}],\"table\":[{\"cells\":{\"fill\":{\"color\":\"#EBF0F8\"},\"line\":{\"color\":\"white\"}},\"header\":{\"fill\":{\"color\":\"#C8D4E3\"},\"line\":{\"color\":\"white\"}},\"type\":\"table\"}]},\"layout\":{\"annotationdefaults\":{\"arrowcolor\":\"#2a3f5f\",\"arrowhead\":0,\"arrowwidth\":1},\"autotypenumbers\":\"strict\",\"coloraxis\":{\"colorbar\":{\"outlinewidth\":0,\"ticks\":\"\"}},\"colorscale\":{\"diverging\":[[0,\"#8e0152\"],[0.1,\"#c51b7d\"],[0.2,\"#de77ae\"],[0.3,\"#f1b6da\"],[0.4,\"#fde0ef\"],[0.5,\"#f7f7f7\"],[0.6,\"#e6f5d0\"],[0.7,\"#b8e186\"],[0.8,\"#7fbc41\"],[0.9,\"#4d9221\"],[1,\"#276419\"]],\"sequential\":[[0.0,\"#0d0887\"],[0.1111111111111111,\"#46039f\"],[0.2222222222222222,\"#7201a8\"],[0.3333333333333333,\"#9c179e\"],[0.4444444444444444,\"#bd3786\"],[0.5555555555555556,\"#d8576b\"],[0.6666666666666666,\"#ed7953\"],[0.7777777777777778,\"#fb9f3a\"],[0.8888888888888888,\"#fdca26\"],[1.0,\"#f0f921\"]],\"sequentialminus\":[[0.0,\"#0d0887\"],[0.1111111111111111,\"#46039f\"],[0.2222222222222222,\"#7201a8\"],[0.3333333333333333,\"#9c179e\"],[0.4444444444444444,\"#bd3786\"],[0.5555555555555556,\"#d8576b\"],[0.6666666666666666,\"#ed7953\"],[0.7777777777777778,\"#fb9f3a\"],[0.8888888888888888,\"#fdca26\"],[1.0,\"#f0f921\"]]},\"colorway\":[\"#636efa\",\"#EF553B\",\"#00cc96\",\"#ab63fa\",\"#FFA15A\",\"#19d3f3\",\"#FF6692\",\"#B6E880\",\"#FF97FF\",\"#FECB52\"],\"font\":{\"color\":\"#2a3f5f\"},\"geo\":{\"bgcolor\":\"white\",\"lakecolor\":\"white\",\"landcolor\":\"#E5ECF6\",\"showlakes\":true,\"showland\":true,\"subunitcolor\":\"white\"},\"hoverlabel\":{\"align\":\"left\"},\"hovermode\":\"closest\",\"mapbox\":{\"style\":\"light\"},\"paper_bgcolor\":\"white\",\"plot_bgcolor\":\"#E5ECF6\",\"polar\":{\"angularaxis\":{\"gridcolor\":\"white\",\"linecolor\":\"white\",\"ticks\":\"\"},\"bgcolor\":\"#E5ECF6\",\"radialaxis\":{\"gridcolor\":\"white\",\"linecolor\":\"white\",\"ticks\":\"\"}},\"scene\":{\"xaxis\":{\"backgroundcolor\":\"#E5ECF6\",\"gridcolor\":\"white\",\"gridwidth\":2,\"linecolor\":\"white\",\"showbackground\":true,\"ticks\":\"\",\"zerolinecolor\":\"white\"},\"yaxis\":{\"backgroundcolor\":\"#E5ECF6\",\"gridcolor\":\"white\",\"gridwidth\":2,\"linecolor\":\"white\",\"showbackground\":true,\"ticks\":\"\",\"zerolinecolor\":\"white\"},\"zaxis\":{\"backgroundcolor\":\"#E5ECF6\",\"gridcolor\":\"white\",\"gridwidth\":2,\"linecolor\":\"white\",\"showbackground\":true,\"ticks\":\"\",\"zerolinecolor\":\"white\"}},\"shapedefaults\":{\"line\":{\"color\":\"#2a3f5f\"}},\"ternary\":{\"aaxis\":{\"gridcolor\":\"white\",\"linecolor\":\"white\",\"ticks\":\"\"},\"baxis\":{\"gridcolor\":\"white\",\"linecolor\":\"white\",\"ticks\":\"\"},\"bgcolor\":\"#E5ECF6\",\"caxis\":{\"gridcolor\":\"white\",\"linecolor\":\"white\",\"ticks\":\"\"}},\"title\":{\"x\":0.05},\"xaxis\":{\"automargin\":true,\"gridcolor\":\"white\",\"linecolor\":\"white\",\"ticks\":\"\",\"title\":{\"standoff\":15},\"zerolinecolor\":\"white\",\"zerolinewidth\":2},\"yaxis\":{\"automargin\":true,\"gridcolor\":\"white\",\"linecolor\":\"white\",\"ticks\":\"\",\"title\":{\"standoff\":15},\"zerolinecolor\":\"white\",\"zerolinewidth\":2}}},\"title\":{\"font\":{\"color\":\"#4D5663\"}},\"xaxis\":{\"gridcolor\":\"#E1E5ED\",\"showgrid\":true,\"tickfont\":{\"color\":\"#4D5663\"},\"title\":{\"font\":{\"color\":\"#4D5663\"},\"text\":\"\"},\"zerolinecolor\":\"#E1E5ED\"},\"yaxis\":{\"gridcolor\":\"#E1E5ED\",\"showgrid\":true,\"tickfont\":{\"color\":\"#4D5663\"},\"title\":{\"font\":{\"color\":\"#4D5663\"},\"text\":\"\"},\"zerolinecolor\":\"#E1E5ED\"}},                        {\"showLink\": true, \"linkText\": \"Export to plot.ly\", \"plotlyServerURL\": \"https://plot.ly\", \"responsive\": true}                    ).then(function(){\n",
       "                            \n",
       "var gd = document.getElementById('4df88497-0eda-4eef-a68f-4dcab6bf0e6e');\n",
       "var x = new MutationObserver(function (mutations, observer) {{\n",
       "        var display = window.getComputedStyle(gd).display;\n",
       "        if (!display || display === 'none') {{\n",
       "            console.log([gd, 'removed!']);\n",
       "            Plotly.purge(gd);\n",
       "            observer.disconnect();\n",
       "        }}\n",
       "}});\n",
       "\n",
       "// Listen for the removal of the full notebook cells\n",
       "var notebookContainer = gd.closest('#notebook-container');\n",
       "if (notebookContainer) {{\n",
       "    x.observe(notebookContainer, {childList: true});\n",
       "}}\n",
       "\n",
       "// Listen for the clearing of the current output cell\n",
       "var outputEl = gd.closest('.output');\n",
       "if (outputEl) {{\n",
       "    x.observe(outputEl, {childList: true});\n",
       "}}\n",
       "\n",
       "                        })                };                });            </script>        </div>"
      ]
     },
     "metadata": {},
     "output_type": "display_data"
    }
   ],
   "source": [
    "df.count().iplot(kind='bar')"
   ]
  },
  {
   "cell_type": "markdown",
   "id": "a4ffcd05-6467-4b92-8752-56820d5f761c",
   "metadata": {},
   "source": [
    "## Boxplots"
   ]
  },
  {
   "cell_type": "code",
   "execution_count": 16,
   "id": "8afb43fe-cd25-4caf-96a3-09cf7d146127",
   "metadata": {},
   "outputs": [
    {
     "data": {
      "application/vnd.plotly.v1+json": {
       "config": {
        "linkText": "Export to plot.ly",
        "plotlyServerURL": "https://plot.ly",
        "showLink": true
       },
       "data": [
        {
         "boxpoints": false,
         "line": {
          "width": 1.3
         },
         "marker": {
          "color": "rgba(255, 153, 51, 1.0)"
         },
         "name": "A",
         "orientation": "v",
         "type": "box",
         "y": [
          -0.25651358813864394,
          -0.37235581545779156,
          0.5002419357099328,
          -0.11000076537614083,
          0.17778660907896845,
          0.9604613024588065,
          0.4363214349672373,
          -1.4978277774334499,
          0.8645756506604332,
          2.0630604768166827,
          0.7542953169658457,
          0.1733651976552315,
          -0.6444331066497141,
          0.3209043316114856,
          1.6785806759597626,
          -0.768276598133913,
          -0.4437501612730779,
          -0.8302809130629326,
          -1.83130407644596,
          -0.08556917211148315,
          1.2200374641662524,
          0.43085791113408056,
          0.5511804573603465,
          -0.16353621251587924,
          0.6586323285433434,
          2.3517325607956496,
          0.6635657432207783,
          1.3361398298086415,
          0.9426893152605952,
          1.202750196660914,
          -1.0802834636380134,
          0.797596295522079,
          -2.1353376820151646,
          1.0124334336311576,
          -0.6884302626219291,
          1.4330491707214221,
          -1.9814602294362633,
          -0.5674998520256744,
          -0.12726165695591024,
          0.01690501096950438,
          0.21688201182560074,
          -0.41576239315205327,
          0.8413478303973625,
          -0.27555187555264804,
          1.3849573166344866,
          0.28965860152351597,
          1.71113605486422,
          1.3624272330785494,
          -1.7151558980168338,
          0.30445679202275927,
          2.246104807570592,
          -0.8776800083011371,
          0.7496073571507749,
          -1.6513468550235542,
          0.31427315248776627,
          -0.3863141353653024,
          0.6206796324142947,
          -0.5908078632707596,
          1.4202115846069745,
          -1.036074601565162,
          -0.662212444835709,
          1.398984597964883,
          -0.6071363585980336,
          0.3667053811579149,
          -0.44598615300190175,
          0.37423381822901,
          1.9557183485437437,
          0.6600142225878292,
          -1.0684482884249031,
          0.9454672943912482,
          0.2093456680515466,
          -0.7697453176044043,
          0.6287263791329405,
          0.07310029343322011,
          0.37831957374116265,
          1.9492504875561103,
          -0.35397126610753804,
          -2.0128095375517963,
          0.4523488963290223,
          0.9199987557671497,
          -1.5511665216942072,
          -0.08518306870572716,
          1.0818223115870886,
          0.585538987032418,
          0.9805161901529916,
          -0.1720247731071831,
          -0.868606625961535,
          -2.26358287161267,
          -0.8752904139047751,
          0.2127772672894863,
          1.4109648796754914,
          -0.2239337966605875,
          0.1678150319818709,
          1.2382020014030266,
          -0.780512342018624,
          -0.3419524964976665,
          1.60124412899403,
          -1.2243186234222085,
          -0.009284479700141263,
          -0.040504622303769944
         ]
        },
        {
         "boxpoints": false,
         "line": {
          "width": 1.3
         },
         "marker": {
          "color": "rgba(55, 128, 191, 1.0)"
         },
         "name": "B",
         "orientation": "v",
         "type": "box",
         "y": [
          -0.02986067173150405,
          -2.1799531962001777,
          -0.5789093555075555,
          -0.26434333655992476,
          -2.4618284536959787,
          -0.7901403921644476,
          0.9451257286228039,
          0.7450082871813458,
          1.60857197920544,
          1.5730902365439665,
          -1.9551544660171785,
          -0.027464389901744,
          -0.7681178511940615,
          -0.004639915826817845,
          -0.44030564661417154,
          -0.3692583950171369,
          -1.0160336886291301,
          -1.3781463485673215,
          1.000589278434516,
          -0.17665477407802171,
          -1.5991067512786892,
          0.02603287124653106,
          -1.382667717669445,
          -0.6501603347811354,
          -0.491696789768064,
          -1.1197505696997012,
          0.1864545305948082,
          1.3933095281592436,
          -1.2292582923747872,
          1.2134378265696775,
          1.050807935302168,
          1.6636700003333091,
          -1.2521371769182432,
          -1.4376908538731823,
          1.9078646710548013,
          0.5392572409200751,
          -0.4075494873659262,
          0.7247154588412541,
          0.2971247849574402,
          2.1111710146999756,
          -0.11585537327132055,
          -0.22900374168186005,
          -0.3221851668739211,
          0.3982765657461531,
          0.5495004709504342,
          -0.12327604313195765,
          -1.3111841261043646,
          -1.2403296074462404,
          -1.5161925502679203,
          -0.5733980394850131,
          -0.20241035990620967,
          0.22263247666164349,
          1.369663058680841,
          -0.9133646856953234,
          -1.8124409659312697,
          -1.1107258388224654,
          -0.3427571301216928,
          0.19151614494155136,
          -0.46960384303453107,
          0.13722610539425925,
          -0.5317720123390297,
          -0.3174299589925087,
          2.425123045260628,
          -0.11569142169700684,
          -0.030427007788570996,
          -0.5735367738403896,
          0.007333424341847052,
          0.9902826111740487,
          1.1055959686423025,
          -0.9970025603825291,
          -0.25277369585452814,
          2.5213123175753536,
          -0.7071160259073414,
          -0.06466616856029736,
          0.12344557594127975,
          -0.29813438859524793,
          1.0990950460168007,
          -0.4601794141140354,
          0.5448734618952821,
          0.0016800027576676208,
          0.6911720212041327,
          -1.7856611044880513,
          -1.2775394585362982,
          -1.3056006849590482,
          -1.057648906837918,
          0.19503908471756207,
          0.6139499192349814,
          0.07335014026279132,
          -0.34543168922458883,
          0.13619752094940035,
          -0.548944960325151,
          -1.051112064124429,
          -0.25072059443028544,
          -0.7258091936414498,
          -0.23853488419716937,
          -1.0644028379374715,
          -0.34312747685653466,
          0.2876655847805023,
          -1.1120659435621976,
          1.2051869393236536
         ]
        },
        {
         "boxpoints": false,
         "line": {
          "width": 1.3
         },
         "marker": {
          "color": "rgba(50, 171, 96, 1.0)"
         },
         "name": "C",
         "orientation": "v",
         "type": "box",
         "y": [
          -0.38966192493917723,
          -1.7813843660441095,
          -1.9193483498996866,
          0.30603908104586475,
          1.1901118431272304,
          0.3020306103810205,
          0.21176433346668974,
          -0.5458308842815632,
          -0.21803537001369785,
          -1.505913546529528,
          1.1627507784104,
          0.46755066289910674,
          2.6903462341151525,
          -1.197037291955223,
          -0.9329622148665994,
          -0.4198668209818169,
          0.22837973743602738,
          0.3714868629954388,
          -0.8321609573707648,
          1.27133060905982,
          0.06340798434157047,
          0.7570282886192963,
          -0.868401924419441,
          1.2101670240064142,
          0.4175413385028892,
          -0.14901072570240553,
          0.33466406777533614,
          -0.11467336612418301,
          0.41611845547640586,
          -0.06469693175697656,
          -0.6107403084337582,
          -1.1653079393826375,
          -0.40412647925747575,
          -0.8395953602088322,
          0.4170611053625541,
          1.0463020329597337,
          -0.8970243574009541,
          0.04231685614746035,
          -0.7514043299947173,
          -0.220079773403818,
          0.28406214034930893,
          0.42539099516537165,
          0.3147322863695057,
          0.2274026391480853,
          0.29992643280159614,
          -0.751973614949727,
          1.2844414690359836,
          1.402387037538697,
          0.1574005167691417,
          -1.0095450846488814,
          -0.36269717974194093,
          0.3448706672085185,
          -0.4799764619493634,
          0.183432684162653,
          0.9795246585350526,
          0.5242094686870751,
          -0.251008910984075,
          -1.547016519486077,
          0.15420614929702792,
          1.199187022254034,
          -2.1149199623099926,
          0.3356040955726825,
          0.36985829990417046,
          1.477973872920377,
          0.05009480394779497,
          -0.692899226188453,
          0.9408587817537175,
          -1.4466868250380696,
          1.8448285301209943,
          -0.37361046080901994,
          -2.5636611054196607,
          0.9993004179624181,
          0.8605512159071496,
          -0.04544818936896232,
          -0.19764311422143213,
          0.40782911881921147,
          -1.2145943978702218,
          -0.3819946699399939,
          0.13599805180499586,
          0.14510063229809675,
          -0.4091218237607103,
          -0.14022578557864243,
          0.6851768647839728,
          0.8320687109891274,
          -0.7968523378459248,
          0.6995691542772194,
          -0.8656229944332279,
          0.05446087949522462,
          0.9356332760078716,
          1.431814851289245,
          -0.12510885367604602,
          -0.915202888079907,
          0.233585926240254,
          1.1401096698851112,
          -1.1220524666369662,
          1.113161756618276,
          -2.387993937318283,
          -1.9465645816334682,
          0.8995898884803665,
          -1.6344920825885743
         ]
        },
        {
         "boxpoints": false,
         "line": {
          "width": 1.3
         },
         "marker": {
          "color": "rgba(128, 0, 128, 1.0)"
         },
         "name": "D",
         "orientation": "v",
         "type": "box",
         "y": [
          1.3379982953184697,
          0.43596200158092563,
          -0.7631196008307619,
          -0.5679030707716345,
          -0.7872850061470617,
          0.41138033506195215,
          -0.15067850685396827,
          0.25791067763325554,
          0.6436235039149962,
          1.3236997987644707,
          -1.0171427376393085,
          0.8395721802900593,
          0.9490113918092095,
          -0.33861351286101615,
          -0.594140068374357,
          -1.0862685764055808,
          0.6381921060261312,
          -2.025285230217843,
          0.9453300039966772,
          1.2728153098249027,
          0.5454040914311109,
          -0.08584535182158513,
          0.20393438397452654,
          -0.8090202634016018,
          0.8892665001357477,
          0.13874951031877247,
          0.2607263225769835,
          -0.5980763442522491,
          -0.292536794369674,
          0.9668060165596394,
          -0.1214207591398322,
          -0.7313225037183346,
          -0.7940830622872195,
          0.10368083002132215,
          1.2072686896833953,
          0.6946900116706878,
          -0.6902393233133621,
          -1.6518050704457372,
          0.19980976340380366,
          1.9460179998888243,
          -0.531796166254378,
          -0.7484486735942585,
          0.1796230290171249,
          -0.286221396993404,
          -0.4898088756101573,
          0.10977459198301838,
          -1.0353323426199479,
          0.9995925658791721,
          1.899663190487716,
          -0.7106904282195735,
          -0.0739470377571122,
          -0.9565850084701643,
          -0.5273134603892076,
          -0.4626906500410658,
          1.0055383578188615,
          -1.056222119469628,
          -0.23873414087916872,
          0.6183700330855165,
          -0.371115375582888,
          0.6517795470485221,
          -0.7342879734317916,
          0.30195081469517454,
          1.2753618601770222,
          0.5319775667908635,
          -0.265106098283388,
          -0.2590386757596041,
          -0.41812835998089326,
          -0.7373047577180892,
          -1.1463764893859034,
          -0.04918041107819704,
          -0.48119237400654424,
          0.3628454100539982,
          0.7323906197761266,
          -0.6052580679327753,
          -1.3764492966375457,
          -2.2092031779808847,
          0.2933615309237955,
          -0.8875861214690169,
          3.230135103934922,
          0.5968978982094048,
          -1.3016692630358448,
          0.9007075990241182,
          -1.6969277990854619,
          -0.02781487685981458,
          -2.221881887522703,
          0.8371433357860195,
          0.7619266355077301,
          0.8131780006414743,
          -0.0110069029306748,
          1.4458510984193944,
          -1.454041085151003,
          -1.103029793341637,
          2.134675461219435,
          0.4044164555511809,
          0.4091331114985936,
          0.4082425298040662,
          -0.3450957859769514,
          -0.8017624852347573,
          0.5064400505980814,
          1.6632076561950764
         ]
        }
       ],
       "layout": {
        "autosize": true,
        "legend": {
         "bgcolor": "#F5F6F9",
         "font": {
          "color": "#4D5663"
         }
        },
        "paper_bgcolor": "#F5F6F9",
        "plot_bgcolor": "#F5F6F9",
        "template": {
         "data": {
          "bar": [
           {
            "error_x": {
             "color": "#2a3f5f"
            },
            "error_y": {
             "color": "#2a3f5f"
            },
            "marker": {
             "line": {
              "color": "#E5ECF6",
              "width": 0.5
             },
             "pattern": {
              "fillmode": "overlay",
              "size": 10,
              "solidity": 0.2
             }
            },
            "type": "bar"
           }
          ],
          "barpolar": [
           {
            "marker": {
             "line": {
              "color": "#E5ECF6",
              "width": 0.5
             },
             "pattern": {
              "fillmode": "overlay",
              "size": 10,
              "solidity": 0.2
             }
            },
            "type": "barpolar"
           }
          ],
          "carpet": [
           {
            "aaxis": {
             "endlinecolor": "#2a3f5f",
             "gridcolor": "white",
             "linecolor": "white",
             "minorgridcolor": "white",
             "startlinecolor": "#2a3f5f"
            },
            "baxis": {
             "endlinecolor": "#2a3f5f",
             "gridcolor": "white",
             "linecolor": "white",
             "minorgridcolor": "white",
             "startlinecolor": "#2a3f5f"
            },
            "type": "carpet"
           }
          ],
          "choropleth": [
           {
            "colorbar": {
             "outlinewidth": 0,
             "ticks": ""
            },
            "type": "choropleth"
           }
          ],
          "contour": [
           {
            "colorbar": {
             "outlinewidth": 0,
             "ticks": ""
            },
            "colorscale": [
             [
              0,
              "#0d0887"
             ],
             [
              0.1111111111111111,
              "#46039f"
             ],
             [
              0.2222222222222222,
              "#7201a8"
             ],
             [
              0.3333333333333333,
              "#9c179e"
             ],
             [
              0.4444444444444444,
              "#bd3786"
             ],
             [
              0.5555555555555556,
              "#d8576b"
             ],
             [
              0.6666666666666666,
              "#ed7953"
             ],
             [
              0.7777777777777778,
              "#fb9f3a"
             ],
             [
              0.8888888888888888,
              "#fdca26"
             ],
             [
              1,
              "#f0f921"
             ]
            ],
            "type": "contour"
           }
          ],
          "contourcarpet": [
           {
            "colorbar": {
             "outlinewidth": 0,
             "ticks": ""
            },
            "type": "contourcarpet"
           }
          ],
          "heatmap": [
           {
            "colorbar": {
             "outlinewidth": 0,
             "ticks": ""
            },
            "colorscale": [
             [
              0,
              "#0d0887"
             ],
             [
              0.1111111111111111,
              "#46039f"
             ],
             [
              0.2222222222222222,
              "#7201a8"
             ],
             [
              0.3333333333333333,
              "#9c179e"
             ],
             [
              0.4444444444444444,
              "#bd3786"
             ],
             [
              0.5555555555555556,
              "#d8576b"
             ],
             [
              0.6666666666666666,
              "#ed7953"
             ],
             [
              0.7777777777777778,
              "#fb9f3a"
             ],
             [
              0.8888888888888888,
              "#fdca26"
             ],
             [
              1,
              "#f0f921"
             ]
            ],
            "type": "heatmap"
           }
          ],
          "heatmapgl": [
           {
            "colorbar": {
             "outlinewidth": 0,
             "ticks": ""
            },
            "colorscale": [
             [
              0,
              "#0d0887"
             ],
             [
              0.1111111111111111,
              "#46039f"
             ],
             [
              0.2222222222222222,
              "#7201a8"
             ],
             [
              0.3333333333333333,
              "#9c179e"
             ],
             [
              0.4444444444444444,
              "#bd3786"
             ],
             [
              0.5555555555555556,
              "#d8576b"
             ],
             [
              0.6666666666666666,
              "#ed7953"
             ],
             [
              0.7777777777777778,
              "#fb9f3a"
             ],
             [
              0.8888888888888888,
              "#fdca26"
             ],
             [
              1,
              "#f0f921"
             ]
            ],
            "type": "heatmapgl"
           }
          ],
          "histogram": [
           {
            "marker": {
             "pattern": {
              "fillmode": "overlay",
              "size": 10,
              "solidity": 0.2
             }
            },
            "type": "histogram"
           }
          ],
          "histogram2d": [
           {
            "colorbar": {
             "outlinewidth": 0,
             "ticks": ""
            },
            "colorscale": [
             [
              0,
              "#0d0887"
             ],
             [
              0.1111111111111111,
              "#46039f"
             ],
             [
              0.2222222222222222,
              "#7201a8"
             ],
             [
              0.3333333333333333,
              "#9c179e"
             ],
             [
              0.4444444444444444,
              "#bd3786"
             ],
             [
              0.5555555555555556,
              "#d8576b"
             ],
             [
              0.6666666666666666,
              "#ed7953"
             ],
             [
              0.7777777777777778,
              "#fb9f3a"
             ],
             [
              0.8888888888888888,
              "#fdca26"
             ],
             [
              1,
              "#f0f921"
             ]
            ],
            "type": "histogram2d"
           }
          ],
          "histogram2dcontour": [
           {
            "colorbar": {
             "outlinewidth": 0,
             "ticks": ""
            },
            "colorscale": [
             [
              0,
              "#0d0887"
             ],
             [
              0.1111111111111111,
              "#46039f"
             ],
             [
              0.2222222222222222,
              "#7201a8"
             ],
             [
              0.3333333333333333,
              "#9c179e"
             ],
             [
              0.4444444444444444,
              "#bd3786"
             ],
             [
              0.5555555555555556,
              "#d8576b"
             ],
             [
              0.6666666666666666,
              "#ed7953"
             ],
             [
              0.7777777777777778,
              "#fb9f3a"
             ],
             [
              0.8888888888888888,
              "#fdca26"
             ],
             [
              1,
              "#f0f921"
             ]
            ],
            "type": "histogram2dcontour"
           }
          ],
          "mesh3d": [
           {
            "colorbar": {
             "outlinewidth": 0,
             "ticks": ""
            },
            "type": "mesh3d"
           }
          ],
          "parcoords": [
           {
            "line": {
             "colorbar": {
              "outlinewidth": 0,
              "ticks": ""
             }
            },
            "type": "parcoords"
           }
          ],
          "pie": [
           {
            "automargin": true,
            "type": "pie"
           }
          ],
          "scatter": [
           {
            "fillpattern": {
             "fillmode": "overlay",
             "size": 10,
             "solidity": 0.2
            },
            "type": "scatter"
           }
          ],
          "scatter3d": [
           {
            "line": {
             "colorbar": {
              "outlinewidth": 0,
              "ticks": ""
             }
            },
            "marker": {
             "colorbar": {
              "outlinewidth": 0,
              "ticks": ""
             }
            },
            "type": "scatter3d"
           }
          ],
          "scattercarpet": [
           {
            "marker": {
             "colorbar": {
              "outlinewidth": 0,
              "ticks": ""
             }
            },
            "type": "scattercarpet"
           }
          ],
          "scattergeo": [
           {
            "marker": {
             "colorbar": {
              "outlinewidth": 0,
              "ticks": ""
             }
            },
            "type": "scattergeo"
           }
          ],
          "scattergl": [
           {
            "marker": {
             "colorbar": {
              "outlinewidth": 0,
              "ticks": ""
             }
            },
            "type": "scattergl"
           }
          ],
          "scattermapbox": [
           {
            "marker": {
             "colorbar": {
              "outlinewidth": 0,
              "ticks": ""
             }
            },
            "type": "scattermapbox"
           }
          ],
          "scatterpolar": [
           {
            "marker": {
             "colorbar": {
              "outlinewidth": 0,
              "ticks": ""
             }
            },
            "type": "scatterpolar"
           }
          ],
          "scatterpolargl": [
           {
            "marker": {
             "colorbar": {
              "outlinewidth": 0,
              "ticks": ""
             }
            },
            "type": "scatterpolargl"
           }
          ],
          "scatterternary": [
           {
            "marker": {
             "colorbar": {
              "outlinewidth": 0,
              "ticks": ""
             }
            },
            "type": "scatterternary"
           }
          ],
          "surface": [
           {
            "colorbar": {
             "outlinewidth": 0,
             "ticks": ""
            },
            "colorscale": [
             [
              0,
              "#0d0887"
             ],
             [
              0.1111111111111111,
              "#46039f"
             ],
             [
              0.2222222222222222,
              "#7201a8"
             ],
             [
              0.3333333333333333,
              "#9c179e"
             ],
             [
              0.4444444444444444,
              "#bd3786"
             ],
             [
              0.5555555555555556,
              "#d8576b"
             ],
             [
              0.6666666666666666,
              "#ed7953"
             ],
             [
              0.7777777777777778,
              "#fb9f3a"
             ],
             [
              0.8888888888888888,
              "#fdca26"
             ],
             [
              1,
              "#f0f921"
             ]
            ],
            "type": "surface"
           }
          ],
          "table": [
           {
            "cells": {
             "fill": {
              "color": "#EBF0F8"
             },
             "line": {
              "color": "white"
             }
            },
            "header": {
             "fill": {
              "color": "#C8D4E3"
             },
             "line": {
              "color": "white"
             }
            },
            "type": "table"
           }
          ]
         },
         "layout": {
          "annotationdefaults": {
           "arrowcolor": "#2a3f5f",
           "arrowhead": 0,
           "arrowwidth": 1
          },
          "autotypenumbers": "strict",
          "coloraxis": {
           "colorbar": {
            "outlinewidth": 0,
            "ticks": ""
           }
          },
          "colorscale": {
           "diverging": [
            [
             0,
             "#8e0152"
            ],
            [
             0.1,
             "#c51b7d"
            ],
            [
             0.2,
             "#de77ae"
            ],
            [
             0.3,
             "#f1b6da"
            ],
            [
             0.4,
             "#fde0ef"
            ],
            [
             0.5,
             "#f7f7f7"
            ],
            [
             0.6,
             "#e6f5d0"
            ],
            [
             0.7,
             "#b8e186"
            ],
            [
             0.8,
             "#7fbc41"
            ],
            [
             0.9,
             "#4d9221"
            ],
            [
             1,
             "#276419"
            ]
           ],
           "sequential": [
            [
             0,
             "#0d0887"
            ],
            [
             0.1111111111111111,
             "#46039f"
            ],
            [
             0.2222222222222222,
             "#7201a8"
            ],
            [
             0.3333333333333333,
             "#9c179e"
            ],
            [
             0.4444444444444444,
             "#bd3786"
            ],
            [
             0.5555555555555556,
             "#d8576b"
            ],
            [
             0.6666666666666666,
             "#ed7953"
            ],
            [
             0.7777777777777778,
             "#fb9f3a"
            ],
            [
             0.8888888888888888,
             "#fdca26"
            ],
            [
             1,
             "#f0f921"
            ]
           ],
           "sequentialminus": [
            [
             0,
             "#0d0887"
            ],
            [
             0.1111111111111111,
             "#46039f"
            ],
            [
             0.2222222222222222,
             "#7201a8"
            ],
            [
             0.3333333333333333,
             "#9c179e"
            ],
            [
             0.4444444444444444,
             "#bd3786"
            ],
            [
             0.5555555555555556,
             "#d8576b"
            ],
            [
             0.6666666666666666,
             "#ed7953"
            ],
            [
             0.7777777777777778,
             "#fb9f3a"
            ],
            [
             0.8888888888888888,
             "#fdca26"
            ],
            [
             1,
             "#f0f921"
            ]
           ]
          },
          "colorway": [
           "#636efa",
           "#EF553B",
           "#00cc96",
           "#ab63fa",
           "#FFA15A",
           "#19d3f3",
           "#FF6692",
           "#B6E880",
           "#FF97FF",
           "#FECB52"
          ],
          "font": {
           "color": "#2a3f5f"
          },
          "geo": {
           "bgcolor": "white",
           "lakecolor": "white",
           "landcolor": "#E5ECF6",
           "showlakes": true,
           "showland": true,
           "subunitcolor": "white"
          },
          "hoverlabel": {
           "align": "left"
          },
          "hovermode": "closest",
          "mapbox": {
           "style": "light"
          },
          "paper_bgcolor": "white",
          "plot_bgcolor": "#E5ECF6",
          "polar": {
           "angularaxis": {
            "gridcolor": "white",
            "linecolor": "white",
            "ticks": ""
           },
           "bgcolor": "#E5ECF6",
           "radialaxis": {
            "gridcolor": "white",
            "linecolor": "white",
            "ticks": ""
           }
          },
          "scene": {
           "xaxis": {
            "backgroundcolor": "#E5ECF6",
            "gridcolor": "white",
            "gridwidth": 2,
            "linecolor": "white",
            "showbackground": true,
            "ticks": "",
            "zerolinecolor": "white"
           },
           "yaxis": {
            "backgroundcolor": "#E5ECF6",
            "gridcolor": "white",
            "gridwidth": 2,
            "linecolor": "white",
            "showbackground": true,
            "ticks": "",
            "zerolinecolor": "white"
           },
           "zaxis": {
            "backgroundcolor": "#E5ECF6",
            "gridcolor": "white",
            "gridwidth": 2,
            "linecolor": "white",
            "showbackground": true,
            "ticks": "",
            "zerolinecolor": "white"
           }
          },
          "shapedefaults": {
           "line": {
            "color": "#2a3f5f"
           }
          },
          "ternary": {
           "aaxis": {
            "gridcolor": "white",
            "linecolor": "white",
            "ticks": ""
           },
           "baxis": {
            "gridcolor": "white",
            "linecolor": "white",
            "ticks": ""
           },
           "bgcolor": "#E5ECF6",
           "caxis": {
            "gridcolor": "white",
            "linecolor": "white",
            "ticks": ""
           }
          },
          "title": {
           "x": 0.05
          },
          "xaxis": {
           "automargin": true,
           "gridcolor": "white",
           "linecolor": "white",
           "ticks": "",
           "title": {
            "standoff": 15
           },
           "zerolinecolor": "white",
           "zerolinewidth": 2
          },
          "yaxis": {
           "automargin": true,
           "gridcolor": "white",
           "linecolor": "white",
           "ticks": "",
           "title": {
            "standoff": 15
           },
           "zerolinecolor": "white",
           "zerolinewidth": 2
          }
         }
        },
        "title": {
         "font": {
          "color": "#4D5663"
         }
        },
        "xaxis": {
         "autorange": true,
         "gridcolor": "#E1E5ED",
         "range": [
          -0.5,
          3.5
         ],
         "showgrid": true,
         "tickfont": {
          "color": "#4D5663"
         },
         "title": {
          "font": {
           "color": "#4D5663"
          },
          "text": ""
         },
         "type": "category",
         "zerolinecolor": "#E1E5ED"
        },
        "yaxis": {
         "autorange": true,
         "gridcolor": "#E1E5ED",
         "range": [
          -2.8855386726060264,
          3.552012671121288
         ],
         "showgrid": true,
         "tickfont": {
          "color": "#4D5663"
         },
         "title": {
          "font": {
           "color": "#4D5663"
          },
          "text": ""
         },
         "type": "linear",
         "zerolinecolor": "#E1E5ED"
        }
       }
      },
      "image/png": "[encoded data removed]",
      "text/html": [
       "<div>                            <div id=\"1bee890b-820f-483c-9915-c83e060b3002\" class=\"plotly-graph-div\" style=\"height:525px; width:100%;\"></div>            <script type=\"text/javascript\">                require([\"plotly\"], function(Plotly) {                    window.PLOTLYENV=window.PLOTLYENV || {};\n",
       "                    window.PLOTLYENV.BASE_URL='https://plot.ly';                                    if (document.getElementById(\"1bee890b-820f-483c-9915-c83e060b3002\")) {                    Plotly.newPlot(                        \"1bee890b-820f-483c-9915-c83e060b3002\",                        [{\"boxpoints\":false,\"line\":{\"width\":1.3},\"marker\":{\"color\":\"rgba(255, 153, 51, 1.0)\"},\"name\":\"A\",\"orientation\":\"v\",\"y\":[-0.25651358813864394,-0.37235581545779156,0.5002419357099328,-0.11000076537614083,0.17778660907896845,0.9604613024588065,0.4363214349672373,-1.4978277774334499,0.8645756506604332,2.0630604768166827,0.7542953169658457,0.1733651976552315,-0.6444331066497141,0.3209043316114856,1.6785806759597626,-0.768276598133913,-0.4437501612730779,-0.8302809130629326,-1.83130407644596,-0.08556917211148315,1.2200374641662524,0.43085791113408056,0.5511804573603465,-0.16353621251587924,0.6586323285433434,2.3517325607956496,0.6635657432207783,1.3361398298086415,0.9426893152605952,1.202750196660914,-1.0802834636380134,0.797596295522079,-2.1353376820151646,1.0124334336311576,-0.6884302626219291,1.4330491707214221,-1.9814602294362633,-0.5674998520256744,-0.12726165695591024,0.01690501096950438,0.21688201182560074,-0.41576239315205327,0.8413478303973625,-0.27555187555264804,1.3849573166344866,0.28965860152351597,1.71113605486422,1.3624272330785494,-1.7151558980168338,0.30445679202275927,2.246104807570592,-0.8776800083011371,0.7496073571507749,-1.6513468550235542,0.31427315248776627,-0.3863141353653024,0.6206796324142947,-0.5908078632707596,1.4202115846069745,-1.036074601565162,-0.662212444835709,1.398984597964883,-0.6071363585980336,0.3667053811579149,-0.44598615300190175,0.37423381822901,1.9557183485437437,0.6600142225878292,-1.0684482884249031,0.9454672943912482,0.2093456680515466,-0.7697453176044043,0.6287263791329405,0.07310029343322011,0.37831957374116265,1.9492504875561103,-0.35397126610753804,-2.0128095375517963,0.4523488963290223,0.9199987557671497,-1.5511665216942072,-0.08518306870572716,1.0818223115870886,0.585538987032418,0.9805161901529916,-0.1720247731071831,-0.868606625961535,-2.26358287161267,-0.8752904139047751,0.2127772672894863,1.4109648796754914,-0.2239337966605875,0.1678150319818709,1.2382020014030266,-0.780512342018624,-0.3419524964976665,1.60124412899403,-1.2243186234222085,-0.009284479700141263,-0.040504622303769944],\"type\":\"box\"},{\"boxpoints\":false,\"line\":{\"width\":1.3},\"marker\":{\"color\":\"rgba(55, 128, 191, 1.0)\"},\"name\":\"B\",\"orientation\":\"v\",\"y\":[-0.02986067173150405,-2.1799531962001777,-0.5789093555075555,-0.26434333655992476,-2.4618284536959787,-0.7901403921644476,0.9451257286228039,0.7450082871813458,1.60857197920544,1.5730902365439665,-1.9551544660171785,-0.027464389901744,-0.7681178511940615,-0.004639915826817845,-0.44030564661417154,-0.3692583950171369,-1.0160336886291301,-1.3781463485673215,1.000589278434516,-0.17665477407802171,-1.5991067512786892,0.02603287124653106,-1.382667717669445,-0.6501603347811354,-0.491696789768064,-1.1197505696997012,0.1864545305948082,1.3933095281592436,-1.2292582923747872,1.2134378265696775,1.050807935302168,1.6636700003333091,-1.2521371769182432,-1.4376908538731823,1.9078646710548013,0.5392572409200751,-0.4075494873659262,0.7247154588412541,0.2971247849574402,2.1111710146999756,-0.11585537327132055,-0.22900374168186005,-0.3221851668739211,0.3982765657461531,0.5495004709504342,-0.12327604313195765,-1.3111841261043646,-1.2403296074462404,-1.5161925502679203,-0.5733980394850131,-0.20241035990620967,0.22263247666164349,1.369663058680841,-0.9133646856953234,-1.8124409659312697,-1.1107258388224654,-0.3427571301216928,0.19151614494155136,-0.46960384303453107,0.13722610539425925,-0.5317720123390297,-0.3174299589925087,2.425123045260628,-0.11569142169700684,-0.030427007788570996,-0.5735367738403896,0.007333424341847052,0.9902826111740487,1.1055959686423025,-0.9970025603825291,-0.25277369585452814,2.5213123175753536,-0.7071160259073414,-0.06466616856029736,0.12344557594127975,-0.29813438859524793,1.0990950460168007,-0.4601794141140354,0.5448734618952821,0.0016800027576676208,0.6911720212041327,-1.7856611044880513,-1.2775394585362982,-1.3056006849590482,-1.057648906837918,0.19503908471756207,0.6139499192349814,0.07335014026279132,-0.34543168922458883,0.13619752094940035,-0.548944960325151,-1.051112064124429,-0.25072059443028544,-0.7258091936414498,-0.23853488419716937,-1.0644028379374715,-0.34312747685653466,0.2876655847805023,-1.1120659435621976,1.2051869393236536],\"type\":\"box\"},{\"boxpoints\":false,\"line\":{\"width\":1.3},\"marker\":{\"color\":\"rgba(50, 171, 96, 1.0)\"},\"name\":\"C\",\"orientation\":\"v\",\"y\":[-0.38966192493917723,-1.7813843660441095,-1.9193483498996866,0.30603908104586475,1.1901118431272304,0.3020306103810205,0.21176433346668974,-0.5458308842815632,-0.21803537001369785,-1.505913546529528,1.1627507784104,0.46755066289910674,2.6903462341151525,-1.197037291955223,-0.9329622148665994,-0.4198668209818169,0.22837973743602738,0.3714868629954388,-0.8321609573707648,1.27133060905982,0.06340798434157047,0.7570282886192963,-0.868401924419441,1.2101670240064142,0.4175413385028892,-0.14901072570240553,0.33466406777533614,-0.11467336612418301,0.41611845547640586,-0.06469693175697656,-0.6107403084337582,-1.1653079393826375,-0.40412647925747575,-0.8395953602088322,0.4170611053625541,1.0463020329597337,-0.8970243574009541,0.04231685614746035,-0.7514043299947173,-0.220079773403818,0.28406214034930893,0.42539099516537165,0.3147322863695057,0.2274026391480853,0.29992643280159614,-0.751973614949727,1.2844414690359836,1.402387037538697,0.1574005167691417,-1.0095450846488814,-0.36269717974194093,0.3448706672085185,-0.4799764619493634,0.183432684162653,0.9795246585350526,0.5242094686870751,-0.251008910984075,-1.547016519486077,0.15420614929702792,1.199187022254034,-2.1149199623099926,0.3356040955726825,0.36985829990417046,1.477973872920377,0.05009480394779497,-0.692899226188453,0.9408587817537175,-1.4466868250380696,1.8448285301209943,-0.37361046080901994,-2.5636611054196607,0.9993004179624181,0.8605512159071496,-0.04544818936896232,-0.19764311422143213,0.40782911881921147,-1.2145943978702218,-0.3819946699399939,0.13599805180499586,0.14510063229809675,-0.4091218237607103,-0.14022578557864243,0.6851768647839728,0.8320687109891274,-0.7968523378459248,0.6995691542772194,-0.8656229944332279,0.05446087949522462,0.9356332760078716,1.431814851289245,-0.12510885367604602,-0.915202888079907,0.233585926240254,1.1401096698851112,-1.1220524666369662,1.113161756618276,-2.387993937318283,-1.9465645816334682,0.8995898884803665,-1.6344920825885743],\"type\":\"box\"},{\"boxpoints\":false,\"line\":{\"width\":1.3},\"marker\":{\"color\":\"rgba(128, 0, 128, 1.0)\"},\"name\":\"D\",\"orientation\":\"v\",\"y\":[1.3379982953184697,0.43596200158092563,-0.7631196008307619,-0.5679030707716345,-0.7872850061470617,0.41138033506195215,-0.15067850685396827,0.25791067763325554,0.6436235039149962,1.3236997987644707,-1.0171427376393085,0.8395721802900593,0.9490113918092095,-0.33861351286101615,-0.594140068374357,-1.0862685764055808,0.6381921060261312,-2.025285230217843,0.9453300039966772,1.2728153098249027,0.5454040914311109,-0.08584535182158513,0.20393438397452654,-0.8090202634016018,0.8892665001357477,0.13874951031877247,0.2607263225769835,-0.5980763442522491,-0.292536794369674,0.9668060165596394,-0.1214207591398322,-0.7313225037183346,-0.7940830622872195,0.10368083002132215,1.2072686896833953,0.6946900116706878,-0.6902393233133621,-1.6518050704457372,0.19980976340380366,1.9460179998888243,-0.531796166254378,-0.7484486735942585,0.1796230290171249,-0.286221396993404,-0.4898088756101573,0.10977459198301838,-1.0353323426199479,0.9995925658791721,1.899663190487716,-0.7106904282195735,-0.0739470377571122,-0.9565850084701643,-0.5273134603892076,-0.4626906500410658,1.0055383578188615,-1.056222119469628,-0.23873414087916872,0.6183700330855165,-0.371115375582888,0.6517795470485221,-0.7342879734317916,0.30195081469517454,1.2753618601770222,0.5319775667908635,-0.265106098283388,-0.2590386757596041,-0.41812835998089326,-0.7373047577180892,-1.1463764893859034,-0.04918041107819704,-0.48119237400654424,0.3628454100539982,0.7323906197761266,-0.6052580679327753,-1.3764492966375457,-2.2092031779808847,0.2933615309237955,-0.8875861214690169,3.230135103934922,0.5968978982094048,-1.3016692630358448,0.9007075990241182,-1.6969277990854619,-0.02781487685981458,-2.221881887522703,0.8371433357860195,0.7619266355077301,0.8131780006414743,-0.0110069029306748,1.4458510984193944,-1.454041085151003,-1.103029793341637,2.134675461219435,0.4044164555511809,0.4091331114985936,0.4082425298040662,-0.3450957859769514,-0.8017624852347573,0.5064400505980814,1.6632076561950764],\"type\":\"box\"}],                        {\"legend\":{\"bgcolor\":\"#F5F6F9\",\"font\":{\"color\":\"#4D5663\"}},\"paper_bgcolor\":\"#F5F6F9\",\"plot_bgcolor\":\"#F5F6F9\",\"template\":{\"data\":{\"barpolar\":[{\"marker\":{\"line\":{\"color\":\"#E5ECF6\",\"width\":0.5},\"pattern\":{\"fillmode\":\"overlay\",\"size\":10,\"solidity\":0.2}},\"type\":\"barpolar\"}],\"bar\":[{\"error_x\":{\"color\":\"#2a3f5f\"},\"error_y\":{\"color\":\"#2a3f5f\"},\"marker\":{\"line\":{\"color\":\"#E5ECF6\",\"width\":0.5},\"pattern\":{\"fillmode\":\"overlay\",\"size\":10,\"solidity\":0.2}},\"type\":\"bar\"}],\"carpet\":[{\"aaxis\":{\"endlinecolor\":\"#2a3f5f\",\"gridcolor\":\"white\",\"linecolor\":\"white\",\"minorgridcolor\":\"white\",\"startlinecolor\":\"#2a3f5f\"},\"baxis\":{\"endlinecolor\":\"#2a3f5f\",\"gridcolor\":\"white\",\"linecolor\":\"white\",\"minorgridcolor\":\"white\",\"startlinecolor\":\"#2a3f5f\"},\"type\":\"carpet\"}],\"choropleth\":[{\"colorbar\":{\"outlinewidth\":0,\"ticks\":\"\"},\"type\":\"choropleth\"}],\"contourcarpet\":[{\"colorbar\":{\"outlinewidth\":0,\"ticks\":\"\"},\"type\":\"contourcarpet\"}],\"contour\":[{\"colorbar\":{\"outlinewidth\":0,\"ticks\":\"\"},\"colorscale\":[[0.0,\"#0d0887\"],[0.1111111111111111,\"#46039f\"],[0.2222222222222222,\"#7201a8\"],[0.3333333333333333,\"#9c179e\"],[0.4444444444444444,\"#bd3786\"],[0.5555555555555556,\"#d8576b\"],[0.6666666666666666,\"#ed7953\"],[0.7777777777777778,\"#fb9f3a\"],[0.8888888888888888,\"#fdca26\"],[1.0,\"#f0f921\"]],\"type\":\"contour\"}],\"heatmapgl\":[{\"colorbar\":{\"outlinewidth\":0,\"ticks\":\"\"},\"colorscale\":[[0.0,\"#0d0887\"],[0.1111111111111111,\"#46039f\"],[0.2222222222222222,\"#7201a8\"],[0.3333333333333333,\"#9c179e\"],[0.4444444444444444,\"#bd3786\"],[0.5555555555555556,\"#d8576b\"],[0.6666666666666666,\"#ed7953\"],[0.7777777777777778,\"#fb9f3a\"],[0.8888888888888888,\"#fdca26\"],[1.0,\"#f0f921\"]],\"type\":\"heatmapgl\"}],\"heatmap\":[{\"colorbar\":{\"outlinewidth\":0,\"ticks\":\"\"},\"colorscale\":[[0.0,\"#0d0887\"],[0.1111111111111111,\"#46039f\"],[0.2222222222222222,\"#7201a8\"],[0.3333333333333333,\"#9c179e\"],[0.4444444444444444,\"#bd3786\"],[0.5555555555555556,\"#d8576b\"],[0.6666666666666666,\"#ed7953\"],[0.7777777777777778,\"#fb9f3a\"],[0.8888888888888888,\"#fdca26\"],[1.0,\"#f0f921\"]],\"type\":\"heatmap\"}],\"histogram2dcontour\":[{\"colorbar\":{\"outlinewidth\":0,\"ticks\":\"\"},\"colorscale\":[[0.0,\"#0d0887\"],[0.1111111111111111,\"#46039f\"],[0.2222222222222222,\"#7201a8\"],[0.3333333333333333,\"#9c179e\"],[0.4444444444444444,\"#bd3786\"],[0.5555555555555556,\"#d8576b\"],[0.6666666666666666,\"#ed7953\"],[0.7777777777777778,\"#fb9f3a\"],[0.8888888888888888,\"#fdca26\"],[1.0,\"#f0f921\"]],\"type\":\"histogram2dcontour\"}],\"histogram2d\":[{\"colorbar\":{\"outlinewidth\":0,\"ticks\":\"\"},\"colorscale\":[[0.0,\"#0d0887\"],[0.1111111111111111,\"#46039f\"],[0.2222222222222222,\"#7201a8\"],[0.3333333333333333,\"#9c179e\"],[0.4444444444444444,\"#bd3786\"],[0.5555555555555556,\"#d8576b\"],[0.6666666666666666,\"#ed7953\"],[0.7777777777777778,\"#fb9f3a\"],[0.8888888888888888,\"#fdca26\"],[1.0,\"#f0f921\"]],\"type\":\"histogram2d\"}],\"histogram\":[{\"marker\":{\"pattern\":{\"fillmode\":\"overlay\",\"size\":10,\"solidity\":0.2}},\"type\":\"histogram\"}],\"mesh3d\":[{\"colorbar\":{\"outlinewidth\":0,\"ticks\":\"\"},\"type\":\"mesh3d\"}],\"parcoords\":[{\"line\":{\"colorbar\":{\"outlinewidth\":0,\"ticks\":\"\"}},\"type\":\"parcoords\"}],\"pie\":[{\"automargin\":true,\"type\":\"pie\"}],\"scatter3d\":[{\"line\":{\"colorbar\":{\"outlinewidth\":0,\"ticks\":\"\"}},\"marker\":{\"colorbar\":{\"outlinewidth\":0,\"ticks\":\"\"}},\"type\":\"scatter3d\"}],\"scattercarpet\":[{\"marker\":{\"colorbar\":{\"outlinewidth\":0,\"ticks\":\"\"}},\"type\":\"scattercarpet\"}],\"scattergeo\":[{\"marker\":{\"colorbar\":{\"outlinewidth\":0,\"ticks\":\"\"}},\"type\":\"scattergeo\"}],\"scattergl\":[{\"marker\":{\"colorbar\":{\"outlinewidth\":0,\"ticks\":\"\"}},\"type\":\"scattergl\"}],\"scattermapbox\":[{\"marker\":{\"colorbar\":{\"outlinewidth\":0,\"ticks\":\"\"}},\"type\":\"scattermapbox\"}],\"scatterpolargl\":[{\"marker\":{\"colorbar\":{\"outlinewidth\":0,\"ticks\":\"\"}},\"type\":\"scatterpolargl\"}],\"scatterpolar\":[{\"marker\":{\"colorbar\":{\"outlinewidth\":0,\"ticks\":\"\"}},\"type\":\"scatterpolar\"}],\"scatter\":[{\"fillpattern\":{\"fillmode\":\"overlay\",\"size\":10,\"solidity\":0.2},\"type\":\"scatter\"}],\"scatterternary\":[{\"marker\":{\"colorbar\":{\"outlinewidth\":0,\"ticks\":\"\"}},\"type\":\"scatterternary\"}],\"surface\":[{\"colorbar\":{\"outlinewidth\":0,\"ticks\":\"\"},\"colorscale\":[[0.0,\"#0d0887\"],[0.1111111111111111,\"#46039f\"],[0.2222222222222222,\"#7201a8\"],[0.3333333333333333,\"#9c179e\"],[0.4444444444444444,\"#bd3786\"],[0.5555555555555556,\"#d8576b\"],[0.6666666666666666,\"#ed7953\"],[0.7777777777777778,\"#fb9f3a\"],[0.8888888888888888,\"#fdca26\"],[1.0,\"#f0f921\"]],\"type\":\"surface\"}],\"table\":[{\"cells\":{\"fill\":{\"color\":\"#EBF0F8\"},\"line\":{\"color\":\"white\"}},\"header\":{\"fill\":{\"color\":\"#C8D4E3\"},\"line\":{\"color\":\"white\"}},\"type\":\"table\"}]},\"layout\":{\"annotationdefaults\":{\"arrowcolor\":\"#2a3f5f\",\"arrowhead\":0,\"arrowwidth\":1},\"autotypenumbers\":\"strict\",\"coloraxis\":{\"colorbar\":{\"outlinewidth\":0,\"ticks\":\"\"}},\"colorscale\":{\"diverging\":[[0,\"#8e0152\"],[0.1,\"#c51b7d\"],[0.2,\"#de77ae\"],[0.3,\"#f1b6da\"],[0.4,\"#fde0ef\"],[0.5,\"#f7f7f7\"],[0.6,\"#e6f5d0\"],[0.7,\"#b8e186\"],[0.8,\"#7fbc41\"],[0.9,\"#4d9221\"],[1,\"#276419\"]],\"sequential\":[[0.0,\"#0d0887\"],[0.1111111111111111,\"#46039f\"],[0.2222222222222222,\"#7201a8\"],[0.3333333333333333,\"#9c179e\"],[0.4444444444444444,\"#bd3786\"],[0.5555555555555556,\"#d8576b\"],[0.6666666666666666,\"#ed7953\"],[0.7777777777777778,\"#fb9f3a\"],[0.8888888888888888,\"#fdca26\"],[1.0,\"#f0f921\"]],\"sequentialminus\":[[0.0,\"#0d0887\"],[0.1111111111111111,\"#46039f\"],[0.2222222222222222,\"#7201a8\"],[0.3333333333333333,\"#9c179e\"],[0.4444444444444444,\"#bd3786\"],[0.5555555555555556,\"#d8576b\"],[0.6666666666666666,\"#ed7953\"],[0.7777777777777778,\"#fb9f3a\"],[0.8888888888888888,\"#fdca26\"],[1.0,\"#f0f921\"]]},\"colorway\":[\"#636efa\",\"#EF553B\",\"#00cc96\",\"#ab63fa\",\"#FFA15A\",\"#19d3f3\",\"#FF6692\",\"#B6E880\",\"#FF97FF\",\"#FECB52\"],\"font\":{\"color\":\"#2a3f5f\"},\"geo\":{\"bgcolor\":\"white\",\"lakecolor\":\"white\",\"landcolor\":\"#E5ECF6\",\"showlakes\":true,\"showland\":true,\"subunitcolor\":\"white\"},\"hoverlabel\":{\"align\":\"left\"},\"hovermode\":\"closest\",\"mapbox\":{\"style\":\"light\"},\"paper_bgcolor\":\"white\",\"plot_bgcolor\":\"#E5ECF6\",\"polar\":{\"angularaxis\":{\"gridcolor\":\"white\",\"linecolor\":\"white\",\"ticks\":\"\"},\"bgcolor\":\"#E5ECF6\",\"radialaxis\":{\"gridcolor\":\"white\",\"linecolor\":\"white\",\"ticks\":\"\"}},\"scene\":{\"xaxis\":{\"backgroundcolor\":\"#E5ECF6\",\"gridcolor\":\"white\",\"gridwidth\":2,\"linecolor\":\"white\",\"showbackground\":true,\"ticks\":\"\",\"zerolinecolor\":\"white\"},\"yaxis\":{\"backgroundcolor\":\"#E5ECF6\",\"gridcolor\":\"white\",\"gridwidth\":2,\"linecolor\":\"white\",\"showbackground\":true,\"ticks\":\"\",\"zerolinecolor\":\"white\"},\"zaxis\":{\"backgroundcolor\":\"#E5ECF6\",\"gridcolor\":\"white\",\"gridwidth\":2,\"linecolor\":\"white\",\"showbackground\":true,\"ticks\":\"\",\"zerolinecolor\":\"white\"}},\"shapedefaults\":{\"line\":{\"color\":\"#2a3f5f\"}},\"ternary\":{\"aaxis\":{\"gridcolor\":\"white\",\"linecolor\":\"white\",\"ticks\":\"\"},\"baxis\":{\"gridcolor\":\"white\",\"linecolor\":\"white\",\"ticks\":\"\"},\"bgcolor\":\"#E5ECF6\",\"caxis\":{\"gridcolor\":\"white\",\"linecolor\":\"white\",\"ticks\":\"\"}},\"title\":{\"x\":0.05},\"xaxis\":{\"automargin\":true,\"gridcolor\":\"white\",\"linecolor\":\"white\",\"ticks\":\"\",\"title\":{\"standoff\":15},\"zerolinecolor\":\"white\",\"zerolinewidth\":2},\"yaxis\":{\"automargin\":true,\"gridcolor\":\"white\",\"linecolor\":\"white\",\"ticks\":\"\",\"title\":{\"standoff\":15},\"zerolinecolor\":\"white\",\"zerolinewidth\":2}}},\"title\":{\"font\":{\"color\":\"#4D5663\"}},\"xaxis\":{\"gridcolor\":\"#E1E5ED\",\"showgrid\":true,\"tickfont\":{\"color\":\"#4D5663\"},\"title\":{\"font\":{\"color\":\"#4D5663\"},\"text\":\"\"},\"zerolinecolor\":\"#E1E5ED\"},\"yaxis\":{\"gridcolor\":\"#E1E5ED\",\"showgrid\":true,\"tickfont\":{\"color\":\"#4D5663\"},\"title\":{\"font\":{\"color\":\"#4D5663\"},\"text\":\"\"},\"zerolinecolor\":\"#E1E5ED\"}},                        {\"showLink\": true, \"linkText\": \"Export to plot.ly\", \"plotlyServerURL\": \"https://plot.ly\", \"responsive\": true}                    ).then(function(){\n",
       "                            \n",
       "var gd = document.getElementById('1bee890b-820f-483c-9915-c83e060b3002');\n",
       "var x = new MutationObserver(function (mutations, observer) {{\n",
       "        var display = window.getComputedStyle(gd).display;\n",
       "        if (!display || display === 'none') {{\n",
       "            console.log([gd, 'removed!']);\n",
       "            Plotly.purge(gd);\n",
       "            observer.disconnect();\n",
       "        }}\n",
       "}});\n",
       "\n",
       "// Listen for the removal of the full notebook cells\n",
       "var notebookContainer = gd.closest('#notebook-container');\n",
       "if (notebookContainer) {{\n",
       "    x.observe(notebookContainer, {childList: true});\n",
       "}}\n",
       "\n",
       "// Listen for the clearing of the current output cell\n",
       "var outputEl = gd.closest('.output');\n",
       "if (outputEl) {{\n",
       "    x.observe(outputEl, {childList: true});\n",
       "}}\n",
       "\n",
       "                        })                };                });            </script>        </div>"
      ]
     },
     "metadata": {},
     "output_type": "display_data"
    }
   ],
   "source": [
    "df.iplot(kind='box')"
   ]
  },
  {
   "cell_type": "markdown",
   "id": "614efe9a-2426-4c80-9825-305e46b733e2",
   "metadata": {},
   "source": [
    "## 3d Surface"
   ]
  },
  {
   "cell_type": "code",
   "execution_count": 17,
   "id": "bd69a52f-d46e-4100-8241-81733fdbfd34",
   "metadata": {},
   "outputs": [
    {
     "data": {
      "application/vnd.plotly.v1+json": {
       "config": {
        "linkText": "Export to plot.ly",
        "plotlyServerURL": "https://plot.ly",
        "showLink": true
       },
       "data": [
        {
         "colorscale": [
          [
           0,
           "rgb(165,0,38)"
          ],
          [
           0.1,
           "rgb(215,48,39)"
          ],
          [
           0.2,
           "rgb(244,109,67)"
          ],
          [
           0.3,
           "rgb(253,174,97)"
          ],
          [
           0.4,
           "rgb(254,224,144)"
          ],
          [
           0.5,
           "rgb(255,255,191)"
          ],
          [
           0.6,
           "rgb(224,243,248)"
          ],
          [
           0.7,
           "rgb(171,217,233)"
          ],
          [
           0.8,
           "rgb(116,173,209)"
          ],
          [
           0.9,
           "rgb(69,117,180)"
          ],
          [
           1,
           "rgb(49,54,149)"
          ]
         ],
         "type": "surface",
         "x": [
          0,
          1,
          2,
          3,
          4
         ],
         "y": [
          "x",
          "y",
          "z"
         ],
         "z": [
          [
           1,
           2,
           3,
           4,
           5
          ],
          [
           10,
           20,
           30,
           20,
           10
          ],
          [
           5,
           4,
           3,
           2,
           1
          ]
         ]
        }
       ],
       "layout": {
        "autosize": true,
        "legend": {
         "bgcolor": "#F5F6F9",
         "font": {
          "color": "#4D5663"
         }
        },
        "paper_bgcolor": "#F5F6F9",
        "plot_bgcolor": "#F5F6F9",
        "scene": {
         "aspectmode": "auto",
         "aspectratio": {
          "x": 1,
          "y": 1,
          "z": 1
         }
        },
        "template": {
         "data": {
          "bar": [
           {
            "error_x": {
             "color": "#2a3f5f"
            },
            "error_y": {
             "color": "#2a3f5f"
            },
            "marker": {
             "line": {
              "color": "#E5ECF6",
              "width": 0.5
             },
             "pattern": {
              "fillmode": "overlay",
              "size": 10,
              "solidity": 0.2
             }
            },
            "type": "bar"
           }
          ],
          "barpolar": [
           {
            "marker": {
             "line": {
              "color": "#E5ECF6",
              "width": 0.5
             },
             "pattern": {
              "fillmode": "overlay",
              "size": 10,
              "solidity": 0.2
             }
            },
            "type": "barpolar"
           }
          ],
          "carpet": [
           {
            "aaxis": {
             "endlinecolor": "#2a3f5f",
             "gridcolor": "white",
             "linecolor": "white",
             "minorgridcolor": "white",
             "startlinecolor": "#2a3f5f"
            },
            "baxis": {
             "endlinecolor": "#2a3f5f",
             "gridcolor": "white",
             "linecolor": "white",
             "minorgridcolor": "white",
             "startlinecolor": "#2a3f5f"
            },
            "type": "carpet"
           }
          ],
          "choropleth": [
           {
            "colorbar": {
             "outlinewidth": 0,
             "ticks": ""
            },
            "type": "choropleth"
           }
          ],
          "contour": [
           {
            "colorbar": {
             "outlinewidth": 0,
             "ticks": ""
            },
            "colorscale": [
             [
              0,
              "#0d0887"
             ],
             [
              0.1111111111111111,
              "#46039f"
             ],
             [
              0.2222222222222222,
              "#7201a8"
             ],
             [
              0.3333333333333333,
              "#9c179e"
             ],
             [
              0.4444444444444444,
              "#bd3786"
             ],
             [
              0.5555555555555556,
              "#d8576b"
             ],
             [
              0.6666666666666666,
              "#ed7953"
             ],
             [
              0.7777777777777778,
              "#fb9f3a"
             ],
             [
              0.8888888888888888,
              "#fdca26"
             ],
             [
              1,
              "#f0f921"
             ]
            ],
            "type": "contour"
           }
          ],
          "contourcarpet": [
           {
            "colorbar": {
             "outlinewidth": 0,
             "ticks": ""
            },
            "type": "contourcarpet"
           }
          ],
          "heatmap": [
           {
            "colorbar": {
             "outlinewidth": 0,
             "ticks": ""
            },
            "colorscale": [
             [
              0,
              "#0d0887"
             ],
             [
              0.1111111111111111,
              "#46039f"
             ],
             [
              0.2222222222222222,
              "#7201a8"
             ],
             [
              0.3333333333333333,
              "#9c179e"
             ],
             [
              0.4444444444444444,
              "#bd3786"
             ],
             [
              0.5555555555555556,
              "#d8576b"
             ],
             [
              0.6666666666666666,
              "#ed7953"
             ],
             [
              0.7777777777777778,
              "#fb9f3a"
             ],
             [
              0.8888888888888888,
              "#fdca26"
             ],
             [
              1,
              "#f0f921"
             ]
            ],
            "type": "heatmap"
           }
          ],
          "heatmapgl": [
           {
            "colorbar": {
             "outlinewidth": 0,
             "ticks": ""
            },
            "colorscale": [
             [
              0,
              "#0d0887"
             ],
             [
              0.1111111111111111,
              "#46039f"
             ],
             [
              0.2222222222222222,
              "#7201a8"
             ],
             [
              0.3333333333333333,
              "#9c179e"
             ],
             [
              0.4444444444444444,
              "#bd3786"
             ],
             [
              0.5555555555555556,
              "#d8576b"
             ],
             [
              0.6666666666666666,
              "#ed7953"
             ],
             [
              0.7777777777777778,
              "#fb9f3a"
             ],
             [
              0.8888888888888888,
              "#fdca26"
             ],
             [
              1,
              "#f0f921"
             ]
            ],
            "type": "heatmapgl"
           }
          ],
          "histogram": [
           {
            "marker": {
             "pattern": {
              "fillmode": "overlay",
              "size": 10,
              "solidity": 0.2
             }
            },
            "type": "histogram"
           }
          ],
          "histogram2d": [
           {
            "colorbar": {
             "outlinewidth": 0,
             "ticks": ""
            },
            "colorscale": [
             [
              0,
              "#0d0887"
             ],
             [
              0.1111111111111111,
              "#46039f"
             ],
             [
              0.2222222222222222,
              "#7201a8"
             ],
             [
              0.3333333333333333,
              "#9c179e"
             ],
             [
              0.4444444444444444,
              "#bd3786"
             ],
             [
              0.5555555555555556,
              "#d8576b"
             ],
             [
              0.6666666666666666,
              "#ed7953"
             ],
             [
              0.7777777777777778,
              "#fb9f3a"
             ],
             [
              0.8888888888888888,
              "#fdca26"
             ],
             [
              1,
              "#f0f921"
             ]
            ],
            "type": "histogram2d"
           }
          ],
          "histogram2dcontour": [
           {
            "colorbar": {
             "outlinewidth": 0,
             "ticks": ""
            },
            "colorscale": [
             [
              0,
              "#0d0887"
             ],
             [
              0.1111111111111111,
              "#46039f"
             ],
             [
              0.2222222222222222,
              "#7201a8"
             ],
             [
              0.3333333333333333,
              "#9c179e"
             ],
             [
              0.4444444444444444,
              "#bd3786"
             ],
             [
              0.5555555555555556,
              "#d8576b"
             ],
             [
              0.6666666666666666,
              "#ed7953"
             ],
             [
              0.7777777777777778,
              "#fb9f3a"
             ],
             [
              0.8888888888888888,
              "#fdca26"
             ],
             [
              1,
              "#f0f921"
             ]
            ],
            "type": "histogram2dcontour"
           }
          ],
          "mesh3d": [
           {
            "colorbar": {
             "outlinewidth": 0,
             "ticks": ""
            },
            "type": "mesh3d"
           }
          ],
          "parcoords": [
           {
            "line": {
             "colorbar": {
              "outlinewidth": 0,
              "ticks": ""
             }
            },
            "type": "parcoords"
           }
          ],
          "pie": [
           {
            "automargin": true,
            "type": "pie"
           }
          ],
          "scatter": [
           {
            "fillpattern": {
             "fillmode": "overlay",
             "size": 10,
             "solidity": 0.2
            },
            "type": "scatter"
           }
          ],
          "scatter3d": [
           {
            "line": {
             "colorbar": {
              "outlinewidth": 0,
              "ticks": ""
             }
            },
            "marker": {
             "colorbar": {
              "outlinewidth": 0,
              "ticks": ""
             }
            },
            "type": "scatter3d"
           }
          ],
          "scattercarpet": [
           {
            "marker": {
             "colorbar": {
              "outlinewidth": 0,
              "ticks": ""
             }
            },
            "type": "scattercarpet"
           }
          ],
          "scattergeo": [
           {
            "marker": {
             "colorbar": {
              "outlinewidth": 0,
              "ticks": ""
             }
            },
            "type": "scattergeo"
           }
          ],
          "scattergl": [
           {
            "marker": {
             "colorbar": {
              "outlinewidth": 0,
              "ticks": ""
             }
            },
            "type": "scattergl"
           }
          ],
          "scattermapbox": [
           {
            "marker": {
             "colorbar": {
              "outlinewidth": 0,
              "ticks": ""
             }
            },
            "type": "scattermapbox"
           }
          ],
          "scatterpolar": [
           {
            "marker": {
             "colorbar": {
              "outlinewidth": 0,
              "ticks": ""
             }
            },
            "type": "scatterpolar"
           }
          ],
          "scatterpolargl": [
           {
            "marker": {
             "colorbar": {
              "outlinewidth": 0,
              "ticks": ""
             }
            },
            "type": "scatterpolargl"
           }
          ],
          "scatterternary": [
           {
            "marker": {
             "colorbar": {
              "outlinewidth": 0,
              "ticks": ""
             }
            },
            "type": "scatterternary"
           }
          ],
          "surface": [
           {
            "colorbar": {
             "outlinewidth": 0,
             "ticks": ""
            },
            "colorscale": [
             [
              0,
              "#0d0887"
             ],
             [
              0.1111111111111111,
              "#46039f"
             ],
             [
              0.2222222222222222,
              "#7201a8"
             ],
             [
              0.3333333333333333,
              "#9c179e"
             ],
             [
              0.4444444444444444,
              "#bd3786"
             ],
             [
              0.5555555555555556,
              "#d8576b"
             ],
             [
              0.6666666666666666,
              "#ed7953"
             ],
             [
              0.7777777777777778,
              "#fb9f3a"
             ],
             [
              0.8888888888888888,
              "#fdca26"
             ],
             [
              1,
              "#f0f921"
             ]
            ],
            "type": "surface"
           }
          ],
          "table": [
           {
            "cells": {
             "fill": {
              "color": "#EBF0F8"
             },
             "line": {
              "color": "white"
             }
            },
            "header": {
             "fill": {
              "color": "#C8D4E3"
             },
             "line": {
              "color": "white"
             }
            },
            "type": "table"
           }
          ]
         },
         "layout": {
          "annotationdefaults": {
           "arrowcolor": "#2a3f5f",
           "arrowhead": 0,
           "arrowwidth": 1
          },
          "autotypenumbers": "strict",
          "coloraxis": {
           "colorbar": {
            "outlinewidth": 0,
            "ticks": ""
           }
          },
          "colorscale": {
           "diverging": [
            [
             0,
             "#8e0152"
            ],
            [
             0.1,
             "#c51b7d"
            ],
            [
             0.2,
             "#de77ae"
            ],
            [
             0.3,
             "#f1b6da"
            ],
            [
             0.4,
             "#fde0ef"
            ],
            [
             0.5,
             "#f7f7f7"
            ],
            [
             0.6,
             "#e6f5d0"
            ],
            [
             0.7,
             "#b8e186"
            ],
            [
             0.8,
             "#7fbc41"
            ],
            [
             0.9,
             "#4d9221"
            ],
            [
             1,
             "#276419"
            ]
           ],
           "sequential": [
            [
             0,
             "#0d0887"
            ],
            [
             0.1111111111111111,
             "#46039f"
            ],
            [
             0.2222222222222222,
             "#7201a8"
            ],
            [
             0.3333333333333333,
             "#9c179e"
            ],
            [
             0.4444444444444444,
             "#bd3786"
            ],
            [
             0.5555555555555556,
             "#d8576b"
            ],
            [
             0.6666666666666666,
             "#ed7953"
            ],
            [
             0.7777777777777778,
             "#fb9f3a"
            ],
            [
             0.8888888888888888,
             "#fdca26"
            ],
            [
             1,
             "#f0f921"
            ]
           ],
           "sequentialminus": [
            [
             0,
             "#0d0887"
            ],
            [
             0.1111111111111111,
             "#46039f"
            ],
            [
             0.2222222222222222,
             "#7201a8"
            ],
            [
             0.3333333333333333,
             "#9c179e"
            ],
            [
             0.4444444444444444,
             "#bd3786"
            ],
            [
             0.5555555555555556,
             "#d8576b"
            ],
            [
             0.6666666666666666,
             "#ed7953"
            ],
            [
             0.7777777777777778,
             "#fb9f3a"
            ],
            [
             0.8888888888888888,
             "#fdca26"
            ],
            [
             1,
             "#f0f921"
            ]
           ]
          },
          "colorway": [
           "#636efa",
           "#EF553B",
           "#00cc96",
           "#ab63fa",
           "#FFA15A",
           "#19d3f3",
           "#FF6692",
           "#B6E880",
           "#FF97FF",
           "#FECB52"
          ],
          "font": {
           "color": "#2a3f5f"
          },
          "geo": {
           "bgcolor": "white",
           "lakecolor": "white",
           "landcolor": "#E5ECF6",
           "showlakes": true,
           "showland": true,
           "subunitcolor": "white"
          },
          "hoverlabel": {
           "align": "left"
          },
          "hovermode": "closest",
          "mapbox": {
           "style": "light"
          },
          "paper_bgcolor": "white",
          "plot_bgcolor": "#E5ECF6",
          "polar": {
           "angularaxis": {
            "gridcolor": "white",
            "linecolor": "white",
            "ticks": ""
           },
           "bgcolor": "#E5ECF6",
           "radialaxis": {
            "gridcolor": "white",
            "linecolor": "white",
            "ticks": ""
           }
          },
          "scene": {
           "xaxis": {
            "backgroundcolor": "#E5ECF6",
            "gridcolor": "white",
            "gridwidth": 2,
            "linecolor": "white",
            "showbackground": true,
            "ticks": "",
            "zerolinecolor": "white"
           },
           "yaxis": {
            "backgroundcolor": "#E5ECF6",
            "gridcolor": "white",
            "gridwidth": 2,
            "linecolor": "white",
            "showbackground": true,
            "ticks": "",
            "zerolinecolor": "white"
           },
           "zaxis": {
            "backgroundcolor": "#E5ECF6",
            "gridcolor": "white",
            "gridwidth": 2,
            "linecolor": "white",
            "showbackground": true,
            "ticks": "",
            "zerolinecolor": "white"
           }
          },
          "shapedefaults": {
           "line": {
            "color": "#2a3f5f"
           }
          },
          "ternary": {
           "aaxis": {
            "gridcolor": "white",
            "linecolor": "white",
            "ticks": ""
           },
           "baxis": {
            "gridcolor": "white",
            "linecolor": "white",
            "ticks": ""
           },
           "bgcolor": "#E5ECF6",
           "caxis": {
            "gridcolor": "white",
            "linecolor": "white",
            "ticks": ""
           }
          },
          "title": {
           "x": 0.05
          },
          "xaxis": {
           "automargin": true,
           "gridcolor": "white",
           "linecolor": "white",
           "ticks": "",
           "title": {
            "standoff": 15
           },
           "zerolinecolor": "white",
           "zerolinewidth": 2
          },
          "yaxis": {
           "automargin": true,
           "gridcolor": "white",
           "linecolor": "white",
           "ticks": "",
           "title": {
            "standoff": 15
           },
           "zerolinecolor": "white",
           "zerolinewidth": 2
          }
         }
        },
        "title": {
         "font": {
          "color": "#4D5663"
         }
        },
        "xaxis": {
         "gridcolor": "#E1E5ED",
         "showgrid": true,
         "tickfont": {
          "color": "#4D5663"
         },
         "title": {
          "font": {
           "color": "#4D5663"
          },
          "text": ""
         },
         "zerolinecolor": "#E1E5ED"
        },
        "yaxis": {
         "gridcolor": "#E1E5ED",
         "showgrid": true,
         "tickfont": {
          "color": "#4D5663"
         },
         "title": {
          "font": {
           "color": "#4D5663"
          },
          "text": ""
         },
         "zerolinecolor": "#E1E5ED"
        }
       }
      },
      "image/png": "[encoded data removed]",
      "text/html": [
       "<div>                            <div id=\"553e3445-9fa7-43f0-b377-df56e012aa89\" class=\"plotly-graph-div\" style=\"height:525px; width:100%;\"></div>            <script type=\"text/javascript\">                require([\"plotly\"], function(Plotly) {                    window.PLOTLYENV=window.PLOTLYENV || {};\n",
       "                    window.PLOTLYENV.BASE_URL='https://plot.ly';                                    if (document.getElementById(\"553e3445-9fa7-43f0-b377-df56e012aa89\")) {                    Plotly.newPlot(                        \"553e3445-9fa7-43f0-b377-df56e012aa89\",                        [{\"colorscale\":[[0.0,\"rgb(165,0,38)\"],[0.1,\"rgb(215,48,39)\"],[0.2,\"rgb(244,109,67)\"],[0.3,\"rgb(253,174,97)\"],[0.4,\"rgb(254,224,144)\"],[0.5,\"rgb(255,255,191)\"],[0.6,\"rgb(224,243,248)\"],[0.7,\"rgb(171,217,233)\"],[0.8,\"rgb(116,173,209)\"],[0.9,\"rgb(69,117,180)\"],[1.0,\"rgb(49,54,149)\"]],\"x\":[0,1,2,3,4],\"y\":[\"x\",\"y\",\"z\"],\"z\":[[1,2,3,4,5],[10,20,30,20,10],[5,4,3,2,1]],\"type\":\"surface\"}],                        {\"legend\":{\"bgcolor\":\"#F5F6F9\",\"font\":{\"color\":\"#4D5663\"}},\"paper_bgcolor\":\"#F5F6F9\",\"plot_bgcolor\":\"#F5F6F9\",\"template\":{\"data\":{\"barpolar\":[{\"marker\":{\"line\":{\"color\":\"#E5ECF6\",\"width\":0.5},\"pattern\":{\"fillmode\":\"overlay\",\"size\":10,\"solidity\":0.2}},\"type\":\"barpolar\"}],\"bar\":[{\"error_x\":{\"color\":\"#2a3f5f\"},\"error_y\":{\"color\":\"#2a3f5f\"},\"marker\":{\"line\":{\"color\":\"#E5ECF6\",\"width\":0.5},\"pattern\":{\"fillmode\":\"overlay\",\"size\":10,\"solidity\":0.2}},\"type\":\"bar\"}],\"carpet\":[{\"aaxis\":{\"endlinecolor\":\"#2a3f5f\",\"gridcolor\":\"white\",\"linecolor\":\"white\",\"minorgridcolor\":\"white\",\"startlinecolor\":\"#2a3f5f\"},\"baxis\":{\"endlinecolor\":\"#2a3f5f\",\"gridcolor\":\"white\",\"linecolor\":\"white\",\"minorgridcolor\":\"white\",\"startlinecolor\":\"#2a3f5f\"},\"type\":\"carpet\"}],\"choropleth\":[{\"colorbar\":{\"outlinewidth\":0,\"ticks\":\"\"},\"type\":\"choropleth\"}],\"contourcarpet\":[{\"colorbar\":{\"outlinewidth\":0,\"ticks\":\"\"},\"type\":\"contourcarpet\"}],\"contour\":[{\"colorbar\":{\"outlinewidth\":0,\"ticks\":\"\"},\"colorscale\":[[0.0,\"#0d0887\"],[0.1111111111111111,\"#46039f\"],[0.2222222222222222,\"#7201a8\"],[0.3333333333333333,\"#9c179e\"],[0.4444444444444444,\"#bd3786\"],[0.5555555555555556,\"#d8576b\"],[0.6666666666666666,\"#ed7953\"],[0.7777777777777778,\"#fb9f3a\"],[0.8888888888888888,\"#fdca26\"],[1.0,\"#f0f921\"]],\"type\":\"contour\"}],\"heatmapgl\":[{\"colorbar\":{\"outlinewidth\":0,\"ticks\":\"\"},\"colorscale\":[[0.0,\"#0d0887\"],[0.1111111111111111,\"#46039f\"],[0.2222222222222222,\"#7201a8\"],[0.3333333333333333,\"#9c179e\"],[0.4444444444444444,\"#bd3786\"],[0.5555555555555556,\"#d8576b\"],[0.6666666666666666,\"#ed7953\"],[0.7777777777777778,\"#fb9f3a\"],[0.8888888888888888,\"#fdca26\"],[1.0,\"#f0f921\"]],\"type\":\"heatmapgl\"}],\"heatmap\":[{\"colorbar\":{\"outlinewidth\":0,\"ticks\":\"\"},\"colorscale\":[[0.0,\"#0d0887\"],[0.1111111111111111,\"#46039f\"],[0.2222222222222222,\"#7201a8\"],[0.3333333333333333,\"#9c179e\"],[0.4444444444444444,\"#bd3786\"],[0.5555555555555556,\"#d8576b\"],[0.6666666666666666,\"#ed7953\"],[0.7777777777777778,\"#fb9f3a\"],[0.8888888888888888,\"#fdca26\"],[1.0,\"#f0f921\"]],\"type\":\"heatmap\"}],\"histogram2dcontour\":[{\"colorbar\":{\"outlinewidth\":0,\"ticks\":\"\"},\"colorscale\":[[0.0,\"#0d0887\"],[0.1111111111111111,\"#46039f\"],[0.2222222222222222,\"#7201a8\"],[0.3333333333333333,\"#9c179e\"],[0.4444444444444444,\"#bd3786\"],[0.5555555555555556,\"#d8576b\"],[0.6666666666666666,\"#ed7953\"],[0.7777777777777778,\"#fb9f3a\"],[0.8888888888888888,\"#fdca26\"],[1.0,\"#f0f921\"]],\"type\":\"histogram2dcontour\"}],\"histogram2d\":[{\"colorbar\":{\"outlinewidth\":0,\"ticks\":\"\"},\"colorscale\":[[0.0,\"#0d0887\"],[0.1111111111111111,\"#46039f\"],[0.2222222222222222,\"#7201a8\"],[0.3333333333333333,\"#9c179e\"],[0.4444444444444444,\"#bd3786\"],[0.5555555555555556,\"#d8576b\"],[0.6666666666666666,\"#ed7953\"],[0.7777777777777778,\"#fb9f3a\"],[0.8888888888888888,\"#fdca26\"],[1.0,\"#f0f921\"]],\"type\":\"histogram2d\"}],\"histogram\":[{\"marker\":{\"pattern\":{\"fillmode\":\"overlay\",\"size\":10,\"solidity\":0.2}},\"type\":\"histogram\"}],\"mesh3d\":[{\"colorbar\":{\"outlinewidth\":0,\"ticks\":\"\"},\"type\":\"mesh3d\"}],\"parcoords\":[{\"line\":{\"colorbar\":{\"outlinewidth\":0,\"ticks\":\"\"}},\"type\":\"parcoords\"}],\"pie\":[{\"automargin\":true,\"type\":\"pie\"}],\"scatter3d\":[{\"line\":{\"colorbar\":{\"outlinewidth\":0,\"ticks\":\"\"}},\"marker\":{\"colorbar\":{\"outlinewidth\":0,\"ticks\":\"\"}},\"type\":\"scatter3d\"}],\"scattercarpet\":[{\"marker\":{\"colorbar\":{\"outlinewidth\":0,\"ticks\":\"\"}},\"type\":\"scattercarpet\"}],\"scattergeo\":[{\"marker\":{\"colorbar\":{\"outlinewidth\":0,\"ticks\":\"\"}},\"type\":\"scattergeo\"}],\"scattergl\":[{\"marker\":{\"colorbar\":{\"outlinewidth\":0,\"ticks\":\"\"}},\"type\":\"scattergl\"}],\"scattermapbox\":[{\"marker\":{\"colorbar\":{\"outlinewidth\":0,\"ticks\":\"\"}},\"type\":\"scattermapbox\"}],\"scatterpolargl\":[{\"marker\":{\"colorbar\":{\"outlinewidth\":0,\"ticks\":\"\"}},\"type\":\"scatterpolargl\"}],\"scatterpolar\":[{\"marker\":{\"colorbar\":{\"outlinewidth\":0,\"ticks\":\"\"}},\"type\":\"scatterpolar\"}],\"scatter\":[{\"fillpattern\":{\"fillmode\":\"overlay\",\"size\":10,\"solidity\":0.2},\"type\":\"scatter\"}],\"scatterternary\":[{\"marker\":{\"colorbar\":{\"outlinewidth\":0,\"ticks\":\"\"}},\"type\":\"scatterternary\"}],\"surface\":[{\"colorbar\":{\"outlinewidth\":0,\"ticks\":\"\"},\"colorscale\":[[0.0,\"#0d0887\"],[0.1111111111111111,\"#46039f\"],[0.2222222222222222,\"#7201a8\"],[0.3333333333333333,\"#9c179e\"],[0.4444444444444444,\"#bd3786\"],[0.5555555555555556,\"#d8576b\"],[0.6666666666666666,\"#ed7953\"],[0.7777777777777778,\"#fb9f3a\"],[0.8888888888888888,\"#fdca26\"],[1.0,\"#f0f921\"]],\"type\":\"surface\"}],\"table\":[{\"cells\":{\"fill\":{\"color\":\"#EBF0F8\"},\"line\":{\"color\":\"white\"}},\"header\":{\"fill\":{\"color\":\"#C8D4E3\"},\"line\":{\"color\":\"white\"}},\"type\":\"table\"}]},\"layout\":{\"annotationdefaults\":{\"arrowcolor\":\"#2a3f5f\",\"arrowhead\":0,\"arrowwidth\":1},\"autotypenumbers\":\"strict\",\"coloraxis\":{\"colorbar\":{\"outlinewidth\":0,\"ticks\":\"\"}},\"colorscale\":{\"diverging\":[[0,\"#8e0152\"],[0.1,\"#c51b7d\"],[0.2,\"#de77ae\"],[0.3,\"#f1b6da\"],[0.4,\"#fde0ef\"],[0.5,\"#f7f7f7\"],[0.6,\"#e6f5d0\"],[0.7,\"#b8e186\"],[0.8,\"#7fbc41\"],[0.9,\"#4d9221\"],[1,\"#276419\"]],\"sequential\":[[0.0,\"#0d0887\"],[0.1111111111111111,\"#46039f\"],[0.2222222222222222,\"#7201a8\"],[0.3333333333333333,\"#9c179e\"],[0.4444444444444444,\"#bd3786\"],[0.5555555555555556,\"#d8576b\"],[0.6666666666666666,\"#ed7953\"],[0.7777777777777778,\"#fb9f3a\"],[0.8888888888888888,\"#fdca26\"],[1.0,\"#f0f921\"]],\"sequentialminus\":[[0.0,\"#0d0887\"],[0.1111111111111111,\"#46039f\"],[0.2222222222222222,\"#7201a8\"],[0.3333333333333333,\"#9c179e\"],[0.4444444444444444,\"#bd3786\"],[0.5555555555555556,\"#d8576b\"],[0.6666666666666666,\"#ed7953\"],[0.7777777777777778,\"#fb9f3a\"],[0.8888888888888888,\"#fdca26\"],[1.0,\"#f0f921\"]]},\"colorway\":[\"#636efa\",\"#EF553B\",\"#00cc96\",\"#ab63fa\",\"#FFA15A\",\"#19d3f3\",\"#FF6692\",\"#B6E880\",\"#FF97FF\",\"#FECB52\"],\"font\":{\"color\":\"#2a3f5f\"},\"geo\":{\"bgcolor\":\"white\",\"lakecolor\":\"white\",\"landcolor\":\"#E5ECF6\",\"showlakes\":true,\"showland\":true,\"subunitcolor\":\"white\"},\"hoverlabel\":{\"align\":\"left\"},\"hovermode\":\"closest\",\"mapbox\":{\"style\":\"light\"},\"paper_bgcolor\":\"white\",\"plot_bgcolor\":\"#E5ECF6\",\"polar\":{\"angularaxis\":{\"gridcolor\":\"white\",\"linecolor\":\"white\",\"ticks\":\"\"},\"bgcolor\":\"#E5ECF6\",\"radialaxis\":{\"gridcolor\":\"white\",\"linecolor\":\"white\",\"ticks\":\"\"}},\"scene\":{\"xaxis\":{\"backgroundcolor\":\"#E5ECF6\",\"gridcolor\":\"white\",\"gridwidth\":2,\"linecolor\":\"white\",\"showbackground\":true,\"ticks\":\"\",\"zerolinecolor\":\"white\"},\"yaxis\":{\"backgroundcolor\":\"#E5ECF6\",\"gridcolor\":\"white\",\"gridwidth\":2,\"linecolor\":\"white\",\"showbackground\":true,\"ticks\":\"\",\"zerolinecolor\":\"white\"},\"zaxis\":{\"backgroundcolor\":\"#E5ECF6\",\"gridcolor\":\"white\",\"gridwidth\":2,\"linecolor\":\"white\",\"showbackground\":true,\"ticks\":\"\",\"zerolinecolor\":\"white\"}},\"shapedefaults\":{\"line\":{\"color\":\"#2a3f5f\"}},\"ternary\":{\"aaxis\":{\"gridcolor\":\"white\",\"linecolor\":\"white\",\"ticks\":\"\"},\"baxis\":{\"gridcolor\":\"white\",\"linecolor\":\"white\",\"ticks\":\"\"},\"bgcolor\":\"#E5ECF6\",\"caxis\":{\"gridcolor\":\"white\",\"linecolor\":\"white\",\"ticks\":\"\"}},\"title\":{\"x\":0.05},\"xaxis\":{\"automargin\":true,\"gridcolor\":\"white\",\"linecolor\":\"white\",\"ticks\":\"\",\"title\":{\"standoff\":15},\"zerolinecolor\":\"white\",\"zerolinewidth\":2},\"yaxis\":{\"automargin\":true,\"gridcolor\":\"white\",\"linecolor\":\"white\",\"ticks\":\"\",\"title\":{\"standoff\":15},\"zerolinecolor\":\"white\",\"zerolinewidth\":2}}},\"title\":{\"font\":{\"color\":\"#4D5663\"}},\"xaxis\":{\"gridcolor\":\"#E1E5ED\",\"showgrid\":true,\"tickfont\":{\"color\":\"#4D5663\"},\"title\":{\"font\":{\"color\":\"#4D5663\"},\"text\":\"\"},\"zerolinecolor\":\"#E1E5ED\"},\"yaxis\":{\"gridcolor\":\"#E1E5ED\",\"showgrid\":true,\"tickfont\":{\"color\":\"#4D5663\"},\"title\":{\"font\":{\"color\":\"#4D5663\"},\"text\":\"\"},\"zerolinecolor\":\"#E1E5ED\"}},                        {\"showLink\": true, \"linkText\": \"Export to plot.ly\", \"plotlyServerURL\": \"https://plot.ly\", \"responsive\": true}                    ).then(function(){\n",
       "                            \n",
       "var gd = document.getElementById('553e3445-9fa7-43f0-b377-df56e012aa89');\n",
       "var x = new MutationObserver(function (mutations, observer) {{\n",
       "        var display = window.getComputedStyle(gd).display;\n",
       "        if (!display || display === 'none') {{\n",
       "            console.log([gd, 'removed!']);\n",
       "            Plotly.purge(gd);\n",
       "            observer.disconnect();\n",
       "        }}\n",
       "}});\n",
       "\n",
       "// Listen for the removal of the full notebook cells\n",
       "var notebookContainer = gd.closest('#notebook-container');\n",
       "if (notebookContainer) {{\n",
       "    x.observe(notebookContainer, {childList: true});\n",
       "}}\n",
       "\n",
       "// Listen for the clearing of the current output cell\n",
       "var outputEl = gd.closest('.output');\n",
       "if (outputEl) {{\n",
       "    x.observe(outputEl, {childList: true});\n",
       "}}\n",
       "\n",
       "                        })                };                });            </script>        </div>"
      ]
     },
     "metadata": {},
     "output_type": "display_data"
    }
   ],
   "source": [
    "df3 = pd.DataFrame({'x':[1,2,3,4,5],'y':[10,20,30,20,10],'z':[5,4,3,2,1]})\n",
    "df3.iplot(kind='surface',colorscale='rdylbu')"
   ]
  },
  {
   "cell_type": "markdown",
   "id": "4376097e-aa6c-4d20-86df-bbd5b0c9bf57",
   "metadata": {},
   "source": [
    "## Spread"
   ]
  },
  {
   "cell_type": "code",
   "execution_count": 18,
   "id": "09ef9113-f615-42b1-90e7-85c669dbc62e",
   "metadata": {},
   "outputs": [
    {
     "name": "stderr",
     "output_type": "stream",
     "text": [
      "/Users/rajatsaraswat/anaconda3/lib/python3.11/site-packages/cufflinks/plotlytools.py:848: FutureWarning:\n",
      "\n",
      "Series.__getitem__ treating keys as positions is deprecated. In a future version, integer keys will always be treated as labels (consistent with DataFrame behavior). To access a value by position, use `ser.iloc[pos]`\n",
      "\n"
     ]
    },
    {
     "ename": "AttributeError",
     "evalue": "module 'pandas' has no attribute 'np'",
     "output_type": "error",
     "traceback": [
      "\u001b[0;31m---------------------------------------------------------------------------\u001b[0m",
      "\u001b[0;31mAttributeError\u001b[0m                            Traceback (most recent call last)",
      "Cell \u001b[0;32mIn[18], line 1\u001b[0m\n\u001b[0;32m----> 1\u001b[0m df[[\u001b[38;5;124m'\u001b[39m\u001b[38;5;124mA\u001b[39m\u001b[38;5;124m'\u001b[39m,\u001b[38;5;124m'\u001b[39m\u001b[38;5;124mB\u001b[39m\u001b[38;5;124m'\u001b[39m]]\u001b[38;5;241m.\u001b[39miplot(kind\u001b[38;5;241m=\u001b[39m\u001b[38;5;124m'\u001b[39m\u001b[38;5;124mspread\u001b[39m\u001b[38;5;124m'\u001b[39m)\n",
      "File \u001b[0;32m~/anaconda3/lib/python3.11/site-packages/cufflinks/plotlytools.py:849\u001b[0m, in \u001b[0;36m_iplot\u001b[0;34m(self, kind, data, layout, filename, sharing, title, xTitle, yTitle, zTitle, theme, colors, colorscale, fill, width, dash, mode, interpolation, symbol, size, barmode, sortbars, bargap, bargroupgap, bins, histnorm, histfunc, orientation, boxpoints, annotations, keys, bestfit, bestfit_colors, mean, mean_colors, categories, x, y, z, text, gridcolor, zerolinecolor, margin, labels, values, secondary_y, secondary_y_title, subplots, shape, error_x, error_y, error_type, locations, lon, lat, asFrame, asDates, asFigure, asImage, dimensions, asPlot, asUrl, online, **kwargs)\u001b[0m\n\u001b[1;32m    847\u001b[0m \u001b[38;5;28;01mif\u001b[39;00m kind\u001b[38;5;241m==\u001b[39m\u001b[38;5;124m'\u001b[39m\u001b[38;5;124mspread\u001b[39m\u001b[38;5;124m'\u001b[39m:\n\u001b[1;32m    848\u001b[0m \ttrace\u001b[38;5;241m=\u001b[39m\u001b[38;5;28mself\u001b[39m\u001b[38;5;241m.\u001b[39mapply(\u001b[38;5;28;01mlambda\u001b[39;00m x:x[\u001b[38;5;241m0\u001b[39m]\u001b[38;5;241m-\u001b[39mx[\u001b[38;5;241m1\u001b[39m],axis\u001b[38;5;241m=\u001b[39m\u001b[38;5;241m1\u001b[39m)\n\u001b[0;32m--> 849\u001b[0m \tpositive\u001b[38;5;241m=\u001b[39mtrace\u001b[38;5;241m.\u001b[39mapply(\u001b[38;5;28;01mlambda\u001b[39;00m x:x \u001b[38;5;28;01mif\u001b[39;00m x\u001b[38;5;241m>\u001b[39m\u001b[38;5;241m=\u001b[39m\u001b[38;5;241m0\u001b[39m \u001b[38;5;28;01melse\u001b[39;00m pd\u001b[38;5;241m.\u001b[39mnp\u001b[38;5;241m.\u001b[39mnan)\n\u001b[1;32m    850\u001b[0m \tnegative\u001b[38;5;241m=\u001b[39mtrace\u001b[38;5;241m.\u001b[39mapply(\u001b[38;5;28;01mlambda\u001b[39;00m x:x \u001b[38;5;28;01mif\u001b[39;00m x\u001b[38;5;241m<\u001b[39m\u001b[38;5;241m0\u001b[39m \u001b[38;5;28;01melse\u001b[39;00m pd\u001b[38;5;241m.\u001b[39mnp\u001b[38;5;241m.\u001b[39mnan)\n\u001b[1;32m    851\u001b[0m \ttrace\u001b[38;5;241m=\u001b[39mpd\u001b[38;5;241m.\u001b[39mDataFrame({\u001b[38;5;124m'\u001b[39m\u001b[38;5;124mpositive\u001b[39m\u001b[38;5;124m'\u001b[39m:positive,\u001b[38;5;124m'\u001b[39m\u001b[38;5;124mnegative\u001b[39m\u001b[38;5;124m'\u001b[39m:negative})\n",
      "File \u001b[0;32m~/anaconda3/lib/python3.11/site-packages/pandas/core/series.py:4764\u001b[0m, in \u001b[0;36mSeries.apply\u001b[0;34m(self, func, convert_dtype, args, by_row, **kwargs)\u001b[0m\n\u001b[1;32m   4629\u001b[0m \u001b[38;5;28;01mdef\u001b[39;00m \u001b[38;5;21mapply\u001b[39m(\n\u001b[1;32m   4630\u001b[0m     \u001b[38;5;28mself\u001b[39m,\n\u001b[1;32m   4631\u001b[0m     func: AggFuncType,\n\u001b[0;32m   (...)\u001b[0m\n\u001b[1;32m   4636\u001b[0m     \u001b[38;5;241m*\u001b[39m\u001b[38;5;241m*\u001b[39mkwargs,\n\u001b[1;32m   4637\u001b[0m ) \u001b[38;5;241m-\u001b[39m\u001b[38;5;241m>\u001b[39m DataFrame \u001b[38;5;241m|\u001b[39m Series:\n\u001b[1;32m   4638\u001b[0m \u001b[38;5;250m    \u001b[39m\u001b[38;5;124;03m\"\"\"\u001b[39;00m\n\u001b[1;32m   4639\u001b[0m \u001b[38;5;124;03m    Invoke function on values of Series.\u001b[39;00m\n\u001b[1;32m   4640\u001b[0m \n\u001b[0;32m   (...)\u001b[0m\n\u001b[1;32m   4755\u001b[0m \u001b[38;5;124;03m    dtype: float64\u001b[39;00m\n\u001b[1;32m   4756\u001b[0m \u001b[38;5;124;03m    \"\"\"\u001b[39;00m\n\u001b[1;32m   4757\u001b[0m     \u001b[38;5;28;01mreturn\u001b[39;00m SeriesApply(\n\u001b[1;32m   4758\u001b[0m         \u001b[38;5;28mself\u001b[39m,\n\u001b[1;32m   4759\u001b[0m         func,\n\u001b[1;32m   4760\u001b[0m         convert_dtype\u001b[38;5;241m=\u001b[39mconvert_dtype,\n\u001b[1;32m   4761\u001b[0m         by_row\u001b[38;5;241m=\u001b[39mby_row,\n\u001b[1;32m   4762\u001b[0m         args\u001b[38;5;241m=\u001b[39margs,\n\u001b[1;32m   4763\u001b[0m         kwargs\u001b[38;5;241m=\u001b[39mkwargs,\n\u001b[0;32m-> 4764\u001b[0m     )\u001b[38;5;241m.\u001b[39mapply()\n",
      "File \u001b[0;32m~/anaconda3/lib/python3.11/site-packages/pandas/core/apply.py:1209\u001b[0m, in \u001b[0;36mSeriesApply.apply\u001b[0;34m(self)\u001b[0m\n\u001b[1;32m   1206\u001b[0m     \u001b[38;5;28;01mreturn\u001b[39;00m \u001b[38;5;28mself\u001b[39m\u001b[38;5;241m.\u001b[39mapply_compat()\n\u001b[1;32m   1208\u001b[0m \u001b[38;5;66;03m# self.func is Callable\u001b[39;00m\n\u001b[0;32m-> 1209\u001b[0m \u001b[38;5;28;01mreturn\u001b[39;00m \u001b[38;5;28mself\u001b[39m\u001b[38;5;241m.\u001b[39mapply_standard()\n",
      "File \u001b[0;32m~/anaconda3/lib/python3.11/site-packages/pandas/core/apply.py:1289\u001b[0m, in \u001b[0;36mSeriesApply.apply_standard\u001b[0;34m(self)\u001b[0m\n\u001b[1;32m   1283\u001b[0m \u001b[38;5;66;03m# row-wise access\u001b[39;00m\n\u001b[1;32m   1284\u001b[0m \u001b[38;5;66;03m# apply doesn't have a `na_action` keyword and for backward compat reasons\u001b[39;00m\n\u001b[1;32m   1285\u001b[0m \u001b[38;5;66;03m# we need to give `na_action=\"ignore\"` for categorical data.\u001b[39;00m\n\u001b[1;32m   1286\u001b[0m \u001b[38;5;66;03m# TODO: remove the `na_action=\"ignore\"` when that default has been changed in\u001b[39;00m\n\u001b[1;32m   1287\u001b[0m \u001b[38;5;66;03m#  Categorical (GH51645).\u001b[39;00m\n\u001b[1;32m   1288\u001b[0m action \u001b[38;5;241m=\u001b[39m \u001b[38;5;124m\"\u001b[39m\u001b[38;5;124mignore\u001b[39m\u001b[38;5;124m\"\u001b[39m \u001b[38;5;28;01mif\u001b[39;00m \u001b[38;5;28misinstance\u001b[39m(obj\u001b[38;5;241m.\u001b[39mdtype, CategoricalDtype) \u001b[38;5;28;01melse\u001b[39;00m \u001b[38;5;28;01mNone\u001b[39;00m\n\u001b[0;32m-> 1289\u001b[0m mapped \u001b[38;5;241m=\u001b[39m obj\u001b[38;5;241m.\u001b[39m_map_values(\n\u001b[1;32m   1290\u001b[0m     mapper\u001b[38;5;241m=\u001b[39mcurried, na_action\u001b[38;5;241m=\u001b[39maction, convert\u001b[38;5;241m=\u001b[39m\u001b[38;5;28mself\u001b[39m\u001b[38;5;241m.\u001b[39mconvert_dtype\n\u001b[1;32m   1291\u001b[0m )\n\u001b[1;32m   1293\u001b[0m \u001b[38;5;28;01mif\u001b[39;00m \u001b[38;5;28mlen\u001b[39m(mapped) \u001b[38;5;129;01mand\u001b[39;00m \u001b[38;5;28misinstance\u001b[39m(mapped[\u001b[38;5;241m0\u001b[39m], ABCSeries):\n\u001b[1;32m   1294\u001b[0m     \u001b[38;5;66;03m# GH#43986 Need to do list(mapped) in order to get treated as nested\u001b[39;00m\n\u001b[1;32m   1295\u001b[0m     \u001b[38;5;66;03m#  See also GH#25959 regarding EA support\u001b[39;00m\n\u001b[1;32m   1296\u001b[0m     \u001b[38;5;28;01mreturn\u001b[39;00m obj\u001b[38;5;241m.\u001b[39m_constructor_expanddim(\u001b[38;5;28mlist\u001b[39m(mapped), index\u001b[38;5;241m=\u001b[39mobj\u001b[38;5;241m.\u001b[39mindex)\n",
      "File \u001b[0;32m~/anaconda3/lib/python3.11/site-packages/pandas/core/base.py:921\u001b[0m, in \u001b[0;36mIndexOpsMixin._map_values\u001b[0;34m(self, mapper, na_action, convert)\u001b[0m\n\u001b[1;32m    918\u001b[0m \u001b[38;5;28;01mif\u001b[39;00m \u001b[38;5;28misinstance\u001b[39m(arr, ExtensionArray):\n\u001b[1;32m    919\u001b[0m     \u001b[38;5;28;01mreturn\u001b[39;00m arr\u001b[38;5;241m.\u001b[39mmap(mapper, na_action\u001b[38;5;241m=\u001b[39mna_action)\n\u001b[0;32m--> 921\u001b[0m \u001b[38;5;28;01mreturn\u001b[39;00m algorithms\u001b[38;5;241m.\u001b[39mmap_array(arr, mapper, na_action\u001b[38;5;241m=\u001b[39mna_action, convert\u001b[38;5;241m=\u001b[39mconvert)\n",
      "File \u001b[0;32m~/anaconda3/lib/python3.11/site-packages/pandas/core/algorithms.py:1814\u001b[0m, in \u001b[0;36mmap_array\u001b[0;34m(arr, mapper, na_action, convert)\u001b[0m\n\u001b[1;32m   1812\u001b[0m values \u001b[38;5;241m=\u001b[39m arr\u001b[38;5;241m.\u001b[39mastype(\u001b[38;5;28mobject\u001b[39m, copy\u001b[38;5;241m=\u001b[39m\u001b[38;5;28;01mFalse\u001b[39;00m)\n\u001b[1;32m   1813\u001b[0m \u001b[38;5;28;01mif\u001b[39;00m na_action \u001b[38;5;129;01mis\u001b[39;00m \u001b[38;5;28;01mNone\u001b[39;00m:\n\u001b[0;32m-> 1814\u001b[0m     \u001b[38;5;28;01mreturn\u001b[39;00m lib\u001b[38;5;241m.\u001b[39mmap_infer(values, mapper, convert\u001b[38;5;241m=\u001b[39mconvert)\n\u001b[1;32m   1815\u001b[0m \u001b[38;5;28;01melse\u001b[39;00m:\n\u001b[1;32m   1816\u001b[0m     \u001b[38;5;28;01mreturn\u001b[39;00m lib\u001b[38;5;241m.\u001b[39mmap_infer_mask(\n\u001b[1;32m   1817\u001b[0m         values, mapper, mask\u001b[38;5;241m=\u001b[39misna(values)\u001b[38;5;241m.\u001b[39mview(np\u001b[38;5;241m.\u001b[39muint8), convert\u001b[38;5;241m=\u001b[39mconvert\n\u001b[1;32m   1818\u001b[0m     )\n",
      "File \u001b[0;32mlib.pyx:2926\u001b[0m, in \u001b[0;36mpandas._libs.lib.map_infer\u001b[0;34m()\u001b[0m\n",
      "File \u001b[0;32m~/anaconda3/lib/python3.11/site-packages/cufflinks/plotlytools.py:849\u001b[0m, in \u001b[0;36m_iplot.<locals>.<lambda>\u001b[0;34m(x)\u001b[0m\n\u001b[1;32m    847\u001b[0m \u001b[38;5;28;01mif\u001b[39;00m kind\u001b[38;5;241m==\u001b[39m\u001b[38;5;124m'\u001b[39m\u001b[38;5;124mspread\u001b[39m\u001b[38;5;124m'\u001b[39m:\n\u001b[1;32m    848\u001b[0m \ttrace\u001b[38;5;241m=\u001b[39m\u001b[38;5;28mself\u001b[39m\u001b[38;5;241m.\u001b[39mapply(\u001b[38;5;28;01mlambda\u001b[39;00m x:x[\u001b[38;5;241m0\u001b[39m]\u001b[38;5;241m-\u001b[39mx[\u001b[38;5;241m1\u001b[39m],axis\u001b[38;5;241m=\u001b[39m\u001b[38;5;241m1\u001b[39m)\n\u001b[0;32m--> 849\u001b[0m \tpositive\u001b[38;5;241m=\u001b[39mtrace\u001b[38;5;241m.\u001b[39mapply(\u001b[38;5;28;01mlambda\u001b[39;00m x:x \u001b[38;5;28;01mif\u001b[39;00m x\u001b[38;5;241m>\u001b[39m\u001b[38;5;241m=\u001b[39m\u001b[38;5;241m0\u001b[39m \u001b[38;5;28;01melse\u001b[39;00m pd\u001b[38;5;241m.\u001b[39mnp\u001b[38;5;241m.\u001b[39mnan)\n\u001b[1;32m    850\u001b[0m \tnegative\u001b[38;5;241m=\u001b[39mtrace\u001b[38;5;241m.\u001b[39mapply(\u001b[38;5;28;01mlambda\u001b[39;00m x:x \u001b[38;5;28;01mif\u001b[39;00m x\u001b[38;5;241m<\u001b[39m\u001b[38;5;241m0\u001b[39m \u001b[38;5;28;01melse\u001b[39;00m pd\u001b[38;5;241m.\u001b[39mnp\u001b[38;5;241m.\u001b[39mnan)\n\u001b[1;32m    851\u001b[0m \ttrace\u001b[38;5;241m=\u001b[39mpd\u001b[38;5;241m.\u001b[39mDataFrame({\u001b[38;5;124m'\u001b[39m\u001b[38;5;124mpositive\u001b[39m\u001b[38;5;124m'\u001b[39m:positive,\u001b[38;5;124m'\u001b[39m\u001b[38;5;124mnegative\u001b[39m\u001b[38;5;124m'\u001b[39m:negative})\n",
      "\u001b[0;31mAttributeError\u001b[0m: module 'pandas' has no attribute 'np'"
     ]
    }
   ],
   "source": [
    "df[['A','B']].iplot(kind='spread')"
   ]
  },
  {
   "cell_type": "markdown",
   "id": "b06bb18a-b004-4b58-8e21-c19786bc3d2c",
   "metadata": {},
   "source": [
    "## histogram"
   ]
  },
  {
   "cell_type": "code",
   "execution_count": 20,
   "id": "6eea512f-f8c2-4cd5-87a5-7fac5e863428",
   "metadata": {},
   "outputs": [
    {
     "data": {
      "application/vnd.plotly.v1+json": {
       "config": {
        "linkText": "Export to plot.ly",
        "plotlyServerURL": "https://plot.ly",
        "showLink": true
       },
       "data": [
        {
         "histfunc": "count",
         "histnorm": "",
         "marker": {
          "color": "rgba(255, 153, 51, 1.0)",
          "line": {
           "color": "#4D5663",
           "width": 1.3
          }
         },
         "name": "A",
         "nbinsx": 25,
         "opacity": 0.8,
         "orientation": "v",
         "type": "histogram",
         "x": [
          -0.25651358813864394,
          -0.37235581545779156,
          0.5002419357099328,
          -0.11000076537614083,
          0.17778660907896845,
          0.9604613024588065,
          0.4363214349672373,
          -1.4978277774334499,
          0.8645756506604332,
          2.0630604768166827,
          0.7542953169658457,
          0.1733651976552315,
          -0.6444331066497141,
          0.3209043316114856,
          1.6785806759597626,
          -0.768276598133913,
          -0.4437501612730779,
          -0.8302809130629326,
          -1.83130407644596,
          -0.08556917211148315,
          1.2200374641662524,
          0.43085791113408056,
          0.5511804573603465,
          -0.16353621251587924,
          0.6586323285433434,
          2.3517325607956496,
          0.6635657432207783,
          1.3361398298086415,
          0.9426893152605952,
          1.202750196660914,
          -1.0802834636380134,
          0.797596295522079,
          -2.1353376820151646,
          1.0124334336311576,
          -0.6884302626219291,
          1.4330491707214221,
          -1.9814602294362633,
          -0.5674998520256744,
          -0.12726165695591024,
          0.01690501096950438,
          0.21688201182560074,
          -0.41576239315205327,
          0.8413478303973625,
          -0.27555187555264804,
          1.3849573166344866,
          0.28965860152351597,
          1.71113605486422,
          1.3624272330785494,
          -1.7151558980168338,
          0.30445679202275927,
          2.246104807570592,
          -0.8776800083011371,
          0.7496073571507749,
          -1.6513468550235542,
          0.31427315248776627,
          -0.3863141353653024,
          0.6206796324142947,
          -0.5908078632707596,
          1.4202115846069745,
          -1.036074601565162,
          -0.662212444835709,
          1.398984597964883,
          -0.6071363585980336,
          0.3667053811579149,
          -0.44598615300190175,
          0.37423381822901,
          1.9557183485437437,
          0.6600142225878292,
          -1.0684482884249031,
          0.9454672943912482,
          0.2093456680515466,
          -0.7697453176044043,
          0.6287263791329405,
          0.07310029343322011,
          0.37831957374116265,
          1.9492504875561103,
          -0.35397126610753804,
          -2.0128095375517963,
          0.4523488963290223,
          0.9199987557671497,
          -1.5511665216942072,
          -0.08518306870572716,
          1.0818223115870886,
          0.585538987032418,
          0.9805161901529916,
          -0.1720247731071831,
          -0.868606625961535,
          -2.26358287161267,
          -0.8752904139047751,
          0.2127772672894863,
          1.4109648796754914,
          -0.2239337966605875,
          0.1678150319818709,
          1.2382020014030266,
          -0.780512342018624,
          -0.3419524964976665,
          1.60124412899403,
          -1.2243186234222085,
          -0.009284479700141263,
          -0.040504622303769944
         ]
        }
       ],
       "layout": {
        "autosize": true,
        "barmode": "overlay",
        "legend": {
         "bgcolor": "#F5F6F9",
         "font": {
          "color": "#4D5663"
         }
        },
        "paper_bgcolor": "#F5F6F9",
        "plot_bgcolor": "#F5F6F9",
        "template": {
         "data": {
          "bar": [
           {
            "error_x": {
             "color": "#2a3f5f"
            },
            "error_y": {
             "color": "#2a3f5f"
            },
            "marker": {
             "line": {
              "color": "#E5ECF6",
              "width": 0.5
             },
             "pattern": {
              "fillmode": "overlay",
              "size": 10,
              "solidity": 0.2
             }
            },
            "type": "bar"
           }
          ],
          "barpolar": [
           {
            "marker": {
             "line": {
              "color": "#E5ECF6",
              "width": 0.5
             },
             "pattern": {
              "fillmode": "overlay",
              "size": 10,
              "solidity": 0.2
             }
            },
            "type": "barpolar"
           }
          ],
          "carpet": [
           {
            "aaxis": {
             "endlinecolor": "#2a3f5f",
             "gridcolor": "white",
             "linecolor": "white",
             "minorgridcolor": "white",
             "startlinecolor": "#2a3f5f"
            },
            "baxis": {
             "endlinecolor": "#2a3f5f",
             "gridcolor": "white",
             "linecolor": "white",
             "minorgridcolor": "white",
             "startlinecolor": "#2a3f5f"
            },
            "type": "carpet"
           }
          ],
          "choropleth": [
           {
            "colorbar": {
             "outlinewidth": 0,
             "ticks": ""
            },
            "type": "choropleth"
           }
          ],
          "contour": [
           {
            "colorbar": {
             "outlinewidth": 0,
             "ticks": ""
            },
            "colorscale": [
             [
              0,
              "#0d0887"
             ],
             [
              0.1111111111111111,
              "#46039f"
             ],
             [
              0.2222222222222222,
              "#7201a8"
             ],
             [
              0.3333333333333333,
              "#9c179e"
             ],
             [
              0.4444444444444444,
              "#bd3786"
             ],
             [
              0.5555555555555556,
              "#d8576b"
             ],
             [
              0.6666666666666666,
              "#ed7953"
             ],
             [
              0.7777777777777778,
              "#fb9f3a"
             ],
             [
              0.8888888888888888,
              "#fdca26"
             ],
             [
              1,
              "#f0f921"
             ]
            ],
            "type": "contour"
           }
          ],
          "contourcarpet": [
           {
            "colorbar": {
             "outlinewidth": 0,
             "ticks": ""
            },
            "type": "contourcarpet"
           }
          ],
          "heatmap": [
           {
            "colorbar": {
             "outlinewidth": 0,
             "ticks": ""
            },
            "colorscale": [
             [
              0,
              "#0d0887"
             ],
             [
              0.1111111111111111,
              "#46039f"
             ],
             [
              0.2222222222222222,
              "#7201a8"
             ],
             [
              0.3333333333333333,
              "#9c179e"
             ],
             [
              0.4444444444444444,
              "#bd3786"
             ],
             [
              0.5555555555555556,
              "#d8576b"
             ],
             [
              0.6666666666666666,
              "#ed7953"
             ],
             [
              0.7777777777777778,
              "#fb9f3a"
             ],
             [
              0.8888888888888888,
              "#fdca26"
             ],
             [
              1,
              "#f0f921"
             ]
            ],
            "type": "heatmap"
           }
          ],
          "heatmapgl": [
           {
            "colorbar": {
             "outlinewidth": 0,
             "ticks": ""
            },
            "colorscale": [
             [
              0,
              "#0d0887"
             ],
             [
              0.1111111111111111,
              "#46039f"
             ],
             [
              0.2222222222222222,
              "#7201a8"
             ],
             [
              0.3333333333333333,
              "#9c179e"
             ],
             [
              0.4444444444444444,
              "#bd3786"
             ],
             [
              0.5555555555555556,
              "#d8576b"
             ],
             [
              0.6666666666666666,
              "#ed7953"
             ],
             [
              0.7777777777777778,
              "#fb9f3a"
             ],
             [
              0.8888888888888888,
              "#fdca26"
             ],
             [
              1,
              "#f0f921"
             ]
            ],
            "type": "heatmapgl"
           }
          ],
          "histogram": [
           {
            "marker": {
             "pattern": {
              "fillmode": "overlay",
              "size": 10,
              "solidity": 0.2
             }
            },
            "type": "histogram"
           }
          ],
          "histogram2d": [
           {
            "colorbar": {
             "outlinewidth": 0,
             "ticks": ""
            },
            "colorscale": [
             [
              0,
              "#0d0887"
             ],
             [
              0.1111111111111111,
              "#46039f"
             ],
             [
              0.2222222222222222,
              "#7201a8"
             ],
             [
              0.3333333333333333,
              "#9c179e"
             ],
             [
              0.4444444444444444,
              "#bd3786"
             ],
             [
              0.5555555555555556,
              "#d8576b"
             ],
             [
              0.6666666666666666,
              "#ed7953"
             ],
             [
              0.7777777777777778,
              "#fb9f3a"
             ],
             [
              0.8888888888888888,
              "#fdca26"
             ],
             [
              1,
              "#f0f921"
             ]
            ],
            "type": "histogram2d"
           }
          ],
          "histogram2dcontour": [
           {
            "colorbar": {
             "outlinewidth": 0,
             "ticks": ""
            },
            "colorscale": [
             [
              0,
              "#0d0887"
             ],
             [
              0.1111111111111111,
              "#46039f"
             ],
             [
              0.2222222222222222,
              "#7201a8"
             ],
             [
              0.3333333333333333,
              "#9c179e"
             ],
             [
              0.4444444444444444,
              "#bd3786"
             ],
             [
              0.5555555555555556,
              "#d8576b"
             ],
             [
              0.6666666666666666,
              "#ed7953"
             ],
             [
              0.7777777777777778,
              "#fb9f3a"
             ],
             [
              0.8888888888888888,
              "#fdca26"
             ],
             [
              1,
              "#f0f921"
             ]
            ],
            "type": "histogram2dcontour"
           }
          ],
          "mesh3d": [
           {
            "colorbar": {
             "outlinewidth": 0,
             "ticks": ""
            },
            "type": "mesh3d"
           }
          ],
          "parcoords": [
           {
            "line": {
             "colorbar": {
              "outlinewidth": 0,
              "ticks": ""
             }
            },
            "type": "parcoords"
           }
          ],
          "pie": [
           {
            "automargin": true,
            "type": "pie"
           }
          ],
          "scatter": [
           {
            "fillpattern": {
             "fillmode": "overlay",
             "size": 10,
             "solidity": 0.2
            },
            "type": "scatter"
           }
          ],
          "scatter3d": [
           {
            "line": {
             "colorbar": {
              "outlinewidth": 0,
              "ticks": ""
             }
            },
            "marker": {
             "colorbar": {
              "outlinewidth": 0,
              "ticks": ""
             }
            },
            "type": "scatter3d"
           }
          ],
          "scattercarpet": [
           {
            "marker": {
             "colorbar": {
              "outlinewidth": 0,
              "ticks": ""
             }
            },
            "type": "scattercarpet"
           }
          ],
          "scattergeo": [
           {
            "marker": {
             "colorbar": {
              "outlinewidth": 0,
              "ticks": ""
             }
            },
            "type": "scattergeo"
           }
          ],
          "scattergl": [
           {
            "marker": {
             "colorbar": {
              "outlinewidth": 0,
              "ticks": ""
             }
            },
            "type": "scattergl"
           }
          ],
          "scattermapbox": [
           {
            "marker": {
             "colorbar": {
              "outlinewidth": 0,
              "ticks": ""
             }
            },
            "type": "scattermapbox"
           }
          ],
          "scatterpolar": [
           {
            "marker": {
             "colorbar": {
              "outlinewidth": 0,
              "ticks": ""
             }
            },
            "type": "scatterpolar"
           }
          ],
          "scatterpolargl": [
           {
            "marker": {
             "colorbar": {
              "outlinewidth": 0,
              "ticks": ""
             }
            },
            "type": "scatterpolargl"
           }
          ],
          "scatterternary": [
           {
            "marker": {
             "colorbar": {
              "outlinewidth": 0,
              "ticks": ""
             }
            },
            "type": "scatterternary"
           }
          ],
          "surface": [
           {
            "colorbar": {
             "outlinewidth": 0,
             "ticks": ""
            },
            "colorscale": [
             [
              0,
              "#0d0887"
             ],
             [
              0.1111111111111111,
              "#46039f"
             ],
             [
              0.2222222222222222,
              "#7201a8"
             ],
             [
              0.3333333333333333,
              "#9c179e"
             ],
             [
              0.4444444444444444,
              "#bd3786"
             ],
             [
              0.5555555555555556,
              "#d8576b"
             ],
             [
              0.6666666666666666,
              "#ed7953"
             ],
             [
              0.7777777777777778,
              "#fb9f3a"
             ],
             [
              0.8888888888888888,
              "#fdca26"
             ],
             [
              1,
              "#f0f921"
             ]
            ],
            "type": "surface"
           }
          ],
          "table": [
           {
            "cells": {
             "fill": {
              "color": "#EBF0F8"
             },
             "line": {
              "color": "white"
             }
            },
            "header": {
             "fill": {
              "color": "#C8D4E3"
             },
             "line": {
              "color": "white"
             }
            },
            "type": "table"
           }
          ]
         },
         "layout": {
          "annotationdefaults": {
           "arrowcolor": "#2a3f5f",
           "arrowhead": 0,
           "arrowwidth": 1
          },
          "autotypenumbers": "strict",
          "coloraxis": {
           "colorbar": {
            "outlinewidth": 0,
            "ticks": ""
           }
          },
          "colorscale": {
           "diverging": [
            [
             0,
             "#8e0152"
            ],
            [
             0.1,
             "#c51b7d"
            ],
            [
             0.2,
             "#de77ae"
            ],
            [
             0.3,
             "#f1b6da"
            ],
            [
             0.4,
             "#fde0ef"
            ],
            [
             0.5,
             "#f7f7f7"
            ],
            [
             0.6,
             "#e6f5d0"
            ],
            [
             0.7,
             "#b8e186"
            ],
            [
             0.8,
             "#7fbc41"
            ],
            [
             0.9,
             "#4d9221"
            ],
            [
             1,
             "#276419"
            ]
           ],
           "sequential": [
            [
             0,
             "#0d0887"
            ],
            [
             0.1111111111111111,
             "#46039f"
            ],
            [
             0.2222222222222222,
             "#7201a8"
            ],
            [
             0.3333333333333333,
             "#9c179e"
            ],
            [
             0.4444444444444444,
             "#bd3786"
            ],
            [
             0.5555555555555556,
             "#d8576b"
            ],
            [
             0.6666666666666666,
             "#ed7953"
            ],
            [
             0.7777777777777778,
             "#fb9f3a"
            ],
            [
             0.8888888888888888,
             "#fdca26"
            ],
            [
             1,
             "#f0f921"
            ]
           ],
           "sequentialminus": [
            [
             0,
             "#0d0887"
            ],
            [
             0.1111111111111111,
             "#46039f"
            ],
            [
             0.2222222222222222,
             "#7201a8"
            ],
            [
             0.3333333333333333,
             "#9c179e"
            ],
            [
             0.4444444444444444,
             "#bd3786"
            ],
            [
             0.5555555555555556,
             "#d8576b"
            ],
            [
             0.6666666666666666,
             "#ed7953"
            ],
            [
             0.7777777777777778,
             "#fb9f3a"
            ],
            [
             0.8888888888888888,
             "#fdca26"
            ],
            [
             1,
             "#f0f921"
            ]
           ]
          },
          "colorway": [
           "#636efa",
           "#EF553B",
           "#00cc96",
           "#ab63fa",
           "#FFA15A",
           "#19d3f3",
           "#FF6692",
           "#B6E880",
           "#FF97FF",
           "#FECB52"
          ],
          "font": {
           "color": "#2a3f5f"
          },
          "geo": {
           "bgcolor": "white",
           "lakecolor": "white",
           "landcolor": "#E5ECF6",
           "showlakes": true,
           "showland": true,
           "subunitcolor": "white"
          },
          "hoverlabel": {
           "align": "left"
          },
          "hovermode": "closest",
          "mapbox": {
           "style": "light"
          },
          "paper_bgcolor": "white",
          "plot_bgcolor": "#E5ECF6",
          "polar": {
           "angularaxis": {
            "gridcolor": "white",
            "linecolor": "white",
            "ticks": ""
           },
           "bgcolor": "#E5ECF6",
           "radialaxis": {
            "gridcolor": "white",
            "linecolor": "white",
            "ticks": ""
           }
          },
          "scene": {
           "xaxis": {
            "backgroundcolor": "#E5ECF6",
            "gridcolor": "white",
            "gridwidth": 2,
            "linecolor": "white",
            "showbackground": true,
            "ticks": "",
            "zerolinecolor": "white"
           },
           "yaxis": {
            "backgroundcolor": "#E5ECF6",
            "gridcolor": "white",
            "gridwidth": 2,
            "linecolor": "white",
            "showbackground": true,
            "ticks": "",
            "zerolinecolor": "white"
           },
           "zaxis": {
            "backgroundcolor": "#E5ECF6",
            "gridcolor": "white",
            "gridwidth": 2,
            "linecolor": "white",
            "showbackground": true,
            "ticks": "",
            "zerolinecolor": "white"
           }
          },
          "shapedefaults": {
           "line": {
            "color": "#2a3f5f"
           }
          },
          "ternary": {
           "aaxis": {
            "gridcolor": "white",
            "linecolor": "white",
            "ticks": ""
           },
           "baxis": {
            "gridcolor": "white",
            "linecolor": "white",
            "ticks": ""
           },
           "bgcolor": "#E5ECF6",
           "caxis": {
            "gridcolor": "white",
            "linecolor": "white",
            "ticks": ""
           }
          },
          "title": {
           "x": 0.05
          },
          "xaxis": {
           "automargin": true,
           "gridcolor": "white",
           "linecolor": "white",
           "ticks": "",
           "title": {
            "standoff": 15
           },
           "zerolinecolor": "white",
           "zerolinewidth": 2
          },
          "yaxis": {
           "automargin": true,
           "gridcolor": "white",
           "linecolor": "white",
           "ticks": "",
           "title": {
            "standoff": 15
           },
           "zerolinecolor": "white",
           "zerolinewidth": 2
          }
         }
        },
        "title": {
         "font": {
          "color": "#4D5663"
         }
        },
        "xaxis": {
         "autorange": true,
         "gridcolor": "#E1E5ED",
         "range": [
          -2.3999999999999995,
          2.3999999999999995
         ],
         "showgrid": true,
         "tickfont": {
          "color": "#4D5663"
         },
         "title": {
          "font": {
           "color": "#4D5663"
          },
          "text": ""
         },
         "type": "linear",
         "zerolinecolor": "#E1E5ED"
        },
        "yaxis": {
         "autorange": true,
         "gridcolor": "#E1E5ED",
         "range": [
          0,
          10.526315789473685
         ],
         "showgrid": true,
         "tickfont": {
          "color": "#4D5663"
         },
         "title": {
          "font": {
           "color": "#4D5663"
          },
          "text": ""
         },
         "zerolinecolor": "#E1E5ED"
        }
       }
      },
      "image/png": "[encoded data removed]",
      "text/html": [
       "<div>                            <div id=\"64d2641a-b5ae-491d-ae77-cb98a291a113\" class=\"plotly-graph-div\" style=\"height:525px; width:100%;\"></div>            <script type=\"text/javascript\">                require([\"plotly\"], function(Plotly) {                    window.PLOTLYENV=window.PLOTLYENV || {};\n",
       "                    window.PLOTLYENV.BASE_URL='https://plot.ly';                                    if (document.getElementById(\"64d2641a-b5ae-491d-ae77-cb98a291a113\")) {                    Plotly.newPlot(                        \"64d2641a-b5ae-491d-ae77-cb98a291a113\",                        [{\"histfunc\":\"count\",\"histnorm\":\"\",\"marker\":{\"color\":\"rgba(255, 153, 51, 1.0)\",\"line\":{\"color\":\"#4D5663\",\"width\":1.3}},\"name\":\"A\",\"nbinsx\":25,\"opacity\":0.8,\"orientation\":\"v\",\"x\":[-0.25651358813864394,-0.37235581545779156,0.5002419357099328,-0.11000076537614083,0.17778660907896845,0.9604613024588065,0.4363214349672373,-1.4978277774334499,0.8645756506604332,2.0630604768166827,0.7542953169658457,0.1733651976552315,-0.6444331066497141,0.3209043316114856,1.6785806759597626,-0.768276598133913,-0.4437501612730779,-0.8302809130629326,-1.83130407644596,-0.08556917211148315,1.2200374641662524,0.43085791113408056,0.5511804573603465,-0.16353621251587924,0.6586323285433434,2.3517325607956496,0.6635657432207783,1.3361398298086415,0.9426893152605952,1.202750196660914,-1.0802834636380134,0.797596295522079,-2.1353376820151646,1.0124334336311576,-0.6884302626219291,1.4330491707214221,-1.9814602294362633,-0.5674998520256744,-0.12726165695591024,0.01690501096950438,0.21688201182560074,-0.41576239315205327,0.8413478303973625,-0.27555187555264804,1.3849573166344866,0.28965860152351597,1.71113605486422,1.3624272330785494,-1.7151558980168338,0.30445679202275927,2.246104807570592,-0.8776800083011371,0.7496073571507749,-1.6513468550235542,0.31427315248776627,-0.3863141353653024,0.6206796324142947,-0.5908078632707596,1.4202115846069745,-1.036074601565162,-0.662212444835709,1.398984597964883,-0.6071363585980336,0.3667053811579149,-0.44598615300190175,0.37423381822901,1.9557183485437437,0.6600142225878292,-1.0684482884249031,0.9454672943912482,0.2093456680515466,-0.7697453176044043,0.6287263791329405,0.07310029343322011,0.37831957374116265,1.9492504875561103,-0.35397126610753804,-2.0128095375517963,0.4523488963290223,0.9199987557671497,-1.5511665216942072,-0.08518306870572716,1.0818223115870886,0.585538987032418,0.9805161901529916,-0.1720247731071831,-0.868606625961535,-2.26358287161267,-0.8752904139047751,0.2127772672894863,1.4109648796754914,-0.2239337966605875,0.1678150319818709,1.2382020014030266,-0.780512342018624,-0.3419524964976665,1.60124412899403,-1.2243186234222085,-0.009284479700141263,-0.040504622303769944],\"type\":\"histogram\"}],                        {\"barmode\":\"overlay\",\"legend\":{\"bgcolor\":\"#F5F6F9\",\"font\":{\"color\":\"#4D5663\"}},\"paper_bgcolor\":\"#F5F6F9\",\"plot_bgcolor\":\"#F5F6F9\",\"template\":{\"data\":{\"barpolar\":[{\"marker\":{\"line\":{\"color\":\"#E5ECF6\",\"width\":0.5},\"pattern\":{\"fillmode\":\"overlay\",\"size\":10,\"solidity\":0.2}},\"type\":\"barpolar\"}],\"bar\":[{\"error_x\":{\"color\":\"#2a3f5f\"},\"error_y\":{\"color\":\"#2a3f5f\"},\"marker\":{\"line\":{\"color\":\"#E5ECF6\",\"width\":0.5},\"pattern\":{\"fillmode\":\"overlay\",\"size\":10,\"solidity\":0.2}},\"type\":\"bar\"}],\"carpet\":[{\"aaxis\":{\"endlinecolor\":\"#2a3f5f\",\"gridcolor\":\"white\",\"linecolor\":\"white\",\"minorgridcolor\":\"white\",\"startlinecolor\":\"#2a3f5f\"},\"baxis\":{\"endlinecolor\":\"#2a3f5f\",\"gridcolor\":\"white\",\"linecolor\":\"white\",\"minorgridcolor\":\"white\",\"startlinecolor\":\"#2a3f5f\"},\"type\":\"carpet\"}],\"choropleth\":[{\"colorbar\":{\"outlinewidth\":0,\"ticks\":\"\"},\"type\":\"choropleth\"}],\"contourcarpet\":[{\"colorbar\":{\"outlinewidth\":0,\"ticks\":\"\"},\"type\":\"contourcarpet\"}],\"contour\":[{\"colorbar\":{\"outlinewidth\":0,\"ticks\":\"\"},\"colorscale\":[[0.0,\"#0d0887\"],[0.1111111111111111,\"#46039f\"],[0.2222222222222222,\"#7201a8\"],[0.3333333333333333,\"#9c179e\"],[0.4444444444444444,\"#bd3786\"],[0.5555555555555556,\"#d8576b\"],[0.6666666666666666,\"#ed7953\"],[0.7777777777777778,\"#fb9f3a\"],[0.8888888888888888,\"#fdca26\"],[1.0,\"#f0f921\"]],\"type\":\"contour\"}],\"heatmapgl\":[{\"colorbar\":{\"outlinewidth\":0,\"ticks\":\"\"},\"colorscale\":[[0.0,\"#0d0887\"],[0.1111111111111111,\"#46039f\"],[0.2222222222222222,\"#7201a8\"],[0.3333333333333333,\"#9c179e\"],[0.4444444444444444,\"#bd3786\"],[0.5555555555555556,\"#d8576b\"],[0.6666666666666666,\"#ed7953\"],[0.7777777777777778,\"#fb9f3a\"],[0.8888888888888888,\"#fdca26\"],[1.0,\"#f0f921\"]],\"type\":\"heatmapgl\"}],\"heatmap\":[{\"colorbar\":{\"outlinewidth\":0,\"ticks\":\"\"},\"colorscale\":[[0.0,\"#0d0887\"],[0.1111111111111111,\"#46039f\"],[0.2222222222222222,\"#7201a8\"],[0.3333333333333333,\"#9c179e\"],[0.4444444444444444,\"#bd3786\"],[0.5555555555555556,\"#d8576b\"],[0.6666666666666666,\"#ed7953\"],[0.7777777777777778,\"#fb9f3a\"],[0.8888888888888888,\"#fdca26\"],[1.0,\"#f0f921\"]],\"type\":\"heatmap\"}],\"histogram2dcontour\":[{\"colorbar\":{\"outlinewidth\":0,\"ticks\":\"\"},\"colorscale\":[[0.0,\"#0d0887\"],[0.1111111111111111,\"#46039f\"],[0.2222222222222222,\"#7201a8\"],[0.3333333333333333,\"#9c179e\"],[0.4444444444444444,\"#bd3786\"],[0.5555555555555556,\"#d8576b\"],[0.6666666666666666,\"#ed7953\"],[0.7777777777777778,\"#fb9f3a\"],[0.8888888888888888,\"#fdca26\"],[1.0,\"#f0f921\"]],\"type\":\"histogram2dcontour\"}],\"histogram2d\":[{\"colorbar\":{\"outlinewidth\":0,\"ticks\":\"\"},\"colorscale\":[[0.0,\"#0d0887\"],[0.1111111111111111,\"#46039f\"],[0.2222222222222222,\"#7201a8\"],[0.3333333333333333,\"#9c179e\"],[0.4444444444444444,\"#bd3786\"],[0.5555555555555556,\"#d8576b\"],[0.6666666666666666,\"#ed7953\"],[0.7777777777777778,\"#fb9f3a\"],[0.8888888888888888,\"#fdca26\"],[1.0,\"#f0f921\"]],\"type\":\"histogram2d\"}],\"histogram\":[{\"marker\":{\"pattern\":{\"fillmode\":\"overlay\",\"size\":10,\"solidity\":0.2}},\"type\":\"histogram\"}],\"mesh3d\":[{\"colorbar\":{\"outlinewidth\":0,\"ticks\":\"\"},\"type\":\"mesh3d\"}],\"parcoords\":[{\"line\":{\"colorbar\":{\"outlinewidth\":0,\"ticks\":\"\"}},\"type\":\"parcoords\"}],\"pie\":[{\"automargin\":true,\"type\":\"pie\"}],\"scatter3d\":[{\"line\":{\"colorbar\":{\"outlinewidth\":0,\"ticks\":\"\"}},\"marker\":{\"colorbar\":{\"outlinewidth\":0,\"ticks\":\"\"}},\"type\":\"scatter3d\"}],\"scattercarpet\":[{\"marker\":{\"colorbar\":{\"outlinewidth\":0,\"ticks\":\"\"}},\"type\":\"scattercarpet\"}],\"scattergeo\":[{\"marker\":{\"colorbar\":{\"outlinewidth\":0,\"ticks\":\"\"}},\"type\":\"scattergeo\"}],\"scattergl\":[{\"marker\":{\"colorbar\":{\"outlinewidth\":0,\"ticks\":\"\"}},\"type\":\"scattergl\"}],\"scattermapbox\":[{\"marker\":{\"colorbar\":{\"outlinewidth\":0,\"ticks\":\"\"}},\"type\":\"scattermapbox\"}],\"scatterpolargl\":[{\"marker\":{\"colorbar\":{\"outlinewidth\":0,\"ticks\":\"\"}},\"type\":\"scatterpolargl\"}],\"scatterpolar\":[{\"marker\":{\"colorbar\":{\"outlinewidth\":0,\"ticks\":\"\"}},\"type\":\"scatterpolar\"}],\"scatter\":[{\"fillpattern\":{\"fillmode\":\"overlay\",\"size\":10,\"solidity\":0.2},\"type\":\"scatter\"}],\"scatterternary\":[{\"marker\":{\"colorbar\":{\"outlinewidth\":0,\"ticks\":\"\"}},\"type\":\"scatterternary\"}],\"surface\":[{\"colorbar\":{\"outlinewidth\":0,\"ticks\":\"\"},\"colorscale\":[[0.0,\"#0d0887\"],[0.1111111111111111,\"#46039f\"],[0.2222222222222222,\"#7201a8\"],[0.3333333333333333,\"#9c179e\"],[0.4444444444444444,\"#bd3786\"],[0.5555555555555556,\"#d8576b\"],[0.6666666666666666,\"#ed7953\"],[0.7777777777777778,\"#fb9f3a\"],[0.8888888888888888,\"#fdca26\"],[1.0,\"#f0f921\"]],\"type\":\"surface\"}],\"table\":[{\"cells\":{\"fill\":{\"color\":\"#EBF0F8\"},\"line\":{\"color\":\"white\"}},\"header\":{\"fill\":{\"color\":\"#C8D4E3\"},\"line\":{\"color\":\"white\"}},\"type\":\"table\"}]},\"layout\":{\"annotationdefaults\":{\"arrowcolor\":\"#2a3f5f\",\"arrowhead\":0,\"arrowwidth\":1},\"autotypenumbers\":\"strict\",\"coloraxis\":{\"colorbar\":{\"outlinewidth\":0,\"ticks\":\"\"}},\"colorscale\":{\"diverging\":[[0,\"#8e0152\"],[0.1,\"#c51b7d\"],[0.2,\"#de77ae\"],[0.3,\"#f1b6da\"],[0.4,\"#fde0ef\"],[0.5,\"#f7f7f7\"],[0.6,\"#e6f5d0\"],[0.7,\"#b8e186\"],[0.8,\"#7fbc41\"],[0.9,\"#4d9221\"],[1,\"#276419\"]],\"sequential\":[[0.0,\"#0d0887\"],[0.1111111111111111,\"#46039f\"],[0.2222222222222222,\"#7201a8\"],[0.3333333333333333,\"#9c179e\"],[0.4444444444444444,\"#bd3786\"],[0.5555555555555556,\"#d8576b\"],[0.6666666666666666,\"#ed7953\"],[0.7777777777777778,\"#fb9f3a\"],[0.8888888888888888,\"#fdca26\"],[1.0,\"#f0f921\"]],\"sequentialminus\":[[0.0,\"#0d0887\"],[0.1111111111111111,\"#46039f\"],[0.2222222222222222,\"#7201a8\"],[0.3333333333333333,\"#9c179e\"],[0.4444444444444444,\"#bd3786\"],[0.5555555555555556,\"#d8576b\"],[0.6666666666666666,\"#ed7953\"],[0.7777777777777778,\"#fb9f3a\"],[0.8888888888888888,\"#fdca26\"],[1.0,\"#f0f921\"]]},\"colorway\":[\"#636efa\",\"#EF553B\",\"#00cc96\",\"#ab63fa\",\"#FFA15A\",\"#19d3f3\",\"#FF6692\",\"#B6E880\",\"#FF97FF\",\"#FECB52\"],\"font\":{\"color\":\"#2a3f5f\"},\"geo\":{\"bgcolor\":\"white\",\"lakecolor\":\"white\",\"landcolor\":\"#E5ECF6\",\"showlakes\":true,\"showland\":true,\"subunitcolor\":\"white\"},\"hoverlabel\":{\"align\":\"left\"},\"hovermode\":\"closest\",\"mapbox\":{\"style\":\"light\"},\"paper_bgcolor\":\"white\",\"plot_bgcolor\":\"#E5ECF6\",\"polar\":{\"angularaxis\":{\"gridcolor\":\"white\",\"linecolor\":\"white\",\"ticks\":\"\"},\"bgcolor\":\"#E5ECF6\",\"radialaxis\":{\"gridcolor\":\"white\",\"linecolor\":\"white\",\"ticks\":\"\"}},\"scene\":{\"xaxis\":{\"backgroundcolor\":\"#E5ECF6\",\"gridcolor\":\"white\",\"gridwidth\":2,\"linecolor\":\"white\",\"showbackground\":true,\"ticks\":\"\",\"zerolinecolor\":\"white\"},\"yaxis\":{\"backgroundcolor\":\"#E5ECF6\",\"gridcolor\":\"white\",\"gridwidth\":2,\"linecolor\":\"white\",\"showbackground\":true,\"ticks\":\"\",\"zerolinecolor\":\"white\"},\"zaxis\":{\"backgroundcolor\":\"#E5ECF6\",\"gridcolor\":\"white\",\"gridwidth\":2,\"linecolor\":\"white\",\"showbackground\":true,\"ticks\":\"\",\"zerolinecolor\":\"white\"}},\"shapedefaults\":{\"line\":{\"color\":\"#2a3f5f\"}},\"ternary\":{\"aaxis\":{\"gridcolor\":\"white\",\"linecolor\":\"white\",\"ticks\":\"\"},\"baxis\":{\"gridcolor\":\"white\",\"linecolor\":\"white\",\"ticks\":\"\"},\"bgcolor\":\"#E5ECF6\",\"caxis\":{\"gridcolor\":\"white\",\"linecolor\":\"white\",\"ticks\":\"\"}},\"title\":{\"x\":0.05},\"xaxis\":{\"automargin\":true,\"gridcolor\":\"white\",\"linecolor\":\"white\",\"ticks\":\"\",\"title\":{\"standoff\":15},\"zerolinecolor\":\"white\",\"zerolinewidth\":2},\"yaxis\":{\"automargin\":true,\"gridcolor\":\"white\",\"linecolor\":\"white\",\"ticks\":\"\",\"title\":{\"standoff\":15},\"zerolinecolor\":\"white\",\"zerolinewidth\":2}}},\"title\":{\"font\":{\"color\":\"#4D5663\"}},\"xaxis\":{\"gridcolor\":\"#E1E5ED\",\"showgrid\":true,\"tickfont\":{\"color\":\"#4D5663\"},\"title\":{\"font\":{\"color\":\"#4D5663\"},\"text\":\"\"},\"zerolinecolor\":\"#E1E5ED\"},\"yaxis\":{\"gridcolor\":\"#E1E5ED\",\"showgrid\":true,\"tickfont\":{\"color\":\"#4D5663\"},\"title\":{\"font\":{\"color\":\"#4D5663\"},\"text\":\"\"},\"zerolinecolor\":\"#E1E5ED\"}},                        {\"showLink\": true, \"linkText\": \"Export to plot.ly\", \"plotlyServerURL\": \"https://plot.ly\", \"responsive\": true}                    ).then(function(){\n",
       "                            \n",
       "var gd = document.getElementById('64d2641a-b5ae-491d-ae77-cb98a291a113');\n",
       "var x = new MutationObserver(function (mutations, observer) {{\n",
       "        var display = window.getComputedStyle(gd).display;\n",
       "        if (!display || display === 'none') {{\n",
       "            console.log([gd, 'removed!']);\n",
       "            Plotly.purge(gd);\n",
       "            observer.disconnect();\n",
       "        }}\n",
       "}});\n",
       "\n",
       "// Listen for the removal of the full notebook cells\n",
       "var notebookContainer = gd.closest('#notebook-container');\n",
       "if (notebookContainer) {{\n",
       "    x.observe(notebookContainer, {childList: true});\n",
       "}}\n",
       "\n",
       "// Listen for the clearing of the current output cell\n",
       "var outputEl = gd.closest('.output');\n",
       "if (outputEl) {{\n",
       "    x.observe(outputEl, {childList: true});\n",
       "}}\n",
       "\n",
       "                        })                };                });            </script>        </div>"
      ]
     },
     "metadata": {},
     "output_type": "display_data"
    }
   ],
   "source": [
    "df['A'].iplot(kind='hist',bins=25)"
   ]
  },
  {
   "cell_type": "code",
   "execution_count": 21,
   "id": "2beccb6c-ec55-4a94-88db-ed718243f3c1",
   "metadata": {},
   "outputs": [
    {
     "data": {
      "application/vnd.plotly.v1+json": {
       "config": {
        "linkText": "Export to plot.ly",
        "plotlyServerURL": "https://plot.ly",
        "showLink": true
       },
       "data": [
        {
         "marker": {
          "color": [
           "rgb(255, 153, 51)",
           "rgb(55, 128, 191)",
           "rgb(50, 171, 96)",
           "rgb(128, 0, 128)",
           "rgb(219, 64, 82)",
           "rgb(0, 128, 128)",
           "rgb(255, 255, 51)",
           "rgb(128, 128, 0)",
           "rgb(251, 128, 114)",
           "rgb(128, 177, 211)"
          ],
          "line": {
           "width": 1.3
          },
          "size": [
           53,
           26,
           24,
           66,
           83,
           66,
           64,
           50,
           56,
           32,
           82,
           69,
           112,
           38,
           43,
           52,
           65,
           67,
           44,
           84,
           62,
           75,
           44,
           83,
           68,
           57,
           67,
           58,
           68,
           59,
           49,
           38,
           53,
           44,
           68,
           80,
           43,
           61,
           46,
           56,
           66,
           68,
           66,
           65,
           66,
           46,
           85,
           87,
           63,
           41,
           53,
           67,
           51,
           64,
           79,
           70,
           56,
           31,
           63,
           83,
           20,
           67,
           67,
           88,
           61,
           47,
           78,
           33,
           95,
           53,
           12,
           79,
           77,
           59,
           57,
           68,
           37,
           53,
           63,
           63,
           53,
           58,
           73,
           76,
           45,
           74,
           44,
           61,
           78,
           88,
           58,
           43,
           65,
           82,
           39,
           81,
           15,
           23,
           77,
           29
          ],
          "symbol": "circle"
         },
         "mode": "markers",
         "text": "",
         "type": "scatter",
         "x": [
          -0.25651358813864394,
          -0.37235581545779156,
          0.5002419357099328,
          -0.11000076537614083,
          0.17778660907896845,
          0.9604613024588065,
          0.4363214349672373,
          -1.4978277774334499,
          0.8645756506604332,
          2.0630604768166827,
          0.7542953169658457,
          0.1733651976552315,
          -0.6444331066497141,
          0.3209043316114856,
          1.6785806759597626,
          -0.768276598133913,
          -0.4437501612730779,
          -0.8302809130629326,
          -1.83130407644596,
          -0.08556917211148315,
          1.2200374641662524,
          0.43085791113408056,
          0.5511804573603465,
          -0.16353621251587924,
          0.6586323285433434,
          2.3517325607956496,
          0.6635657432207783,
          1.3361398298086415,
          0.9426893152605952,
          1.202750196660914,
          -1.0802834636380134,
          0.797596295522079,
          -2.1353376820151646,
          1.0124334336311576,
          -0.6884302626219291,
          1.4330491707214221,
          -1.9814602294362633,
          -0.5674998520256744,
          -0.12726165695591024,
          0.01690501096950438,
          0.21688201182560074,
          -0.41576239315205327,
          0.8413478303973625,
          -0.27555187555264804,
          1.3849573166344866,
          0.28965860152351597,
          1.71113605486422,
          1.3624272330785494,
          -1.7151558980168338,
          0.30445679202275927,
          2.246104807570592,
          -0.8776800083011371,
          0.7496073571507749,
          -1.6513468550235542,
          0.31427315248776627,
          -0.3863141353653024,
          0.6206796324142947,
          -0.5908078632707596,
          1.4202115846069745,
          -1.036074601565162,
          -0.662212444835709,
          1.398984597964883,
          -0.6071363585980336,
          0.3667053811579149,
          -0.44598615300190175,
          0.37423381822901,
          1.9557183485437437,
          0.6600142225878292,
          -1.0684482884249031,
          0.9454672943912482,
          0.2093456680515466,
          -0.7697453176044043,
          0.6287263791329405,
          0.07310029343322011,
          0.37831957374116265,
          1.9492504875561103,
          -0.35397126610753804,
          -2.0128095375517963,
          0.4523488963290223,
          0.9199987557671497,
          -1.5511665216942072,
          -0.08518306870572716,
          1.0818223115870886,
          0.585538987032418,
          0.9805161901529916,
          -0.1720247731071831,
          -0.868606625961535,
          -2.26358287161267,
          -0.8752904139047751,
          0.2127772672894863,
          1.4109648796754914,
          -0.2239337966605875,
          0.1678150319818709,
          1.2382020014030266,
          -0.780512342018624,
          -0.3419524964976665,
          1.60124412899403,
          -1.2243186234222085,
          -0.009284479700141263,
          -0.040504622303769944
         ],
         "y": [
          -0.02986067173150405,
          -2.1799531962001777,
          -0.5789093555075555,
          -0.26434333655992476,
          -2.4618284536959787,
          -0.7901403921644476,
          0.9451257286228039,
          0.7450082871813458,
          1.60857197920544,
          1.5730902365439665,
          -1.9551544660171785,
          -0.027464389901744,
          -0.7681178511940615,
          -0.004639915826817845,
          -0.44030564661417154,
          -0.3692583950171369,
          -1.0160336886291301,
          -1.3781463485673215,
          1.000589278434516,
          -0.17665477407802171,
          -1.5991067512786892,
          0.02603287124653106,
          -1.382667717669445,
          -0.6501603347811354,
          -0.491696789768064,
          -1.1197505696997012,
          0.1864545305948082,
          1.3933095281592436,
          -1.2292582923747872,
          1.2134378265696775,
          1.050807935302168,
          1.6636700003333091,
          -1.2521371769182432,
          -1.4376908538731823,
          1.9078646710548013,
          0.5392572409200751,
          -0.4075494873659262,
          0.7247154588412541,
          0.2971247849574402,
          2.1111710146999756,
          -0.11585537327132055,
          -0.22900374168186005,
          -0.3221851668739211,
          0.3982765657461531,
          0.5495004709504342,
          -0.12327604313195765,
          -1.3111841261043646,
          -1.2403296074462404,
          -1.5161925502679203,
          -0.5733980394850131,
          -0.20241035990620967,
          0.22263247666164349,
          1.369663058680841,
          -0.9133646856953234,
          -1.8124409659312697,
          -1.1107258388224654,
          -0.3427571301216928,
          0.19151614494155136,
          -0.46960384303453107,
          0.13722610539425925,
          -0.5317720123390297,
          -0.3174299589925087,
          2.425123045260628,
          -0.11569142169700684,
          -0.030427007788570996,
          -0.5735367738403896,
          0.007333424341847052,
          0.9902826111740487,
          1.1055959686423025,
          -0.9970025603825291,
          -0.25277369585452814,
          2.5213123175753536,
          -0.7071160259073414,
          -0.06466616856029736,
          0.12344557594127975,
          -0.29813438859524793,
          1.0990950460168007,
          -0.4601794141140354,
          0.5448734618952821,
          0.0016800027576676208,
          0.6911720212041327,
          -1.7856611044880513,
          -1.2775394585362982,
          -1.3056006849590482,
          -1.057648906837918,
          0.19503908471756207,
          0.6139499192349814,
          0.07335014026279132,
          -0.34543168922458883,
          0.13619752094940035,
          -0.548944960325151,
          -1.051112064124429,
          -0.25072059443028544,
          -0.7258091936414498,
          -0.23853488419716937,
          -1.0644028379374715,
          -0.34312747685653466,
          0.2876655847805023,
          -1.1120659435621976,
          1.2051869393236536
         ]
        }
       ],
       "layout": {
        "autosize": true,
        "legend": {
         "bgcolor": "#F5F6F9",
         "font": {
          "color": "#4D5663"
         }
        },
        "paper_bgcolor": "#F5F6F9",
        "plot_bgcolor": "#F5F6F9",
        "template": {
         "data": {
          "bar": [
           {
            "error_x": {
             "color": "#2a3f5f"
            },
            "error_y": {
             "color": "#2a3f5f"
            },
            "marker": {
             "line": {
              "color": "#E5ECF6",
              "width": 0.5
             },
             "pattern": {
              "fillmode": "overlay",
              "size": 10,
              "solidity": 0.2
             }
            },
            "type": "bar"
           }
          ],
          "barpolar": [
           {
            "marker": {
             "line": {
              "color": "#E5ECF6",
              "width": 0.5
             },
             "pattern": {
              "fillmode": "overlay",
              "size": 10,
              "solidity": 0.2
             }
            },
            "type": "barpolar"
           }
          ],
          "carpet": [
           {
            "aaxis": {
             "endlinecolor": "#2a3f5f",
             "gridcolor": "white",
             "linecolor": "white",
             "minorgridcolor": "white",
             "startlinecolor": "#2a3f5f"
            },
            "baxis": {
             "endlinecolor": "#2a3f5f",
             "gridcolor": "white",
             "linecolor": "white",
             "minorgridcolor": "white",
             "startlinecolor": "#2a3f5f"
            },
            "type": "carpet"
           }
          ],
          "choropleth": [
           {
            "colorbar": {
             "outlinewidth": 0,
             "ticks": ""
            },
            "type": "choropleth"
           }
          ],
          "contour": [
           {
            "colorbar": {
             "outlinewidth": 0,
             "ticks": ""
            },
            "colorscale": [
             [
              0,
              "#0d0887"
             ],
             [
              0.1111111111111111,
              "#46039f"
             ],
             [
              0.2222222222222222,
              "#7201a8"
             ],
             [
              0.3333333333333333,
              "#9c179e"
             ],
             [
              0.4444444444444444,
              "#bd3786"
             ],
             [
              0.5555555555555556,
              "#d8576b"
             ],
             [
              0.6666666666666666,
              "#ed7953"
             ],
             [
              0.7777777777777778,
              "#fb9f3a"
             ],
             [
              0.8888888888888888,
              "#fdca26"
             ],
             [
              1,
              "#f0f921"
             ]
            ],
            "type": "contour"
           }
          ],
          "contourcarpet": [
           {
            "colorbar": {
             "outlinewidth": 0,
             "ticks": ""
            },
            "type": "contourcarpet"
           }
          ],
          "heatmap": [
           {
            "colorbar": {
             "outlinewidth": 0,
             "ticks": ""
            },
            "colorscale": [
             [
              0,
              "#0d0887"
             ],
             [
              0.1111111111111111,
              "#46039f"
             ],
             [
              0.2222222222222222,
              "#7201a8"
             ],
             [
              0.3333333333333333,
              "#9c179e"
             ],
             [
              0.4444444444444444,
              "#bd3786"
             ],
             [
              0.5555555555555556,
              "#d8576b"
             ],
             [
              0.6666666666666666,
              "#ed7953"
             ],
             [
              0.7777777777777778,
              "#fb9f3a"
             ],
             [
              0.8888888888888888,
              "#fdca26"
             ],
             [
              1,
              "#f0f921"
             ]
            ],
            "type": "heatmap"
           }
          ],
          "heatmapgl": [
           {
            "colorbar": {
             "outlinewidth": 0,
             "ticks": ""
            },
            "colorscale": [
             [
              0,
              "#0d0887"
             ],
             [
              0.1111111111111111,
              "#46039f"
             ],
             [
              0.2222222222222222,
              "#7201a8"
             ],
             [
              0.3333333333333333,
              "#9c179e"
             ],
             [
              0.4444444444444444,
              "#bd3786"
             ],
             [
              0.5555555555555556,
              "#d8576b"
             ],
             [
              0.6666666666666666,
              "#ed7953"
             ],
             [
              0.7777777777777778,
              "#fb9f3a"
             ],
             [
              0.8888888888888888,
              "#fdca26"
             ],
             [
              1,
              "#f0f921"
             ]
            ],
            "type": "heatmapgl"
           }
          ],
          "histogram": [
           {
            "marker": {
             "pattern": {
              "fillmode": "overlay",
              "size": 10,
              "solidity": 0.2
             }
            },
            "type": "histogram"
           }
          ],
          "histogram2d": [
           {
            "colorbar": {
             "outlinewidth": 0,
             "ticks": ""
            },
            "colorscale": [
             [
              0,
              "#0d0887"
             ],
             [
              0.1111111111111111,
              "#46039f"
             ],
             [
              0.2222222222222222,
              "#7201a8"
             ],
             [
              0.3333333333333333,
              "#9c179e"
             ],
             [
              0.4444444444444444,
              "#bd3786"
             ],
             [
              0.5555555555555556,
              "#d8576b"
             ],
             [
              0.6666666666666666,
              "#ed7953"
             ],
             [
              0.7777777777777778,
              "#fb9f3a"
             ],
             [
              0.8888888888888888,
              "#fdca26"
             ],
             [
              1,
              "#f0f921"
             ]
            ],
            "type": "histogram2d"
           }
          ],
          "histogram2dcontour": [
           {
            "colorbar": {
             "outlinewidth": 0,
             "ticks": ""
            },
            "colorscale": [
             [
              0,
              "#0d0887"
             ],
             [
              0.1111111111111111,
              "#46039f"
             ],
             [
              0.2222222222222222,
              "#7201a8"
             ],
             [
              0.3333333333333333,
              "#9c179e"
             ],
             [
              0.4444444444444444,
              "#bd3786"
             ],
             [
              0.5555555555555556,
              "#d8576b"
             ],
             [
              0.6666666666666666,
              "#ed7953"
             ],
             [
              0.7777777777777778,
              "#fb9f3a"
             ],
             [
              0.8888888888888888,
              "#fdca26"
             ],
             [
              1,
              "#f0f921"
             ]
            ],
            "type": "histogram2dcontour"
           }
          ],
          "mesh3d": [
           {
            "colorbar": {
             "outlinewidth": 0,
             "ticks": ""
            },
            "type": "mesh3d"
           }
          ],
          "parcoords": [
           {
            "line": {
             "colorbar": {
              "outlinewidth": 0,
              "ticks": ""
             }
            },
            "type": "parcoords"
           }
          ],
          "pie": [
           {
            "automargin": true,
            "type": "pie"
           }
          ],
          "scatter": [
           {
            "fillpattern": {
             "fillmode": "overlay",
             "size": 10,
             "solidity": 0.2
            },
            "type": "scatter"
           }
          ],
          "scatter3d": [
           {
            "line": {
             "colorbar": {
              "outlinewidth": 0,
              "ticks": ""
             }
            },
            "marker": {
             "colorbar": {
              "outlinewidth": 0,
              "ticks": ""
             }
            },
            "type": "scatter3d"
           }
          ],
          "scattercarpet": [
           {
            "marker": {
             "colorbar": {
              "outlinewidth": 0,
              "ticks": ""
             }
            },
            "type": "scattercarpet"
           }
          ],
          "scattergeo": [
           {
            "marker": {
             "colorbar": {
              "outlinewidth": 0,
              "ticks": ""
             }
            },
            "type": "scattergeo"
           }
          ],
          "scattergl": [
           {
            "marker": {
             "colorbar": {
              "outlinewidth": 0,
              "ticks": ""
             }
            },
            "type": "scattergl"
           }
          ],
          "scattermapbox": [
           {
            "marker": {
             "colorbar": {
              "outlinewidth": 0,
              "ticks": ""
             }
            },
            "type": "scattermapbox"
           }
          ],
          "scatterpolar": [
           {
            "marker": {
             "colorbar": {
              "outlinewidth": 0,
              "ticks": ""
             }
            },
            "type": "scatterpolar"
           }
          ],
          "scatterpolargl": [
           {
            "marker": {
             "colorbar": {
              "outlinewidth": 0,
              "ticks": ""
             }
            },
            "type": "scatterpolargl"
           }
          ],
          "scatterternary": [
           {
            "marker": {
             "colorbar": {
              "outlinewidth": 0,
              "ticks": ""
             }
            },
            "type": "scatterternary"
           }
          ],
          "surface": [
           {
            "colorbar": {
             "outlinewidth": 0,
             "ticks": ""
            },
            "colorscale": [
             [
              0,
              "#0d0887"
             ],
             [
              0.1111111111111111,
              "#46039f"
             ],
             [
              0.2222222222222222,
              "#7201a8"
             ],
             [
              0.3333333333333333,
              "#9c179e"
             ],
             [
              0.4444444444444444,
              "#bd3786"
             ],
             [
              0.5555555555555556,
              "#d8576b"
             ],
             [
              0.6666666666666666,
              "#ed7953"
             ],
             [
              0.7777777777777778,
              "#fb9f3a"
             ],
             [
              0.8888888888888888,
              "#fdca26"
             ],
             [
              1,
              "#f0f921"
             ]
            ],
            "type": "surface"
           }
          ],
          "table": [
           {
            "cells": {
             "fill": {
              "color": "#EBF0F8"
             },
             "line": {
              "color": "white"
             }
            },
            "header": {
             "fill": {
              "color": "#C8D4E3"
             },
             "line": {
              "color": "white"
             }
            },
            "type": "table"
           }
          ]
         },
         "layout": {
          "annotationdefaults": {
           "arrowcolor": "#2a3f5f",
           "arrowhead": 0,
           "arrowwidth": 1
          },
          "autotypenumbers": "strict",
          "coloraxis": {
           "colorbar": {
            "outlinewidth": 0,
            "ticks": ""
           }
          },
          "colorscale": {
           "diverging": [
            [
             0,
             "#8e0152"
            ],
            [
             0.1,
             "#c51b7d"
            ],
            [
             0.2,
             "#de77ae"
            ],
            [
             0.3,
             "#f1b6da"
            ],
            [
             0.4,
             "#fde0ef"
            ],
            [
             0.5,
             "#f7f7f7"
            ],
            [
             0.6,
             "#e6f5d0"
            ],
            [
             0.7,
             "#b8e186"
            ],
            [
             0.8,
             "#7fbc41"
            ],
            [
             0.9,
             "#4d9221"
            ],
            [
             1,
             "#276419"
            ]
           ],
           "sequential": [
            [
             0,
             "#0d0887"
            ],
            [
             0.1111111111111111,
             "#46039f"
            ],
            [
             0.2222222222222222,
             "#7201a8"
            ],
            [
             0.3333333333333333,
             "#9c179e"
            ],
            [
             0.4444444444444444,
             "#bd3786"
            ],
            [
             0.5555555555555556,
             "#d8576b"
            ],
            [
             0.6666666666666666,
             "#ed7953"
            ],
            [
             0.7777777777777778,
             "#fb9f3a"
            ],
            [
             0.8888888888888888,
             "#fdca26"
            ],
            [
             1,
             "#f0f921"
            ]
           ],
           "sequentialminus": [
            [
             0,
             "#0d0887"
            ],
            [
             0.1111111111111111,
             "#46039f"
            ],
            [
             0.2222222222222222,
             "#7201a8"
            ],
            [
             0.3333333333333333,
             "#9c179e"
            ],
            [
             0.4444444444444444,
             "#bd3786"
            ],
            [
             0.5555555555555556,
             "#d8576b"
            ],
            [
             0.6666666666666666,
             "#ed7953"
            ],
            [
             0.7777777777777778,
             "#fb9f3a"
            ],
            [
             0.8888888888888888,
             "#fdca26"
            ],
            [
             1,
             "#f0f921"
            ]
           ]
          },
          "colorway": [
           "#636efa",
           "#EF553B",
           "#00cc96",
           "#ab63fa",
           "#FFA15A",
           "#19d3f3",
           "#FF6692",
           "#B6E880",
           "#FF97FF",
           "#FECB52"
          ],
          "font": {
           "color": "#2a3f5f"
          },
          "geo": {
           "bgcolor": "white",
           "lakecolor": "white",
           "landcolor": "#E5ECF6",
           "showlakes": true,
           "showland": true,
           "subunitcolor": "white"
          },
          "hoverlabel": {
           "align": "left"
          },
          "hovermode": "closest",
          "mapbox": {
           "style": "light"
          },
          "paper_bgcolor": "white",
          "plot_bgcolor": "#E5ECF6",
          "polar": {
           "angularaxis": {
            "gridcolor": "white",
            "linecolor": "white",
            "ticks": ""
           },
           "bgcolor": "#E5ECF6",
           "radialaxis": {
            "gridcolor": "white",
            "linecolor": "white",
            "ticks": ""
           }
          },
          "scene": {
           "xaxis": {
            "backgroundcolor": "#E5ECF6",
            "gridcolor": "white",
            "gridwidth": 2,
            "linecolor": "white",
            "showbackground": true,
            "ticks": "",
            "zerolinecolor": "white"
           },
           "yaxis": {
            "backgroundcolor": "#E5ECF6",
            "gridcolor": "white",
            "gridwidth": 2,
            "linecolor": "white",
            "showbackground": true,
            "ticks": "",
            "zerolinecolor": "white"
           },
           "zaxis": {
            "backgroundcolor": "#E5ECF6",
            "gridcolor": "white",
            "gridwidth": 2,
            "linecolor": "white",
            "showbackground": true,
            "ticks": "",
            "zerolinecolor": "white"
           }
          },
          "shapedefaults": {
           "line": {
            "color": "#2a3f5f"
           }
          },
          "ternary": {
           "aaxis": {
            "gridcolor": "white",
            "linecolor": "white",
            "ticks": ""
           },
           "baxis": {
            "gridcolor": "white",
            "linecolor": "white",
            "ticks": ""
           },
           "bgcolor": "#E5ECF6",
           "caxis": {
            "gridcolor": "white",
            "linecolor": "white",
            "ticks": ""
           }
          },
          "title": {
           "x": 0.05
          },
          "xaxis": {
           "automargin": true,
           "gridcolor": "white",
           "linecolor": "white",
           "ticks": "",
           "title": {
            "standoff": 15
           },
           "zerolinecolor": "white",
           "zerolinewidth": 2
          },
          "yaxis": {
           "automargin": true,
           "gridcolor": "white",
           "linecolor": "white",
           "ticks": "",
           "title": {
            "standoff": 15
           },
           "zerolinecolor": "white",
           "zerolinewidth": 2
          }
         }
        },
        "title": {
         "font": {
          "color": "#4D5663"
         }
        },
        "xaxis": {
         "autorange": true,
         "gridcolor": "#E1E5ED",
         "range": [
          -2.926941093676996,
          2.9909949520548786
         ],
         "showgrid": true,
         "tickfont": {
          "color": "#4D5663"
         },
         "title": {
          "font": {
           "color": "#4D5663"
          },
          "text": ""
         },
         "type": "linear",
         "zerolinecolor": "#E1E5ED"
        },
        "yaxis": {
         "autorange": true,
         "gridcolor": "#E1E5ED",
         "range": [
          -7.455222601039885,
          7.309638943467765
         ],
         "showgrid": true,
         "tickfont": {
          "color": "#4D5663"
         },
         "title": {
          "font": {
           "color": "#4D5663"
          },
          "text": ""
         },
         "type": "linear",
         "zerolinecolor": "#E1E5ED"
        }
       }
      },
      "image/png": "[encoded data removed]",
      "text/html": [
       "<div>                            <div id=\"d11e88e9-b02e-42fc-9997-d531c020317a\" class=\"plotly-graph-div\" style=\"height:525px; width:100%;\"></div>            <script type=\"text/javascript\">                require([\"plotly\"], function(Plotly) {                    window.PLOTLYENV=window.PLOTLYENV || {};\n",
       "                    window.PLOTLYENV.BASE_URL='https://plot.ly';                                    if (document.getElementById(\"d11e88e9-b02e-42fc-9997-d531c020317a\")) {                    Plotly.newPlot(                        \"d11e88e9-b02e-42fc-9997-d531c020317a\",                        [{\"marker\":{\"color\":[\"rgb(255, 153, 51)\",\"rgb(55, 128, 191)\",\"rgb(50, 171, 96)\",\"rgb(128, 0, 128)\",\"rgb(219, 64, 82)\",\"rgb(0, 128, 128)\",\"rgb(255, 255, 51)\",\"rgb(128, 128, 0)\",\"rgb(251, 128, 114)\",\"rgb(128, 177, 211)\"],\"line\":{\"width\":1.3},\"size\":[53,26,24,66,83,66,64,50,56,32,82,69,112,38,43,52,65,67,44,84,62,75,44,83,68,57,67,58,68,59,49,38,53,44,68,80,43,61,46,56,66,68,66,65,66,46,85,87,63,41,53,67,51,64,79,70,56,31,63,83,20,67,67,88,61,47,78,33,95,53,12,79,77,59,57,68,37,53,63,63,53,58,73,76,45,74,44,61,78,88,58,43,65,82,39,81,15,23,77,29],\"symbol\":\"circle\"},\"mode\":\"markers\",\"text\":\"\",\"x\":[-0.25651358813864394,-0.37235581545779156,0.5002419357099328,-0.11000076537614083,0.17778660907896845,0.9604613024588065,0.4363214349672373,-1.4978277774334499,0.8645756506604332,2.0630604768166827,0.7542953169658457,0.1733651976552315,-0.6444331066497141,0.3209043316114856,1.6785806759597626,-0.768276598133913,-0.4437501612730779,-0.8302809130629326,-1.83130407644596,-0.08556917211148315,1.2200374641662524,0.43085791113408056,0.5511804573603465,-0.16353621251587924,0.6586323285433434,2.3517325607956496,0.6635657432207783,1.3361398298086415,0.9426893152605952,1.202750196660914,-1.0802834636380134,0.797596295522079,-2.1353376820151646,1.0124334336311576,-0.6884302626219291,1.4330491707214221,-1.9814602294362633,-0.5674998520256744,-0.12726165695591024,0.01690501096950438,0.21688201182560074,-0.41576239315205327,0.8413478303973625,-0.27555187555264804,1.3849573166344866,0.28965860152351597,1.71113605486422,1.3624272330785494,-1.7151558980168338,0.30445679202275927,2.246104807570592,-0.8776800083011371,0.7496073571507749,-1.6513468550235542,0.31427315248776627,-0.3863141353653024,0.6206796324142947,-0.5908078632707596,1.4202115846069745,-1.036074601565162,-0.662212444835709,1.398984597964883,-0.6071363585980336,0.3667053811579149,-0.44598615300190175,0.37423381822901,1.9557183485437437,0.6600142225878292,-1.0684482884249031,0.9454672943912482,0.2093456680515466,-0.7697453176044043,0.6287263791329405,0.07310029343322011,0.37831957374116265,1.9492504875561103,-0.35397126610753804,-2.0128095375517963,0.4523488963290223,0.9199987557671497,-1.5511665216942072,-0.08518306870572716,1.0818223115870886,0.585538987032418,0.9805161901529916,-0.1720247731071831,-0.868606625961535,-2.26358287161267,-0.8752904139047751,0.2127772672894863,1.4109648796754914,-0.2239337966605875,0.1678150319818709,1.2382020014030266,-0.780512342018624,-0.3419524964976665,1.60124412899403,-1.2243186234222085,-0.009284479700141263,-0.040504622303769944],\"y\":[-0.02986067173150405,-2.1799531962001777,-0.5789093555075555,-0.26434333655992476,-2.4618284536959787,-0.7901403921644476,0.9451257286228039,0.7450082871813458,1.60857197920544,1.5730902365439665,-1.9551544660171785,-0.027464389901744,-0.7681178511940615,-0.004639915826817845,-0.44030564661417154,-0.3692583950171369,-1.0160336886291301,-1.3781463485673215,1.000589278434516,-0.17665477407802171,-1.5991067512786892,0.02603287124653106,-1.382667717669445,-0.6501603347811354,-0.491696789768064,-1.1197505696997012,0.1864545305948082,1.3933095281592436,-1.2292582923747872,1.2134378265696775,1.050807935302168,1.6636700003333091,-1.2521371769182432,-1.4376908538731823,1.9078646710548013,0.5392572409200751,-0.4075494873659262,0.7247154588412541,0.2971247849574402,2.1111710146999756,-0.11585537327132055,-0.22900374168186005,-0.3221851668739211,0.3982765657461531,0.5495004709504342,-0.12327604313195765,-1.3111841261043646,-1.2403296074462404,-1.5161925502679203,-0.5733980394850131,-0.20241035990620967,0.22263247666164349,1.369663058680841,-0.9133646856953234,-1.8124409659312697,-1.1107258388224654,-0.3427571301216928,0.19151614494155136,-0.46960384303453107,0.13722610539425925,-0.5317720123390297,-0.3174299589925087,2.425123045260628,-0.11569142169700684,-0.030427007788570996,-0.5735367738403896,0.007333424341847052,0.9902826111740487,1.1055959686423025,-0.9970025603825291,-0.25277369585452814,2.5213123175753536,-0.7071160259073414,-0.06466616856029736,0.12344557594127975,-0.29813438859524793,1.0990950460168007,-0.4601794141140354,0.5448734618952821,0.0016800027576676208,0.6911720212041327,-1.7856611044880513,-1.2775394585362982,-1.3056006849590482,-1.057648906837918,0.19503908471756207,0.6139499192349814,0.07335014026279132,-0.34543168922458883,0.13619752094940035,-0.548944960325151,-1.051112064124429,-0.25072059443028544,-0.7258091936414498,-0.23853488419716937,-1.0644028379374715,-0.34312747685653466,0.2876655847805023,-1.1120659435621976,1.2051869393236536],\"type\":\"scatter\"}],                        {\"legend\":{\"bgcolor\":\"#F5F6F9\",\"font\":{\"color\":\"#4D5663\"}},\"paper_bgcolor\":\"#F5F6F9\",\"plot_bgcolor\":\"#F5F6F9\",\"template\":{\"data\":{\"barpolar\":[{\"marker\":{\"line\":{\"color\":\"#E5ECF6\",\"width\":0.5},\"pattern\":{\"fillmode\":\"overlay\",\"size\":10,\"solidity\":0.2}},\"type\":\"barpolar\"}],\"bar\":[{\"error_x\":{\"color\":\"#2a3f5f\"},\"error_y\":{\"color\":\"#2a3f5f\"},\"marker\":{\"line\":{\"color\":\"#E5ECF6\",\"width\":0.5},\"pattern\":{\"fillmode\":\"overlay\",\"size\":10,\"solidity\":0.2}},\"type\":\"bar\"}],\"carpet\":[{\"aaxis\":{\"endlinecolor\":\"#2a3f5f\",\"gridcolor\":\"white\",\"linecolor\":\"white\",\"minorgridcolor\":\"white\",\"startlinecolor\":\"#2a3f5f\"},\"baxis\":{\"endlinecolor\":\"#2a3f5f\",\"gridcolor\":\"white\",\"linecolor\":\"white\",\"minorgridcolor\":\"white\",\"startlinecolor\":\"#2a3f5f\"},\"type\":\"carpet\"}],\"choropleth\":[{\"colorbar\":{\"outlinewidth\":0,\"ticks\":\"\"},\"type\":\"choropleth\"}],\"contourcarpet\":[{\"colorbar\":{\"outlinewidth\":0,\"ticks\":\"\"},\"type\":\"contourcarpet\"}],\"contour\":[{\"colorbar\":{\"outlinewidth\":0,\"ticks\":\"\"},\"colorscale\":[[0.0,\"#0d0887\"],[0.1111111111111111,\"#46039f\"],[0.2222222222222222,\"#7201a8\"],[0.3333333333333333,\"#9c179e\"],[0.4444444444444444,\"#bd3786\"],[0.5555555555555556,\"#d8576b\"],[0.6666666666666666,\"#ed7953\"],[0.7777777777777778,\"#fb9f3a\"],[0.8888888888888888,\"#fdca26\"],[1.0,\"#f0f921\"]],\"type\":\"contour\"}],\"heatmapgl\":[{\"colorbar\":{\"outlinewidth\":0,\"ticks\":\"\"},\"colorscale\":[[0.0,\"#0d0887\"],[0.1111111111111111,\"#46039f\"],[0.2222222222222222,\"#7201a8\"],[0.3333333333333333,\"#9c179e\"],[0.4444444444444444,\"#bd3786\"],[0.5555555555555556,\"#d8576b\"],[0.6666666666666666,\"#ed7953\"],[0.7777777777777778,\"#fb9f3a\"],[0.8888888888888888,\"#fdca26\"],[1.0,\"#f0f921\"]],\"type\":\"heatmapgl\"}],\"heatmap\":[{\"colorbar\":{\"outlinewidth\":0,\"ticks\":\"\"},\"colorscale\":[[0.0,\"#0d0887\"],[0.1111111111111111,\"#46039f\"],[0.2222222222222222,\"#7201a8\"],[0.3333333333333333,\"#9c179e\"],[0.4444444444444444,\"#bd3786\"],[0.5555555555555556,\"#d8576b\"],[0.6666666666666666,\"#ed7953\"],[0.7777777777777778,\"#fb9f3a\"],[0.8888888888888888,\"#fdca26\"],[1.0,\"#f0f921\"]],\"type\":\"heatmap\"}],\"histogram2dcontour\":[{\"colorbar\":{\"outlinewidth\":0,\"ticks\":\"\"},\"colorscale\":[[0.0,\"#0d0887\"],[0.1111111111111111,\"#46039f\"],[0.2222222222222222,\"#7201a8\"],[0.3333333333333333,\"#9c179e\"],[0.4444444444444444,\"#bd3786\"],[0.5555555555555556,\"#d8576b\"],[0.6666666666666666,\"#ed7953\"],[0.7777777777777778,\"#fb9f3a\"],[0.8888888888888888,\"#fdca26\"],[1.0,\"#f0f921\"]],\"type\":\"histogram2dcontour\"}],\"histogram2d\":[{\"colorbar\":{\"outlinewidth\":0,\"ticks\":\"\"},\"colorscale\":[[0.0,\"#0d0887\"],[0.1111111111111111,\"#46039f\"],[0.2222222222222222,\"#7201a8\"],[0.3333333333333333,\"#9c179e\"],[0.4444444444444444,\"#bd3786\"],[0.5555555555555556,\"#d8576b\"],[0.6666666666666666,\"#ed7953\"],[0.7777777777777778,\"#fb9f3a\"],[0.8888888888888888,\"#fdca26\"],[1.0,\"#f0f921\"]],\"type\":\"histogram2d\"}],\"histogram\":[{\"marker\":{\"pattern\":{\"fillmode\":\"overlay\",\"size\":10,\"solidity\":0.2}},\"type\":\"histogram\"}],\"mesh3d\":[{\"colorbar\":{\"outlinewidth\":0,\"ticks\":\"\"},\"type\":\"mesh3d\"}],\"parcoords\":[{\"line\":{\"colorbar\":{\"outlinewidth\":0,\"ticks\":\"\"}},\"type\":\"parcoords\"}],\"pie\":[{\"automargin\":true,\"type\":\"pie\"}],\"scatter3d\":[{\"line\":{\"colorbar\":{\"outlinewidth\":0,\"ticks\":\"\"}},\"marker\":{\"colorbar\":{\"outlinewidth\":0,\"ticks\":\"\"}},\"type\":\"scatter3d\"}],\"scattercarpet\":[{\"marker\":{\"colorbar\":{\"outlinewidth\":0,\"ticks\":\"\"}},\"type\":\"scattercarpet\"}],\"scattergeo\":[{\"marker\":{\"colorbar\":{\"outlinewidth\":0,\"ticks\":\"\"}},\"type\":\"scattergeo\"}],\"scattergl\":[{\"marker\":{\"colorbar\":{\"outlinewidth\":0,\"ticks\":\"\"}},\"type\":\"scattergl\"}],\"scattermapbox\":[{\"marker\":{\"colorbar\":{\"outlinewidth\":0,\"ticks\":\"\"}},\"type\":\"scattermapbox\"}],\"scatterpolargl\":[{\"marker\":{\"colorbar\":{\"outlinewidth\":0,\"ticks\":\"\"}},\"type\":\"scatterpolargl\"}],\"scatterpolar\":[{\"marker\":{\"colorbar\":{\"outlinewidth\":0,\"ticks\":\"\"}},\"type\":\"scatterpolar\"}],\"scatter\":[{\"fillpattern\":{\"fillmode\":\"overlay\",\"size\":10,\"solidity\":0.2},\"type\":\"scatter\"}],\"scatterternary\":[{\"marker\":{\"colorbar\":{\"outlinewidth\":0,\"ticks\":\"\"}},\"type\":\"scatterternary\"}],\"surface\":[{\"colorbar\":{\"outlinewidth\":0,\"ticks\":\"\"},\"colorscale\":[[0.0,\"#0d0887\"],[0.1111111111111111,\"#46039f\"],[0.2222222222222222,\"#7201a8\"],[0.3333333333333333,\"#9c179e\"],[0.4444444444444444,\"#bd3786\"],[0.5555555555555556,\"#d8576b\"],[0.6666666666666666,\"#ed7953\"],[0.7777777777777778,\"#fb9f3a\"],[0.8888888888888888,\"#fdca26\"],[1.0,\"#f0f921\"]],\"type\":\"surface\"}],\"table\":[{\"cells\":{\"fill\":{\"color\":\"#EBF0F8\"},\"line\":{\"color\":\"white\"}},\"header\":{\"fill\":{\"color\":\"#C8D4E3\"},\"line\":{\"color\":\"white\"}},\"type\":\"table\"}]},\"layout\":{\"annotationdefaults\":{\"arrowcolor\":\"#2a3f5f\",\"arrowhead\":0,\"arrowwidth\":1},\"autotypenumbers\":\"strict\",\"coloraxis\":{\"colorbar\":{\"outlinewidth\":0,\"ticks\":\"\"}},\"colorscale\":{\"diverging\":[[0,\"#8e0152\"],[0.1,\"#c51b7d\"],[0.2,\"#de77ae\"],[0.3,\"#f1b6da\"],[0.4,\"#fde0ef\"],[0.5,\"#f7f7f7\"],[0.6,\"#e6f5d0\"],[0.7,\"#b8e186\"],[0.8,\"#7fbc41\"],[0.9,\"#4d9221\"],[1,\"#276419\"]],\"sequential\":[[0.0,\"#0d0887\"],[0.1111111111111111,\"#46039f\"],[0.2222222222222222,\"#7201a8\"],[0.3333333333333333,\"#9c179e\"],[0.4444444444444444,\"#bd3786\"],[0.5555555555555556,\"#d8576b\"],[0.6666666666666666,\"#ed7953\"],[0.7777777777777778,\"#fb9f3a\"],[0.8888888888888888,\"#fdca26\"],[1.0,\"#f0f921\"]],\"sequentialminus\":[[0.0,\"#0d0887\"],[0.1111111111111111,\"#46039f\"],[0.2222222222222222,\"#7201a8\"],[0.3333333333333333,\"#9c179e\"],[0.4444444444444444,\"#bd3786\"],[0.5555555555555556,\"#d8576b\"],[0.6666666666666666,\"#ed7953\"],[0.7777777777777778,\"#fb9f3a\"],[0.8888888888888888,\"#fdca26\"],[1.0,\"#f0f921\"]]},\"colorway\":[\"#636efa\",\"#EF553B\",\"#00cc96\",\"#ab63fa\",\"#FFA15A\",\"#19d3f3\",\"#FF6692\",\"#B6E880\",\"#FF97FF\",\"#FECB52\"],\"font\":{\"color\":\"#2a3f5f\"},\"geo\":{\"bgcolor\":\"white\",\"lakecolor\":\"white\",\"landcolor\":\"#E5ECF6\",\"showlakes\":true,\"showland\":true,\"subunitcolor\":\"white\"},\"hoverlabel\":{\"align\":\"left\"},\"hovermode\":\"closest\",\"mapbox\":{\"style\":\"light\"},\"paper_bgcolor\":\"white\",\"plot_bgcolor\":\"#E5ECF6\",\"polar\":{\"angularaxis\":{\"gridcolor\":\"white\",\"linecolor\":\"white\",\"ticks\":\"\"},\"bgcolor\":\"#E5ECF6\",\"radialaxis\":{\"gridcolor\":\"white\",\"linecolor\":\"white\",\"ticks\":\"\"}},\"scene\":{\"xaxis\":{\"backgroundcolor\":\"#E5ECF6\",\"gridcolor\":\"white\",\"gridwidth\":2,\"linecolor\":\"white\",\"showbackground\":true,\"ticks\":\"\",\"zerolinecolor\":\"white\"},\"yaxis\":{\"backgroundcolor\":\"#E5ECF6\",\"gridcolor\":\"white\",\"gridwidth\":2,\"linecolor\":\"white\",\"showbackground\":true,\"ticks\":\"\",\"zerolinecolor\":\"white\"},\"zaxis\":{\"backgroundcolor\":\"#E5ECF6\",\"gridcolor\":\"white\",\"gridwidth\":2,\"linecolor\":\"white\",\"showbackground\":true,\"ticks\":\"\",\"zerolinecolor\":\"white\"}},\"shapedefaults\":{\"line\":{\"color\":\"#2a3f5f\"}},\"ternary\":{\"aaxis\":{\"gridcolor\":\"white\",\"linecolor\":\"white\",\"ticks\":\"\"},\"baxis\":{\"gridcolor\":\"white\",\"linecolor\":\"white\",\"ticks\":\"\"},\"bgcolor\":\"#E5ECF6\",\"caxis\":{\"gridcolor\":\"white\",\"linecolor\":\"white\",\"ticks\":\"\"}},\"title\":{\"x\":0.05},\"xaxis\":{\"automargin\":true,\"gridcolor\":\"white\",\"linecolor\":\"white\",\"ticks\":\"\",\"title\":{\"standoff\":15},\"zerolinecolor\":\"white\",\"zerolinewidth\":2},\"yaxis\":{\"automargin\":true,\"gridcolor\":\"white\",\"linecolor\":\"white\",\"ticks\":\"\",\"title\":{\"standoff\":15},\"zerolinecolor\":\"white\",\"zerolinewidth\":2}}},\"title\":{\"font\":{\"color\":\"#4D5663\"}},\"xaxis\":{\"gridcolor\":\"#E1E5ED\",\"showgrid\":true,\"tickfont\":{\"color\":\"#4D5663\"},\"title\":{\"font\":{\"color\":\"#4D5663\"},\"text\":\"\"},\"zerolinecolor\":\"#E1E5ED\"},\"yaxis\":{\"gridcolor\":\"#E1E5ED\",\"showgrid\":true,\"tickfont\":{\"color\":\"#4D5663\"},\"title\":{\"font\":{\"color\":\"#4D5663\"},\"text\":\"\"},\"zerolinecolor\":\"#E1E5ED\"}},                        {\"showLink\": true, \"linkText\": \"Export to plot.ly\", \"plotlyServerURL\": \"https://plot.ly\", \"responsive\": true}                    ).then(function(){\n",
       "                            \n",
       "var gd = document.getElementById('d11e88e9-b02e-42fc-9997-d531c020317a');\n",
       "var x = new MutationObserver(function (mutations, observer) {{\n",
       "        var display = window.getComputedStyle(gd).display;\n",
       "        if (!display || display === 'none') {{\n",
       "            console.log([gd, 'removed!']);\n",
       "            Plotly.purge(gd);\n",
       "            observer.disconnect();\n",
       "        }}\n",
       "}});\n",
       "\n",
       "// Listen for the removal of the full notebook cells\n",
       "var notebookContainer = gd.closest('#notebook-container');\n",
       "if (notebookContainer) {{\n",
       "    x.observe(notebookContainer, {childList: true});\n",
       "}}\n",
       "\n",
       "// Listen for the clearing of the current output cell\n",
       "var outputEl = gd.closest('.output');\n",
       "if (outputEl) {{\n",
       "    x.observe(outputEl, {childList: true});\n",
       "}}\n",
       "\n",
       "                        })                };                });            </script>        </div>"
      ]
     },
     "metadata": {},
     "output_type": "display_data"
    }
   ],
   "source": [
    "df.iplot(kind='bubble',x='A',y='B',size='C')"
   ]
  },
  {
   "cell_type": "code",
   "execution_count": 23,
   "id": "090bc11b-8179-456a-9bb5-f0e16025b4b2",
   "metadata": {},
   "outputs": [],
   "source": [
    "## scatter_matrix()\n",
    "\n",
    "#Similar to sns.pairplot()"
   ]
  },
  {
   "cell_type": "code",
   "execution_count": 24,
   "id": "c537120e-21de-48ca-a538-663bde0f33da",
   "metadata": {},
   "outputs": [
    {
     "data": {
      "application/vnd.plotly.v1+json": {
       "config": {
        "linkText": "Export to plot.ly",
        "plotlyServerURL": "https://plot.ly",
        "showLink": true
       },
       "data": [
        {
         "histfunc": "count",
         "histnorm": "",
         "marker": {
          "color": "rgba(255, 153, 51, 1.0)",
          "line": {
           "color": "#4D5663",
           "width": 1.3
          }
         },
         "name": "A",
         "nbinsx": 10,
         "opacity": 0.8,
         "orientation": "v",
         "type": "histogram",
         "x": [
          -0.25651358813864394,
          -0.37235581545779156,
          0.5002419357099328,
          -0.11000076537614083,
          0.17778660907896845,
          0.9604613024588065,
          0.4363214349672373,
          -1.4978277774334499,
          0.8645756506604332,
          2.0630604768166827,
          0.7542953169658457,
          0.1733651976552315,
          -0.6444331066497141,
          0.3209043316114856,
          1.6785806759597626,
          -0.768276598133913,
          -0.4437501612730779,
          -0.8302809130629326,
          -1.83130407644596,
          -0.08556917211148315,
          1.2200374641662524,
          0.43085791113408056,
          0.5511804573603465,
          -0.16353621251587924,
          0.6586323285433434,
          2.3517325607956496,
          0.6635657432207783,
          1.3361398298086415,
          0.9426893152605952,
          1.202750196660914,
          -1.0802834636380134,
          0.797596295522079,
          -2.1353376820151646,
          1.0124334336311576,
          -0.6884302626219291,
          1.4330491707214221,
          -1.9814602294362633,
          -0.5674998520256744,
          -0.12726165695591024,
          0.01690501096950438,
          0.21688201182560074,
          -0.41576239315205327,
          0.8413478303973625,
          -0.27555187555264804,
          1.3849573166344866,
          0.28965860152351597,
          1.71113605486422,
          1.3624272330785494,
          -1.7151558980168338,
          0.30445679202275927,
          2.246104807570592,
          -0.8776800083011371,
          0.7496073571507749,
          -1.6513468550235542,
          0.31427315248776627,
          -0.3863141353653024,
          0.6206796324142947,
          -0.5908078632707596,
          1.4202115846069745,
          -1.036074601565162,
          -0.662212444835709,
          1.398984597964883,
          -0.6071363585980336,
          0.3667053811579149,
          -0.44598615300190175,
          0.37423381822901,
          1.9557183485437437,
          0.6600142225878292,
          -1.0684482884249031,
          0.9454672943912482,
          0.2093456680515466,
          -0.7697453176044043,
          0.6287263791329405,
          0.07310029343322011,
          0.37831957374116265,
          1.9492504875561103,
          -0.35397126610753804,
          -2.0128095375517963,
          0.4523488963290223,
          0.9199987557671497,
          -1.5511665216942072,
          -0.08518306870572716,
          1.0818223115870886,
          0.585538987032418,
          0.9805161901529916,
          -0.1720247731071831,
          -0.868606625961535,
          -2.26358287161267,
          -0.8752904139047751,
          0.2127772672894863,
          1.4109648796754914,
          -0.2239337966605875,
          0.1678150319818709,
          1.2382020014030266,
          -0.780512342018624,
          -0.3419524964976665,
          1.60124412899403,
          -1.2243186234222085,
          -0.009284479700141263,
          -0.040504622303769944
         ],
         "xaxis": "x",
         "yaxis": "y"
        },
        {
         "line": {
          "color": "rgba(128, 128, 128, 1.0)",
          "dash": "solid",
          "shape": "linear",
          "width": 1.3
         },
         "marker": {
          "size": 2,
          "symbol": "circle"
         },
         "mode": "markers",
         "name": "A",
         "text": "",
         "type": "scatter",
         "x": [
          -0.02986067173150405,
          -2.1799531962001777,
          -0.5789093555075555,
          -0.26434333655992476,
          -2.4618284536959787,
          -0.7901403921644476,
          0.9451257286228039,
          0.7450082871813458,
          1.60857197920544,
          1.5730902365439665,
          -1.9551544660171785,
          -0.027464389901744,
          -0.7681178511940615,
          -0.004639915826817845,
          -0.44030564661417154,
          -0.3692583950171369,
          -1.0160336886291301,
          -1.3781463485673215,
          1.000589278434516,
          -0.17665477407802171,
          -1.5991067512786892,
          0.02603287124653106,
          -1.382667717669445,
          -0.6501603347811354,
          -0.491696789768064,
          -1.1197505696997012,
          0.1864545305948082,
          1.3933095281592436,
          -1.2292582923747872,
          1.2134378265696775,
          1.050807935302168,
          1.6636700003333091,
          -1.2521371769182432,
          -1.4376908538731823,
          1.9078646710548013,
          0.5392572409200751,
          -0.4075494873659262,
          0.7247154588412541,
          0.2971247849574402,
          2.1111710146999756,
          -0.11585537327132055,
          -0.22900374168186005,
          -0.3221851668739211,
          0.3982765657461531,
          0.5495004709504342,
          -0.12327604313195765,
          -1.3111841261043646,
          -1.2403296074462404,
          -1.5161925502679203,
          -0.5733980394850131,
          -0.20241035990620967,
          0.22263247666164349,
          1.369663058680841,
          -0.9133646856953234,
          -1.8124409659312697,
          -1.1107258388224654,
          -0.3427571301216928,
          0.19151614494155136,
          -0.46960384303453107,
          0.13722610539425925,
          -0.5317720123390297,
          -0.3174299589925087,
          2.425123045260628,
          -0.11569142169700684,
          -0.030427007788570996,
          -0.5735367738403896,
          0.007333424341847052,
          0.9902826111740487,
          1.1055959686423025,
          -0.9970025603825291,
          -0.25277369585452814,
          2.5213123175753536,
          -0.7071160259073414,
          -0.06466616856029736,
          0.12344557594127975,
          -0.29813438859524793,
          1.0990950460168007,
          -0.4601794141140354,
          0.5448734618952821,
          0.0016800027576676208,
          0.6911720212041327,
          -1.7856611044880513,
          -1.2775394585362982,
          -1.3056006849590482,
          -1.057648906837918,
          0.19503908471756207,
          0.6139499192349814,
          0.07335014026279132,
          -0.34543168922458883,
          0.13619752094940035,
          -0.548944960325151,
          -1.051112064124429,
          -0.25072059443028544,
          -0.7258091936414498,
          -0.23853488419716937,
          -1.0644028379374715,
          -0.34312747685653466,
          0.2876655847805023,
          -1.1120659435621976,
          1.2051869393236536
         ],
         "xaxis": "x2",
         "y": [
          -0.25651358813864394,
          -0.37235581545779156,
          0.5002419357099328,
          -0.11000076537614083,
          0.17778660907896845,
          0.9604613024588065,
          0.4363214349672373,
          -1.4978277774334499,
          0.8645756506604332,
          2.0630604768166827,
          0.7542953169658457,
          0.1733651976552315,
          -0.6444331066497141,
          0.3209043316114856,
          1.6785806759597626,
          -0.768276598133913,
          -0.4437501612730779,
          -0.8302809130629326,
          -1.83130407644596,
          -0.08556917211148315,
          1.2200374641662524,
          0.43085791113408056,
          0.5511804573603465,
          -0.16353621251587924,
          0.6586323285433434,
          2.3517325607956496,
          0.6635657432207783,
          1.3361398298086415,
          0.9426893152605952,
          1.202750196660914,
          -1.0802834636380134,
          0.797596295522079,
          -2.1353376820151646,
          1.0124334336311576,
          -0.6884302626219291,
          1.4330491707214221,
          -1.9814602294362633,
          -0.5674998520256744,
          -0.12726165695591024,
          0.01690501096950438,
          0.21688201182560074,
          -0.41576239315205327,
          0.8413478303973625,
          -0.27555187555264804,
          1.3849573166344866,
          0.28965860152351597,
          1.71113605486422,
          1.3624272330785494,
          -1.7151558980168338,
          0.30445679202275927,
          2.246104807570592,
          -0.8776800083011371,
          0.7496073571507749,
          -1.6513468550235542,
          0.31427315248776627,
          -0.3863141353653024,
          0.6206796324142947,
          -0.5908078632707596,
          1.4202115846069745,
          -1.036074601565162,
          -0.662212444835709,
          1.398984597964883,
          -0.6071363585980336,
          0.3667053811579149,
          -0.44598615300190175,
          0.37423381822901,
          1.9557183485437437,
          0.6600142225878292,
          -1.0684482884249031,
          0.9454672943912482,
          0.2093456680515466,
          -0.7697453176044043,
          0.6287263791329405,
          0.07310029343322011,
          0.37831957374116265,
          1.9492504875561103,
          -0.35397126610753804,
          -2.0128095375517963,
          0.4523488963290223,
          0.9199987557671497,
          -1.5511665216942072,
          -0.08518306870572716,
          1.0818223115870886,
          0.585538987032418,
          0.9805161901529916,
          -0.1720247731071831,
          -0.868606625961535,
          -2.26358287161267,
          -0.8752904139047751,
          0.2127772672894863,
          1.4109648796754914,
          -0.2239337966605875,
          0.1678150319818709,
          1.2382020014030266,
          -0.780512342018624,
          -0.3419524964976665,
          1.60124412899403,
          -1.2243186234222085,
          -0.009284479700141263,
          -0.040504622303769944
         ],
         "yaxis": "y2"
        },
        {
         "line": {
          "color": "rgba(128, 128, 128, 1.0)",
          "dash": "solid",
          "shape": "linear",
          "width": 1.3
         },
         "marker": {
          "size": 2,
          "symbol": "circle"
         },
         "mode": "markers",
         "name": "A",
         "text": "",
         "type": "scatter",
         "x": [
          -0.38966192493917723,
          -1.7813843660441095,
          -1.9193483498996866,
          0.30603908104586475,
          1.1901118431272304,
          0.3020306103810205,
          0.21176433346668974,
          -0.5458308842815632,
          -0.21803537001369785,
          -1.505913546529528,
          1.1627507784104,
          0.46755066289910674,
          2.6903462341151525,
          -1.197037291955223,
          -0.9329622148665994,
          -0.4198668209818169,
          0.22837973743602738,
          0.3714868629954388,
          -0.8321609573707648,
          1.27133060905982,
          0.06340798434157047,
          0.7570282886192963,
          -0.868401924419441,
          1.2101670240064142,
          0.4175413385028892,
          -0.14901072570240553,
          0.33466406777533614,
          -0.11467336612418301,
          0.41611845547640586,
          -0.06469693175697656,
          -0.6107403084337582,
          -1.1653079393826375,
          -0.40412647925747575,
          -0.8395953602088322,
          0.4170611053625541,
          1.0463020329597337,
          -0.8970243574009541,
          0.04231685614746035,
          -0.7514043299947173,
          -0.220079773403818,
          0.28406214034930893,
          0.42539099516537165,
          0.3147322863695057,
          0.2274026391480853,
          0.29992643280159614,
          -0.751973614949727,
          1.2844414690359836,
          1.402387037538697,
          0.1574005167691417,
          -1.0095450846488814,
          -0.36269717974194093,
          0.3448706672085185,
          -0.4799764619493634,
          0.183432684162653,
          0.9795246585350526,
          0.5242094686870751,
          -0.251008910984075,
          -1.547016519486077,
          0.15420614929702792,
          1.199187022254034,
          -2.1149199623099926,
          0.3356040955726825,
          0.36985829990417046,
          1.477973872920377,
          0.05009480394779497,
          -0.692899226188453,
          0.9408587817537175,
          -1.4466868250380696,
          1.8448285301209943,
          -0.37361046080901994,
          -2.5636611054196607,
          0.9993004179624181,
          0.8605512159071496,
          -0.04544818936896232,
          -0.19764311422143213,
          0.40782911881921147,
          -1.2145943978702218,
          -0.3819946699399939,
          0.13599805180499586,
          0.14510063229809675,
          -0.4091218237607103,
          -0.14022578557864243,
          0.6851768647839728,
          0.8320687109891274,
          -0.7968523378459248,
          0.6995691542772194,
          -0.8656229944332279,
          0.05446087949522462,
          0.9356332760078716,
          1.431814851289245,
          -0.12510885367604602,
          -0.915202888079907,
          0.233585926240254,
          1.1401096698851112,
          -1.1220524666369662,
          1.113161756618276,
          -2.387993937318283,
          -1.9465645816334682,
          0.8995898884803665,
          -1.6344920825885743
         ],
         "xaxis": "x3",
         "y": [
          -0.25651358813864394,
          -0.37235581545779156,
          0.5002419357099328,
          -0.11000076537614083,
          0.17778660907896845,
          0.9604613024588065,
          0.4363214349672373,
          -1.4978277774334499,
          0.8645756506604332,
          2.0630604768166827,
          0.7542953169658457,
          0.1733651976552315,
          -0.6444331066497141,
          0.3209043316114856,
          1.6785806759597626,
          -0.768276598133913,
          -0.4437501612730779,
          -0.8302809130629326,
          -1.83130407644596,
          -0.08556917211148315,
          1.2200374641662524,
          0.43085791113408056,
          0.5511804573603465,
          -0.16353621251587924,
          0.6586323285433434,
          2.3517325607956496,
          0.6635657432207783,
          1.3361398298086415,
          0.9426893152605952,
          1.202750196660914,
          -1.0802834636380134,
          0.797596295522079,
          -2.1353376820151646,
          1.0124334336311576,
          -0.6884302626219291,
          1.4330491707214221,
          -1.9814602294362633,
          -0.5674998520256744,
          -0.12726165695591024,
          0.01690501096950438,
          0.21688201182560074,
          -0.41576239315205327,
          0.8413478303973625,
          -0.27555187555264804,
          1.3849573166344866,
          0.28965860152351597,
          1.71113605486422,
          1.3624272330785494,
          -1.7151558980168338,
          0.30445679202275927,
          2.246104807570592,
          -0.8776800083011371,
          0.7496073571507749,
          -1.6513468550235542,
          0.31427315248776627,
          -0.3863141353653024,
          0.6206796324142947,
          -0.5908078632707596,
          1.4202115846069745,
          -1.036074601565162,
          -0.662212444835709,
          1.398984597964883,
          -0.6071363585980336,
          0.3667053811579149,
          -0.44598615300190175,
          0.37423381822901,
          1.9557183485437437,
          0.6600142225878292,
          -1.0684482884249031,
          0.9454672943912482,
          0.2093456680515466,
          -0.7697453176044043,
          0.6287263791329405,
          0.07310029343322011,
          0.37831957374116265,
          1.9492504875561103,
          -0.35397126610753804,
          -2.0128095375517963,
          0.4523488963290223,
          0.9199987557671497,
          -1.5511665216942072,
          -0.08518306870572716,
          1.0818223115870886,
          0.585538987032418,
          0.9805161901529916,
          -0.1720247731071831,
          -0.868606625961535,
          -2.26358287161267,
          -0.8752904139047751,
          0.2127772672894863,
          1.4109648796754914,
          -0.2239337966605875,
          0.1678150319818709,
          1.2382020014030266,
          -0.780512342018624,
          -0.3419524964976665,
          1.60124412899403,
          -1.2243186234222085,
          -0.009284479700141263,
          -0.040504622303769944
         ],
         "yaxis": "y3"
        },
        {
         "line": {
          "color": "rgba(128, 128, 128, 1.0)",
          "dash": "solid",
          "shape": "linear",
          "width": 1.3
         },
         "marker": {
          "size": 2,
          "symbol": "circle"
         },
         "mode": "markers",
         "name": "A",
         "text": "",
         "type": "scatter",
         "x": [
          1.3379982953184697,
          0.43596200158092563,
          -0.7631196008307619,
          -0.5679030707716345,
          -0.7872850061470617,
          0.41138033506195215,
          -0.15067850685396827,
          0.25791067763325554,
          0.6436235039149962,
          1.3236997987644707,
          -1.0171427376393085,
          0.8395721802900593,
          0.9490113918092095,
          -0.33861351286101615,
          -0.594140068374357,
          -1.0862685764055808,
          0.6381921060261312,
          -2.025285230217843,
          0.9453300039966772,
          1.2728153098249027,
          0.5454040914311109,
          -0.08584535182158513,
          0.20393438397452654,
          -0.8090202634016018,
          0.8892665001357477,
          0.13874951031877247,
          0.2607263225769835,
          -0.5980763442522491,
          -0.292536794369674,
          0.9668060165596394,
          -0.1214207591398322,
          -0.7313225037183346,
          -0.7940830622872195,
          0.10368083002132215,
          1.2072686896833953,
          0.6946900116706878,
          -0.6902393233133621,
          -1.6518050704457372,
          0.19980976340380366,
          1.9460179998888243,
          -0.531796166254378,
          -0.7484486735942585,
          0.1796230290171249,
          -0.286221396993404,
          -0.4898088756101573,
          0.10977459198301838,
          -1.0353323426199479,
          0.9995925658791721,
          1.899663190487716,
          -0.7106904282195735,
          -0.0739470377571122,
          -0.9565850084701643,
          -0.5273134603892076,
          -0.4626906500410658,
          1.0055383578188615,
          -1.056222119469628,
          -0.23873414087916872,
          0.6183700330855165,
          -0.371115375582888,
          0.6517795470485221,
          -0.7342879734317916,
          0.30195081469517454,
          1.2753618601770222,
          0.5319775667908635,
          -0.265106098283388,
          -0.2590386757596041,
          -0.41812835998089326,
          -0.7373047577180892,
          -1.1463764893859034,
          -0.04918041107819704,
          -0.48119237400654424,
          0.3628454100539982,
          0.7323906197761266,
          -0.6052580679327753,
          -1.3764492966375457,
          -2.2092031779808847,
          0.2933615309237955,
          -0.8875861214690169,
          3.230135103934922,
          0.5968978982094048,
          -1.3016692630358448,
          0.9007075990241182,
          -1.6969277990854619,
          -0.02781487685981458,
          -2.221881887522703,
          0.8371433357860195,
          0.7619266355077301,
          0.8131780006414743,
          -0.0110069029306748,
          1.4458510984193944,
          -1.454041085151003,
          -1.103029793341637,
          2.134675461219435,
          0.4044164555511809,
          0.4091331114985936,
          0.4082425298040662,
          -0.3450957859769514,
          -0.8017624852347573,
          0.5064400505980814,
          1.6632076561950764
         ],
         "xaxis": "x4",
         "y": [
          -0.25651358813864394,
          -0.37235581545779156,
          0.5002419357099328,
          -0.11000076537614083,
          0.17778660907896845,
          0.9604613024588065,
          0.4363214349672373,
          -1.4978277774334499,
          0.8645756506604332,
          2.0630604768166827,
          0.7542953169658457,
          0.1733651976552315,
          -0.6444331066497141,
          0.3209043316114856,
          1.6785806759597626,
          -0.768276598133913,
          -0.4437501612730779,
          -0.8302809130629326,
          -1.83130407644596,
          -0.08556917211148315,
          1.2200374641662524,
          0.43085791113408056,
          0.5511804573603465,
          -0.16353621251587924,
          0.6586323285433434,
          2.3517325607956496,
          0.6635657432207783,
          1.3361398298086415,
          0.9426893152605952,
          1.202750196660914,
          -1.0802834636380134,
          0.797596295522079,
          -2.1353376820151646,
          1.0124334336311576,
          -0.6884302626219291,
          1.4330491707214221,
          -1.9814602294362633,
          -0.5674998520256744,
          -0.12726165695591024,
          0.01690501096950438,
          0.21688201182560074,
          -0.41576239315205327,
          0.8413478303973625,
          -0.27555187555264804,
          1.3849573166344866,
          0.28965860152351597,
          1.71113605486422,
          1.3624272330785494,
          -1.7151558980168338,
          0.30445679202275927,
          2.246104807570592,
          -0.8776800083011371,
          0.7496073571507749,
          -1.6513468550235542,
          0.31427315248776627,
          -0.3863141353653024,
          0.6206796324142947,
          -0.5908078632707596,
          1.4202115846069745,
          -1.036074601565162,
          -0.662212444835709,
          1.398984597964883,
          -0.6071363585980336,
          0.3667053811579149,
          -0.44598615300190175,
          0.37423381822901,
          1.9557183485437437,
          0.6600142225878292,
          -1.0684482884249031,
          0.9454672943912482,
          0.2093456680515466,
          -0.7697453176044043,
          0.6287263791329405,
          0.07310029343322011,
          0.37831957374116265,
          1.9492504875561103,
          -0.35397126610753804,
          -2.0128095375517963,
          0.4523488963290223,
          0.9199987557671497,
          -1.5511665216942072,
          -0.08518306870572716,
          1.0818223115870886,
          0.585538987032418,
          0.9805161901529916,
          -0.1720247731071831,
          -0.868606625961535,
          -2.26358287161267,
          -0.8752904139047751,
          0.2127772672894863,
          1.4109648796754914,
          -0.2239337966605875,
          0.1678150319818709,
          1.2382020014030266,
          -0.780512342018624,
          -0.3419524964976665,
          1.60124412899403,
          -1.2243186234222085,
          -0.009284479700141263,
          -0.040504622303769944
         ],
         "yaxis": "y4"
        },
        {
         "line": {
          "color": "rgba(128, 128, 128, 1.0)",
          "dash": "solid",
          "shape": "linear",
          "width": 1.3
         },
         "marker": {
          "size": 2,
          "symbol": "circle"
         },
         "mode": "markers",
         "name": "B",
         "text": "",
         "type": "scatter",
         "x": [
          -0.25651358813864394,
          -0.37235581545779156,
          0.5002419357099328,
          -0.11000076537614083,
          0.17778660907896845,
          0.9604613024588065,
          0.4363214349672373,
          -1.4978277774334499,
          0.8645756506604332,
          2.0630604768166827,
          0.7542953169658457,
          0.1733651976552315,
          -0.6444331066497141,
          0.3209043316114856,
          1.6785806759597626,
          -0.768276598133913,
          -0.4437501612730779,
          -0.8302809130629326,
          -1.83130407644596,
          -0.08556917211148315,
          1.2200374641662524,
          0.43085791113408056,
          0.5511804573603465,
          -0.16353621251587924,
          0.6586323285433434,
          2.3517325607956496,
          0.6635657432207783,
          1.3361398298086415,
          0.9426893152605952,
          1.202750196660914,
          -1.0802834636380134,
          0.797596295522079,
          -2.1353376820151646,
          1.0124334336311576,
          -0.6884302626219291,
          1.4330491707214221,
          -1.9814602294362633,
          -0.5674998520256744,
          -0.12726165695591024,
          0.01690501096950438,
          0.21688201182560074,
          -0.41576239315205327,
          0.8413478303973625,
          -0.27555187555264804,
          1.3849573166344866,
          0.28965860152351597,
          1.71113605486422,
          1.3624272330785494,
          -1.7151558980168338,
          0.30445679202275927,
          2.246104807570592,
          -0.8776800083011371,
          0.7496073571507749,
          -1.6513468550235542,
          0.31427315248776627,
          -0.3863141353653024,
          0.6206796324142947,
          -0.5908078632707596,
          1.4202115846069745,
          -1.036074601565162,
          -0.662212444835709,
          1.398984597964883,
          -0.6071363585980336,
          0.3667053811579149,
          -0.44598615300190175,
          0.37423381822901,
          1.9557183485437437,
          0.6600142225878292,
          -1.0684482884249031,
          0.9454672943912482,
          0.2093456680515466,
          -0.7697453176044043,
          0.6287263791329405,
          0.07310029343322011,
          0.37831957374116265,
          1.9492504875561103,
          -0.35397126610753804,
          -2.0128095375517963,
          0.4523488963290223,
          0.9199987557671497,
          -1.5511665216942072,
          -0.08518306870572716,
          1.0818223115870886,
          0.585538987032418,
          0.9805161901529916,
          -0.1720247731071831,
          -0.868606625961535,
          -2.26358287161267,
          -0.8752904139047751,
          0.2127772672894863,
          1.4109648796754914,
          -0.2239337966605875,
          0.1678150319818709,
          1.2382020014030266,
          -0.780512342018624,
          -0.3419524964976665,
          1.60124412899403,
          -1.2243186234222085,
          -0.009284479700141263,
          -0.040504622303769944
         ],
         "xaxis": "x5",
         "y": [
          -0.02986067173150405,
          -2.1799531962001777,
          -0.5789093555075555,
          -0.26434333655992476,
          -2.4618284536959787,
          -0.7901403921644476,
          0.9451257286228039,
          0.7450082871813458,
          1.60857197920544,
          1.5730902365439665,
          -1.9551544660171785,
          -0.027464389901744,
          -0.7681178511940615,
          -0.004639915826817845,
          -0.44030564661417154,
          -0.3692583950171369,
          -1.0160336886291301,
          -1.3781463485673215,
          1.000589278434516,
          -0.17665477407802171,
          -1.5991067512786892,
          0.02603287124653106,
          -1.382667717669445,
          -0.6501603347811354,
          -0.491696789768064,
          -1.1197505696997012,
          0.1864545305948082,
          1.3933095281592436,
          -1.2292582923747872,
          1.2134378265696775,
          1.050807935302168,
          1.6636700003333091,
          -1.2521371769182432,
          -1.4376908538731823,
          1.9078646710548013,
          0.5392572409200751,
          -0.4075494873659262,
          0.7247154588412541,
          0.2971247849574402,
          2.1111710146999756,
          -0.11585537327132055,
          -0.22900374168186005,
          -0.3221851668739211,
          0.3982765657461531,
          0.5495004709504342,
          -0.12327604313195765,
          -1.3111841261043646,
          -1.2403296074462404,
          -1.5161925502679203,
          -0.5733980394850131,
          -0.20241035990620967,
          0.22263247666164349,
          1.369663058680841,
          -0.9133646856953234,
          -1.8124409659312697,
          -1.1107258388224654,
          -0.3427571301216928,
          0.19151614494155136,
          -0.46960384303453107,
          0.13722610539425925,
          -0.5317720123390297,
          -0.3174299589925087,
          2.425123045260628,
          -0.11569142169700684,
          -0.030427007788570996,
          -0.5735367738403896,
          0.007333424341847052,
          0.9902826111740487,
          1.1055959686423025,
          -0.9970025603825291,
          -0.25277369585452814,
          2.5213123175753536,
          -0.7071160259073414,
          -0.06466616856029736,
          0.12344557594127975,
          -0.29813438859524793,
          1.0990950460168007,
          -0.4601794141140354,
          0.5448734618952821,
          0.0016800027576676208,
          0.6911720212041327,
          -1.7856611044880513,
          -1.2775394585362982,
          -1.3056006849590482,
          -1.057648906837918,
          0.19503908471756207,
          0.6139499192349814,
          0.07335014026279132,
          -0.34543168922458883,
          0.13619752094940035,
          -0.548944960325151,
          -1.051112064124429,
          -0.25072059443028544,
          -0.7258091936414498,
          -0.23853488419716937,
          -1.0644028379374715,
          -0.34312747685653466,
          0.2876655847805023,
          -1.1120659435621976,
          1.2051869393236536
         ],
         "yaxis": "y5"
        },
        {
         "histfunc": "count",
         "histnorm": "",
         "marker": {
          "color": "rgba(55, 128, 191, 1.0)",
          "line": {
           "color": "#4D5663",
           "width": 1.3
          }
         },
         "name": "B",
         "nbinsx": 10,
         "opacity": 0.8,
         "orientation": "v",
         "type": "histogram",
         "x": [
          -0.02986067173150405,
          -2.1799531962001777,
          -0.5789093555075555,
          -0.26434333655992476,
          -2.4618284536959787,
          -0.7901403921644476,
          0.9451257286228039,
          0.7450082871813458,
          1.60857197920544,
          1.5730902365439665,
          -1.9551544660171785,
          -0.027464389901744,
          -0.7681178511940615,
          -0.004639915826817845,
          -0.44030564661417154,
          -0.3692583950171369,
          -1.0160336886291301,
          -1.3781463485673215,
          1.000589278434516,
          -0.17665477407802171,
          -1.5991067512786892,
          0.02603287124653106,
          -1.382667717669445,
          -0.6501603347811354,
          -0.491696789768064,
          -1.1197505696997012,
          0.1864545305948082,
          1.3933095281592436,
          -1.2292582923747872,
          1.2134378265696775,
          1.050807935302168,
          1.6636700003333091,
          -1.2521371769182432,
          -1.4376908538731823,
          1.9078646710548013,
          0.5392572409200751,
          -0.4075494873659262,
          0.7247154588412541,
          0.2971247849574402,
          2.1111710146999756,
          -0.11585537327132055,
          -0.22900374168186005,
          -0.3221851668739211,
          0.3982765657461531,
          0.5495004709504342,
          -0.12327604313195765,
          -1.3111841261043646,
          -1.2403296074462404,
          -1.5161925502679203,
          -0.5733980394850131,
          -0.20241035990620967,
          0.22263247666164349,
          1.369663058680841,
          -0.9133646856953234,
          -1.8124409659312697,
          -1.1107258388224654,
          -0.3427571301216928,
          0.19151614494155136,
          -0.46960384303453107,
          0.13722610539425925,
          -0.5317720123390297,
          -0.3174299589925087,
          2.425123045260628,
          -0.11569142169700684,
          -0.030427007788570996,
          -0.5735367738403896,
          0.007333424341847052,
          0.9902826111740487,
          1.1055959686423025,
          -0.9970025603825291,
          -0.25277369585452814,
          2.5213123175753536,
          -0.7071160259073414,
          -0.06466616856029736,
          0.12344557594127975,
          -0.29813438859524793,
          1.0990950460168007,
          -0.4601794141140354,
          0.5448734618952821,
          0.0016800027576676208,
          0.6911720212041327,
          -1.7856611044880513,
          -1.2775394585362982,
          -1.3056006849590482,
          -1.057648906837918,
          0.19503908471756207,
          0.6139499192349814,
          0.07335014026279132,
          -0.34543168922458883,
          0.13619752094940035,
          -0.548944960325151,
          -1.051112064124429,
          -0.25072059443028544,
          -0.7258091936414498,
          -0.23853488419716937,
          -1.0644028379374715,
          -0.34312747685653466,
          0.2876655847805023,
          -1.1120659435621976,
          1.2051869393236536
         ],
         "xaxis": "x6",
         "yaxis": "y6"
        },
        {
         "line": {
          "color": "rgba(128, 128, 128, 1.0)",
          "dash": "solid",
          "shape": "linear",
          "width": 1.3
         },
         "marker": {
          "size": 2,
          "symbol": "circle"
         },
         "mode": "markers",
         "name": "B",
         "text": "",
         "type": "scatter",
         "x": [
          -0.38966192493917723,
          -1.7813843660441095,
          -1.9193483498996866,
          0.30603908104586475,
          1.1901118431272304,
          0.3020306103810205,
          0.21176433346668974,
          -0.5458308842815632,
          -0.21803537001369785,
          -1.505913546529528,
          1.1627507784104,
          0.46755066289910674,
          2.6903462341151525,
          -1.197037291955223,
          -0.9329622148665994,
          -0.4198668209818169,
          0.22837973743602738,
          0.3714868629954388,
          -0.8321609573707648,
          1.27133060905982,
          0.06340798434157047,
          0.7570282886192963,
          -0.868401924419441,
          1.2101670240064142,
          0.4175413385028892,
          -0.14901072570240553,
          0.33466406777533614,
          -0.11467336612418301,
          0.41611845547640586,
          -0.06469693175697656,
          -0.6107403084337582,
          -1.1653079393826375,
          -0.40412647925747575,
          -0.8395953602088322,
          0.4170611053625541,
          1.0463020329597337,
          -0.8970243574009541,
          0.04231685614746035,
          -0.7514043299947173,
          -0.220079773403818,
          0.28406214034930893,
          0.42539099516537165,
          0.3147322863695057,
          0.2274026391480853,
          0.29992643280159614,
          -0.751973614949727,
          1.2844414690359836,
          1.402387037538697,
          0.1574005167691417,
          -1.0095450846488814,
          -0.36269717974194093,
          0.3448706672085185,
          -0.4799764619493634,
          0.183432684162653,
          0.9795246585350526,
          0.5242094686870751,
          -0.251008910984075,
          -1.547016519486077,
          0.15420614929702792,
          1.199187022254034,
          -2.1149199623099926,
          0.3356040955726825,
          0.36985829990417046,
          1.477973872920377,
          0.05009480394779497,
          -0.692899226188453,
          0.9408587817537175,
          -1.4466868250380696,
          1.8448285301209943,
          -0.37361046080901994,
          -2.5636611054196607,
          0.9993004179624181,
          0.8605512159071496,
          -0.04544818936896232,
          -0.19764311422143213,
          0.40782911881921147,
          -1.2145943978702218,
          -0.3819946699399939,
          0.13599805180499586,
          0.14510063229809675,
          -0.4091218237607103,
          -0.14022578557864243,
          0.6851768647839728,
          0.8320687109891274,
          -0.7968523378459248,
          0.6995691542772194,
          -0.8656229944332279,
          0.05446087949522462,
          0.9356332760078716,
          1.431814851289245,
          -0.12510885367604602,
          -0.915202888079907,
          0.233585926240254,
          1.1401096698851112,
          -1.1220524666369662,
          1.113161756618276,
          -2.387993937318283,
          -1.9465645816334682,
          0.8995898884803665,
          -1.6344920825885743
         ],
         "xaxis": "x7",
         "y": [
          -0.02986067173150405,
          -2.1799531962001777,
          -0.5789093555075555,
          -0.26434333655992476,
          -2.4618284536959787,
          -0.7901403921644476,
          0.9451257286228039,
          0.7450082871813458,
          1.60857197920544,
          1.5730902365439665,
          -1.9551544660171785,
          -0.027464389901744,
          -0.7681178511940615,
          -0.004639915826817845,
          -0.44030564661417154,
          -0.3692583950171369,
          -1.0160336886291301,
          -1.3781463485673215,
          1.000589278434516,
          -0.17665477407802171,
          -1.5991067512786892,
          0.02603287124653106,
          -1.382667717669445,
          -0.6501603347811354,
          -0.491696789768064,
          -1.1197505696997012,
          0.1864545305948082,
          1.3933095281592436,
          -1.2292582923747872,
          1.2134378265696775,
          1.050807935302168,
          1.6636700003333091,
          -1.2521371769182432,
          -1.4376908538731823,
          1.9078646710548013,
          0.5392572409200751,
          -0.4075494873659262,
          0.7247154588412541,
          0.2971247849574402,
          2.1111710146999756,
          -0.11585537327132055,
          -0.22900374168186005,
          -0.3221851668739211,
          0.3982765657461531,
          0.5495004709504342,
          -0.12327604313195765,
          -1.3111841261043646,
          -1.2403296074462404,
          -1.5161925502679203,
          -0.5733980394850131,
          -0.20241035990620967,
          0.22263247666164349,
          1.369663058680841,
          -0.9133646856953234,
          -1.8124409659312697,
          -1.1107258388224654,
          -0.3427571301216928,
          0.19151614494155136,
          -0.46960384303453107,
          0.13722610539425925,
          -0.5317720123390297,
          -0.3174299589925087,
          2.425123045260628,
          -0.11569142169700684,
          -0.030427007788570996,
          -0.5735367738403896,
          0.007333424341847052,
          0.9902826111740487,
          1.1055959686423025,
          -0.9970025603825291,
          -0.25277369585452814,
          2.5213123175753536,
          -0.7071160259073414,
          -0.06466616856029736,
          0.12344557594127975,
          -0.29813438859524793,
          1.0990950460168007,
          -0.4601794141140354,
          0.5448734618952821,
          0.0016800027576676208,
          0.6911720212041327,
          -1.7856611044880513,
          -1.2775394585362982,
          -1.3056006849590482,
          -1.057648906837918,
          0.19503908471756207,
          0.6139499192349814,
          0.07335014026279132,
          -0.34543168922458883,
          0.13619752094940035,
          -0.548944960325151,
          -1.051112064124429,
          -0.25072059443028544,
          -0.7258091936414498,
          -0.23853488419716937,
          -1.0644028379374715,
          -0.34312747685653466,
          0.2876655847805023,
          -1.1120659435621976,
          1.2051869393236536
         ],
         "yaxis": "y7"
        },
        {
         "line": {
          "color": "rgba(128, 128, 128, 1.0)",
          "dash": "solid",
          "shape": "linear",
          "width": 1.3
         },
         "marker": {
          "size": 2,
          "symbol": "circle"
         },
         "mode": "markers",
         "name": "B",
         "text": "",
         "type": "scatter",
         "x": [
          1.3379982953184697,
          0.43596200158092563,
          -0.7631196008307619,
          -0.5679030707716345,
          -0.7872850061470617,
          0.41138033506195215,
          -0.15067850685396827,
          0.25791067763325554,
          0.6436235039149962,
          1.3236997987644707,
          -1.0171427376393085,
          0.8395721802900593,
          0.9490113918092095,
          -0.33861351286101615,
          -0.594140068374357,
          -1.0862685764055808,
          0.6381921060261312,
          -2.025285230217843,
          0.9453300039966772,
          1.2728153098249027,
          0.5454040914311109,
          -0.08584535182158513,
          0.20393438397452654,
          -0.8090202634016018,
          0.8892665001357477,
          0.13874951031877247,
          0.2607263225769835,
          -0.5980763442522491,
          -0.292536794369674,
          0.9668060165596394,
          -0.1214207591398322,
          -0.7313225037183346,
          -0.7940830622872195,
          0.10368083002132215,
          1.2072686896833953,
          0.6946900116706878,
          -0.6902393233133621,
          -1.6518050704457372,
          0.19980976340380366,
          1.9460179998888243,
          -0.531796166254378,
          -0.7484486735942585,
          0.1796230290171249,
          -0.286221396993404,
          -0.4898088756101573,
          0.10977459198301838,
          -1.0353323426199479,
          0.9995925658791721,
          1.899663190487716,
          -0.7106904282195735,
          -0.0739470377571122,
          -0.9565850084701643,
          -0.5273134603892076,
          -0.4626906500410658,
          1.0055383578188615,
          -1.056222119469628,
          -0.23873414087916872,
          0.6183700330855165,
          -0.371115375582888,
          0.6517795470485221,
          -0.7342879734317916,
          0.30195081469517454,
          1.2753618601770222,
          0.5319775667908635,
          -0.265106098283388,
          -0.2590386757596041,
          -0.41812835998089326,
          -0.7373047577180892,
          -1.1463764893859034,
          -0.04918041107819704,
          -0.48119237400654424,
          0.3628454100539982,
          0.7323906197761266,
          -0.6052580679327753,
          -1.3764492966375457,
          -2.2092031779808847,
          0.2933615309237955,
          -0.8875861214690169,
          3.230135103934922,
          0.5968978982094048,
          -1.3016692630358448,
          0.9007075990241182,
          -1.6969277990854619,
          -0.02781487685981458,
          -2.221881887522703,
          0.8371433357860195,
          0.7619266355077301,
          0.8131780006414743,
          -0.0110069029306748,
          1.4458510984193944,
          -1.454041085151003,
          -1.103029793341637,
          2.134675461219435,
          0.4044164555511809,
          0.4091331114985936,
          0.4082425298040662,
          -0.3450957859769514,
          -0.8017624852347573,
          0.5064400505980814,
          1.6632076561950764
         ],
         "xaxis": "x8",
         "y": [
          -0.02986067173150405,
          -2.1799531962001777,
          -0.5789093555075555,
          -0.26434333655992476,
          -2.4618284536959787,
          -0.7901403921644476,
          0.9451257286228039,
          0.7450082871813458,
          1.60857197920544,
          1.5730902365439665,
          -1.9551544660171785,
          -0.027464389901744,
          -0.7681178511940615,
          -0.004639915826817845,
          -0.44030564661417154,
          -0.3692583950171369,
          -1.0160336886291301,
          -1.3781463485673215,
          1.000589278434516,
          -0.17665477407802171,
          -1.5991067512786892,
          0.02603287124653106,
          -1.382667717669445,
          -0.6501603347811354,
          -0.491696789768064,
          -1.1197505696997012,
          0.1864545305948082,
          1.3933095281592436,
          -1.2292582923747872,
          1.2134378265696775,
          1.050807935302168,
          1.6636700003333091,
          -1.2521371769182432,
          -1.4376908538731823,
          1.9078646710548013,
          0.5392572409200751,
          -0.4075494873659262,
          0.7247154588412541,
          0.2971247849574402,
          2.1111710146999756,
          -0.11585537327132055,
          -0.22900374168186005,
          -0.3221851668739211,
          0.3982765657461531,
          0.5495004709504342,
          -0.12327604313195765,
          -1.3111841261043646,
          -1.2403296074462404,
          -1.5161925502679203,
          -0.5733980394850131,
          -0.20241035990620967,
          0.22263247666164349,
          1.369663058680841,
          -0.9133646856953234,
          -1.8124409659312697,
          -1.1107258388224654,
          -0.3427571301216928,
          0.19151614494155136,
          -0.46960384303453107,
          0.13722610539425925,
          -0.5317720123390297,
          -0.3174299589925087,
          2.425123045260628,
          -0.11569142169700684,
          -0.030427007788570996,
          -0.5735367738403896,
          0.007333424341847052,
          0.9902826111740487,
          1.1055959686423025,
          -0.9970025603825291,
          -0.25277369585452814,
          2.5213123175753536,
          -0.7071160259073414,
          -0.06466616856029736,
          0.12344557594127975,
          -0.29813438859524793,
          1.0990950460168007,
          -0.4601794141140354,
          0.5448734618952821,
          0.0016800027576676208,
          0.6911720212041327,
          -1.7856611044880513,
          -1.2775394585362982,
          -1.3056006849590482,
          -1.057648906837918,
          0.19503908471756207,
          0.6139499192349814,
          0.07335014026279132,
          -0.34543168922458883,
          0.13619752094940035,
          -0.548944960325151,
          -1.051112064124429,
          -0.25072059443028544,
          -0.7258091936414498,
          -0.23853488419716937,
          -1.0644028379374715,
          -0.34312747685653466,
          0.2876655847805023,
          -1.1120659435621976,
          1.2051869393236536
         ],
         "yaxis": "y8"
        },
        {
         "line": {
          "color": "rgba(128, 128, 128, 1.0)",
          "dash": "solid",
          "shape": "linear",
          "width": 1.3
         },
         "marker": {
          "size": 2,
          "symbol": "circle"
         },
         "mode": "markers",
         "name": "C",
         "text": "",
         "type": "scatter",
         "x": [
          -0.25651358813864394,
          -0.37235581545779156,
          0.5002419357099328,
          -0.11000076537614083,
          0.17778660907896845,
          0.9604613024588065,
          0.4363214349672373,
          -1.4978277774334499,
          0.8645756506604332,
          2.0630604768166827,
          0.7542953169658457,
          0.1733651976552315,
          -0.6444331066497141,
          0.3209043316114856,
          1.6785806759597626,
          -0.768276598133913,
          -0.4437501612730779,
          -0.8302809130629326,
          -1.83130407644596,
          -0.08556917211148315,
          1.2200374641662524,
          0.43085791113408056,
          0.5511804573603465,
          -0.16353621251587924,
          0.6586323285433434,
          2.3517325607956496,
          0.6635657432207783,
          1.3361398298086415,
          0.9426893152605952,
          1.202750196660914,
          -1.0802834636380134,
          0.797596295522079,
          -2.1353376820151646,
          1.0124334336311576,
          -0.6884302626219291,
          1.4330491707214221,
          -1.9814602294362633,
          -0.5674998520256744,
          -0.12726165695591024,
          0.01690501096950438,
          0.21688201182560074,
          -0.41576239315205327,
          0.8413478303973625,
          -0.27555187555264804,
          1.3849573166344866,
          0.28965860152351597,
          1.71113605486422,
          1.3624272330785494,
          -1.7151558980168338,
          0.30445679202275927,
          2.246104807570592,
          -0.8776800083011371,
          0.7496073571507749,
          -1.6513468550235542,
          0.31427315248776627,
          -0.3863141353653024,
          0.6206796324142947,
          -0.5908078632707596,
          1.4202115846069745,
          -1.036074601565162,
          -0.662212444835709,
          1.398984597964883,
          -0.6071363585980336,
          0.3667053811579149,
          -0.44598615300190175,
          0.37423381822901,
          1.9557183485437437,
          0.6600142225878292,
          -1.0684482884249031,
          0.9454672943912482,
          0.2093456680515466,
          -0.7697453176044043,
          0.6287263791329405,
          0.07310029343322011,
          0.37831957374116265,
          1.9492504875561103,
          -0.35397126610753804,
          -2.0128095375517963,
          0.4523488963290223,
          0.9199987557671497,
          -1.5511665216942072,
          -0.08518306870572716,
          1.0818223115870886,
          0.585538987032418,
          0.9805161901529916,
          -0.1720247731071831,
          -0.868606625961535,
          -2.26358287161267,
          -0.8752904139047751,
          0.2127772672894863,
          1.4109648796754914,
          -0.2239337966605875,
          0.1678150319818709,
          1.2382020014030266,
          -0.780512342018624,
          -0.3419524964976665,
          1.60124412899403,
          -1.2243186234222085,
          -0.009284479700141263,
          -0.040504622303769944
         ],
         "xaxis": "x9",
         "y": [
          -0.38966192493917723,
          -1.7813843660441095,
          -1.9193483498996866,
          0.30603908104586475,
          1.1901118431272304,
          0.3020306103810205,
          0.21176433346668974,
          -0.5458308842815632,
          -0.21803537001369785,
          -1.505913546529528,
          1.1627507784104,
          0.46755066289910674,
          2.6903462341151525,
          -1.197037291955223,
          -0.9329622148665994,
          -0.4198668209818169,
          0.22837973743602738,
          0.3714868629954388,
          -0.8321609573707648,
          1.27133060905982,
          0.06340798434157047,
          0.7570282886192963,
          -0.868401924419441,
          1.2101670240064142,
          0.4175413385028892,
          -0.14901072570240553,
          0.33466406777533614,
          -0.11467336612418301,
          0.41611845547640586,
          -0.06469693175697656,
          -0.6107403084337582,
          -1.1653079393826375,
          -0.40412647925747575,
          -0.8395953602088322,
          0.4170611053625541,
          1.0463020329597337,
          -0.8970243574009541,
          0.04231685614746035,
          -0.7514043299947173,
          -0.220079773403818,
          0.28406214034930893,
          0.42539099516537165,
          0.3147322863695057,
          0.2274026391480853,
          0.29992643280159614,
          -0.751973614949727,
          1.2844414690359836,
          1.402387037538697,
          0.1574005167691417,
          -1.0095450846488814,
          -0.36269717974194093,
          0.3448706672085185,
          -0.4799764619493634,
          0.183432684162653,
          0.9795246585350526,
          0.5242094686870751,
          -0.251008910984075,
          -1.547016519486077,
          0.15420614929702792,
          1.199187022254034,
          -2.1149199623099926,
          0.3356040955726825,
          0.36985829990417046,
          1.477973872920377,
          0.05009480394779497,
          -0.692899226188453,
          0.9408587817537175,
          -1.4466868250380696,
          1.8448285301209943,
          -0.37361046080901994,
          -2.5636611054196607,
          0.9993004179624181,
          0.8605512159071496,
          -0.04544818936896232,
          -0.19764311422143213,
          0.40782911881921147,
          -1.2145943978702218,
          -0.3819946699399939,
          0.13599805180499586,
          0.14510063229809675,
          -0.4091218237607103,
          -0.14022578557864243,
          0.6851768647839728,
          0.8320687109891274,
          -0.7968523378459248,
          0.6995691542772194,
          -0.8656229944332279,
          0.05446087949522462,
          0.9356332760078716,
          1.431814851289245,
          -0.12510885367604602,
          -0.915202888079907,
          0.233585926240254,
          1.1401096698851112,
          -1.1220524666369662,
          1.113161756618276,
          -2.387993937318283,
          -1.9465645816334682,
          0.8995898884803665,
          -1.6344920825885743
         ],
         "yaxis": "y9"
        },
        {
         "line": {
          "color": "rgba(128, 128, 128, 1.0)",
          "dash": "solid",
          "shape": "linear",
          "width": 1.3
         },
         "marker": {
          "size": 2,
          "symbol": "circle"
         },
         "mode": "markers",
         "name": "C",
         "text": "",
         "type": "scatter",
         "x": [
          -0.02986067173150405,
          -2.1799531962001777,
          -0.5789093555075555,
          -0.26434333655992476,
          -2.4618284536959787,
          -0.7901403921644476,
          0.9451257286228039,
          0.7450082871813458,
          1.60857197920544,
          1.5730902365439665,
          -1.9551544660171785,
          -0.027464389901744,
          -0.7681178511940615,
          -0.004639915826817845,
          -0.44030564661417154,
          -0.3692583950171369,
          -1.0160336886291301,
          -1.3781463485673215,
          1.000589278434516,
          -0.17665477407802171,
          -1.5991067512786892,
          0.02603287124653106,
          -1.382667717669445,
          -0.6501603347811354,
          -0.491696789768064,
          -1.1197505696997012,
          0.1864545305948082,
          1.3933095281592436,
          -1.2292582923747872,
          1.2134378265696775,
          1.050807935302168,
          1.6636700003333091,
          -1.2521371769182432,
          -1.4376908538731823,
          1.9078646710548013,
          0.5392572409200751,
          -0.4075494873659262,
          0.7247154588412541,
          0.2971247849574402,
          2.1111710146999756,
          -0.11585537327132055,
          -0.22900374168186005,
          -0.3221851668739211,
          0.3982765657461531,
          0.5495004709504342,
          -0.12327604313195765,
          -1.3111841261043646,
          -1.2403296074462404,
          -1.5161925502679203,
          -0.5733980394850131,
          -0.20241035990620967,
          0.22263247666164349,
          1.369663058680841,
          -0.9133646856953234,
          -1.8124409659312697,
          -1.1107258388224654,
          -0.3427571301216928,
          0.19151614494155136,
          -0.46960384303453107,
          0.13722610539425925,
          -0.5317720123390297,
          -0.3174299589925087,
          2.425123045260628,
          -0.11569142169700684,
          -0.030427007788570996,
          -0.5735367738403896,
          0.007333424341847052,
          0.9902826111740487,
          1.1055959686423025,
          -0.9970025603825291,
          -0.25277369585452814,
          2.5213123175753536,
          -0.7071160259073414,
          -0.06466616856029736,
          0.12344557594127975,
          -0.29813438859524793,
          1.0990950460168007,
          -0.4601794141140354,
          0.5448734618952821,
          0.0016800027576676208,
          0.6911720212041327,
          -1.7856611044880513,
          -1.2775394585362982,
          -1.3056006849590482,
          -1.057648906837918,
          0.19503908471756207,
          0.6139499192349814,
          0.07335014026279132,
          -0.34543168922458883,
          0.13619752094940035,
          -0.548944960325151,
          -1.051112064124429,
          -0.25072059443028544,
          -0.7258091936414498,
          -0.23853488419716937,
          -1.0644028379374715,
          -0.34312747685653466,
          0.2876655847805023,
          -1.1120659435621976,
          1.2051869393236536
         ],
         "xaxis": "x10",
         "y": [
          -0.38966192493917723,
          -1.7813843660441095,
          -1.9193483498996866,
          0.30603908104586475,
          1.1901118431272304,
          0.3020306103810205,
          0.21176433346668974,
          -0.5458308842815632,
          -0.21803537001369785,
          -1.505913546529528,
          1.1627507784104,
          0.46755066289910674,
          2.6903462341151525,
          -1.197037291955223,
          -0.9329622148665994,
          -0.4198668209818169,
          0.22837973743602738,
          0.3714868629954388,
          -0.8321609573707648,
          1.27133060905982,
          0.06340798434157047,
          0.7570282886192963,
          -0.868401924419441,
          1.2101670240064142,
          0.4175413385028892,
          -0.14901072570240553,
          0.33466406777533614,
          -0.11467336612418301,
          0.41611845547640586,
          -0.06469693175697656,
          -0.6107403084337582,
          -1.1653079393826375,
          -0.40412647925747575,
          -0.8395953602088322,
          0.4170611053625541,
          1.0463020329597337,
          -0.8970243574009541,
          0.04231685614746035,
          -0.7514043299947173,
          -0.220079773403818,
          0.28406214034930893,
          0.42539099516537165,
          0.3147322863695057,
          0.2274026391480853,
          0.29992643280159614,
          -0.751973614949727,
          1.2844414690359836,
          1.402387037538697,
          0.1574005167691417,
          -1.0095450846488814,
          -0.36269717974194093,
          0.3448706672085185,
          -0.4799764619493634,
          0.183432684162653,
          0.9795246585350526,
          0.5242094686870751,
          -0.251008910984075,
          -1.547016519486077,
          0.15420614929702792,
          1.199187022254034,
          -2.1149199623099926,
          0.3356040955726825,
          0.36985829990417046,
          1.477973872920377,
          0.05009480394779497,
          -0.692899226188453,
          0.9408587817537175,
          -1.4466868250380696,
          1.8448285301209943,
          -0.37361046080901994,
          -2.5636611054196607,
          0.9993004179624181,
          0.8605512159071496,
          -0.04544818936896232,
          -0.19764311422143213,
          0.40782911881921147,
          -1.2145943978702218,
          -0.3819946699399939,
          0.13599805180499586,
          0.14510063229809675,
          -0.4091218237607103,
          -0.14022578557864243,
          0.6851768647839728,
          0.8320687109891274,
          -0.7968523378459248,
          0.6995691542772194,
          -0.8656229944332279,
          0.05446087949522462,
          0.9356332760078716,
          1.431814851289245,
          -0.12510885367604602,
          -0.915202888079907,
          0.233585926240254,
          1.1401096698851112,
          -1.1220524666369662,
          1.113161756618276,
          -2.387993937318283,
          -1.9465645816334682,
          0.8995898884803665,
          -1.6344920825885743
         ],
         "yaxis": "y10"
        },
        {
         "histfunc": "count",
         "histnorm": "",
         "marker": {
          "color": "rgba(50, 171, 96, 1.0)",
          "line": {
           "color": "#4D5663",
           "width": 1.3
          }
         },
         "name": "C",
         "nbinsx": 10,
         "opacity": 0.8,
         "orientation": "v",
         "type": "histogram",
         "x": [
          -0.38966192493917723,
          -1.7813843660441095,
          -1.9193483498996866,
          0.30603908104586475,
          1.1901118431272304,
          0.3020306103810205,
          0.21176433346668974,
          -0.5458308842815632,
          -0.21803537001369785,
          -1.505913546529528,
          1.1627507784104,
          0.46755066289910674,
          2.6903462341151525,
          -1.197037291955223,
          -0.9329622148665994,
          -0.4198668209818169,
          0.22837973743602738,
          0.3714868629954388,
          -0.8321609573707648,
          1.27133060905982,
          0.06340798434157047,
          0.7570282886192963,
          -0.868401924419441,
          1.2101670240064142,
          0.4175413385028892,
          -0.14901072570240553,
          0.33466406777533614,
          -0.11467336612418301,
          0.41611845547640586,
          -0.06469693175697656,
          -0.6107403084337582,
          -1.1653079393826375,
          -0.40412647925747575,
          -0.8395953602088322,
          0.4170611053625541,
          1.0463020329597337,
          -0.8970243574009541,
          0.04231685614746035,
          -0.7514043299947173,
          -0.220079773403818,
          0.28406214034930893,
          0.42539099516537165,
          0.3147322863695057,
          0.2274026391480853,
          0.29992643280159614,
          -0.751973614949727,
          1.2844414690359836,
          1.402387037538697,
          0.1574005167691417,
          -1.0095450846488814,
          -0.36269717974194093,
          0.3448706672085185,
          -0.4799764619493634,
          0.183432684162653,
          0.9795246585350526,
          0.5242094686870751,
          -0.251008910984075,
          -1.547016519486077,
          0.15420614929702792,
          1.199187022254034,
          -2.1149199623099926,
          0.3356040955726825,
          0.36985829990417046,
          1.477973872920377,
          0.05009480394779497,
          -0.692899226188453,
          0.9408587817537175,
          -1.4466868250380696,
          1.8448285301209943,
          -0.37361046080901994,
          -2.5636611054196607,
          0.9993004179624181,
          0.8605512159071496,
          -0.04544818936896232,
          -0.19764311422143213,
          0.40782911881921147,
          -1.2145943978702218,
          -0.3819946699399939,
          0.13599805180499586,
          0.14510063229809675,
          -0.4091218237607103,
          -0.14022578557864243,
          0.6851768647839728,
          0.8320687109891274,
          -0.7968523378459248,
          0.6995691542772194,
          -0.8656229944332279,
          0.05446087949522462,
          0.9356332760078716,
          1.431814851289245,
          -0.12510885367604602,
          -0.915202888079907,
          0.233585926240254,
          1.1401096698851112,
          -1.1220524666369662,
          1.113161756618276,
          -2.387993937318283,
          -1.9465645816334682,
          0.8995898884803665,
          -1.6344920825885743
         ],
         "xaxis": "x11",
         "yaxis": "y11"
        },
        {
         "line": {
          "color": "rgba(128, 128, 128, 1.0)",
          "dash": "solid",
          "shape": "linear",
          "width": 1.3
         },
         "marker": {
          "size": 2,
          "symbol": "circle"
         },
         "mode": "markers",
         "name": "C",
         "text": "",
         "type": "scatter",
         "x": [
          1.3379982953184697,
          0.43596200158092563,
          -0.7631196008307619,
          -0.5679030707716345,
          -0.7872850061470617,
          0.41138033506195215,
          -0.15067850685396827,
          0.25791067763325554,
          0.6436235039149962,
          1.3236997987644707,
          -1.0171427376393085,
          0.8395721802900593,
          0.9490113918092095,
          -0.33861351286101615,
          -0.594140068374357,
          -1.0862685764055808,
          0.6381921060261312,
          -2.025285230217843,
          0.9453300039966772,
          1.2728153098249027,
          0.5454040914311109,
          -0.08584535182158513,
          0.20393438397452654,
          -0.8090202634016018,
          0.8892665001357477,
          0.13874951031877247,
          0.2607263225769835,
          -0.5980763442522491,
          -0.292536794369674,
          0.9668060165596394,
          -0.1214207591398322,
          -0.7313225037183346,
          -0.7940830622872195,
          0.10368083002132215,
          1.2072686896833953,
          0.6946900116706878,
          -0.6902393233133621,
          -1.6518050704457372,
          0.19980976340380366,
          1.9460179998888243,
          -0.531796166254378,
          -0.7484486735942585,
          0.1796230290171249,
          -0.286221396993404,
          -0.4898088756101573,
          0.10977459198301838,
          -1.0353323426199479,
          0.9995925658791721,
          1.899663190487716,
          -0.7106904282195735,
          -0.0739470377571122,
          -0.9565850084701643,
          -0.5273134603892076,
          -0.4626906500410658,
          1.0055383578188615,
          -1.056222119469628,
          -0.23873414087916872,
          0.6183700330855165,
          -0.371115375582888,
          0.6517795470485221,
          -0.7342879734317916,
          0.30195081469517454,
          1.2753618601770222,
          0.5319775667908635,
          -0.265106098283388,
          -0.2590386757596041,
          -0.41812835998089326,
          -0.7373047577180892,
          -1.1463764893859034,
          -0.04918041107819704,
          -0.48119237400654424,
          0.3628454100539982,
          0.7323906197761266,
          -0.6052580679327753,
          -1.3764492966375457,
          -2.2092031779808847,
          0.2933615309237955,
          -0.8875861214690169,
          3.230135103934922,
          0.5968978982094048,
          -1.3016692630358448,
          0.9007075990241182,
          -1.6969277990854619,
          -0.02781487685981458,
          -2.221881887522703,
          0.8371433357860195,
          0.7619266355077301,
          0.8131780006414743,
          -0.0110069029306748,
          1.4458510984193944,
          -1.454041085151003,
          -1.103029793341637,
          2.134675461219435,
          0.4044164555511809,
          0.4091331114985936,
          0.4082425298040662,
          -0.3450957859769514,
          -0.8017624852347573,
          0.5064400505980814,
          1.6632076561950764
         ],
         "xaxis": "x12",
         "y": [
          -0.38966192493917723,
          -1.7813843660441095,
          -1.9193483498996866,
          0.30603908104586475,
          1.1901118431272304,
          0.3020306103810205,
          0.21176433346668974,
          -0.5458308842815632,
          -0.21803537001369785,
          -1.505913546529528,
          1.1627507784104,
          0.46755066289910674,
          2.6903462341151525,
          -1.197037291955223,
          -0.9329622148665994,
          -0.4198668209818169,
          0.22837973743602738,
          0.3714868629954388,
          -0.8321609573707648,
          1.27133060905982,
          0.06340798434157047,
          0.7570282886192963,
          -0.868401924419441,
          1.2101670240064142,
          0.4175413385028892,
          -0.14901072570240553,
          0.33466406777533614,
          -0.11467336612418301,
          0.41611845547640586,
          -0.06469693175697656,
          -0.6107403084337582,
          -1.1653079393826375,
          -0.40412647925747575,
          -0.8395953602088322,
          0.4170611053625541,
          1.0463020329597337,
          -0.8970243574009541,
          0.04231685614746035,
          -0.7514043299947173,
          -0.220079773403818,
          0.28406214034930893,
          0.42539099516537165,
          0.3147322863695057,
          0.2274026391480853,
          0.29992643280159614,
          -0.751973614949727,
          1.2844414690359836,
          1.402387037538697,
          0.1574005167691417,
          -1.0095450846488814,
          -0.36269717974194093,
          0.3448706672085185,
          -0.4799764619493634,
          0.183432684162653,
          0.9795246585350526,
          0.5242094686870751,
          -0.251008910984075,
          -1.547016519486077,
          0.15420614929702792,
          1.199187022254034,
          -2.1149199623099926,
          0.3356040955726825,
          0.36985829990417046,
          1.477973872920377,
          0.05009480394779497,
          -0.692899226188453,
          0.9408587817537175,
          -1.4466868250380696,
          1.8448285301209943,
          -0.37361046080901994,
          -2.5636611054196607,
          0.9993004179624181,
          0.8605512159071496,
          -0.04544818936896232,
          -0.19764311422143213,
          0.40782911881921147,
          -1.2145943978702218,
          -0.3819946699399939,
          0.13599805180499586,
          0.14510063229809675,
          -0.4091218237607103,
          -0.14022578557864243,
          0.6851768647839728,
          0.8320687109891274,
          -0.7968523378459248,
          0.6995691542772194,
          -0.8656229944332279,
          0.05446087949522462,
          0.9356332760078716,
          1.431814851289245,
          -0.12510885367604602,
          -0.915202888079907,
          0.233585926240254,
          1.1401096698851112,
          -1.1220524666369662,
          1.113161756618276,
          -2.387993937318283,
          -1.9465645816334682,
          0.8995898884803665,
          -1.6344920825885743
         ],
         "yaxis": "y12"
        },
        {
         "line": {
          "color": "rgba(128, 128, 128, 1.0)",
          "dash": "solid",
          "shape": "linear",
          "width": 1.3
         },
         "marker": {
          "size": 2,
          "symbol": "circle"
         },
         "mode": "markers",
         "name": "D",
         "text": "",
         "type": "scatter",
         "x": [
          -0.25651358813864394,
          -0.37235581545779156,
          0.5002419357099328,
          -0.11000076537614083,
          0.17778660907896845,
          0.9604613024588065,
          0.4363214349672373,
          -1.4978277774334499,
          0.8645756506604332,
          2.0630604768166827,
          0.7542953169658457,
          0.1733651976552315,
          -0.6444331066497141,
          0.3209043316114856,
          1.6785806759597626,
          -0.768276598133913,
          -0.4437501612730779,
          -0.8302809130629326,
          -1.83130407644596,
          -0.08556917211148315,
          1.2200374641662524,
          0.43085791113408056,
          0.5511804573603465,
          -0.16353621251587924,
          0.6586323285433434,
          2.3517325607956496,
          0.6635657432207783,
          1.3361398298086415,
          0.9426893152605952,
          1.202750196660914,
          -1.0802834636380134,
          0.797596295522079,
          -2.1353376820151646,
          1.0124334336311576,
          -0.6884302626219291,
          1.4330491707214221,
          -1.9814602294362633,
          -0.5674998520256744,
          -0.12726165695591024,
          0.01690501096950438,
          0.21688201182560074,
          -0.41576239315205327,
          0.8413478303973625,
          -0.27555187555264804,
          1.3849573166344866,
          0.28965860152351597,
          1.71113605486422,
          1.3624272330785494,
          -1.7151558980168338,
          0.30445679202275927,
          2.246104807570592,
          -0.8776800083011371,
          0.7496073571507749,
          -1.6513468550235542,
          0.31427315248776627,
          -0.3863141353653024,
          0.6206796324142947,
          -0.5908078632707596,
          1.4202115846069745,
          -1.036074601565162,
          -0.662212444835709,
          1.398984597964883,
          -0.6071363585980336,
          0.3667053811579149,
          -0.44598615300190175,
          0.37423381822901,
          1.9557183485437437,
          0.6600142225878292,
          -1.0684482884249031,
          0.9454672943912482,
          0.2093456680515466,
          -0.7697453176044043,
          0.6287263791329405,
          0.07310029343322011,
          0.37831957374116265,
          1.9492504875561103,
          -0.35397126610753804,
          -2.0128095375517963,
          0.4523488963290223,
          0.9199987557671497,
          -1.5511665216942072,
          -0.08518306870572716,
          1.0818223115870886,
          0.585538987032418,
          0.9805161901529916,
          -0.1720247731071831,
          -0.868606625961535,
          -2.26358287161267,
          -0.8752904139047751,
          0.2127772672894863,
          1.4109648796754914,
          -0.2239337966605875,
          0.1678150319818709,
          1.2382020014030266,
          -0.780512342018624,
          -0.3419524964976665,
          1.60124412899403,
          -1.2243186234222085,
          -0.009284479700141263,
          -0.040504622303769944
         ],
         "xaxis": "x13",
         "y": [
          1.3379982953184697,
          0.43596200158092563,
          -0.7631196008307619,
          -0.5679030707716345,
          -0.7872850061470617,
          0.41138033506195215,
          -0.15067850685396827,
          0.25791067763325554,
          0.6436235039149962,
          1.3236997987644707,
          -1.0171427376393085,
          0.8395721802900593,
          0.9490113918092095,
          -0.33861351286101615,
          -0.594140068374357,
          -1.0862685764055808,
          0.6381921060261312,
          -2.025285230217843,
          0.9453300039966772,
          1.2728153098249027,
          0.5454040914311109,
          -0.08584535182158513,
          0.20393438397452654,
          -0.8090202634016018,
          0.8892665001357477,
          0.13874951031877247,
          0.2607263225769835,
          -0.5980763442522491,
          -0.292536794369674,
          0.9668060165596394,
          -0.1214207591398322,
          -0.7313225037183346,
          -0.7940830622872195,
          0.10368083002132215,
          1.2072686896833953,
          0.6946900116706878,
          -0.6902393233133621,
          -1.6518050704457372,
          0.19980976340380366,
          1.9460179998888243,
          -0.531796166254378,
          -0.7484486735942585,
          0.1796230290171249,
          -0.286221396993404,
          -0.4898088756101573,
          0.10977459198301838,
          -1.0353323426199479,
          0.9995925658791721,
          1.899663190487716,
          -0.7106904282195735,
          -0.0739470377571122,
          -0.9565850084701643,
          -0.5273134603892076,
          -0.4626906500410658,
          1.0055383578188615,
          -1.056222119469628,
          -0.23873414087916872,
          0.6183700330855165,
          -0.371115375582888,
          0.6517795470485221,
          -0.7342879734317916,
          0.30195081469517454,
          1.2753618601770222,
          0.5319775667908635,
          -0.265106098283388,
          -0.2590386757596041,
          -0.41812835998089326,
          -0.7373047577180892,
          -1.1463764893859034,
          -0.04918041107819704,
          -0.48119237400654424,
          0.3628454100539982,
          0.7323906197761266,
          -0.6052580679327753,
          -1.3764492966375457,
          -2.2092031779808847,
          0.2933615309237955,
          -0.8875861214690169,
          3.230135103934922,
          0.5968978982094048,
          -1.3016692630358448,
          0.9007075990241182,
          -1.6969277990854619,
          -0.02781487685981458,
          -2.221881887522703,
          0.8371433357860195,
          0.7619266355077301,
          0.8131780006414743,
          -0.0110069029306748,
          1.4458510984193944,
          -1.454041085151003,
          -1.103029793341637,
          2.134675461219435,
          0.4044164555511809,
          0.4091331114985936,
          0.4082425298040662,
          -0.3450957859769514,
          -0.8017624852347573,
          0.5064400505980814,
          1.6632076561950764
         ],
         "yaxis": "y13"
        },
        {
         "line": {
          "color": "rgba(128, 128, 128, 1.0)",
          "dash": "solid",
          "shape": "linear",
          "width": 1.3
         },
         "marker": {
          "size": 2,
          "symbol": "circle"
         },
         "mode": "markers",
         "name": "D",
         "text": "",
         "type": "scatter",
         "x": [
          -0.02986067173150405,
          -2.1799531962001777,
          -0.5789093555075555,
          -0.26434333655992476,
          -2.4618284536959787,
          -0.7901403921644476,
          0.9451257286228039,
          0.7450082871813458,
          1.60857197920544,
          1.5730902365439665,
          -1.9551544660171785,
          -0.027464389901744,
          -0.7681178511940615,
          -0.004639915826817845,
          -0.44030564661417154,
          -0.3692583950171369,
          -1.0160336886291301,
          -1.3781463485673215,
          1.000589278434516,
          -0.17665477407802171,
          -1.5991067512786892,
          0.02603287124653106,
          -1.382667717669445,
          -0.6501603347811354,
          -0.491696789768064,
          -1.1197505696997012,
          0.1864545305948082,
          1.3933095281592436,
          -1.2292582923747872,
          1.2134378265696775,
          1.050807935302168,
          1.6636700003333091,
          -1.2521371769182432,
          -1.4376908538731823,
          1.9078646710548013,
          0.5392572409200751,
          -0.4075494873659262,
          0.7247154588412541,
          0.2971247849574402,
          2.1111710146999756,
          -0.11585537327132055,
          -0.22900374168186005,
          -0.3221851668739211,
          0.3982765657461531,
          0.5495004709504342,
          -0.12327604313195765,
          -1.3111841261043646,
          -1.2403296074462404,
          -1.5161925502679203,
          -0.5733980394850131,
          -0.20241035990620967,
          0.22263247666164349,
          1.369663058680841,
          -0.9133646856953234,
          -1.8124409659312697,
          -1.1107258388224654,
          -0.3427571301216928,
          0.19151614494155136,
          -0.46960384303453107,
          0.13722610539425925,
          -0.5317720123390297,
          -0.3174299589925087,
          2.425123045260628,
          -0.11569142169700684,
          -0.030427007788570996,
          -0.5735367738403896,
          0.007333424341847052,
          0.9902826111740487,
          1.1055959686423025,
          -0.9970025603825291,
          -0.25277369585452814,
          2.5213123175753536,
          -0.7071160259073414,
          -0.06466616856029736,
          0.12344557594127975,
          -0.29813438859524793,
          1.0990950460168007,
          -0.4601794141140354,
          0.5448734618952821,
          0.0016800027576676208,
          0.6911720212041327,
          -1.7856611044880513,
          -1.2775394585362982,
          -1.3056006849590482,
          -1.057648906837918,
          0.19503908471756207,
          0.6139499192349814,
          0.07335014026279132,
          -0.34543168922458883,
          0.13619752094940035,
          -0.548944960325151,
          -1.051112064124429,
          -0.25072059443028544,
          -0.7258091936414498,
          -0.23853488419716937,
          -1.0644028379374715,
          -0.34312747685653466,
          0.2876655847805023,
          -1.1120659435621976,
          1.2051869393236536
         ],
         "xaxis": "x14",
         "y": [
          1.3379982953184697,
          0.43596200158092563,
          -0.7631196008307619,
          -0.5679030707716345,
          -0.7872850061470617,
          0.41138033506195215,
          -0.15067850685396827,
          0.25791067763325554,
          0.6436235039149962,
          1.3236997987644707,
          -1.0171427376393085,
          0.8395721802900593,
          0.9490113918092095,
          -0.33861351286101615,
          -0.594140068374357,
          -1.0862685764055808,
          0.6381921060261312,
          -2.025285230217843,
          0.9453300039966772,
          1.2728153098249027,
          0.5454040914311109,
          -0.08584535182158513,
          0.20393438397452654,
          -0.8090202634016018,
          0.8892665001357477,
          0.13874951031877247,
          0.2607263225769835,
          -0.5980763442522491,
          -0.292536794369674,
          0.9668060165596394,
          -0.1214207591398322,
          -0.7313225037183346,
          -0.7940830622872195,
          0.10368083002132215,
          1.2072686896833953,
          0.6946900116706878,
          -0.6902393233133621,
          -1.6518050704457372,
          0.19980976340380366,
          1.9460179998888243,
          -0.531796166254378,
          -0.7484486735942585,
          0.1796230290171249,
          -0.286221396993404,
          -0.4898088756101573,
          0.10977459198301838,
          -1.0353323426199479,
          0.9995925658791721,
          1.899663190487716,
          -0.7106904282195735,
          -0.0739470377571122,
          -0.9565850084701643,
          -0.5273134603892076,
          -0.4626906500410658,
          1.0055383578188615,
          -1.056222119469628,
          -0.23873414087916872,
          0.6183700330855165,
          -0.371115375582888,
          0.6517795470485221,
          -0.7342879734317916,
          0.30195081469517454,
          1.2753618601770222,
          0.5319775667908635,
          -0.265106098283388,
          -0.2590386757596041,
          -0.41812835998089326,
          -0.7373047577180892,
          -1.1463764893859034,
          -0.04918041107819704,
          -0.48119237400654424,
          0.3628454100539982,
          0.7323906197761266,
          -0.6052580679327753,
          -1.3764492966375457,
          -2.2092031779808847,
          0.2933615309237955,
          -0.8875861214690169,
          3.230135103934922,
          0.5968978982094048,
          -1.3016692630358448,
          0.9007075990241182,
          -1.6969277990854619,
          -0.02781487685981458,
          -2.221881887522703,
          0.8371433357860195,
          0.7619266355077301,
          0.8131780006414743,
          -0.0110069029306748,
          1.4458510984193944,
          -1.454041085151003,
          -1.103029793341637,
          2.134675461219435,
          0.4044164555511809,
          0.4091331114985936,
          0.4082425298040662,
          -0.3450957859769514,
          -0.8017624852347573,
          0.5064400505980814,
          1.6632076561950764
         ],
         "yaxis": "y14"
        },
        {
         "line": {
          "color": "rgba(128, 128, 128, 1.0)",
          "dash": "solid",
          "shape": "linear",
          "width": 1.3
         },
         "marker": {
          "size": 2,
          "symbol": "circle"
         },
         "mode": "markers",
         "name": "D",
         "text": "",
         "type": "scatter",
         "x": [
          -0.38966192493917723,
          -1.7813843660441095,
          -1.9193483498996866,
          0.30603908104586475,
          1.1901118431272304,
          0.3020306103810205,
          0.21176433346668974,
          -0.5458308842815632,
          -0.21803537001369785,
          -1.505913546529528,
          1.1627507784104,
          0.46755066289910674,
          2.6903462341151525,
          -1.197037291955223,
          -0.9329622148665994,
          -0.4198668209818169,
          0.22837973743602738,
          0.3714868629954388,
          -0.8321609573707648,
          1.27133060905982,
          0.06340798434157047,
          0.7570282886192963,
          -0.868401924419441,
          1.2101670240064142,
          0.4175413385028892,
          -0.14901072570240553,
          0.33466406777533614,
          -0.11467336612418301,
          0.41611845547640586,
          -0.06469693175697656,
          -0.6107403084337582,
          -1.1653079393826375,
          -0.40412647925747575,
          -0.8395953602088322,
          0.4170611053625541,
          1.0463020329597337,
          -0.8970243574009541,
          0.04231685614746035,
          -0.7514043299947173,
          -0.220079773403818,
          0.28406214034930893,
          0.42539099516537165,
          0.3147322863695057,
          0.2274026391480853,
          0.29992643280159614,
          -0.751973614949727,
          1.2844414690359836,
          1.402387037538697,
          0.1574005167691417,
          -1.0095450846488814,
          -0.36269717974194093,
          0.3448706672085185,
          -0.4799764619493634,
          0.183432684162653,
          0.9795246585350526,
          0.5242094686870751,
          -0.251008910984075,
          -1.547016519486077,
          0.15420614929702792,
          1.199187022254034,
          -2.1149199623099926,
          0.3356040955726825,
          0.36985829990417046,
          1.477973872920377,
          0.05009480394779497,
          -0.692899226188453,
          0.9408587817537175,
          -1.4466868250380696,
          1.8448285301209943,
          -0.37361046080901994,
          -2.5636611054196607,
          0.9993004179624181,
          0.8605512159071496,
          -0.04544818936896232,
          -0.19764311422143213,
          0.40782911881921147,
          -1.2145943978702218,
          -0.3819946699399939,
          0.13599805180499586,
          0.14510063229809675,
          -0.4091218237607103,
          -0.14022578557864243,
          0.6851768647839728,
          0.8320687109891274,
          -0.7968523378459248,
          0.6995691542772194,
          -0.8656229944332279,
          0.05446087949522462,
          0.9356332760078716,
          1.431814851289245,
          -0.12510885367604602,
          -0.915202888079907,
          0.233585926240254,
          1.1401096698851112,
          -1.1220524666369662,
          1.113161756618276,
          -2.387993937318283,
          -1.9465645816334682,
          0.8995898884803665,
          -1.6344920825885743
         ],
         "xaxis": "x15",
         "y": [
          1.3379982953184697,
          0.43596200158092563,
          -0.7631196008307619,
          -0.5679030707716345,
          -0.7872850061470617,
          0.41138033506195215,
          -0.15067850685396827,
          0.25791067763325554,
          0.6436235039149962,
          1.3236997987644707,
          -1.0171427376393085,
          0.8395721802900593,
          0.9490113918092095,
          -0.33861351286101615,
          -0.594140068374357,
          -1.0862685764055808,
          0.6381921060261312,
          -2.025285230217843,
          0.9453300039966772,
          1.2728153098249027,
          0.5454040914311109,
          -0.08584535182158513,
          0.20393438397452654,
          -0.8090202634016018,
          0.8892665001357477,
          0.13874951031877247,
          0.2607263225769835,
          -0.5980763442522491,
          -0.292536794369674,
          0.9668060165596394,
          -0.1214207591398322,
          -0.7313225037183346,
          -0.7940830622872195,
          0.10368083002132215,
          1.2072686896833953,
          0.6946900116706878,
          -0.6902393233133621,
          -1.6518050704457372,
          0.19980976340380366,
          1.9460179998888243,
          -0.531796166254378,
          -0.7484486735942585,
          0.1796230290171249,
          -0.286221396993404,
          -0.4898088756101573,
          0.10977459198301838,
          -1.0353323426199479,
          0.9995925658791721,
          1.899663190487716,
          -0.7106904282195735,
          -0.0739470377571122,
          -0.9565850084701643,
          -0.5273134603892076,
          -0.4626906500410658,
          1.0055383578188615,
          -1.056222119469628,
          -0.23873414087916872,
          0.6183700330855165,
          -0.371115375582888,
          0.6517795470485221,
          -0.7342879734317916,
          0.30195081469517454,
          1.2753618601770222,
          0.5319775667908635,
          -0.265106098283388,
          -0.2590386757596041,
          -0.41812835998089326,
          -0.7373047577180892,
          -1.1463764893859034,
          -0.04918041107819704,
          -0.48119237400654424,
          0.3628454100539982,
          0.7323906197761266,
          -0.6052580679327753,
          -1.3764492966375457,
          -2.2092031779808847,
          0.2933615309237955,
          -0.8875861214690169,
          3.230135103934922,
          0.5968978982094048,
          -1.3016692630358448,
          0.9007075990241182,
          -1.6969277990854619,
          -0.02781487685981458,
          -2.221881887522703,
          0.8371433357860195,
          0.7619266355077301,
          0.8131780006414743,
          -0.0110069029306748,
          1.4458510984193944,
          -1.454041085151003,
          -1.103029793341637,
          2.134675461219435,
          0.4044164555511809,
          0.4091331114985936,
          0.4082425298040662,
          -0.3450957859769514,
          -0.8017624852347573,
          0.5064400505980814,
          1.6632076561950764
         ],
         "yaxis": "y15"
        },
        {
         "histfunc": "count",
         "histnorm": "",
         "marker": {
          "color": "rgba(128, 0, 128, 1.0)",
          "line": {
           "color": "#4D5663",
           "width": 1.3
          }
         },
         "name": "D",
         "nbinsx": 10,
         "opacity": 0.8,
         "orientation": "v",
         "type": "histogram",
         "x": [
          1.3379982953184697,
          0.43596200158092563,
          -0.7631196008307619,
          -0.5679030707716345,
          -0.7872850061470617,
          0.41138033506195215,
          -0.15067850685396827,
          0.25791067763325554,
          0.6436235039149962,
          1.3236997987644707,
          -1.0171427376393085,
          0.8395721802900593,
          0.9490113918092095,
          -0.33861351286101615,
          -0.594140068374357,
          -1.0862685764055808,
          0.6381921060261312,
          -2.025285230217843,
          0.9453300039966772,
          1.2728153098249027,
          0.5454040914311109,
          -0.08584535182158513,
          0.20393438397452654,
          -0.8090202634016018,
          0.8892665001357477,
          0.13874951031877247,
          0.2607263225769835,
          -0.5980763442522491,
          -0.292536794369674,
          0.9668060165596394,
          -0.1214207591398322,
          -0.7313225037183346,
          -0.7940830622872195,
          0.10368083002132215,
          1.2072686896833953,
          0.6946900116706878,
          -0.6902393233133621,
          -1.6518050704457372,
          0.19980976340380366,
          1.9460179998888243,
          -0.531796166254378,
          -0.7484486735942585,
          0.1796230290171249,
          -0.286221396993404,
          -0.4898088756101573,
          0.10977459198301838,
          -1.0353323426199479,
          0.9995925658791721,
          1.899663190487716,
          -0.7106904282195735,
          -0.0739470377571122,
          -0.9565850084701643,
          -0.5273134603892076,
          -0.4626906500410658,
          1.0055383578188615,
          -1.056222119469628,
          -0.23873414087916872,
          0.6183700330855165,
          -0.371115375582888,
          0.6517795470485221,
          -0.7342879734317916,
          0.30195081469517454,
          1.2753618601770222,
          0.5319775667908635,
          -0.265106098283388,
          -0.2590386757596041,
          -0.41812835998089326,
          -0.7373047577180892,
          -1.1463764893859034,
          -0.04918041107819704,
          -0.48119237400654424,
          0.3628454100539982,
          0.7323906197761266,
          -0.6052580679327753,
          -1.3764492966375457,
          -2.2092031779808847,
          0.2933615309237955,
          -0.8875861214690169,
          3.230135103934922,
          0.5968978982094048,
          -1.3016692630358448,
          0.9007075990241182,
          -1.6969277990854619,
          -0.02781487685981458,
          -2.221881887522703,
          0.8371433357860195,
          0.7619266355077301,
          0.8131780006414743,
          -0.0110069029306748,
          1.4458510984193944,
          -1.454041085151003,
          -1.103029793341637,
          2.134675461219435,
          0.4044164555511809,
          0.4091331114985936,
          0.4082425298040662,
          -0.3450957859769514,
          -0.8017624852347573,
          0.5064400505980814,
          1.6632076561950764
         ],
         "xaxis": "x16",
         "yaxis": "y16"
        }
       ],
       "layout": {
        "autosize": true,
        "bargap": 0.02,
        "legend": {
         "bgcolor": "#F5F6F9",
         "font": {
          "color": "#4D5663"
         }
        },
        "paper_bgcolor": "#F5F6F9",
        "plot_bgcolor": "#F5F6F9",
        "showlegend": false,
        "template": {
         "data": {
          "bar": [
           {
            "error_x": {
             "color": "#2a3f5f"
            },
            "error_y": {
             "color": "#2a3f5f"
            },
            "marker": {
             "line": {
              "color": "#E5ECF6",
              "width": 0.5
             },
             "pattern": {
              "fillmode": "overlay",
              "size": 10,
              "solidity": 0.2
             }
            },
            "type": "bar"
           }
          ],
          "barpolar": [
           {
            "marker": {
             "line": {
              "color": "#E5ECF6",
              "width": 0.5
             },
             "pattern": {
              "fillmode": "overlay",
              "size": 10,
              "solidity": 0.2
             }
            },
            "type": "barpolar"
           }
          ],
          "carpet": [
           {
            "aaxis": {
             "endlinecolor": "#2a3f5f",
             "gridcolor": "white",
             "linecolor": "white",
             "minorgridcolor": "white",
             "startlinecolor": "#2a3f5f"
            },
            "baxis": {
             "endlinecolor": "#2a3f5f",
             "gridcolor": "white",
             "linecolor": "white",
             "minorgridcolor": "white",
             "startlinecolor": "#2a3f5f"
            },
            "type": "carpet"
           }
          ],
          "choropleth": [
           {
            "colorbar": {
             "outlinewidth": 0,
             "ticks": ""
            },
            "type": "choropleth"
           }
          ],
          "contour": [
           {
            "colorbar": {
             "outlinewidth": 0,
             "ticks": ""
            },
            "colorscale": [
             [
              0,
              "#0d0887"
             ],
             [
              0.1111111111111111,
              "#46039f"
             ],
             [
              0.2222222222222222,
              "#7201a8"
             ],
             [
              0.3333333333333333,
              "#9c179e"
             ],
             [
              0.4444444444444444,
              "#bd3786"
             ],
             [
              0.5555555555555556,
              "#d8576b"
             ],
             [
              0.6666666666666666,
              "#ed7953"
             ],
             [
              0.7777777777777778,
              "#fb9f3a"
             ],
             [
              0.8888888888888888,
              "#fdca26"
             ],
             [
              1,
              "#f0f921"
             ]
            ],
            "type": "contour"
           }
          ],
          "contourcarpet": [
           {
            "colorbar": {
             "outlinewidth": 0,
             "ticks": ""
            },
            "type": "contourcarpet"
           }
          ],
          "heatmap": [
           {
            "colorbar": {
             "outlinewidth": 0,
             "ticks": ""
            },
            "colorscale": [
             [
              0,
              "#0d0887"
             ],
             [
              0.1111111111111111,
              "#46039f"
             ],
             [
              0.2222222222222222,
              "#7201a8"
             ],
             [
              0.3333333333333333,
              "#9c179e"
             ],
             [
              0.4444444444444444,
              "#bd3786"
             ],
             [
              0.5555555555555556,
              "#d8576b"
             ],
             [
              0.6666666666666666,
              "#ed7953"
             ],
             [
              0.7777777777777778,
              "#fb9f3a"
             ],
             [
              0.8888888888888888,
              "#fdca26"
             ],
             [
              1,
              "#f0f921"
             ]
            ],
            "type": "heatmap"
           }
          ],
          "heatmapgl": [
           {
            "colorbar": {
             "outlinewidth": 0,
             "ticks": ""
            },
            "colorscale": [
             [
              0,
              "#0d0887"
             ],
             [
              0.1111111111111111,
              "#46039f"
             ],
             [
              0.2222222222222222,
              "#7201a8"
             ],
             [
              0.3333333333333333,
              "#9c179e"
             ],
             [
              0.4444444444444444,
              "#bd3786"
             ],
             [
              0.5555555555555556,
              "#d8576b"
             ],
             [
              0.6666666666666666,
              "#ed7953"
             ],
             [
              0.7777777777777778,
              "#fb9f3a"
             ],
             [
              0.8888888888888888,
              "#fdca26"
             ],
             [
              1,
              "#f0f921"
             ]
            ],
            "type": "heatmapgl"
           }
          ],
          "histogram": [
           {
            "marker": {
             "pattern": {
              "fillmode": "overlay",
              "size": 10,
              "solidity": 0.2
             }
            },
            "type": "histogram"
           }
          ],
          "histogram2d": [
           {
            "colorbar": {
             "outlinewidth": 0,
             "ticks": ""
            },
            "colorscale": [
             [
              0,
              "#0d0887"
             ],
             [
              0.1111111111111111,
              "#46039f"
             ],
             [
              0.2222222222222222,
              "#7201a8"
             ],
             [
              0.3333333333333333,
              "#9c179e"
             ],
             [
              0.4444444444444444,
              "#bd3786"
             ],
             [
              0.5555555555555556,
              "#d8576b"
             ],
             [
              0.6666666666666666,
              "#ed7953"
             ],
             [
              0.7777777777777778,
              "#fb9f3a"
             ],
             [
              0.8888888888888888,
              "#fdca26"
             ],
             [
              1,
              "#f0f921"
             ]
            ],
            "type": "histogram2d"
           }
          ],
          "histogram2dcontour": [
           {
            "colorbar": {
             "outlinewidth": 0,
             "ticks": ""
            },
            "colorscale": [
             [
              0,
              "#0d0887"
             ],
             [
              0.1111111111111111,
              "#46039f"
             ],
             [
              0.2222222222222222,
              "#7201a8"
             ],
             [
              0.3333333333333333,
              "#9c179e"
             ],
             [
              0.4444444444444444,
              "#bd3786"
             ],
             [
              0.5555555555555556,
              "#d8576b"
             ],
             [
              0.6666666666666666,
              "#ed7953"
             ],
             [
              0.7777777777777778,
              "#fb9f3a"
             ],
             [
              0.8888888888888888,
              "#fdca26"
             ],
             [
              1,
              "#f0f921"
             ]
            ],
            "type": "histogram2dcontour"
           }
          ],
          "mesh3d": [
           {
            "colorbar": {
             "outlinewidth": 0,
             "ticks": ""
            },
            "type": "mesh3d"
           }
          ],
          "parcoords": [
           {
            "line": {
             "colorbar": {
              "outlinewidth": 0,
              "ticks": ""
             }
            },
            "type": "parcoords"
           }
          ],
          "pie": [
           {
            "automargin": true,
            "type": "pie"
           }
          ],
          "scatter": [
           {
            "fillpattern": {
             "fillmode": "overlay",
             "size": 10,
             "solidity": 0.2
            },
            "type": "scatter"
           }
          ],
          "scatter3d": [
           {
            "line": {
             "colorbar": {
              "outlinewidth": 0,
              "ticks": ""
             }
            },
            "marker": {
             "colorbar": {
              "outlinewidth": 0,
              "ticks": ""
             }
            },
            "type": "scatter3d"
           }
          ],
          "scattercarpet": [
           {
            "marker": {
             "colorbar": {
              "outlinewidth": 0,
              "ticks": ""
             }
            },
            "type": "scattercarpet"
           }
          ],
          "scattergeo": [
           {
            "marker": {
             "colorbar": {
              "outlinewidth": 0,
              "ticks": ""
             }
            },
            "type": "scattergeo"
           }
          ],
          "scattergl": [
           {
            "marker": {
             "colorbar": {
              "outlinewidth": 0,
              "ticks": ""
             }
            },
            "type": "scattergl"
           }
          ],
          "scattermapbox": [
           {
            "marker": {
             "colorbar": {
              "outlinewidth": 0,
              "ticks": ""
             }
            },
            "type": "scattermapbox"
           }
          ],
          "scatterpolar": [
           {
            "marker": {
             "colorbar": {
              "outlinewidth": 0,
              "ticks": ""
             }
            },
            "type": "scatterpolar"
           }
          ],
          "scatterpolargl": [
           {
            "marker": {
             "colorbar": {
              "outlinewidth": 0,
              "ticks": ""
             }
            },
            "type": "scatterpolargl"
           }
          ],
          "scatterternary": [
           {
            "marker": {
             "colorbar": {
              "outlinewidth": 0,
              "ticks": ""
             }
            },
            "type": "scatterternary"
           }
          ],
          "surface": [
           {
            "colorbar": {
             "outlinewidth": 0,
             "ticks": ""
            },
            "colorscale": [
             [
              0,
              "#0d0887"
             ],
             [
              0.1111111111111111,
              "#46039f"
             ],
             [
              0.2222222222222222,
              "#7201a8"
             ],
             [
              0.3333333333333333,
              "#9c179e"
             ],
             [
              0.4444444444444444,
              "#bd3786"
             ],
             [
              0.5555555555555556,
              "#d8576b"
             ],
             [
              0.6666666666666666,
              "#ed7953"
             ],
             [
              0.7777777777777778,
              "#fb9f3a"
             ],
             [
              0.8888888888888888,
              "#fdca26"
             ],
             [
              1,
              "#f0f921"
             ]
            ],
            "type": "surface"
           }
          ],
          "table": [
           {
            "cells": {
             "fill": {
              "color": "#EBF0F8"
             },
             "line": {
              "color": "white"
             }
            },
            "header": {
             "fill": {
              "color": "#C8D4E3"
             },
             "line": {
              "color": "white"
             }
            },
            "type": "table"
           }
          ]
         },
         "layout": {
          "annotationdefaults": {
           "arrowcolor": "#2a3f5f",
           "arrowhead": 0,
           "arrowwidth": 1
          },
          "autotypenumbers": "strict",
          "coloraxis": {
           "colorbar": {
            "outlinewidth": 0,
            "ticks": ""
           }
          },
          "colorscale": {
           "diverging": [
            [
             0,
             "#8e0152"
            ],
            [
             0.1,
             "#c51b7d"
            ],
            [
             0.2,
             "#de77ae"
            ],
            [
             0.3,
             "#f1b6da"
            ],
            [
             0.4,
             "#fde0ef"
            ],
            [
             0.5,
             "#f7f7f7"
            ],
            [
             0.6,
             "#e6f5d0"
            ],
            [
             0.7,
             "#b8e186"
            ],
            [
             0.8,
             "#7fbc41"
            ],
            [
             0.9,
             "#4d9221"
            ],
            [
             1,
             "#276419"
            ]
           ],
           "sequential": [
            [
             0,
             "#0d0887"
            ],
            [
             0.1111111111111111,
             "#46039f"
            ],
            [
             0.2222222222222222,
             "#7201a8"
            ],
            [
             0.3333333333333333,
             "#9c179e"
            ],
            [
             0.4444444444444444,
             "#bd3786"
            ],
            [
             0.5555555555555556,
             "#d8576b"
            ],
            [
             0.6666666666666666,
             "#ed7953"
            ],
            [
             0.7777777777777778,
             "#fb9f3a"
            ],
            [
             0.8888888888888888,
             "#fdca26"
            ],
            [
             1,
             "#f0f921"
            ]
           ],
           "sequentialminus": [
            [
             0,
             "#0d0887"
            ],
            [
             0.1111111111111111,
             "#46039f"
            ],
            [
             0.2222222222222222,
             "#7201a8"
            ],
            [
             0.3333333333333333,
             "#9c179e"
            ],
            [
             0.4444444444444444,
             "#bd3786"
            ],
            [
             0.5555555555555556,
             "#d8576b"
            ],
            [
             0.6666666666666666,
             "#ed7953"
            ],
            [
             0.7777777777777778,
             "#fb9f3a"
            ],
            [
             0.8888888888888888,
             "#fdca26"
            ],
            [
             1,
             "#f0f921"
            ]
           ]
          },
          "colorway": [
           "#636efa",
           "#EF553B",
           "#00cc96",
           "#ab63fa",
           "#FFA15A",
           "#19d3f3",
           "#FF6692",
           "#B6E880",
           "#FF97FF",
           "#FECB52"
          ],
          "font": {
           "color": "#2a3f5f"
          },
          "geo": {
           "bgcolor": "white",
           "lakecolor": "white",
           "landcolor": "#E5ECF6",
           "showlakes": true,
           "showland": true,
           "subunitcolor": "white"
          },
          "hoverlabel": {
           "align": "left"
          },
          "hovermode": "closest",
          "mapbox": {
           "style": "light"
          },
          "paper_bgcolor": "white",
          "plot_bgcolor": "#E5ECF6",
          "polar": {
           "angularaxis": {
            "gridcolor": "white",
            "linecolor": "white",
            "ticks": ""
           },
           "bgcolor": "#E5ECF6",
           "radialaxis": {
            "gridcolor": "white",
            "linecolor": "white",
            "ticks": ""
           }
          },
          "scene": {
           "xaxis": {
            "backgroundcolor": "#E5ECF6",
            "gridcolor": "white",
            "gridwidth": 2,
            "linecolor": "white",
            "showbackground": true,
            "ticks": "",
            "zerolinecolor": "white"
           },
           "yaxis": {
            "backgroundcolor": "#E5ECF6",
            "gridcolor": "white",
            "gridwidth": 2,
            "linecolor": "white",
            "showbackground": true,
            "ticks": "",
            "zerolinecolor": "white"
           },
           "zaxis": {
            "backgroundcolor": "#E5ECF6",
            "gridcolor": "white",
            "gridwidth": 2,
            "linecolor": "white",
            "showbackground": true,
            "ticks": "",
            "zerolinecolor": "white"
           }
          },
          "shapedefaults": {
           "line": {
            "color": "#2a3f5f"
           }
          },
          "ternary": {
           "aaxis": {
            "gridcolor": "white",
            "linecolor": "white",
            "ticks": ""
           },
           "baxis": {
            "gridcolor": "white",
            "linecolor": "white",
            "ticks": ""
           },
           "bgcolor": "#E5ECF6",
           "caxis": {
            "gridcolor": "white",
            "linecolor": "white",
            "ticks": ""
           }
          },
          "title": {
           "x": 0.05
          },
          "xaxis": {
           "automargin": true,
           "gridcolor": "white",
           "linecolor": "white",
           "ticks": "",
           "title": {
            "standoff": 15
           },
           "zerolinecolor": "white",
           "zerolinewidth": 2
          },
          "yaxis": {
           "automargin": true,
           "gridcolor": "white",
           "linecolor": "white",
           "ticks": "",
           "title": {
            "standoff": 15
           },
           "zerolinecolor": "white",
           "zerolinewidth": 2
          }
         }
        },
        "title": {
         "font": {
          "color": "#4D5663"
         }
        },
        "xaxis": {
         "anchor": "y",
         "autorange": true,
         "domain": [
          0,
          0.2125
         ],
         "gridcolor": "#E1E5ED",
         "range": [
          -2.5,
          2.5
         ],
         "showgrid": false,
         "tickfont": {
          "color": "#4D5663"
         },
         "title": {
          "font": {
           "color": "#4D5663"
          },
          "text": ""
         },
         "type": "linear",
         "zerolinecolor": "#E1E5ED"
        },
        "xaxis10": {
         "anchor": "y10",
         "autorange": true,
         "domain": [
          0.2625,
          0.475
         ],
         "gridcolor": "#E1E5ED",
         "range": [
          -2.8877393546889594,
          2.9472232185683342
         ],
         "showgrid": false,
         "tickfont": {
          "color": "#4D5663"
         },
         "title": {
          "font": {
           "color": "#4D5663"
          },
          "text": ""
         },
         "type": "linear",
         "zerolinecolor": "#E1E5ED"
        },
        "xaxis11": {
         "anchor": "y11",
         "autorange": true,
         "domain": [
          0.525,
          0.7375
         ],
         "gridcolor": "#E1E5ED",
         "range": [
          -3,
          3
         ],
         "showgrid": false,
         "tickfont": {
          "color": "#4D5663"
         },
         "title": {
          "font": {
           "color": "#4D5663"
          },
          "text": ""
         },
         "type": "linear",
         "zerolinecolor": "#E1E5ED"
        },
        "xaxis12": {
         "anchor": "y12",
         "autorange": true,
         "domain": [
          0.7875,
          1
         ],
         "gridcolor": "#E1E5ED",
         "range": [
          -2.687867813998614,
          3.696121030410833
         ],
         "showgrid": false,
         "tickfont": {
          "color": "#4D5663"
         },
         "title": {
          "font": {
           "color": "#4D5663"
          },
          "text": ""
         },
         "type": "linear",
         "zerolinecolor": "#E1E5ED"
        },
        "xaxis13": {
         "anchor": "y13",
         "autorange": true,
         "domain": [
          0,
          0.2125
         ],
         "gridcolor": "#E1E5ED",
         "range": [
          -2.6580556036527745,
          2.746205292835754
         ],
         "showgrid": false,
         "tickfont": {
          "color": "#4D5663"
         },
         "title": {
          "font": {
           "color": "#4D5663"
          },
          "text": ""
         },
         "type": "linear",
         "zerolinecolor": "#E1E5ED"
        },
        "xaxis14": {
         "anchor": "y14",
         "autorange": true,
         "domain": [
          0.2625,
          0.475
         ],
         "gridcolor": "#E1E5ED",
         "range": [
          -2.8877393546889594,
          2.9472232185683342
         ],
         "showgrid": false,
         "tickfont": {
          "color": "#4D5663"
         },
         "title": {
          "font": {
           "color": "#4D5663"
          },
          "text": ""
         },
         "type": "linear",
         "zerolinecolor": "#E1E5ED"
        },
        "xaxis15": {
         "anchor": "y15",
         "autorange": true,
         "domain": [
          0.525,
          0.7375
         ],
         "gridcolor": "#E1E5ED",
         "range": [
          -3.0127230730658403,
          3.139408201761332
         ],
         "showgrid": false,
         "tickfont": {
          "color": "#4D5663"
         },
         "title": {
          "font": {
           "color": "#4D5663"
          },
          "text": ""
         },
         "type": "linear",
         "zerolinecolor": "#E1E5ED"
        },
        "xaxis16": {
         "anchor": "y16",
         "autorange": true,
         "domain": [
          0.7875,
          1
         ],
         "gridcolor": "#E1E5ED",
         "range": [
          -3,
          4
         ],
         "showgrid": false,
         "tickfont": {
          "color": "#4D5663"
         },
         "title": {
          "font": {
           "color": "#4D5663"
          },
          "text": ""
         },
         "type": "linear",
         "zerolinecolor": "#E1E5ED"
        },
        "xaxis2": {
         "anchor": "y2",
         "autorange": true,
         "domain": [
          0.2625,
          0.475
         ],
         "gridcolor": "#E1E5ED",
         "range": [
          -2.8877393546889594,
          2.9472232185683342
         ],
         "showgrid": false,
         "tickfont": {
          "color": "#4D5663"
         },
         "title": {
          "font": {
           "color": "#4D5663"
          },
          "text": ""
         },
         "type": "linear",
         "zerolinecolor": "#E1E5ED"
        },
        "xaxis3": {
         "anchor": "y3",
         "autorange": true,
         "domain": [
          0.525,
          0.7375
         ],
         "gridcolor": "#E1E5ED",
         "range": [
          -3.0127230730658403,
          3.139408201761332
         ],
         "showgrid": false,
         "tickfont": {
          "color": "#4D5663"
         },
         "title": {
          "font": {
           "color": "#4D5663"
          },
          "text": ""
         },
         "type": "linear",
         "zerolinecolor": "#E1E5ED"
        },
        "xaxis4": {
         "anchor": "y4",
         "autorange": true,
         "domain": [
          0.7875,
          1
         ],
         "gridcolor": "#E1E5ED",
         "range": [
          -2.687867813998614,
          3.696121030410833
         ],
         "showgrid": false,
         "tickfont": {
          "color": "#4D5663"
         },
         "title": {
          "font": {
           "color": "#4D5663"
          },
          "text": ""
         },
         "type": "linear",
         "zerolinecolor": "#E1E5ED"
        },
        "xaxis5": {
         "anchor": "y5",
         "autorange": true,
         "domain": [
          0,
          0.2125
         ],
         "gridcolor": "#E1E5ED",
         "range": [
          -2.6580556036527745,
          2.746205292835754
         ],
         "showgrid": false,
         "tickfont": {
          "color": "#4D5663"
         },
         "title": {
          "font": {
           "color": "#4D5663"
          },
          "text": ""
         },
         "type": "linear",
         "zerolinecolor": "#E1E5ED"
        },
        "xaxis6": {
         "anchor": "y6",
         "autorange": true,
         "domain": [
          0.2625,
          0.475
         ],
         "gridcolor": "#E1E5ED",
         "range": [
          -2.5,
          3
         ],
         "showgrid": false,
         "tickfont": {
          "color": "#4D5663"
         },
         "title": {
          "font": {
           "color": "#4D5663"
          },
          "text": ""
         },
         "type": "linear",
         "zerolinecolor": "#E1E5ED"
        },
        "xaxis7": {
         "anchor": "y7",
         "autorange": true,
         "domain": [
          0.525,
          0.7375
         ],
         "gridcolor": "#E1E5ED",
         "range": [
          -3.0127230730658403,
          3.139408201761332
         ],
         "showgrid": false,
         "tickfont": {
          "color": "#4D5663"
         },
         "title": {
          "font": {
           "color": "#4D5663"
          },
          "text": ""
         },
         "type": "linear",
         "zerolinecolor": "#E1E5ED"
        },
        "xaxis8": {
         "anchor": "y8",
         "autorange": true,
         "domain": [
          0.7875,
          1
         ],
         "gridcolor": "#E1E5ED",
         "range": [
          -2.687867813998614,
          3.696121030410833
         ],
         "showgrid": false,
         "tickfont": {
          "color": "#4D5663"
         },
         "title": {
          "font": {
           "color": "#4D5663"
          },
          "text": ""
         },
         "type": "linear",
         "zerolinecolor": "#E1E5ED"
        },
        "xaxis9": {
         "anchor": "y9",
         "autorange": true,
         "domain": [
          0,
          0.2125
         ],
         "gridcolor": "#E1E5ED",
         "range": [
          -2.6580556036527745,
          2.746205292835754
         ],
         "showgrid": false,
         "tickfont": {
          "color": "#4D5663"
         },
         "title": {
          "font": {
           "color": "#4D5663"
          },
          "text": ""
         },
         "type": "linear",
         "zerolinecolor": "#E1E5ED"
        },
        "yaxis": {
         "anchor": "x",
         "autorange": true,
         "domain": [
          0.8025,
          1
         ],
         "gridcolor": "#E1E5ED",
         "range": [
          0,
          18.94736842105263
         ],
         "showgrid": false,
         "tickfont": {
          "color": "#4D5663"
         },
         "title": {
          "font": {
           "color": "#4D5663"
          },
          "text": ""
         },
         "zerolinecolor": "#E1E5ED"
        },
        "yaxis10": {
         "anchor": "x10",
         "autorange": true,
         "domain": [
          0.2675,
          0.465
         ],
         "gridcolor": "#E1E5ED",
         "range": [
          -3.5292706482020253,
          3.655955776897517
         ],
         "showgrid": false,
         "tickfont": {
          "color": "#4D5663"
         },
         "title": {
          "font": {
           "color": "#4D5663"
          },
          "text": ""
         },
         "type": "linear",
         "zerolinecolor": "#E1E5ED"
        },
        "yaxis11": {
         "anchor": "x11",
         "autorange": true,
         "domain": [
          0.2675,
          0.465
         ],
         "gridcolor": "#E1E5ED",
         "range": [
          0,
          42.10526315789474
         ],
         "showgrid": false,
         "tickfont": {
          "color": "#4D5663"
         },
         "title": {
          "font": {
           "color": "#4D5663"
          },
          "text": ""
         },
         "zerolinecolor": "#E1E5ED"
        },
        "yaxis12": {
         "anchor": "x12",
         "autorange": true,
         "domain": [
          0.2675,
          0.465
         ],
         "gridcolor": "#E1E5ED",
         "range": [
          -3.5292706482020253,
          3.655955776897517
         ],
         "showgrid": false,
         "tickfont": {
          "color": "#4D5663"
         },
         "title": {
          "font": {
           "color": "#4D5663"
          },
          "text": ""
         },
         "type": "linear",
         "zerolinecolor": "#E1E5ED"
        },
        "yaxis13": {
         "anchor": "x13",
         "autorange": true,
         "domain": [
          0,
          0.1975
         ],
         "gridcolor": "#E1E5ED",
         "range": [
          -3.2238827021673964,
          4.2321359185796155
         ],
         "showgrid": false,
         "tickfont": {
          "color": "#4D5663"
         },
         "title": {
          "font": {
           "color": "#4D5663"
          },
          "text": ""
         },
         "type": "linear",
         "zerolinecolor": "#E1E5ED"
        },
        "yaxis14": {
         "anchor": "x14",
         "autorange": true,
         "domain": [
          0,
          0.1975
         ],
         "gridcolor": "#E1E5ED",
         "range": [
          -3.2238827021673964,
          4.2321359185796155
         ],
         "showgrid": false,
         "tickfont": {
          "color": "#4D5663"
         },
         "title": {
          "font": {
           "color": "#4D5663"
          },
          "text": ""
         },
         "type": "linear",
         "zerolinecolor": "#E1E5ED"
        },
        "yaxis15": {
         "anchor": "x15",
         "autorange": true,
         "domain": [
          0,
          0.1975
         ],
         "gridcolor": "#E1E5ED",
         "range": [
          -3.2238827021673964,
          4.2321359185796155
         ],
         "showgrid": false,
         "tickfont": {
          "color": "#4D5663"
         },
         "title": {
          "font": {
           "color": "#4D5663"
          },
          "text": ""
         },
         "type": "linear",
         "zerolinecolor": "#E1E5ED"
        },
        "yaxis16": {
         "anchor": "x16",
         "autorange": true,
         "domain": [
          0,
          0.1975
         ],
         "gridcolor": "#E1E5ED",
         "range": [
          0,
          40
         ],
         "showgrid": false,
         "tickfont": {
          "color": "#4D5663"
         },
         "title": {
          "font": {
           "color": "#4D5663"
          },
          "text": ""
         },
         "zerolinecolor": "#E1E5ED"
        },
        "yaxis2": {
         "anchor": "x2",
         "autorange": true,
         "domain": [
          0.8025,
          1
         ],
         "gridcolor": "#E1E5ED",
         "range": [
          -3.111810202958342,
          3.1999598921413215
         ],
         "showgrid": false,
         "tickfont": {
          "color": "#4D5663"
         },
         "title": {
          "font": {
           "color": "#4D5663"
          },
          "text": ""
         },
         "type": "linear",
         "zerolinecolor": "#E1E5ED"
        },
        "yaxis3": {
         "anchor": "x3",
         "autorange": true,
         "domain": [
          0.8025,
          1
         ],
         "gridcolor": "#E1E5ED",
         "range": [
          -3.111810202958342,
          3.1999598921413215
         ],
         "showgrid": false,
         "tickfont": {
          "color": "#4D5663"
         },
         "title": {
          "font": {
           "color": "#4D5663"
          },
          "text": ""
         },
         "type": "linear",
         "zerolinecolor": "#E1E5ED"
        },
        "yaxis4": {
         "anchor": "x4",
         "autorange": true,
         "domain": [
          0.8025,
          1
         ],
         "gridcolor": "#E1E5ED",
         "range": [
          -3.111810202958342,
          3.1999598921413215
         ],
         "showgrid": false,
         "tickfont": {
          "color": "#4D5663"
         },
         "title": {
          "font": {
           "color": "#4D5663"
          },
          "text": ""
         },
         "type": "linear",
         "zerolinecolor": "#E1E5ED"
        },
        "yaxis5": {
         "anchor": "x5",
         "autorange": true,
         "domain": [
          0.535,
          0.7325
         ],
         "gridcolor": "#E1E5ED",
         "range": [
          -3.3776566912319965,
          3.4371405551113714
         ],
         "showgrid": false,
         "tickfont": {
          "color": "#4D5663"
         },
         "title": {
          "font": {
           "color": "#4D5663"
          },
          "text": ""
         },
         "type": "linear",
         "zerolinecolor": "#E1E5ED"
        },
        "yaxis6": {
         "anchor": "x6",
         "autorange": true,
         "domain": [
          0.535,
          0.7325
         ],
         "gridcolor": "#E1E5ED",
         "range": [
          0,
          28.42105263157895
         ],
         "showgrid": false,
         "tickfont": {
          "color": "#4D5663"
         },
         "title": {
          "font": {
           "color": "#4D5663"
          },
          "text": ""
         },
         "zerolinecolor": "#E1E5ED"
        },
        "yaxis7": {
         "anchor": "x7",
         "autorange": true,
         "domain": [
          0.535,
          0.7325
         ],
         "gridcolor": "#E1E5ED",
         "range": [
          -3.3776566912319965,
          3.4371405551113714
         ],
         "showgrid": false,
         "tickfont": {
          "color": "#4D5663"
         },
         "title": {
          "font": {
           "color": "#4D5663"
          },
          "text": ""
         },
         "type": "linear",
         "zerolinecolor": "#E1E5ED"
        },
        "yaxis8": {
         "anchor": "x8",
         "autorange": true,
         "domain": [
          0.535,
          0.7325
         ],
         "gridcolor": "#E1E5ED",
         "range": [
          -3.3776566912319965,
          3.4371405551113714
         ],
         "showgrid": false,
         "tickfont": {
          "color": "#4D5663"
         },
         "title": {
          "font": {
           "color": "#4D5663"
          },
          "text": ""
         },
         "type": "linear",
         "zerolinecolor": "#E1E5ED"
        },
        "yaxis9": {
         "anchor": "x9",
         "autorange": true,
         "domain": [
          0.2675,
          0.465
         ],
         "gridcolor": "#E1E5ED",
         "range": [
          -3.5292706482020253,
          3.655955776897517
         ],
         "showgrid": false,
         "tickfont": {
          "color": "#4D5663"
         },
         "title": {
          "font": {
           "color": "#4D5663"
          },
          "text": ""
         },
         "type": "linear",
         "zerolinecolor": "#E1E5ED"
        }
       }
      },
      "image/png": "[encoded data removed]",
      "text/html": [
       "<div>                            <div id=\"7dfe625e-5838-4828-b74f-73fe6363db78\" class=\"plotly-graph-div\" style=\"height:525px; width:100%;\"></div>            <script type=\"text/javascript\">                require([\"plotly\"], function(Plotly) {                    window.PLOTLYENV=window.PLOTLYENV || {};\n",
       "                    window.PLOTLYENV.BASE_URL='https://plot.ly';                                    if (document.getElementById(\"7dfe625e-5838-4828-b74f-73fe6363db78\")) {                    Plotly.newPlot(                        \"7dfe625e-5838-4828-b74f-73fe6363db78\",                        [{\"histfunc\":\"count\",\"histnorm\":\"\",\"marker\":{\"color\":\"rgba(255, 153, 51, 1.0)\",\"line\":{\"color\":\"#4D5663\",\"width\":1.3}},\"name\":\"A\",\"nbinsx\":10,\"opacity\":0.8,\"orientation\":\"v\",\"x\":[-0.25651358813864394,-0.37235581545779156,0.5002419357099328,-0.11000076537614083,0.17778660907896845,0.9604613024588065,0.4363214349672373,-1.4978277774334499,0.8645756506604332,2.0630604768166827,0.7542953169658457,0.1733651976552315,-0.6444331066497141,0.3209043316114856,1.6785806759597626,-0.768276598133913,-0.4437501612730779,-0.8302809130629326,-1.83130407644596,-0.08556917211148315,1.2200374641662524,0.43085791113408056,0.5511804573603465,-0.16353621251587924,0.6586323285433434,2.3517325607956496,0.6635657432207783,1.3361398298086415,0.9426893152605952,1.202750196660914,-1.0802834636380134,0.797596295522079,-2.1353376820151646,1.0124334336311576,-0.6884302626219291,1.4330491707214221,-1.9814602294362633,-0.5674998520256744,-0.12726165695591024,0.01690501096950438,0.21688201182560074,-0.41576239315205327,0.8413478303973625,-0.27555187555264804,1.3849573166344866,0.28965860152351597,1.71113605486422,1.3624272330785494,-1.7151558980168338,0.30445679202275927,2.246104807570592,-0.8776800083011371,0.7496073571507749,-1.6513468550235542,0.31427315248776627,-0.3863141353653024,0.6206796324142947,-0.5908078632707596,1.4202115846069745,-1.036074601565162,-0.662212444835709,1.398984597964883,-0.6071363585980336,0.3667053811579149,-0.44598615300190175,0.37423381822901,1.9557183485437437,0.6600142225878292,-1.0684482884249031,0.9454672943912482,0.2093456680515466,-0.7697453176044043,0.6287263791329405,0.07310029343322011,0.37831957374116265,1.9492504875561103,-0.35397126610753804,-2.0128095375517963,0.4523488963290223,0.9199987557671497,-1.5511665216942072,-0.08518306870572716,1.0818223115870886,0.585538987032418,0.9805161901529916,-0.1720247731071831,-0.868606625961535,-2.26358287161267,-0.8752904139047751,0.2127772672894863,1.4109648796754914,-0.2239337966605875,0.1678150319818709,1.2382020014030266,-0.780512342018624,-0.3419524964976665,1.60124412899403,-1.2243186234222085,-0.009284479700141263,-0.040504622303769944],\"xaxis\":\"x\",\"yaxis\":\"y\",\"type\":\"histogram\"},{\"line\":{\"color\":\"rgba(128, 128, 128, 1.0)\",\"dash\":\"solid\",\"shape\":\"linear\",\"width\":1.3},\"marker\":{\"size\":2,\"symbol\":\"circle\"},\"mode\":\"markers\",\"name\":\"A\",\"text\":\"\",\"x\":[-0.02986067173150405,-2.1799531962001777,-0.5789093555075555,-0.26434333655992476,-2.4618284536959787,-0.7901403921644476,0.9451257286228039,0.7450082871813458,1.60857197920544,1.5730902365439665,-1.9551544660171785,-0.027464389901744,-0.7681178511940615,-0.004639915826817845,-0.44030564661417154,-0.3692583950171369,-1.0160336886291301,-1.3781463485673215,1.000589278434516,-0.17665477407802171,-1.5991067512786892,0.02603287124653106,-1.382667717669445,-0.6501603347811354,-0.491696789768064,-1.1197505696997012,0.1864545305948082,1.3933095281592436,-1.2292582923747872,1.2134378265696775,1.050807935302168,1.6636700003333091,-1.2521371769182432,-1.4376908538731823,1.9078646710548013,0.5392572409200751,-0.4075494873659262,0.7247154588412541,0.2971247849574402,2.1111710146999756,-0.11585537327132055,-0.22900374168186005,-0.3221851668739211,0.3982765657461531,0.5495004709504342,-0.12327604313195765,-1.3111841261043646,-1.2403296074462404,-1.5161925502679203,-0.5733980394850131,-0.20241035990620967,0.22263247666164349,1.369663058680841,-0.9133646856953234,-1.8124409659312697,-1.1107258388224654,-0.3427571301216928,0.19151614494155136,-0.46960384303453107,0.13722610539425925,-0.5317720123390297,-0.3174299589925087,2.425123045260628,-0.11569142169700684,-0.030427007788570996,-0.5735367738403896,0.007333424341847052,0.9902826111740487,1.1055959686423025,-0.9970025603825291,-0.25277369585452814,2.5213123175753536,-0.7071160259073414,-0.06466616856029736,0.12344557594127975,-0.29813438859524793,1.0990950460168007,-0.4601794141140354,0.5448734618952821,0.0016800027576676208,0.6911720212041327,-1.7856611044880513,-1.2775394585362982,-1.3056006849590482,-1.057648906837918,0.19503908471756207,0.6139499192349814,0.07335014026279132,-0.34543168922458883,0.13619752094940035,-0.548944960325151,-1.051112064124429,-0.25072059443028544,-0.7258091936414498,-0.23853488419716937,-1.0644028379374715,-0.34312747685653466,0.2876655847805023,-1.1120659435621976,1.2051869393236536],\"xaxis\":\"x2\",\"y\":[-0.25651358813864394,-0.37235581545779156,0.5002419357099328,-0.11000076537614083,0.17778660907896845,0.9604613024588065,0.4363214349672373,-1.4978277774334499,0.8645756506604332,2.0630604768166827,0.7542953169658457,0.1733651976552315,-0.6444331066497141,0.3209043316114856,1.6785806759597626,-0.768276598133913,-0.4437501612730779,-0.8302809130629326,-1.83130407644596,-0.08556917211148315,1.2200374641662524,0.43085791113408056,0.5511804573603465,-0.16353621251587924,0.6586323285433434,2.3517325607956496,0.6635657432207783,1.3361398298086415,0.9426893152605952,1.202750196660914,-1.0802834636380134,0.797596295522079,-2.1353376820151646,1.0124334336311576,-0.6884302626219291,1.4330491707214221,-1.9814602294362633,-0.5674998520256744,-0.12726165695591024,0.01690501096950438,0.21688201182560074,-0.41576239315205327,0.8413478303973625,-0.27555187555264804,1.3849573166344866,0.28965860152351597,1.71113605486422,1.3624272330785494,-1.7151558980168338,0.30445679202275927,2.246104807570592,-0.8776800083011371,0.7496073571507749,-1.6513468550235542,0.31427315248776627,-0.3863141353653024,0.6206796324142947,-0.5908078632707596,1.4202115846069745,-1.036074601565162,-0.662212444835709,1.398984597964883,-0.6071363585980336,0.3667053811579149,-0.44598615300190175,0.37423381822901,1.9557183485437437,0.6600142225878292,-1.0684482884249031,0.9454672943912482,0.2093456680515466,-0.7697453176044043,0.6287263791329405,0.07310029343322011,0.37831957374116265,1.9492504875561103,-0.35397126610753804,-2.0128095375517963,0.4523488963290223,0.9199987557671497,-1.5511665216942072,-0.08518306870572716,1.0818223115870886,0.585538987032418,0.9805161901529916,-0.1720247731071831,-0.868606625961535,-2.26358287161267,-0.8752904139047751,0.2127772672894863,1.4109648796754914,-0.2239337966605875,0.1678150319818709,1.2382020014030266,-0.780512342018624,-0.3419524964976665,1.60124412899403,-1.2243186234222085,-0.009284479700141263,-0.040504622303769944],\"yaxis\":\"y2\",\"type\":\"scatter\"},{\"line\":{\"color\":\"rgba(128, 128, 128, 1.0)\",\"dash\":\"solid\",\"shape\":\"linear\",\"width\":1.3},\"marker\":{\"size\":2,\"symbol\":\"circle\"},\"mode\":\"markers\",\"name\":\"A\",\"text\":\"\",\"x\":[-0.38966192493917723,-1.7813843660441095,-1.9193483498996866,0.30603908104586475,1.1901118431272304,0.3020306103810205,0.21176433346668974,-0.5458308842815632,-0.21803537001369785,-1.505913546529528,1.1627507784104,0.46755066289910674,2.6903462341151525,-1.197037291955223,-0.9329622148665994,-0.4198668209818169,0.22837973743602738,0.3714868629954388,-0.8321609573707648,1.27133060905982,0.06340798434157047,0.7570282886192963,-0.868401924419441,1.2101670240064142,0.4175413385028892,-0.14901072570240553,0.33466406777533614,-0.11467336612418301,0.41611845547640586,-0.06469693175697656,-0.6107403084337582,-1.1653079393826375,-0.40412647925747575,-0.8395953602088322,0.4170611053625541,1.0463020329597337,-0.8970243574009541,0.04231685614746035,-0.7514043299947173,-0.220079773403818,0.28406214034930893,0.42539099516537165,0.3147322863695057,0.2274026391480853,0.29992643280159614,-0.751973614949727,1.2844414690359836,1.402387037538697,0.1574005167691417,-1.0095450846488814,-0.36269717974194093,0.3448706672085185,-0.4799764619493634,0.183432684162653,0.9795246585350526,0.5242094686870751,-0.251008910984075,-1.547016519486077,0.15420614929702792,1.199187022254034,-2.1149199623099926,0.3356040955726825,0.36985829990417046,1.477973872920377,0.05009480394779497,-0.692899226188453,0.9408587817537175,-1.4466868250380696,1.8448285301209943,-0.37361046080901994,-2.5636611054196607,0.9993004179624181,0.8605512159071496,-0.04544818936896232,-0.19764311422143213,0.40782911881921147,-1.2145943978702218,-0.3819946699399939,0.13599805180499586,0.14510063229809675,-0.4091218237607103,-0.14022578557864243,0.6851768647839728,0.8320687109891274,-0.7968523378459248,0.6995691542772194,-0.8656229944332279,0.05446087949522462,0.9356332760078716,1.431814851289245,-0.12510885367604602,-0.915202888079907,0.233585926240254,1.1401096698851112,-1.1220524666369662,1.113161756618276,-2.387993937318283,-1.9465645816334682,0.8995898884803665,-1.6344920825885743],\"xaxis\":\"x3\",\"y\":[-0.25651358813864394,-0.37235581545779156,0.5002419357099328,-0.11000076537614083,0.17778660907896845,0.9604613024588065,0.4363214349672373,-1.4978277774334499,0.8645756506604332,2.0630604768166827,0.7542953169658457,0.1733651976552315,-0.6444331066497141,0.3209043316114856,1.6785806759597626,-0.768276598133913,-0.4437501612730779,-0.8302809130629326,-1.83130407644596,-0.08556917211148315,1.2200374641662524,0.43085791113408056,0.5511804573603465,-0.16353621251587924,0.6586323285433434,2.3517325607956496,0.6635657432207783,1.3361398298086415,0.9426893152605952,1.202750196660914,-1.0802834636380134,0.797596295522079,-2.1353376820151646,1.0124334336311576,-0.6884302626219291,1.4330491707214221,-1.9814602294362633,-0.5674998520256744,-0.12726165695591024,0.01690501096950438,0.21688201182560074,-0.41576239315205327,0.8413478303973625,-0.27555187555264804,1.3849573166344866,0.28965860152351597,1.71113605486422,1.3624272330785494,-1.7151558980168338,0.30445679202275927,2.246104807570592,-0.8776800083011371,0.7496073571507749,-1.6513468550235542,0.31427315248776627,-0.3863141353653024,0.6206796324142947,-0.5908078632707596,1.4202115846069745,-1.036074601565162,-0.662212444835709,1.398984597964883,-0.6071363585980336,0.3667053811579149,-0.44598615300190175,0.37423381822901,1.9557183485437437,0.6600142225878292,-1.0684482884249031,0.9454672943912482,0.2093456680515466,-0.7697453176044043,0.6287263791329405,0.07310029343322011,0.37831957374116265,1.9492504875561103,-0.35397126610753804,-2.0128095375517963,0.4523488963290223,0.9199987557671497,-1.5511665216942072,-0.08518306870572716,1.0818223115870886,0.585538987032418,0.9805161901529916,-0.1720247731071831,-0.868606625961535,-2.26358287161267,-0.8752904139047751,0.2127772672894863,1.4109648796754914,-0.2239337966605875,0.1678150319818709,1.2382020014030266,-0.780512342018624,-0.3419524964976665,1.60124412899403,-1.2243186234222085,-0.009284479700141263,-0.040504622303769944],\"yaxis\":\"y3\",\"type\":\"scatter\"},{\"line\":{\"color\":\"rgba(128, 128, 128, 1.0)\",\"dash\":\"solid\",\"shape\":\"linear\",\"width\":1.3},\"marker\":{\"size\":2,\"symbol\":\"circle\"},\"mode\":\"markers\",\"name\":\"A\",\"text\":\"\",\"x\":[1.3379982953184697,0.43596200158092563,-0.7631196008307619,-0.5679030707716345,-0.7872850061470617,0.41138033506195215,-0.15067850685396827,0.25791067763325554,0.6436235039149962,1.3236997987644707,-1.0171427376393085,0.8395721802900593,0.9490113918092095,-0.33861351286101615,-0.594140068374357,-1.0862685764055808,0.6381921060261312,-2.025285230217843,0.9453300039966772,1.2728153098249027,0.5454040914311109,-0.08584535182158513,0.20393438397452654,-0.8090202634016018,0.8892665001357477,0.13874951031877247,0.2607263225769835,-0.5980763442522491,-0.292536794369674,0.9668060165596394,-0.1214207591398322,-0.7313225037183346,-0.7940830622872195,0.10368083002132215,1.2072686896833953,0.6946900116706878,-0.6902393233133621,-1.6518050704457372,0.19980976340380366,1.9460179998888243,-0.531796166254378,-0.7484486735942585,0.1796230290171249,-0.286221396993404,-0.4898088756101573,0.10977459198301838,-1.0353323426199479,0.9995925658791721,1.899663190487716,-0.7106904282195735,-0.0739470377571122,-0.9565850084701643,-0.5273134603892076,-0.4626906500410658,1.0055383578188615,-1.056222119469628,-0.23873414087916872,0.6183700330855165,-0.371115375582888,0.6517795470485221,-0.7342879734317916,0.30195081469517454,1.2753618601770222,0.5319775667908635,-0.265106098283388,-0.2590386757596041,-0.41812835998089326,-0.7373047577180892,-1.1463764893859034,-0.04918041107819704,-0.48119237400654424,0.3628454100539982,0.7323906197761266,-0.6052580679327753,-1.3764492966375457,-2.2092031779808847,0.2933615309237955,-0.8875861214690169,3.230135103934922,0.5968978982094048,-1.3016692630358448,0.9007075990241182,-1.6969277990854619,-0.02781487685981458,-2.221881887522703,0.8371433357860195,0.7619266355077301,0.8131780006414743,-0.0110069029306748,1.4458510984193944,-1.454041085151003,-1.103029793341637,2.134675461219435,0.4044164555511809,0.4091331114985936,0.4082425298040662,-0.3450957859769514,-0.8017624852347573,0.5064400505980814,1.6632076561950764],\"xaxis\":\"x4\",\"y\":[-0.25651358813864394,-0.37235581545779156,0.5002419357099328,-0.11000076537614083,0.17778660907896845,0.9604613024588065,0.4363214349672373,-1.4978277774334499,0.8645756506604332,2.0630604768166827,0.7542953169658457,0.1733651976552315,-0.6444331066497141,0.3209043316114856,1.6785806759597626,-0.768276598133913,-0.4437501612730779,-0.8302809130629326,-1.83130407644596,-0.08556917211148315,1.2200374641662524,0.43085791113408056,0.5511804573603465,-0.16353621251587924,0.6586323285433434,2.3517325607956496,0.6635657432207783,1.3361398298086415,0.9426893152605952,1.202750196660914,-1.0802834636380134,0.797596295522079,-2.1353376820151646,1.0124334336311576,-0.6884302626219291,1.4330491707214221,-1.9814602294362633,-0.5674998520256744,-0.12726165695591024,0.01690501096950438,0.21688201182560074,-0.41576239315205327,0.8413478303973625,-0.27555187555264804,1.3849573166344866,0.28965860152351597,1.71113605486422,1.3624272330785494,-1.7151558980168338,0.30445679202275927,2.246104807570592,-0.8776800083011371,0.7496073571507749,-1.6513468550235542,0.31427315248776627,-0.3863141353653024,0.6206796324142947,-0.5908078632707596,1.4202115846069745,-1.036074601565162,-0.662212444835709,1.398984597964883,-0.6071363585980336,0.3667053811579149,-0.44598615300190175,0.37423381822901,1.9557183485437437,0.6600142225878292,-1.0684482884249031,0.9454672943912482,0.2093456680515466,-0.7697453176044043,0.6287263791329405,0.07310029343322011,0.37831957374116265,1.9492504875561103,-0.35397126610753804,-2.0128095375517963,0.4523488963290223,0.9199987557671497,-1.5511665216942072,-0.08518306870572716,1.0818223115870886,0.585538987032418,0.9805161901529916,-0.1720247731071831,-0.868606625961535,-2.26358287161267,-0.8752904139047751,0.2127772672894863,1.4109648796754914,-0.2239337966605875,0.1678150319818709,1.2382020014030266,-0.780512342018624,-0.3419524964976665,1.60124412899403,-1.2243186234222085,-0.009284479700141263,-0.040504622303769944],\"yaxis\":\"y4\",\"type\":\"scatter\"},{\"line\":{\"color\":\"rgba(128, 128, 128, 1.0)\",\"dash\":\"solid\",\"shape\":\"linear\",\"width\":1.3},\"marker\":{\"size\":2,\"symbol\":\"circle\"},\"mode\":\"markers\",\"name\":\"B\",\"text\":\"\",\"x\":[-0.25651358813864394,-0.37235581545779156,0.5002419357099328,-0.11000076537614083,0.17778660907896845,0.9604613024588065,0.4363214349672373,-1.4978277774334499,0.8645756506604332,2.0630604768166827,0.7542953169658457,0.1733651976552315,-0.6444331066497141,0.3209043316114856,1.6785806759597626,-0.768276598133913,-0.4437501612730779,-0.8302809130629326,-1.83130407644596,-0.08556917211148315,1.2200374641662524,0.43085791113408056,0.5511804573603465,-0.16353621251587924,0.6586323285433434,2.3517325607956496,0.6635657432207783,1.3361398298086415,0.9426893152605952,1.202750196660914,-1.0802834636380134,0.797596295522079,-2.1353376820151646,1.0124334336311576,-0.6884302626219291,1.4330491707214221,-1.9814602294362633,-0.5674998520256744,-0.12726165695591024,0.01690501096950438,0.21688201182560074,-0.41576239315205327,0.8413478303973625,-0.27555187555264804,1.3849573166344866,0.28965860152351597,1.71113605486422,1.3624272330785494,-1.7151558980168338,0.30445679202275927,2.246104807570592,-0.8776800083011371,0.7496073571507749,-1.6513468550235542,0.31427315248776627,-0.3863141353653024,0.6206796324142947,-0.5908078632707596,1.4202115846069745,-1.036074601565162,-0.662212444835709,1.398984597964883,-0.6071363585980336,0.3667053811579149,-0.44598615300190175,0.37423381822901,1.9557183485437437,0.6600142225878292,-1.0684482884249031,0.9454672943912482,0.2093456680515466,-0.7697453176044043,0.6287263791329405,0.07310029343322011,0.37831957374116265,1.9492504875561103,-0.35397126610753804,-2.0128095375517963,0.4523488963290223,0.9199987557671497,-1.5511665216942072,-0.08518306870572716,1.0818223115870886,0.585538987032418,0.9805161901529916,-0.1720247731071831,-0.868606625961535,-2.26358287161267,-0.8752904139047751,0.2127772672894863,1.4109648796754914,-0.2239337966605875,0.1678150319818709,1.2382020014030266,-0.780512342018624,-0.3419524964976665,1.60124412899403,-1.2243186234222085,-0.009284479700141263,-0.040504622303769944],\"xaxis\":\"x5\",\"y\":[-0.02986067173150405,-2.1799531962001777,-0.5789093555075555,-0.26434333655992476,-2.4618284536959787,-0.7901403921644476,0.9451257286228039,0.7450082871813458,1.60857197920544,1.5730902365439665,-1.9551544660171785,-0.027464389901744,-0.7681178511940615,-0.004639915826817845,-0.44030564661417154,-0.3692583950171369,-1.0160336886291301,-1.3781463485673215,1.000589278434516,-0.17665477407802171,-1.5991067512786892,0.02603287124653106,-1.382667717669445,-0.6501603347811354,-0.491696789768064,-1.1197505696997012,0.1864545305948082,1.3933095281592436,-1.2292582923747872,1.2134378265696775,1.050807935302168,1.6636700003333091,-1.2521371769182432,-1.4376908538731823,1.9078646710548013,0.5392572409200751,-0.4075494873659262,0.7247154588412541,0.2971247849574402,2.1111710146999756,-0.11585537327132055,-0.22900374168186005,-0.3221851668739211,0.3982765657461531,0.5495004709504342,-0.12327604313195765,-1.3111841261043646,-1.2403296074462404,-1.5161925502679203,-0.5733980394850131,-0.20241035990620967,0.22263247666164349,1.369663058680841,-0.9133646856953234,-1.8124409659312697,-1.1107258388224654,-0.3427571301216928,0.19151614494155136,-0.46960384303453107,0.13722610539425925,-0.5317720123390297,-0.3174299589925087,2.425123045260628,-0.11569142169700684,-0.030427007788570996,-0.5735367738403896,0.007333424341847052,0.9902826111740487,1.1055959686423025,-0.9970025603825291,-0.25277369585452814,2.5213123175753536,-0.7071160259073414,-0.06466616856029736,0.12344557594127975,-0.29813438859524793,1.0990950460168007,-0.4601794141140354,0.5448734618952821,0.0016800027576676208,0.6911720212041327,-1.7856611044880513,-1.2775394585362982,-1.3056006849590482,-1.057648906837918,0.19503908471756207,0.6139499192349814,0.07335014026279132,-0.34543168922458883,0.13619752094940035,-0.548944960325151,-1.051112064124429,-0.25072059443028544,-0.7258091936414498,-0.23853488419716937,-1.0644028379374715,-0.34312747685653466,0.2876655847805023,-1.1120659435621976,1.2051869393236536],\"yaxis\":\"y5\",\"type\":\"scatter\"},{\"histfunc\":\"count\",\"histnorm\":\"\",\"marker\":{\"color\":\"rgba(55, 128, 191, 1.0)\",\"line\":{\"color\":\"#4D5663\",\"width\":1.3}},\"name\":\"B\",\"nbinsx\":10,\"opacity\":0.8,\"orientation\":\"v\",\"x\":[-0.02986067173150405,-2.1799531962001777,-0.5789093555075555,-0.26434333655992476,-2.4618284536959787,-0.7901403921644476,0.9451257286228039,0.7450082871813458,1.60857197920544,1.5730902365439665,-1.9551544660171785,-0.027464389901744,-0.7681178511940615,-0.004639915826817845,-0.44030564661417154,-0.3692583950171369,-1.0160336886291301,-1.3781463485673215,1.000589278434516,-0.17665477407802171,-1.5991067512786892,0.02603287124653106,-1.382667717669445,-0.6501603347811354,-0.491696789768064,-1.1197505696997012,0.1864545305948082,1.3933095281592436,-1.2292582923747872,1.2134378265696775,1.050807935302168,1.6636700003333091,-1.2521371769182432,-1.4376908538731823,1.9078646710548013,0.5392572409200751,-0.4075494873659262,0.7247154588412541,0.2971247849574402,2.1111710146999756,-0.11585537327132055,-0.22900374168186005,-0.3221851668739211,0.3982765657461531,0.5495004709504342,-0.12327604313195765,-1.3111841261043646,-1.2403296074462404,-1.5161925502679203,-0.5733980394850131,-0.20241035990620967,0.22263247666164349,1.369663058680841,-0.9133646856953234,-1.8124409659312697,-1.1107258388224654,-0.3427571301216928,0.19151614494155136,-0.46960384303453107,0.13722610539425925,-0.5317720123390297,-0.3174299589925087,2.425123045260628,-0.11569142169700684,-0.030427007788570996,-0.5735367738403896,0.007333424341847052,0.9902826111740487,1.1055959686423025,-0.9970025603825291,-0.25277369585452814,2.5213123175753536,-0.7071160259073414,-0.06466616856029736,0.12344557594127975,-0.29813438859524793,1.0990950460168007,-0.4601794141140354,0.5448734618952821,0.0016800027576676208,0.6911720212041327,-1.7856611044880513,-1.2775394585362982,-1.3056006849590482,-1.057648906837918,0.19503908471756207,0.6139499192349814,0.07335014026279132,-0.34543168922458883,0.13619752094940035,-0.548944960325151,-1.051112064124429,-0.25072059443028544,-0.7258091936414498,-0.23853488419716937,-1.0644028379374715,-0.34312747685653466,0.2876655847805023,-1.1120659435621976,1.2051869393236536],\"xaxis\":\"x6\",\"yaxis\":\"y6\",\"type\":\"histogram\"},{\"line\":{\"color\":\"rgba(128, 128, 128, 1.0)\",\"dash\":\"solid\",\"shape\":\"linear\",\"width\":1.3},\"marker\":{\"size\":2,\"symbol\":\"circle\"},\"mode\":\"markers\",\"name\":\"B\",\"text\":\"\",\"x\":[-0.38966192493917723,-1.7813843660441095,-1.9193483498996866,0.30603908104586475,1.1901118431272304,0.3020306103810205,0.21176433346668974,-0.5458308842815632,-0.21803537001369785,-1.505913546529528,1.1627507784104,0.46755066289910674,2.6903462341151525,-1.197037291955223,-0.9329622148665994,-0.4198668209818169,0.22837973743602738,0.3714868629954388,-0.8321609573707648,1.27133060905982,0.06340798434157047,0.7570282886192963,-0.868401924419441,1.2101670240064142,0.4175413385028892,-0.14901072570240553,0.33466406777533614,-0.11467336612418301,0.41611845547640586,-0.06469693175697656,-0.6107403084337582,-1.1653079393826375,-0.40412647925747575,-0.8395953602088322,0.4170611053625541,1.0463020329597337,-0.8970243574009541,0.04231685614746035,-0.7514043299947173,-0.220079773403818,0.28406214034930893,0.42539099516537165,0.3147322863695057,0.2274026391480853,0.29992643280159614,-0.751973614949727,1.2844414690359836,1.402387037538697,0.1574005167691417,-1.0095450846488814,-0.36269717974194093,0.3448706672085185,-0.4799764619493634,0.183432684162653,0.9795246585350526,0.5242094686870751,-0.251008910984075,-1.547016519486077,0.15420614929702792,1.199187022254034,-2.1149199623099926,0.3356040955726825,0.36985829990417046,1.477973872920377,0.05009480394779497,-0.692899226188453,0.9408587817537175,-1.4466868250380696,1.8448285301209943,-0.37361046080901994,-2.5636611054196607,0.9993004179624181,0.8605512159071496,-0.04544818936896232,-0.19764311422143213,0.40782911881921147,-1.2145943978702218,-0.3819946699399939,0.13599805180499586,0.14510063229809675,-0.4091218237607103,-0.14022578557864243,0.6851768647839728,0.8320687109891274,-0.7968523378459248,0.6995691542772194,-0.8656229944332279,0.05446087949522462,0.9356332760078716,1.431814851289245,-0.12510885367604602,-0.915202888079907,0.233585926240254,1.1401096698851112,-1.1220524666369662,1.113161756618276,-2.387993937318283,-1.9465645816334682,0.8995898884803665,-1.6344920825885743],\"xaxis\":\"x7\",\"y\":[-0.02986067173150405,-2.1799531962001777,-0.5789093555075555,-0.26434333655992476,-2.4618284536959787,-0.7901403921644476,0.9451257286228039,0.7450082871813458,1.60857197920544,1.5730902365439665,-1.9551544660171785,-0.027464389901744,-0.7681178511940615,-0.004639915826817845,-0.44030564661417154,-0.3692583950171369,-1.0160336886291301,-1.3781463485673215,1.000589278434516,-0.17665477407802171,-1.5991067512786892,0.02603287124653106,-1.382667717669445,-0.6501603347811354,-0.491696789768064,-1.1197505696997012,0.1864545305948082,1.3933095281592436,-1.2292582923747872,1.2134378265696775,1.050807935302168,1.6636700003333091,-1.2521371769182432,-1.4376908538731823,1.9078646710548013,0.5392572409200751,-0.4075494873659262,0.7247154588412541,0.2971247849574402,2.1111710146999756,-0.11585537327132055,-0.22900374168186005,-0.3221851668739211,0.3982765657461531,0.5495004709504342,-0.12327604313195765,-1.3111841261043646,-1.2403296074462404,-1.5161925502679203,-0.5733980394850131,-0.20241035990620967,0.22263247666164349,1.369663058680841,-0.9133646856953234,-1.8124409659312697,-1.1107258388224654,-0.3427571301216928,0.19151614494155136,-0.46960384303453107,0.13722610539425925,-0.5317720123390297,-0.3174299589925087,2.425123045260628,-0.11569142169700684,-0.030427007788570996,-0.5735367738403896,0.007333424341847052,0.9902826111740487,1.1055959686423025,-0.9970025603825291,-0.25277369585452814,2.5213123175753536,-0.7071160259073414,-0.06466616856029736,0.12344557594127975,-0.29813438859524793,1.0990950460168007,-0.4601794141140354,0.5448734618952821,0.0016800027576676208,0.6911720212041327,-1.7856611044880513,-1.2775394585362982,-1.3056006849590482,-1.057648906837918,0.19503908471756207,0.6139499192349814,0.07335014026279132,-0.34543168922458883,0.13619752094940035,-0.548944960325151,-1.051112064124429,-0.25072059443028544,-0.7258091936414498,-0.23853488419716937,-1.0644028379374715,-0.34312747685653466,0.2876655847805023,-1.1120659435621976,1.2051869393236536],\"yaxis\":\"y7\",\"type\":\"scatter\"},{\"line\":{\"color\":\"rgba(128, 128, 128, 1.0)\",\"dash\":\"solid\",\"shape\":\"linear\",\"width\":1.3},\"marker\":{\"size\":2,\"symbol\":\"circle\"},\"mode\":\"markers\",\"name\":\"B\",\"text\":\"\",\"x\":[1.3379982953184697,0.43596200158092563,-0.7631196008307619,-0.5679030707716345,-0.7872850061470617,0.41138033506195215,-0.15067850685396827,0.25791067763325554,0.6436235039149962,1.3236997987644707,-1.0171427376393085,0.8395721802900593,0.9490113918092095,-0.33861351286101615,-0.594140068374357,-1.0862685764055808,0.6381921060261312,-2.025285230217843,0.9453300039966772,1.2728153098249027,0.5454040914311109,-0.08584535182158513,0.20393438397452654,-0.8090202634016018,0.8892665001357477,0.13874951031877247,0.2607263225769835,-0.5980763442522491,-0.292536794369674,0.9668060165596394,-0.1214207591398322,-0.7313225037183346,-0.7940830622872195,0.10368083002132215,1.2072686896833953,0.6946900116706878,-0.6902393233133621,-1.6518050704457372,0.19980976340380366,1.9460179998888243,-0.531796166254378,-0.7484486735942585,0.1796230290171249,-0.286221396993404,-0.4898088756101573,0.10977459198301838,-1.0353323426199479,0.9995925658791721,1.899663190487716,-0.7106904282195735,-0.0739470377571122,-0.9565850084701643,-0.5273134603892076,-0.4626906500410658,1.0055383578188615,-1.056222119469628,-0.23873414087916872,0.6183700330855165,-0.371115375582888,0.6517795470485221,-0.7342879734317916,0.30195081469517454,1.2753618601770222,0.5319775667908635,-0.265106098283388,-0.2590386757596041,-0.41812835998089326,-0.7373047577180892,-1.1463764893859034,-0.04918041107819704,-0.48119237400654424,0.3628454100539982,0.7323906197761266,-0.6052580679327753,-1.3764492966375457,-2.2092031779808847,0.2933615309237955,-0.8875861214690169,3.230135103934922,0.5968978982094048,-1.3016692630358448,0.9007075990241182,-1.6969277990854619,-0.02781487685981458,-2.221881887522703,0.8371433357860195,0.7619266355077301,0.8131780006414743,-0.0110069029306748,1.4458510984193944,-1.454041085151003,-1.103029793341637,2.134675461219435,0.4044164555511809,0.4091331114985936,0.4082425298040662,-0.3450957859769514,-0.8017624852347573,0.5064400505980814,1.6632076561950764],\"xaxis\":\"x8\",\"y\":[-0.02986067173150405,-2.1799531962001777,-0.5789093555075555,-0.26434333655992476,-2.4618284536959787,-0.7901403921644476,0.9451257286228039,0.7450082871813458,1.60857197920544,1.5730902365439665,-1.9551544660171785,-0.027464389901744,-0.7681178511940615,-0.004639915826817845,-0.44030564661417154,-0.3692583950171369,-1.0160336886291301,-1.3781463485673215,1.000589278434516,-0.17665477407802171,-1.5991067512786892,0.02603287124653106,-1.382667717669445,-0.6501603347811354,-0.491696789768064,-1.1197505696997012,0.1864545305948082,1.3933095281592436,-1.2292582923747872,1.2134378265696775,1.050807935302168,1.6636700003333091,-1.2521371769182432,-1.4376908538731823,1.9078646710548013,0.5392572409200751,-0.4075494873659262,0.7247154588412541,0.2971247849574402,2.1111710146999756,-0.11585537327132055,-0.22900374168186005,-0.3221851668739211,0.3982765657461531,0.5495004709504342,-0.12327604313195765,-1.3111841261043646,-1.2403296074462404,-1.5161925502679203,-0.5733980394850131,-0.20241035990620967,0.22263247666164349,1.369663058680841,-0.9133646856953234,-1.8124409659312697,-1.1107258388224654,-0.3427571301216928,0.19151614494155136,-0.46960384303453107,0.13722610539425925,-0.5317720123390297,-0.3174299589925087,2.425123045260628,-0.11569142169700684,-0.030427007788570996,-0.5735367738403896,0.007333424341847052,0.9902826111740487,1.1055959686423025,-0.9970025603825291,-0.25277369585452814,2.5213123175753536,-0.7071160259073414,-0.06466616856029736,0.12344557594127975,-0.29813438859524793,1.0990950460168007,-0.4601794141140354,0.5448734618952821,0.0016800027576676208,0.6911720212041327,-1.7856611044880513,-1.2775394585362982,-1.3056006849590482,-1.057648906837918,0.19503908471756207,0.6139499192349814,0.07335014026279132,-0.34543168922458883,0.13619752094940035,-0.548944960325151,-1.051112064124429,-0.25072059443028544,-0.7258091936414498,-0.23853488419716937,-1.0644028379374715,-0.34312747685653466,0.2876655847805023,-1.1120659435621976,1.2051869393236536],\"yaxis\":\"y8\",\"type\":\"scatter\"},{\"line\":{\"color\":\"rgba(128, 128, 128, 1.0)\",\"dash\":\"solid\",\"shape\":\"linear\",\"width\":1.3},\"marker\":{\"size\":2,\"symbol\":\"circle\"},\"mode\":\"markers\",\"name\":\"C\",\"text\":\"\",\"x\":[-0.25651358813864394,-0.37235581545779156,0.5002419357099328,-0.11000076537614083,0.17778660907896845,0.9604613024588065,0.4363214349672373,-1.4978277774334499,0.8645756506604332,2.0630604768166827,0.7542953169658457,0.1733651976552315,-0.6444331066497141,0.3209043316114856,1.6785806759597626,-0.768276598133913,-0.4437501612730779,-0.8302809130629326,-1.83130407644596,-0.08556917211148315,1.2200374641662524,0.43085791113408056,0.5511804573603465,-0.16353621251587924,0.6586323285433434,2.3517325607956496,0.6635657432207783,1.3361398298086415,0.9426893152605952,1.202750196660914,-1.0802834636380134,0.797596295522079,-2.1353376820151646,1.0124334336311576,-0.6884302626219291,1.4330491707214221,-1.9814602294362633,-0.5674998520256744,-0.12726165695591024,0.01690501096950438,0.21688201182560074,-0.41576239315205327,0.8413478303973625,-0.27555187555264804,1.3849573166344866,0.28965860152351597,1.71113605486422,1.3624272330785494,-1.7151558980168338,0.30445679202275927,2.246104807570592,-0.8776800083011371,0.7496073571507749,-1.6513468550235542,0.31427315248776627,-0.3863141353653024,0.6206796324142947,-0.5908078632707596,1.4202115846069745,-1.036074601565162,-0.662212444835709,1.398984597964883,-0.6071363585980336,0.3667053811579149,-0.44598615300190175,0.37423381822901,1.9557183485437437,0.6600142225878292,-1.0684482884249031,0.9454672943912482,0.2093456680515466,-0.7697453176044043,0.6287263791329405,0.07310029343322011,0.37831957374116265,1.9492504875561103,-0.35397126610753804,-2.0128095375517963,0.4523488963290223,0.9199987557671497,-1.5511665216942072,-0.08518306870572716,1.0818223115870886,0.585538987032418,0.9805161901529916,-0.1720247731071831,-0.868606625961535,-2.26358287161267,-0.8752904139047751,0.2127772672894863,1.4109648796754914,-0.2239337966605875,0.1678150319818709,1.2382020014030266,-0.780512342018624,-0.3419524964976665,1.60124412899403,-1.2243186234222085,-0.009284479700141263,-0.040504622303769944],\"xaxis\":\"x9\",\"y\":[-0.38966192493917723,-1.7813843660441095,-1.9193483498996866,0.30603908104586475,1.1901118431272304,0.3020306103810205,0.21176433346668974,-0.5458308842815632,-0.21803537001369785,-1.505913546529528,1.1627507784104,0.46755066289910674,2.6903462341151525,-1.197037291955223,-0.9329622148665994,-0.4198668209818169,0.22837973743602738,0.3714868629954388,-0.8321609573707648,1.27133060905982,0.06340798434157047,0.7570282886192963,-0.868401924419441,1.2101670240064142,0.4175413385028892,-0.14901072570240553,0.33466406777533614,-0.11467336612418301,0.41611845547640586,-0.06469693175697656,-0.6107403084337582,-1.1653079393826375,-0.40412647925747575,-0.8395953602088322,0.4170611053625541,1.0463020329597337,-0.8970243574009541,0.04231685614746035,-0.7514043299947173,-0.220079773403818,0.28406214034930893,0.42539099516537165,0.3147322863695057,0.2274026391480853,0.29992643280159614,-0.751973614949727,1.2844414690359836,1.402387037538697,0.1574005167691417,-1.0095450846488814,-0.36269717974194093,0.3448706672085185,-0.4799764619493634,0.183432684162653,0.9795246585350526,0.5242094686870751,-0.251008910984075,-1.547016519486077,0.15420614929702792,1.199187022254034,-2.1149199623099926,0.3356040955726825,0.36985829990417046,1.477973872920377,0.05009480394779497,-0.692899226188453,0.9408587817537175,-1.4466868250380696,1.8448285301209943,-0.37361046080901994,-2.5636611054196607,0.9993004179624181,0.8605512159071496,-0.04544818936896232,-0.19764311422143213,0.40782911881921147,-1.2145943978702218,-0.3819946699399939,0.13599805180499586,0.14510063229809675,-0.4091218237607103,-0.14022578557864243,0.6851768647839728,0.8320687109891274,-0.7968523378459248,0.6995691542772194,-0.8656229944332279,0.05446087949522462,0.9356332760078716,1.431814851289245,-0.12510885367604602,-0.915202888079907,0.233585926240254,1.1401096698851112,-1.1220524666369662,1.113161756618276,-2.387993937318283,-1.9465645816334682,0.8995898884803665,-1.6344920825885743],\"yaxis\":\"y9\",\"type\":\"scatter\"},{\"line\":{\"color\":\"rgba(128, 128, 128, 1.0)\",\"dash\":\"solid\",\"shape\":\"linear\",\"width\":1.3},\"marker\":{\"size\":2,\"symbol\":\"circle\"},\"mode\":\"markers\",\"name\":\"C\",\"text\":\"\",\"x\":[-0.02986067173150405,-2.1799531962001777,-0.5789093555075555,-0.26434333655992476,-2.4618284536959787,-0.7901403921644476,0.9451257286228039,0.7450082871813458,1.60857197920544,1.5730902365439665,-1.9551544660171785,-0.027464389901744,-0.7681178511940615,-0.004639915826817845,-0.44030564661417154,-0.3692583950171369,-1.0160336886291301,-1.3781463485673215,1.000589278434516,-0.17665477407802171,-1.5991067512786892,0.02603287124653106,-1.382667717669445,-0.6501603347811354,-0.491696789768064,-1.1197505696997012,0.1864545305948082,1.3933095281592436,-1.2292582923747872,1.2134378265696775,1.050807935302168,1.6636700003333091,-1.2521371769182432,-1.4376908538731823,1.9078646710548013,0.5392572409200751,-0.4075494873659262,0.7247154588412541,0.2971247849574402,2.1111710146999756,-0.11585537327132055,-0.22900374168186005,-0.3221851668739211,0.3982765657461531,0.5495004709504342,-0.12327604313195765,-1.3111841261043646,-1.2403296074462404,-1.5161925502679203,-0.5733980394850131,-0.20241035990620967,0.22263247666164349,1.369663058680841,-0.9133646856953234,-1.8124409659312697,-1.1107258388224654,-0.3427571301216928,0.19151614494155136,-0.46960384303453107,0.13722610539425925,-0.5317720123390297,-0.3174299589925087,2.425123045260628,-0.11569142169700684,-0.030427007788570996,-0.5735367738403896,0.007333424341847052,0.9902826111740487,1.1055959686423025,-0.9970025603825291,-0.25277369585452814,2.5213123175753536,-0.7071160259073414,-0.06466616856029736,0.12344557594127975,-0.29813438859524793,1.0990950460168007,-0.4601794141140354,0.5448734618952821,0.0016800027576676208,0.6911720212041327,-1.7856611044880513,-1.2775394585362982,-1.3056006849590482,-1.057648906837918,0.19503908471756207,0.6139499192349814,0.07335014026279132,-0.34543168922458883,0.13619752094940035,-0.548944960325151,-1.051112064124429,-0.25072059443028544,-0.7258091936414498,-0.23853488419716937,-1.0644028379374715,-0.34312747685653466,0.2876655847805023,-1.1120659435621976,1.2051869393236536],\"xaxis\":\"x10\",\"y\":[-0.38966192493917723,-1.7813843660441095,-1.9193483498996866,0.30603908104586475,1.1901118431272304,0.3020306103810205,0.21176433346668974,-0.5458308842815632,-0.21803537001369785,-1.505913546529528,1.1627507784104,0.46755066289910674,2.6903462341151525,-1.197037291955223,-0.9329622148665994,-0.4198668209818169,0.22837973743602738,0.3714868629954388,-0.8321609573707648,1.27133060905982,0.06340798434157047,0.7570282886192963,-0.868401924419441,1.2101670240064142,0.4175413385028892,-0.14901072570240553,0.33466406777533614,-0.11467336612418301,0.41611845547640586,-0.06469693175697656,-0.6107403084337582,-1.1653079393826375,-0.40412647925747575,-0.8395953602088322,0.4170611053625541,1.0463020329597337,-0.8970243574009541,0.04231685614746035,-0.7514043299947173,-0.220079773403818,0.28406214034930893,0.42539099516537165,0.3147322863695057,0.2274026391480853,0.29992643280159614,-0.751973614949727,1.2844414690359836,1.402387037538697,0.1574005167691417,-1.0095450846488814,-0.36269717974194093,0.3448706672085185,-0.4799764619493634,0.183432684162653,0.9795246585350526,0.5242094686870751,-0.251008910984075,-1.547016519486077,0.15420614929702792,1.199187022254034,-2.1149199623099926,0.3356040955726825,0.36985829990417046,1.477973872920377,0.05009480394779497,-0.692899226188453,0.9408587817537175,-1.4466868250380696,1.8448285301209943,-0.37361046080901994,-2.5636611054196607,0.9993004179624181,0.8605512159071496,-0.04544818936896232,-0.19764311422143213,0.40782911881921147,-1.2145943978702218,-0.3819946699399939,0.13599805180499586,0.14510063229809675,-0.4091218237607103,-0.14022578557864243,0.6851768647839728,0.8320687109891274,-0.7968523378459248,0.6995691542772194,-0.8656229944332279,0.05446087949522462,0.9356332760078716,1.431814851289245,-0.12510885367604602,-0.915202888079907,0.233585926240254,1.1401096698851112,-1.1220524666369662,1.113161756618276,-2.387993937318283,-1.9465645816334682,0.8995898884803665,-1.6344920825885743],\"yaxis\":\"y10\",\"type\":\"scatter\"},{\"histfunc\":\"count\",\"histnorm\":\"\",\"marker\":{\"color\":\"rgba(50, 171, 96, 1.0)\",\"line\":{\"color\":\"#4D5663\",\"width\":1.3}},\"name\":\"C\",\"nbinsx\":10,\"opacity\":0.8,\"orientation\":\"v\",\"x\":[-0.38966192493917723,-1.7813843660441095,-1.9193483498996866,0.30603908104586475,1.1901118431272304,0.3020306103810205,0.21176433346668974,-0.5458308842815632,-0.21803537001369785,-1.505913546529528,1.1627507784104,0.46755066289910674,2.6903462341151525,-1.197037291955223,-0.9329622148665994,-0.4198668209818169,0.22837973743602738,0.3714868629954388,-0.8321609573707648,1.27133060905982,0.06340798434157047,0.7570282886192963,-0.868401924419441,1.2101670240064142,0.4175413385028892,-0.14901072570240553,0.33466406777533614,-0.11467336612418301,0.41611845547640586,-0.06469693175697656,-0.6107403084337582,-1.1653079393826375,-0.40412647925747575,-0.8395953602088322,0.4170611053625541,1.0463020329597337,-0.8970243574009541,0.04231685614746035,-0.7514043299947173,-0.220079773403818,0.28406214034930893,0.42539099516537165,0.3147322863695057,0.2274026391480853,0.29992643280159614,-0.751973614949727,1.2844414690359836,1.402387037538697,0.1574005167691417,-1.0095450846488814,-0.36269717974194093,0.3448706672085185,-0.4799764619493634,0.183432684162653,0.9795246585350526,0.5242094686870751,-0.251008910984075,-1.547016519486077,0.15420614929702792,1.199187022254034,-2.1149199623099926,0.3356040955726825,0.36985829990417046,1.477973872920377,0.05009480394779497,-0.692899226188453,0.9408587817537175,-1.4466868250380696,1.8448285301209943,-0.37361046080901994,-2.5636611054196607,0.9993004179624181,0.8605512159071496,-0.04544818936896232,-0.19764311422143213,0.40782911881921147,-1.2145943978702218,-0.3819946699399939,0.13599805180499586,0.14510063229809675,-0.4091218237607103,-0.14022578557864243,0.6851768647839728,0.8320687109891274,-0.7968523378459248,0.6995691542772194,-0.8656229944332279,0.05446087949522462,0.9356332760078716,1.431814851289245,-0.12510885367604602,-0.915202888079907,0.233585926240254,1.1401096698851112,-1.1220524666369662,1.113161756618276,-2.387993937318283,-1.9465645816334682,0.8995898884803665,-1.6344920825885743],\"xaxis\":\"x11\",\"yaxis\":\"y11\",\"type\":\"histogram\"},{\"line\":{\"color\":\"rgba(128, 128, 128, 1.0)\",\"dash\":\"solid\",\"shape\":\"linear\",\"width\":1.3},\"marker\":{\"size\":2,\"symbol\":\"circle\"},\"mode\":\"markers\",\"name\":\"C\",\"text\":\"\",\"x\":[1.3379982953184697,0.43596200158092563,-0.7631196008307619,-0.5679030707716345,-0.7872850061470617,0.41138033506195215,-0.15067850685396827,0.25791067763325554,0.6436235039149962,1.3236997987644707,-1.0171427376393085,0.8395721802900593,0.9490113918092095,-0.33861351286101615,-0.594140068374357,-1.0862685764055808,0.6381921060261312,-2.025285230217843,0.9453300039966772,1.2728153098249027,0.5454040914311109,-0.08584535182158513,0.20393438397452654,-0.8090202634016018,0.8892665001357477,0.13874951031877247,0.2607263225769835,-0.5980763442522491,-0.292536794369674,0.9668060165596394,-0.1214207591398322,-0.7313225037183346,-0.7940830622872195,0.10368083002132215,1.2072686896833953,0.6946900116706878,-0.6902393233133621,-1.6518050704457372,0.19980976340380366,1.9460179998888243,-0.531796166254378,-0.7484486735942585,0.1796230290171249,-0.286221396993404,-0.4898088756101573,0.10977459198301838,-1.0353323426199479,0.9995925658791721,1.899663190487716,-0.7106904282195735,-0.0739470377571122,-0.9565850084701643,-0.5273134603892076,-0.4626906500410658,1.0055383578188615,-1.056222119469628,-0.23873414087916872,0.6183700330855165,-0.371115375582888,0.6517795470485221,-0.7342879734317916,0.30195081469517454,1.2753618601770222,0.5319775667908635,-0.265106098283388,-0.2590386757596041,-0.41812835998089326,-0.7373047577180892,-1.1463764893859034,-0.04918041107819704,-0.48119237400654424,0.3628454100539982,0.7323906197761266,-0.6052580679327753,-1.3764492966375457,-2.2092031779808847,0.2933615309237955,-0.8875861214690169,3.230135103934922,0.5968978982094048,-1.3016692630358448,0.9007075990241182,-1.6969277990854619,-0.02781487685981458,-2.221881887522703,0.8371433357860195,0.7619266355077301,0.8131780006414743,-0.0110069029306748,1.4458510984193944,-1.454041085151003,-1.103029793341637,2.134675461219435,0.4044164555511809,0.4091331114985936,0.4082425298040662,-0.3450957859769514,-0.8017624852347573,0.5064400505980814,1.6632076561950764],\"xaxis\":\"x12\",\"y\":[-0.38966192493917723,-1.7813843660441095,-1.9193483498996866,0.30603908104586475,1.1901118431272304,0.3020306103810205,0.21176433346668974,-0.5458308842815632,-0.21803537001369785,-1.505913546529528,1.1627507784104,0.46755066289910674,2.6903462341151525,-1.197037291955223,-0.9329622148665994,-0.4198668209818169,0.22837973743602738,0.3714868629954388,-0.8321609573707648,1.27133060905982,0.06340798434157047,0.7570282886192963,-0.868401924419441,1.2101670240064142,0.4175413385028892,-0.14901072570240553,0.33466406777533614,-0.11467336612418301,0.41611845547640586,-0.06469693175697656,-0.6107403084337582,-1.1653079393826375,-0.40412647925747575,-0.8395953602088322,0.4170611053625541,1.0463020329597337,-0.8970243574009541,0.04231685614746035,-0.7514043299947173,-0.220079773403818,0.28406214034930893,0.42539099516537165,0.3147322863695057,0.2274026391480853,0.29992643280159614,-0.751973614949727,1.2844414690359836,1.402387037538697,0.1574005167691417,-1.0095450846488814,-0.36269717974194093,0.3448706672085185,-0.4799764619493634,0.183432684162653,0.9795246585350526,0.5242094686870751,-0.251008910984075,-1.547016519486077,0.15420614929702792,1.199187022254034,-2.1149199623099926,0.3356040955726825,0.36985829990417046,1.477973872920377,0.05009480394779497,-0.692899226188453,0.9408587817537175,-1.4466868250380696,1.8448285301209943,-0.37361046080901994,-2.5636611054196607,0.9993004179624181,0.8605512159071496,-0.04544818936896232,-0.19764311422143213,0.40782911881921147,-1.2145943978702218,-0.3819946699399939,0.13599805180499586,0.14510063229809675,-0.4091218237607103,-0.14022578557864243,0.6851768647839728,0.8320687109891274,-0.7968523378459248,0.6995691542772194,-0.8656229944332279,0.05446087949522462,0.9356332760078716,1.431814851289245,-0.12510885367604602,-0.915202888079907,0.233585926240254,1.1401096698851112,-1.1220524666369662,1.113161756618276,-2.387993937318283,-1.9465645816334682,0.8995898884803665,-1.6344920825885743],\"yaxis\":\"y12\",\"type\":\"scatter\"},{\"line\":{\"color\":\"rgba(128, 128, 128, 1.0)\",\"dash\":\"solid\",\"shape\":\"linear\",\"width\":1.3},\"marker\":{\"size\":2,\"symbol\":\"circle\"},\"mode\":\"markers\",\"name\":\"D\",\"text\":\"\",\"x\":[-0.25651358813864394,-0.37235581545779156,0.5002419357099328,-0.11000076537614083,0.17778660907896845,0.9604613024588065,0.4363214349672373,-1.4978277774334499,0.8645756506604332,2.0630604768166827,0.7542953169658457,0.1733651976552315,-0.6444331066497141,0.3209043316114856,1.6785806759597626,-0.768276598133913,-0.4437501612730779,-0.8302809130629326,-1.83130407644596,-0.08556917211148315,1.2200374641662524,0.43085791113408056,0.5511804573603465,-0.16353621251587924,0.6586323285433434,2.3517325607956496,0.6635657432207783,1.3361398298086415,0.9426893152605952,1.202750196660914,-1.0802834636380134,0.797596295522079,-2.1353376820151646,1.0124334336311576,-0.6884302626219291,1.4330491707214221,-1.9814602294362633,-0.5674998520256744,-0.12726165695591024,0.01690501096950438,0.21688201182560074,-0.41576239315205327,0.8413478303973625,-0.27555187555264804,1.3849573166344866,0.28965860152351597,1.71113605486422,1.3624272330785494,-1.7151558980168338,0.30445679202275927,2.246104807570592,-0.8776800083011371,0.7496073571507749,-1.6513468550235542,0.31427315248776627,-0.3863141353653024,0.6206796324142947,-0.5908078632707596,1.4202115846069745,-1.036074601565162,-0.662212444835709,1.398984597964883,-0.6071363585980336,0.3667053811579149,-0.44598615300190175,0.37423381822901,1.9557183485437437,0.6600142225878292,-1.0684482884249031,0.9454672943912482,0.2093456680515466,-0.7697453176044043,0.6287263791329405,0.07310029343322011,0.37831957374116265,1.9492504875561103,-0.35397126610753804,-2.0128095375517963,0.4523488963290223,0.9199987557671497,-1.5511665216942072,-0.08518306870572716,1.0818223115870886,0.585538987032418,0.9805161901529916,-0.1720247731071831,-0.868606625961535,-2.26358287161267,-0.8752904139047751,0.2127772672894863,1.4109648796754914,-0.2239337966605875,0.1678150319818709,1.2382020014030266,-0.780512342018624,-0.3419524964976665,1.60124412899403,-1.2243186234222085,-0.009284479700141263,-0.040504622303769944],\"xaxis\":\"x13\",\"y\":[1.3379982953184697,0.43596200158092563,-0.7631196008307619,-0.5679030707716345,-0.7872850061470617,0.41138033506195215,-0.15067850685396827,0.25791067763325554,0.6436235039149962,1.3236997987644707,-1.0171427376393085,0.8395721802900593,0.9490113918092095,-0.33861351286101615,-0.594140068374357,-1.0862685764055808,0.6381921060261312,-2.025285230217843,0.9453300039966772,1.2728153098249027,0.5454040914311109,-0.08584535182158513,0.20393438397452654,-0.8090202634016018,0.8892665001357477,0.13874951031877247,0.2607263225769835,-0.5980763442522491,-0.292536794369674,0.9668060165596394,-0.1214207591398322,-0.7313225037183346,-0.7940830622872195,0.10368083002132215,1.2072686896833953,0.6946900116706878,-0.6902393233133621,-1.6518050704457372,0.19980976340380366,1.9460179998888243,-0.531796166254378,-0.7484486735942585,0.1796230290171249,-0.286221396993404,-0.4898088756101573,0.10977459198301838,-1.0353323426199479,0.9995925658791721,1.899663190487716,-0.7106904282195735,-0.0739470377571122,-0.9565850084701643,-0.5273134603892076,-0.4626906500410658,1.0055383578188615,-1.056222119469628,-0.23873414087916872,0.6183700330855165,-0.371115375582888,0.6517795470485221,-0.7342879734317916,0.30195081469517454,1.2753618601770222,0.5319775667908635,-0.265106098283388,-0.2590386757596041,-0.41812835998089326,-0.7373047577180892,-1.1463764893859034,-0.04918041107819704,-0.48119237400654424,0.3628454100539982,0.7323906197761266,-0.6052580679327753,-1.3764492966375457,-2.2092031779808847,0.2933615309237955,-0.8875861214690169,3.230135103934922,0.5968978982094048,-1.3016692630358448,0.9007075990241182,-1.6969277990854619,-0.02781487685981458,-2.221881887522703,0.8371433357860195,0.7619266355077301,0.8131780006414743,-0.0110069029306748,1.4458510984193944,-1.454041085151003,-1.103029793341637,2.134675461219435,0.4044164555511809,0.4091331114985936,0.4082425298040662,-0.3450957859769514,-0.8017624852347573,0.5064400505980814,1.6632076561950764],\"yaxis\":\"y13\",\"type\":\"scatter\"},{\"line\":{\"color\":\"rgba(128, 128, 128, 1.0)\",\"dash\":\"solid\",\"shape\":\"linear\",\"width\":1.3},\"marker\":{\"size\":2,\"symbol\":\"circle\"},\"mode\":\"markers\",\"name\":\"D\",\"text\":\"\",\"x\":[-0.02986067173150405,-2.1799531962001777,-0.5789093555075555,-0.26434333655992476,-2.4618284536959787,-0.7901403921644476,0.9451257286228039,0.7450082871813458,1.60857197920544,1.5730902365439665,-1.9551544660171785,-0.027464389901744,-0.7681178511940615,-0.004639915826817845,-0.44030564661417154,-0.3692583950171369,-1.0160336886291301,-1.3781463485673215,1.000589278434516,-0.17665477407802171,-1.5991067512786892,0.02603287124653106,-1.382667717669445,-0.6501603347811354,-0.491696789768064,-1.1197505696997012,0.1864545305948082,1.3933095281592436,-1.2292582923747872,1.2134378265696775,1.050807935302168,1.6636700003333091,-1.2521371769182432,-1.4376908538731823,1.9078646710548013,0.5392572409200751,-0.4075494873659262,0.7247154588412541,0.2971247849574402,2.1111710146999756,-0.11585537327132055,-0.22900374168186005,-0.3221851668739211,0.3982765657461531,0.5495004709504342,-0.12327604313195765,-1.3111841261043646,-1.2403296074462404,-1.5161925502679203,-0.5733980394850131,-0.20241035990620967,0.22263247666164349,1.369663058680841,-0.9133646856953234,-1.8124409659312697,-1.1107258388224654,-0.3427571301216928,0.19151614494155136,-0.46960384303453107,0.13722610539425925,-0.5317720123390297,-0.3174299589925087,2.425123045260628,-0.11569142169700684,-0.030427007788570996,-0.5735367738403896,0.007333424341847052,0.9902826111740487,1.1055959686423025,-0.9970025603825291,-0.25277369585452814,2.5213123175753536,-0.7071160259073414,-0.06466616856029736,0.12344557594127975,-0.29813438859524793,1.0990950460168007,-0.4601794141140354,0.5448734618952821,0.0016800027576676208,0.6911720212041327,-1.7856611044880513,-1.2775394585362982,-1.3056006849590482,-1.057648906837918,0.19503908471756207,0.6139499192349814,0.07335014026279132,-0.34543168922458883,0.13619752094940035,-0.548944960325151,-1.051112064124429,-0.25072059443028544,-0.7258091936414498,-0.23853488419716937,-1.0644028379374715,-0.34312747685653466,0.2876655847805023,-1.1120659435621976,1.2051869393236536],\"xaxis\":\"x14\",\"y\":[1.3379982953184697,0.43596200158092563,-0.7631196008307619,-0.5679030707716345,-0.7872850061470617,0.41138033506195215,-0.15067850685396827,0.25791067763325554,0.6436235039149962,1.3236997987644707,-1.0171427376393085,0.8395721802900593,0.9490113918092095,-0.33861351286101615,-0.594140068374357,-1.0862685764055808,0.6381921060261312,-2.025285230217843,0.9453300039966772,1.2728153098249027,0.5454040914311109,-0.08584535182158513,0.20393438397452654,-0.8090202634016018,0.8892665001357477,0.13874951031877247,0.2607263225769835,-0.5980763442522491,-0.292536794369674,0.9668060165596394,-0.1214207591398322,-0.7313225037183346,-0.7940830622872195,0.10368083002132215,1.2072686896833953,0.6946900116706878,-0.6902393233133621,-1.6518050704457372,0.19980976340380366,1.9460179998888243,-0.531796166254378,-0.7484486735942585,0.1796230290171249,-0.286221396993404,-0.4898088756101573,0.10977459198301838,-1.0353323426199479,0.9995925658791721,1.899663190487716,-0.7106904282195735,-0.0739470377571122,-0.9565850084701643,-0.5273134603892076,-0.4626906500410658,1.0055383578188615,-1.056222119469628,-0.23873414087916872,0.6183700330855165,-0.371115375582888,0.6517795470485221,-0.7342879734317916,0.30195081469517454,1.2753618601770222,0.5319775667908635,-0.265106098283388,-0.2590386757596041,-0.41812835998089326,-0.7373047577180892,-1.1463764893859034,-0.04918041107819704,-0.48119237400654424,0.3628454100539982,0.7323906197761266,-0.6052580679327753,-1.3764492966375457,-2.2092031779808847,0.2933615309237955,-0.8875861214690169,3.230135103934922,0.5968978982094048,-1.3016692630358448,0.9007075990241182,-1.6969277990854619,-0.02781487685981458,-2.221881887522703,0.8371433357860195,0.7619266355077301,0.8131780006414743,-0.0110069029306748,1.4458510984193944,-1.454041085151003,-1.103029793341637,2.134675461219435,0.4044164555511809,0.4091331114985936,0.4082425298040662,-0.3450957859769514,-0.8017624852347573,0.5064400505980814,1.6632076561950764],\"yaxis\":\"y14\",\"type\":\"scatter\"},{\"line\":{\"color\":\"rgba(128, 128, 128, 1.0)\",\"dash\":\"solid\",\"shape\":\"linear\",\"width\":1.3},\"marker\":{\"size\":2,\"symbol\":\"circle\"},\"mode\":\"markers\",\"name\":\"D\",\"text\":\"\",\"x\":[-0.38966192493917723,-1.7813843660441095,-1.9193483498996866,0.30603908104586475,1.1901118431272304,0.3020306103810205,0.21176433346668974,-0.5458308842815632,-0.21803537001369785,-1.505913546529528,1.1627507784104,0.46755066289910674,2.6903462341151525,-1.197037291955223,-0.9329622148665994,-0.4198668209818169,0.22837973743602738,0.3714868629954388,-0.8321609573707648,1.27133060905982,0.06340798434157047,0.7570282886192963,-0.868401924419441,1.2101670240064142,0.4175413385028892,-0.14901072570240553,0.33466406777533614,-0.11467336612418301,0.41611845547640586,-0.06469693175697656,-0.6107403084337582,-1.1653079393826375,-0.40412647925747575,-0.8395953602088322,0.4170611053625541,1.0463020329597337,-0.8970243574009541,0.04231685614746035,-0.7514043299947173,-0.220079773403818,0.28406214034930893,0.42539099516537165,0.3147322863695057,0.2274026391480853,0.29992643280159614,-0.751973614949727,1.2844414690359836,1.402387037538697,0.1574005167691417,-1.0095450846488814,-0.36269717974194093,0.3448706672085185,-0.4799764619493634,0.183432684162653,0.9795246585350526,0.5242094686870751,-0.251008910984075,-1.547016519486077,0.15420614929702792,1.199187022254034,-2.1149199623099926,0.3356040955726825,0.36985829990417046,1.477973872920377,0.05009480394779497,-0.692899226188453,0.9408587817537175,-1.4466868250380696,1.8448285301209943,-0.37361046080901994,-2.5636611054196607,0.9993004179624181,0.8605512159071496,-0.04544818936896232,-0.19764311422143213,0.40782911881921147,-1.2145943978702218,-0.3819946699399939,0.13599805180499586,0.14510063229809675,-0.4091218237607103,-0.14022578557864243,0.6851768647839728,0.8320687109891274,-0.7968523378459248,0.6995691542772194,-0.8656229944332279,0.05446087949522462,0.9356332760078716,1.431814851289245,-0.12510885367604602,-0.915202888079907,0.233585926240254,1.1401096698851112,-1.1220524666369662,1.113161756618276,-2.387993937318283,-1.9465645816334682,0.8995898884803665,-1.6344920825885743],\"xaxis\":\"x15\",\"y\":[1.3379982953184697,0.43596200158092563,-0.7631196008307619,-0.5679030707716345,-0.7872850061470617,0.41138033506195215,-0.15067850685396827,0.25791067763325554,0.6436235039149962,1.3236997987644707,-1.0171427376393085,0.8395721802900593,0.9490113918092095,-0.33861351286101615,-0.594140068374357,-1.0862685764055808,0.6381921060261312,-2.025285230217843,0.9453300039966772,1.2728153098249027,0.5454040914311109,-0.08584535182158513,0.20393438397452654,-0.8090202634016018,0.8892665001357477,0.13874951031877247,0.2607263225769835,-0.5980763442522491,-0.292536794369674,0.9668060165596394,-0.1214207591398322,-0.7313225037183346,-0.7940830622872195,0.10368083002132215,1.2072686896833953,0.6946900116706878,-0.6902393233133621,-1.6518050704457372,0.19980976340380366,1.9460179998888243,-0.531796166254378,-0.7484486735942585,0.1796230290171249,-0.286221396993404,-0.4898088756101573,0.10977459198301838,-1.0353323426199479,0.9995925658791721,1.899663190487716,-0.7106904282195735,-0.0739470377571122,-0.9565850084701643,-0.5273134603892076,-0.4626906500410658,1.0055383578188615,-1.056222119469628,-0.23873414087916872,0.6183700330855165,-0.371115375582888,0.6517795470485221,-0.7342879734317916,0.30195081469517454,1.2753618601770222,0.5319775667908635,-0.265106098283388,-0.2590386757596041,-0.41812835998089326,-0.7373047577180892,-1.1463764893859034,-0.04918041107819704,-0.48119237400654424,0.3628454100539982,0.7323906197761266,-0.6052580679327753,-1.3764492966375457,-2.2092031779808847,0.2933615309237955,-0.8875861214690169,3.230135103934922,0.5968978982094048,-1.3016692630358448,0.9007075990241182,-1.6969277990854619,-0.02781487685981458,-2.221881887522703,0.8371433357860195,0.7619266355077301,0.8131780006414743,-0.0110069029306748,1.4458510984193944,-1.454041085151003,-1.103029793341637,2.134675461219435,0.4044164555511809,0.4091331114985936,0.4082425298040662,-0.3450957859769514,-0.8017624852347573,0.5064400505980814,1.6632076561950764],\"yaxis\":\"y15\",\"type\":\"scatter\"},{\"histfunc\":\"count\",\"histnorm\":\"\",\"marker\":{\"color\":\"rgba(128, 0, 128, 1.0)\",\"line\":{\"color\":\"#4D5663\",\"width\":1.3}},\"name\":\"D\",\"nbinsx\":10,\"opacity\":0.8,\"orientation\":\"v\",\"x\":[1.3379982953184697,0.43596200158092563,-0.7631196008307619,-0.5679030707716345,-0.7872850061470617,0.41138033506195215,-0.15067850685396827,0.25791067763325554,0.6436235039149962,1.3236997987644707,-1.0171427376393085,0.8395721802900593,0.9490113918092095,-0.33861351286101615,-0.594140068374357,-1.0862685764055808,0.6381921060261312,-2.025285230217843,0.9453300039966772,1.2728153098249027,0.5454040914311109,-0.08584535182158513,0.20393438397452654,-0.8090202634016018,0.8892665001357477,0.13874951031877247,0.2607263225769835,-0.5980763442522491,-0.292536794369674,0.9668060165596394,-0.1214207591398322,-0.7313225037183346,-0.7940830622872195,0.10368083002132215,1.2072686896833953,0.6946900116706878,-0.6902393233133621,-1.6518050704457372,0.19980976340380366,1.9460179998888243,-0.531796166254378,-0.7484486735942585,0.1796230290171249,-0.286221396993404,-0.4898088756101573,0.10977459198301838,-1.0353323426199479,0.9995925658791721,1.899663190487716,-0.7106904282195735,-0.0739470377571122,-0.9565850084701643,-0.5273134603892076,-0.4626906500410658,1.0055383578188615,-1.056222119469628,-0.23873414087916872,0.6183700330855165,-0.371115375582888,0.6517795470485221,-0.7342879734317916,0.30195081469517454,1.2753618601770222,0.5319775667908635,-0.265106098283388,-0.2590386757596041,-0.41812835998089326,-0.7373047577180892,-1.1463764893859034,-0.04918041107819704,-0.48119237400654424,0.3628454100539982,0.7323906197761266,-0.6052580679327753,-1.3764492966375457,-2.2092031779808847,0.2933615309237955,-0.8875861214690169,3.230135103934922,0.5968978982094048,-1.3016692630358448,0.9007075990241182,-1.6969277990854619,-0.02781487685981458,-2.221881887522703,0.8371433357860195,0.7619266355077301,0.8131780006414743,-0.0110069029306748,1.4458510984193944,-1.454041085151003,-1.103029793341637,2.134675461219435,0.4044164555511809,0.4091331114985936,0.4082425298040662,-0.3450957859769514,-0.8017624852347573,0.5064400505980814,1.6632076561950764],\"xaxis\":\"x16\",\"yaxis\":\"y16\",\"type\":\"histogram\"}],                        {\"bargap\":0.02,\"legend\":{\"bgcolor\":\"#F5F6F9\",\"font\":{\"color\":\"#4D5663\"}},\"paper_bgcolor\":\"#F5F6F9\",\"plot_bgcolor\":\"#F5F6F9\",\"showlegend\":false,\"template\":{\"data\":{\"barpolar\":[{\"marker\":{\"line\":{\"color\":\"#E5ECF6\",\"width\":0.5},\"pattern\":{\"fillmode\":\"overlay\",\"size\":10,\"solidity\":0.2}},\"type\":\"barpolar\"}],\"bar\":[{\"error_x\":{\"color\":\"#2a3f5f\"},\"error_y\":{\"color\":\"#2a3f5f\"},\"marker\":{\"line\":{\"color\":\"#E5ECF6\",\"width\":0.5},\"pattern\":{\"fillmode\":\"overlay\",\"size\":10,\"solidity\":0.2}},\"type\":\"bar\"}],\"carpet\":[{\"aaxis\":{\"endlinecolor\":\"#2a3f5f\",\"gridcolor\":\"white\",\"linecolor\":\"white\",\"minorgridcolor\":\"white\",\"startlinecolor\":\"#2a3f5f\"},\"baxis\":{\"endlinecolor\":\"#2a3f5f\",\"gridcolor\":\"white\",\"linecolor\":\"white\",\"minorgridcolor\":\"white\",\"startlinecolor\":\"#2a3f5f\"},\"type\":\"carpet\"}],\"choropleth\":[{\"colorbar\":{\"outlinewidth\":0,\"ticks\":\"\"},\"type\":\"choropleth\"}],\"contourcarpet\":[{\"colorbar\":{\"outlinewidth\":0,\"ticks\":\"\"},\"type\":\"contourcarpet\"}],\"contour\":[{\"colorbar\":{\"outlinewidth\":0,\"ticks\":\"\"},\"colorscale\":[[0.0,\"#0d0887\"],[0.1111111111111111,\"#46039f\"],[0.2222222222222222,\"#7201a8\"],[0.3333333333333333,\"#9c179e\"],[0.4444444444444444,\"#bd3786\"],[0.5555555555555556,\"#d8576b\"],[0.6666666666666666,\"#ed7953\"],[0.7777777777777778,\"#fb9f3a\"],[0.8888888888888888,\"#fdca26\"],[1.0,\"#f0f921\"]],\"type\":\"contour\"}],\"heatmapgl\":[{\"colorbar\":{\"outlinewidth\":0,\"ticks\":\"\"},\"colorscale\":[[0.0,\"#0d0887\"],[0.1111111111111111,\"#46039f\"],[0.2222222222222222,\"#7201a8\"],[0.3333333333333333,\"#9c179e\"],[0.4444444444444444,\"#bd3786\"],[0.5555555555555556,\"#d8576b\"],[0.6666666666666666,\"#ed7953\"],[0.7777777777777778,\"#fb9f3a\"],[0.8888888888888888,\"#fdca26\"],[1.0,\"#f0f921\"]],\"type\":\"heatmapgl\"}],\"heatmap\":[{\"colorbar\":{\"outlinewidth\":0,\"ticks\":\"\"},\"colorscale\":[[0.0,\"#0d0887\"],[0.1111111111111111,\"#46039f\"],[0.2222222222222222,\"#7201a8\"],[0.3333333333333333,\"#9c179e\"],[0.4444444444444444,\"#bd3786\"],[0.5555555555555556,\"#d8576b\"],[0.6666666666666666,\"#ed7953\"],[0.7777777777777778,\"#fb9f3a\"],[0.8888888888888888,\"#fdca26\"],[1.0,\"#f0f921\"]],\"type\":\"heatmap\"}],\"histogram2dcontour\":[{\"colorbar\":{\"outlinewidth\":0,\"ticks\":\"\"},\"colorscale\":[[0.0,\"#0d0887\"],[0.1111111111111111,\"#46039f\"],[0.2222222222222222,\"#7201a8\"],[0.3333333333333333,\"#9c179e\"],[0.4444444444444444,\"#bd3786\"],[0.5555555555555556,\"#d8576b\"],[0.6666666666666666,\"#ed7953\"],[0.7777777777777778,\"#fb9f3a\"],[0.8888888888888888,\"#fdca26\"],[1.0,\"#f0f921\"]],\"type\":\"histogram2dcontour\"}],\"histogram2d\":[{\"colorbar\":{\"outlinewidth\":0,\"ticks\":\"\"},\"colorscale\":[[0.0,\"#0d0887\"],[0.1111111111111111,\"#46039f\"],[0.2222222222222222,\"#7201a8\"],[0.3333333333333333,\"#9c179e\"],[0.4444444444444444,\"#bd3786\"],[0.5555555555555556,\"#d8576b\"],[0.6666666666666666,\"#ed7953\"],[0.7777777777777778,\"#fb9f3a\"],[0.8888888888888888,\"#fdca26\"],[1.0,\"#f0f921\"]],\"type\":\"histogram2d\"}],\"histogram\":[{\"marker\":{\"pattern\":{\"fillmode\":\"overlay\",\"size\":10,\"solidity\":0.2}},\"type\":\"histogram\"}],\"mesh3d\":[{\"colorbar\":{\"outlinewidth\":0,\"ticks\":\"\"},\"type\":\"mesh3d\"}],\"parcoords\":[{\"line\":{\"colorbar\":{\"outlinewidth\":0,\"ticks\":\"\"}},\"type\":\"parcoords\"}],\"pie\":[{\"automargin\":true,\"type\":\"pie\"}],\"scatter3d\":[{\"line\":{\"colorbar\":{\"outlinewidth\":0,\"ticks\":\"\"}},\"marker\":{\"colorbar\":{\"outlinewidth\":0,\"ticks\":\"\"}},\"type\":\"scatter3d\"}],\"scattercarpet\":[{\"marker\":{\"colorbar\":{\"outlinewidth\":0,\"ticks\":\"\"}},\"type\":\"scattercarpet\"}],\"scattergeo\":[{\"marker\":{\"colorbar\":{\"outlinewidth\":0,\"ticks\":\"\"}},\"type\":\"scattergeo\"}],\"scattergl\":[{\"marker\":{\"colorbar\":{\"outlinewidth\":0,\"ticks\":\"\"}},\"type\":\"scattergl\"}],\"scattermapbox\":[{\"marker\":{\"colorbar\":{\"outlinewidth\":0,\"ticks\":\"\"}},\"type\":\"scattermapbox\"}],\"scatterpolargl\":[{\"marker\":{\"colorbar\":{\"outlinewidth\":0,\"ticks\":\"\"}},\"type\":\"scatterpolargl\"}],\"scatterpolar\":[{\"marker\":{\"colorbar\":{\"outlinewidth\":0,\"ticks\":\"\"}},\"type\":\"scatterpolar\"}],\"scatter\":[{\"fillpattern\":{\"fillmode\":\"overlay\",\"size\":10,\"solidity\":0.2},\"type\":\"scatter\"}],\"scatterternary\":[{\"marker\":{\"colorbar\":{\"outlinewidth\":0,\"ticks\":\"\"}},\"type\":\"scatterternary\"}],\"surface\":[{\"colorbar\":{\"outlinewidth\":0,\"ticks\":\"\"},\"colorscale\":[[0.0,\"#0d0887\"],[0.1111111111111111,\"#46039f\"],[0.2222222222222222,\"#7201a8\"],[0.3333333333333333,\"#9c179e\"],[0.4444444444444444,\"#bd3786\"],[0.5555555555555556,\"#d8576b\"],[0.6666666666666666,\"#ed7953\"],[0.7777777777777778,\"#fb9f3a\"],[0.8888888888888888,\"#fdca26\"],[1.0,\"#f0f921\"]],\"type\":\"surface\"}],\"table\":[{\"cells\":{\"fill\":{\"color\":\"#EBF0F8\"},\"line\":{\"color\":\"white\"}},\"header\":{\"fill\":{\"color\":\"#C8D4E3\"},\"line\":{\"color\":\"white\"}},\"type\":\"table\"}]},\"layout\":{\"annotationdefaults\":{\"arrowcolor\":\"#2a3f5f\",\"arrowhead\":0,\"arrowwidth\":1},\"autotypenumbers\":\"strict\",\"coloraxis\":{\"colorbar\":{\"outlinewidth\":0,\"ticks\":\"\"}},\"colorscale\":{\"diverging\":[[0,\"#8e0152\"],[0.1,\"#c51b7d\"],[0.2,\"#de77ae\"],[0.3,\"#f1b6da\"],[0.4,\"#fde0ef\"],[0.5,\"#f7f7f7\"],[0.6,\"#e6f5d0\"],[0.7,\"#b8e186\"],[0.8,\"#7fbc41\"],[0.9,\"#4d9221\"],[1,\"#276419\"]],\"sequential\":[[0.0,\"#0d0887\"],[0.1111111111111111,\"#46039f\"],[0.2222222222222222,\"#7201a8\"],[0.3333333333333333,\"#9c179e\"],[0.4444444444444444,\"#bd3786\"],[0.5555555555555556,\"#d8576b\"],[0.6666666666666666,\"#ed7953\"],[0.7777777777777778,\"#fb9f3a\"],[0.8888888888888888,\"#fdca26\"],[1.0,\"#f0f921\"]],\"sequentialminus\":[[0.0,\"#0d0887\"],[0.1111111111111111,\"#46039f\"],[0.2222222222222222,\"#7201a8\"],[0.3333333333333333,\"#9c179e\"],[0.4444444444444444,\"#bd3786\"],[0.5555555555555556,\"#d8576b\"],[0.6666666666666666,\"#ed7953\"],[0.7777777777777778,\"#fb9f3a\"],[0.8888888888888888,\"#fdca26\"],[1.0,\"#f0f921\"]]},\"colorway\":[\"#636efa\",\"#EF553B\",\"#00cc96\",\"#ab63fa\",\"#FFA15A\",\"#19d3f3\",\"#FF6692\",\"#B6E880\",\"#FF97FF\",\"#FECB52\"],\"font\":{\"color\":\"#2a3f5f\"},\"geo\":{\"bgcolor\":\"white\",\"lakecolor\":\"white\",\"landcolor\":\"#E5ECF6\",\"showlakes\":true,\"showland\":true,\"subunitcolor\":\"white\"},\"hoverlabel\":{\"align\":\"left\"},\"hovermode\":\"closest\",\"mapbox\":{\"style\":\"light\"},\"paper_bgcolor\":\"white\",\"plot_bgcolor\":\"#E5ECF6\",\"polar\":{\"angularaxis\":{\"gridcolor\":\"white\",\"linecolor\":\"white\",\"ticks\":\"\"},\"bgcolor\":\"#E5ECF6\",\"radialaxis\":{\"gridcolor\":\"white\",\"linecolor\":\"white\",\"ticks\":\"\"}},\"scene\":{\"xaxis\":{\"backgroundcolor\":\"#E5ECF6\",\"gridcolor\":\"white\",\"gridwidth\":2,\"linecolor\":\"white\",\"showbackground\":true,\"ticks\":\"\",\"zerolinecolor\":\"white\"},\"yaxis\":{\"backgroundcolor\":\"#E5ECF6\",\"gridcolor\":\"white\",\"gridwidth\":2,\"linecolor\":\"white\",\"showbackground\":true,\"ticks\":\"\",\"zerolinecolor\":\"white\"},\"zaxis\":{\"backgroundcolor\":\"#E5ECF6\",\"gridcolor\":\"white\",\"gridwidth\":2,\"linecolor\":\"white\",\"showbackground\":true,\"ticks\":\"\",\"zerolinecolor\":\"white\"}},\"shapedefaults\":{\"line\":{\"color\":\"#2a3f5f\"}},\"ternary\":{\"aaxis\":{\"gridcolor\":\"white\",\"linecolor\":\"white\",\"ticks\":\"\"},\"baxis\":{\"gridcolor\":\"white\",\"linecolor\":\"white\",\"ticks\":\"\"},\"bgcolor\":\"#E5ECF6\",\"caxis\":{\"gridcolor\":\"white\",\"linecolor\":\"white\",\"ticks\":\"\"}},\"title\":{\"x\":0.05},\"xaxis\":{\"automargin\":true,\"gridcolor\":\"white\",\"linecolor\":\"white\",\"ticks\":\"\",\"title\":{\"standoff\":15},\"zerolinecolor\":\"white\",\"zerolinewidth\":2},\"yaxis\":{\"automargin\":true,\"gridcolor\":\"white\",\"linecolor\":\"white\",\"ticks\":\"\",\"title\":{\"standoff\":15},\"zerolinecolor\":\"white\",\"zerolinewidth\":2}}},\"title\":{\"font\":{\"color\":\"#4D5663\"}},\"xaxis\":{\"anchor\":\"y\",\"domain\":[0.0,0.2125],\"gridcolor\":\"#E1E5ED\",\"showgrid\":false,\"tickfont\":{\"color\":\"#4D5663\"},\"title\":{\"font\":{\"color\":\"#4D5663\"},\"text\":\"\"},\"zerolinecolor\":\"#E1E5ED\"},\"yaxis\":{\"anchor\":\"x\",\"domain\":[0.8025,1.0],\"gridcolor\":\"#E1E5ED\",\"showgrid\":false,\"tickfont\":{\"color\":\"#4D5663\"},\"title\":{\"font\":{\"color\":\"#4D5663\"},\"text\":\"\"},\"zerolinecolor\":\"#E1E5ED\"},\"xaxis2\":{\"anchor\":\"y2\",\"domain\":[0.2625,0.475],\"gridcolor\":\"#E1E5ED\",\"showgrid\":false,\"tickfont\":{\"color\":\"#4D5663\"},\"title\":{\"font\":{\"color\":\"#4D5663\"},\"text\":\"\"},\"zerolinecolor\":\"#E1E5ED\"},\"yaxis2\":{\"anchor\":\"x2\",\"domain\":[0.8025,1.0],\"gridcolor\":\"#E1E5ED\",\"showgrid\":false,\"tickfont\":{\"color\":\"#4D5663\"},\"title\":{\"font\":{\"color\":\"#4D5663\"},\"text\":\"\"},\"zerolinecolor\":\"#E1E5ED\"},\"xaxis3\":{\"anchor\":\"y3\",\"domain\":[0.525,0.7375],\"gridcolor\":\"#E1E5ED\",\"showgrid\":false,\"tickfont\":{\"color\":\"#4D5663\"},\"title\":{\"font\":{\"color\":\"#4D5663\"},\"text\":\"\"},\"zerolinecolor\":\"#E1E5ED\"},\"yaxis3\":{\"anchor\":\"x3\",\"domain\":[0.8025,1.0],\"gridcolor\":\"#E1E5ED\",\"showgrid\":false,\"tickfont\":{\"color\":\"#4D5663\"},\"title\":{\"font\":{\"color\":\"#4D5663\"},\"text\":\"\"},\"zerolinecolor\":\"#E1E5ED\"},\"xaxis4\":{\"anchor\":\"y4\",\"domain\":[0.7875,1.0],\"gridcolor\":\"#E1E5ED\",\"showgrid\":false,\"tickfont\":{\"color\":\"#4D5663\"},\"title\":{\"font\":{\"color\":\"#4D5663\"},\"text\":\"\"},\"zerolinecolor\":\"#E1E5ED\"},\"yaxis4\":{\"anchor\":\"x4\",\"domain\":[0.8025,1.0],\"gridcolor\":\"#E1E5ED\",\"showgrid\":false,\"tickfont\":{\"color\":\"#4D5663\"},\"title\":{\"font\":{\"color\":\"#4D5663\"},\"text\":\"\"},\"zerolinecolor\":\"#E1E5ED\"},\"xaxis5\":{\"anchor\":\"y5\",\"domain\":[0.0,0.2125],\"gridcolor\":\"#E1E5ED\",\"showgrid\":false,\"tickfont\":{\"color\":\"#4D5663\"},\"title\":{\"font\":{\"color\":\"#4D5663\"},\"text\":\"\"},\"zerolinecolor\":\"#E1E5ED\"},\"yaxis5\":{\"anchor\":\"x5\",\"domain\":[0.535,0.7325],\"gridcolor\":\"#E1E5ED\",\"showgrid\":false,\"tickfont\":{\"color\":\"#4D5663\"},\"title\":{\"font\":{\"color\":\"#4D5663\"},\"text\":\"\"},\"zerolinecolor\":\"#E1E5ED\"},\"xaxis6\":{\"anchor\":\"y6\",\"domain\":[0.2625,0.475],\"gridcolor\":\"#E1E5ED\",\"showgrid\":false,\"tickfont\":{\"color\":\"#4D5663\"},\"title\":{\"font\":{\"color\":\"#4D5663\"},\"text\":\"\"},\"zerolinecolor\":\"#E1E5ED\"},\"yaxis6\":{\"anchor\":\"x6\",\"domain\":[0.535,0.7325],\"gridcolor\":\"#E1E5ED\",\"showgrid\":false,\"tickfont\":{\"color\":\"#4D5663\"},\"title\":{\"font\":{\"color\":\"#4D5663\"},\"text\":\"\"},\"zerolinecolor\":\"#E1E5ED\"},\"xaxis7\":{\"anchor\":\"y7\",\"domain\":[0.525,0.7375],\"gridcolor\":\"#E1E5ED\",\"showgrid\":false,\"tickfont\":{\"color\":\"#4D5663\"},\"title\":{\"font\":{\"color\":\"#4D5663\"},\"text\":\"\"},\"zerolinecolor\":\"#E1E5ED\"},\"yaxis7\":{\"anchor\":\"x7\",\"domain\":[0.535,0.7325],\"gridcolor\":\"#E1E5ED\",\"showgrid\":false,\"tickfont\":{\"color\":\"#4D5663\"},\"title\":{\"font\":{\"color\":\"#4D5663\"},\"text\":\"\"},\"zerolinecolor\":\"#E1E5ED\"},\"xaxis8\":{\"anchor\":\"y8\",\"domain\":[0.7875,1.0],\"gridcolor\":\"#E1E5ED\",\"showgrid\":false,\"tickfont\":{\"color\":\"#4D5663\"},\"title\":{\"font\":{\"color\":\"#4D5663\"},\"text\":\"\"},\"zerolinecolor\":\"#E1E5ED\"},\"yaxis8\":{\"anchor\":\"x8\",\"domain\":[0.535,0.7325],\"gridcolor\":\"#E1E5ED\",\"showgrid\":false,\"tickfont\":{\"color\":\"#4D5663\"},\"title\":{\"font\":{\"color\":\"#4D5663\"},\"text\":\"\"},\"zerolinecolor\":\"#E1E5ED\"},\"xaxis9\":{\"anchor\":\"y9\",\"domain\":[0.0,0.2125],\"gridcolor\":\"#E1E5ED\",\"showgrid\":false,\"tickfont\":{\"color\":\"#4D5663\"},\"title\":{\"font\":{\"color\":\"#4D5663\"},\"text\":\"\"},\"zerolinecolor\":\"#E1E5ED\"},\"yaxis9\":{\"anchor\":\"x9\",\"domain\":[0.2675,0.465],\"gridcolor\":\"#E1E5ED\",\"showgrid\":false,\"tickfont\":{\"color\":\"#4D5663\"},\"title\":{\"font\":{\"color\":\"#4D5663\"},\"text\":\"\"},\"zerolinecolor\":\"#E1E5ED\"},\"xaxis10\":{\"anchor\":\"y10\",\"domain\":[0.2625,0.475],\"gridcolor\":\"#E1E5ED\",\"showgrid\":false,\"tickfont\":{\"color\":\"#4D5663\"},\"title\":{\"font\":{\"color\":\"#4D5663\"},\"text\":\"\"},\"zerolinecolor\":\"#E1E5ED\"},\"yaxis10\":{\"anchor\":\"x10\",\"domain\":[0.2675,0.465],\"gridcolor\":\"#E1E5ED\",\"showgrid\":false,\"tickfont\":{\"color\":\"#4D5663\"},\"title\":{\"font\":{\"color\":\"#4D5663\"},\"text\":\"\"},\"zerolinecolor\":\"#E1E5ED\"},\"xaxis11\":{\"anchor\":\"y11\",\"domain\":[0.525,0.7375],\"gridcolor\":\"#E1E5ED\",\"showgrid\":false,\"tickfont\":{\"color\":\"#4D5663\"},\"title\":{\"font\":{\"color\":\"#4D5663\"},\"text\":\"\"},\"zerolinecolor\":\"#E1E5ED\"},\"yaxis11\":{\"anchor\":\"x11\",\"domain\":[0.2675,0.465],\"gridcolor\":\"#E1E5ED\",\"showgrid\":false,\"tickfont\":{\"color\":\"#4D5663\"},\"title\":{\"font\":{\"color\":\"#4D5663\"},\"text\":\"\"},\"zerolinecolor\":\"#E1E5ED\"},\"xaxis12\":{\"anchor\":\"y12\",\"domain\":[0.7875,1.0],\"gridcolor\":\"#E1E5ED\",\"showgrid\":false,\"tickfont\":{\"color\":\"#4D5663\"},\"title\":{\"font\":{\"color\":\"#4D5663\"},\"text\":\"\"},\"zerolinecolor\":\"#E1E5ED\"},\"yaxis12\":{\"anchor\":\"x12\",\"domain\":[0.2675,0.465],\"gridcolor\":\"#E1E5ED\",\"showgrid\":false,\"tickfont\":{\"color\":\"#4D5663\"},\"title\":{\"font\":{\"color\":\"#4D5663\"},\"text\":\"\"},\"zerolinecolor\":\"#E1E5ED\"},\"xaxis13\":{\"anchor\":\"y13\",\"domain\":[0.0,0.2125],\"gridcolor\":\"#E1E5ED\",\"showgrid\":false,\"tickfont\":{\"color\":\"#4D5663\"},\"title\":{\"font\":{\"color\":\"#4D5663\"},\"text\":\"\"},\"zerolinecolor\":\"#E1E5ED\"},\"yaxis13\":{\"anchor\":\"x13\",\"domain\":[0.0,0.1975],\"gridcolor\":\"#E1E5ED\",\"showgrid\":false,\"tickfont\":{\"color\":\"#4D5663\"},\"title\":{\"font\":{\"color\":\"#4D5663\"},\"text\":\"\"},\"zerolinecolor\":\"#E1E5ED\"},\"xaxis14\":{\"anchor\":\"y14\",\"domain\":[0.2625,0.475],\"gridcolor\":\"#E1E5ED\",\"showgrid\":false,\"tickfont\":{\"color\":\"#4D5663\"},\"title\":{\"font\":{\"color\":\"#4D5663\"},\"text\":\"\"},\"zerolinecolor\":\"#E1E5ED\"},\"yaxis14\":{\"anchor\":\"x14\",\"domain\":[0.0,0.1975],\"gridcolor\":\"#E1E5ED\",\"showgrid\":false,\"tickfont\":{\"color\":\"#4D5663\"},\"title\":{\"font\":{\"color\":\"#4D5663\"},\"text\":\"\"},\"zerolinecolor\":\"#E1E5ED\"},\"xaxis15\":{\"anchor\":\"y15\",\"domain\":[0.525,0.7375],\"gridcolor\":\"#E1E5ED\",\"showgrid\":false,\"tickfont\":{\"color\":\"#4D5663\"},\"title\":{\"font\":{\"color\":\"#4D5663\"},\"text\":\"\"},\"zerolinecolor\":\"#E1E5ED\"},\"yaxis15\":{\"anchor\":\"x15\",\"domain\":[0.0,0.1975],\"gridcolor\":\"#E1E5ED\",\"showgrid\":false,\"tickfont\":{\"color\":\"#4D5663\"},\"title\":{\"font\":{\"color\":\"#4D5663\"},\"text\":\"\"},\"zerolinecolor\":\"#E1E5ED\"},\"xaxis16\":{\"anchor\":\"y16\",\"domain\":[0.7875,1.0],\"gridcolor\":\"#E1E5ED\",\"showgrid\":false,\"tickfont\":{\"color\":\"#4D5663\"},\"title\":{\"font\":{\"color\":\"#4D5663\"},\"text\":\"\"},\"zerolinecolor\":\"#E1E5ED\"},\"yaxis16\":{\"anchor\":\"x16\",\"domain\":[0.0,0.1975],\"gridcolor\":\"#E1E5ED\",\"showgrid\":false,\"tickfont\":{\"color\":\"#4D5663\"},\"title\":{\"font\":{\"color\":\"#4D5663\"},\"text\":\"\"},\"zerolinecolor\":\"#E1E5ED\"}},                        {\"showLink\": true, \"linkText\": \"Export to plot.ly\", \"plotlyServerURL\": \"https://plot.ly\", \"responsive\": true}                    ).then(function(){\n",
       "                            \n",
       "var gd = document.getElementById('7dfe625e-5838-4828-b74f-73fe6363db78');\n",
       "var x = new MutationObserver(function (mutations, observer) {{\n",
       "        var display = window.getComputedStyle(gd).display;\n",
       "        if (!display || display === 'none') {{\n",
       "            console.log([gd, 'removed!']);\n",
       "            Plotly.purge(gd);\n",
       "            observer.disconnect();\n",
       "        }}\n",
       "}});\n",
       "\n",
       "// Listen for the removal of the full notebook cells\n",
       "var notebookContainer = gd.closest('#notebook-container');\n",
       "if (notebookContainer) {{\n",
       "    x.observe(notebookContainer, {childList: true});\n",
       "}}\n",
       "\n",
       "// Listen for the clearing of the current output cell\n",
       "var outputEl = gd.closest('.output');\n",
       "if (outputEl) {{\n",
       "    x.observe(outputEl, {childList: true});\n",
       "}}\n",
       "\n",
       "                        })                };                });            </script>        </div>"
      ]
     },
     "metadata": {},
     "output_type": "display_data"
    }
   ],
   "source": [
    "df.scatter_matrix()"
   ]
  },
  {
   "cell_type": "code",
   "execution_count": null,
   "id": "dbe51823-30f8-4fa1-a00c-5fba9059be06",
   "metadata": {},
   "outputs": [],
   "source": []
  }
 ],
 "metadata": {
  "kernelspec": {
   "display_name": "Python 3 (ipykernel)",
   "language": "python",
   "name": "python3"
  },
  "language_info": {
   "codemirror_mode": {
    "name": "ipython",
    "version": 3
   },
   "file_extension": ".py",
   "mimetype": "text/x-python",
   "name": "python",
   "nbconvert_exporter": "python",
   "pygments_lexer": "ipython3",
   "version": "3.11.5"
  }
 },
 "nbformat": 4,
 "nbformat_minor": 5
}
