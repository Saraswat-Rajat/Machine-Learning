{
 "cells": [
  {
   "cell_type": "markdown",
   "id": "a4dfc018-58b9-4cc3-a970-76ed3e0a285d",
   "metadata": {},
   "source": [
    "# NumPy \n",
    "\n",
    "NumPy (or Numpy) is a Linear Algebra Library for Python, the reason it is so important for Data Science with Python is that almost all of the libraries in the PyData Ecosystem rely on NumPy as one of their main building blocks.\n",
    "\n",
    "Numpy is also incredibly fast, as it has bindings to C libraries. For more info on why you would want to use Arrays instead of lists, check out this great [StackOverflow post](http://stackoverflow.com/questions/993984/why-numpy-instead-of-python-lists).\n"
   ]
  },
  {
   "cell_type": "markdown",
   "id": "5ba28918-5ff9-47fd-9e70-4b175b277b61",
   "metadata": {},
   "source": [
    "## Installation Instructions\n",
    "\n",
    "**It is highly recommended you install Python using the Anaconda distribution to make sure all underlying dependencies (such as Linear Algebra libraries) all sync up with the use of a conda install. If you have Anaconda, install NumPy by going to your terminal or command prompt and typing:**\n",
    "    \n",
    "    conda install numpy"
   ]
  },
  {
   "cell_type": "markdown",
   "id": "d3541a13-2db3-4901-a3a9-bcb6befbb0af",
   "metadata": {},
   "source": [
    "## Importing"
   ]
  },
  {
   "cell_type": "code",
   "execution_count": 3,
   "id": "7d3047e1-473b-4cd1-b8a4-ff5044d57dab",
   "metadata": {},
   "outputs": [],
   "source": [
    "import numpy as np #instead of np we can write anything, np is standard"
   ]
  },
  {
   "cell_type": "markdown",
   "id": "12f99eef-f7cf-4cdc-a8d7-4ae45fa70839",
   "metadata": {},
   "source": [
    "## Numpy Arrays"
   ]
  },
  {
   "cell_type": "markdown",
   "id": "b6c8bd93-00d5-4673-86bf-ef4943c8e478",
   "metadata": {},
   "source": [
    "### From a Python List\n",
    "\n",
    "We can create an array by directly converting a list or list of lists:"
   ]
  },
  {
   "cell_type": "code",
   "execution_count": 4,
   "id": "93883444-52fa-4fc9-a5c0-9e7cdd2351cb",
   "metadata": {},
   "outputs": [
    {
     "data": {
      "text/plain": [
       "[1, 2, 3]"
      ]
     },
     "execution_count": 4,
     "metadata": {},
     "output_type": "execute_result"
    }
   ],
   "source": [
    "my_list = [1,2,3]\n",
    "my_list"
   ]
  },
  {
   "cell_type": "code",
   "execution_count": 5,
   "id": "6ed3e7d3-556c-4380-b845-c50adc2ae08e",
   "metadata": {},
   "outputs": [
    {
     "data": {
      "text/plain": [
       "array([1, 2, 3])"
      ]
     },
     "execution_count": 5,
     "metadata": {},
     "output_type": "execute_result"
    }
   ],
   "source": [
    "np.array(my_list) # now this is an array , like a 1D matrix, all mathematical operations are possible"
   ]
  },
  {
   "cell_type": "code",
   "execution_count": 6,
   "id": "fe9cd82a-a8be-48d7-89aa-7664998545ba",
   "metadata": {},
   "outputs": [
    {
     "data": {
      "text/plain": [
       "[[1, 2, 3], [4, 5, 6], [7, 8, 9]]"
      ]
     },
     "execution_count": 6,
     "metadata": {},
     "output_type": "execute_result"
    }
   ],
   "source": [
    "my_matrix = [[1,2,3],[4,5,6],[7,8,9]] \n",
    "my_matrix"
   ]
  },
  {
   "cell_type": "code",
   "execution_count": 7,
   "id": "93257745-c864-4889-b40b-51b5ba06bef7",
   "metadata": {},
   "outputs": [
    {
     "data": {
      "text/plain": [
       "array([[1, 2, 3],\n",
       "       [4, 5, 6],\n",
       "       [7, 8, 9]])"
      ]
     },
     "execution_count": 7,
     "metadata": {},
     "output_type": "execute_result"
    }
   ],
   "source": [
    "np.array(my_matrix) #this is a matrix or a 2-D array"
   ]
  },
  {
   "cell_type": "code",
   "execution_count": 85,
   "id": "7fbd5804-fc6a-45e4-a232-f90178300bcb",
   "metadata": {},
   "outputs": [
    {
     "data": {
      "text/plain": [
       "array([[[1, 2],\n",
       "        [3, 4]],\n",
       "\n",
       "       [[2, 5],\n",
       "        [9, 7]],\n",
       "\n",
       "       [[4, 5],\n",
       "        [1, 4]]])"
      ]
     },
     "execution_count": 85,
     "metadata": {},
     "output_type": "execute_result"
    }
   ],
   "source": [
    "my_matrix2 = [[[1,2], [3,4]], [[2,5], [9,7]], [[4,5],[1,4]]]\n",
    "np.array(my_matrix2)"
   ]
  },
  {
   "cell_type": "code",
   "execution_count": 88,
   "id": "b26900ca-8ddb-40a9-af0f-d3ad609099d4",
   "metadata": {},
   "outputs": [
    {
     "data": {
      "text/plain": [
       "array([[1, 2, 3, 2],\n",
       "       [2, 3, 4, 5],\n",
       "       [7, 8, 9, 6],\n",
       "       [2, 4, 5, 6]])"
      ]
     },
     "execution_count": 88,
     "metadata": {},
     "output_type": "execute_result"
    }
   ],
   "source": [
    "my_matrix3 = [[1,2,3,2], [2,3,4,5], [7,8,9,6] , [2,4,5,6]]\n",
    "np.array(my_matrix3)"
   ]
  },
  {
   "cell_type": "markdown",
   "id": "8e9f1e39-bbc8-47e5-8744-180caf4aaff8",
   "metadata": {},
   "source": [
    "## Built-in Methods\n",
    "\n",
    "There are lots of built-in ways to generate Arrays"
   ]
  },
  {
   "cell_type": "markdown",
   "id": "f3eb87ac-3800-4fa2-ae25-fb659f79cc10",
   "metadata": {},
   "source": [
    "### arange\n",
    "\n",
    "Return evenly spaced values within a given interval."
   ]
  },
  {
   "cell_type": "code",
   "execution_count": 8,
   "id": "2afcc809-4150-450e-9de4-102687d32acb",
   "metadata": {},
   "outputs": [
    {
     "data": {
      "text/plain": [
       "array([0, 1, 2, 3, 4, 5, 6, 7, 8, 9])"
      ]
     },
     "execution_count": 8,
     "metadata": {},
     "output_type": "execute_result"
    }
   ],
   "source": [
    "np.arange(0,10)"
   ]
  },
  {
   "cell_type": "code",
   "execution_count": 9,
   "id": "f65c3c5d-a99c-460b-8674-0bd25eeecef5",
   "metadata": {},
   "outputs": [
    {
     "data": {
      "text/plain": [
       "array([ 5,  6,  7,  8,  9, 10, 11, 12, 13, 14, 15, 16, 17, 18, 19, 20, 21,\n",
       "       22, 23, 24])"
      ]
     },
     "execution_count": 9,
     "metadata": {},
     "output_type": "execute_result"
    }
   ],
   "source": [
    "np.arange(5,25)"
   ]
  },
  {
   "cell_type": "code",
   "execution_count": 10,
   "id": "64b36681-3f19-4791-9173-5a3ba94eea32",
   "metadata": {},
   "outputs": [
    {
     "data": {
      "text/plain": [
       "array([ 0,  2,  4,  6,  8, 10])"
      ]
     },
     "execution_count": 10,
     "metadata": {},
     "output_type": "execute_result"
    }
   ],
   "source": [
    "np.arange(0, 11, 2) #(start, end, space)"
   ]
  },
  {
   "cell_type": "markdown",
   "id": "71a020c9-90be-4865-895b-ae313875c940",
   "metadata": {},
   "source": [
    "### zeros and ones\n",
    "\n",
    "Generate arrays of zeros or ones"
   ]
  },
  {
   "cell_type": "code",
   "execution_count": 11,
   "id": "e1562e95-5c50-4846-be9c-ee19dac9f50d",
   "metadata": {},
   "outputs": [
    {
     "data": {
      "text/plain": [
       "array([0., 0., 0.])"
      ]
     },
     "execution_count": 11,
     "metadata": {},
     "output_type": "execute_result"
    }
   ],
   "source": [
    "np.zeros(3)"
   ]
  },
  {
   "cell_type": "code",
   "execution_count": 12,
   "id": "a1d5f38e-aa89-4d64-8783-b9b991a53a72",
   "metadata": {},
   "outputs": [
    {
     "data": {
      "text/plain": [
       "array([[0., 0., 0., 0., 0.],\n",
       "       [0., 0., 0., 0., 0.],\n",
       "       [0., 0., 0., 0., 0.],\n",
       "       [0., 0., 0., 0., 0.],\n",
       "       [0., 0., 0., 0., 0.]])"
      ]
     },
     "execution_count": 12,
     "metadata": {},
     "output_type": "execute_result"
    }
   ],
   "source": [
    "np.zeros((5,5)) "
   ]
  },
  {
   "cell_type": "code",
   "execution_count": 13,
   "id": "b85e91a0-6ed3-4448-96c0-bad07c96a91b",
   "metadata": {},
   "outputs": [
    {
     "data": {
      "text/plain": [
       "array([1.])"
      ]
     },
     "execution_count": 13,
     "metadata": {},
     "output_type": "execute_result"
    }
   ],
   "source": [
    "np.ones(1)"
   ]
  },
  {
   "cell_type": "code",
   "execution_count": 91,
   "id": "1b42a56b-3c82-4b9f-b546-9af2fe384aeb",
   "metadata": {},
   "outputs": [
    {
     "data": {
      "text/plain": [
       "array([[[0., 0., 0., 0., 0.],\n",
       "        [0., 0., 0., 0., 0.],\n",
       "        [0., 0., 0., 0., 0.]],\n",
       "\n",
       "       [[0., 0., 0., 0., 0.],\n",
       "        [0., 0., 0., 0., 0.],\n",
       "        [0., 0., 0., 0., 0.]]])"
      ]
     },
     "execution_count": 91,
     "metadata": {},
     "output_type": "execute_result"
    }
   ],
   "source": [
    "np.zeros((2,3,5)) #(amt, row, col)"
   ]
  },
  {
   "cell_type": "code",
   "execution_count": 15,
   "id": "f22f60f8-be30-4e9f-903c-9805283e00fd",
   "metadata": {},
   "outputs": [
    {
     "data": {
      "text/plain": [
       "array([1., 1., 1.])"
      ]
     },
     "execution_count": 15,
     "metadata": {},
     "output_type": "execute_result"
    }
   ],
   "source": [
    "np.ones(3)"
   ]
  },
  {
   "cell_type": "code",
   "execution_count": 92,
   "id": "d0b21c95-0ddf-416d-bfc6-77a42f41c8fb",
   "metadata": {},
   "outputs": [
    {
     "data": {
      "text/plain": [
       "array([[1., 1., 1.],\n",
       "       [1., 1., 1.],\n",
       "       [1., 1., 1.]])"
      ]
     },
     "execution_count": 92,
     "metadata": {},
     "output_type": "execute_result"
    }
   ],
   "source": [
    "np.ones((3,3))"
   ]
  },
  {
   "cell_type": "code",
   "execution_count": 93,
   "id": "938cea64-15b8-490d-a03c-4f1cb5af3d08",
   "metadata": {},
   "outputs": [
    {
     "data": {
      "text/plain": [
       "array([[[1., 1., 1., 1., 1.],\n",
       "        [1., 1., 1., 1., 1.],\n",
       "        [1., 1., 1., 1., 1.]],\n",
       "\n",
       "       [[1., 1., 1., 1., 1.],\n",
       "        [1., 1., 1., 1., 1.],\n",
       "        [1., 1., 1., 1., 1.]]])"
      ]
     },
     "execution_count": 93,
     "metadata": {},
     "output_type": "execute_result"
    }
   ],
   "source": [
    "np.ones((2,3,5))"
   ]
  },
  {
   "cell_type": "markdown",
   "id": "b4e326d8-2174-492d-920b-02b932a6502f",
   "metadata": {},
   "source": [
    "### linspace\n",
    "Return evenly spaced numbers over a specified interval. the spaces are linear"
   ]
  },
  {
   "cell_type": "code",
   "execution_count": 17,
   "id": "26e9b671-34a5-4932-ba9a-485018992f7e",
   "metadata": {},
   "outputs": [
    {
     "data": {
      "text/plain": [
       "array([ 0.,  5., 10.])"
      ]
     },
     "execution_count": 17,
     "metadata": {},
     "output_type": "execute_result"
    }
   ],
   "source": [
    "np.linspace(0,10,3) #(start , end , no of points)"
   ]
  },
  {
   "cell_type": "code",
   "execution_count": 18,
   "id": "08e72a97-4ec3-4e1d-aa8f-184d8fb650df",
   "metadata": {},
   "outputs": [
    {
     "data": {
      "text/plain": [
       "array([ 0.        ,  0.20408163,  0.40816327,  0.6122449 ,  0.81632653,\n",
       "        1.02040816,  1.2244898 ,  1.42857143,  1.63265306,  1.83673469,\n",
       "        2.04081633,  2.24489796,  2.44897959,  2.65306122,  2.85714286,\n",
       "        3.06122449,  3.26530612,  3.46938776,  3.67346939,  3.87755102,\n",
       "        4.08163265,  4.28571429,  4.48979592,  4.69387755,  4.89795918,\n",
       "        5.10204082,  5.30612245,  5.51020408,  5.71428571,  5.91836735,\n",
       "        6.12244898,  6.32653061,  6.53061224,  6.73469388,  6.93877551,\n",
       "        7.14285714,  7.34693878,  7.55102041,  7.75510204,  7.95918367,\n",
       "        8.16326531,  8.36734694,  8.57142857,  8.7755102 ,  8.97959184,\n",
       "        9.18367347,  9.3877551 ,  9.59183673,  9.79591837, 10.        ])"
      ]
     },
     "execution_count": 18,
     "metadata": {},
     "output_type": "execute_result"
    }
   ],
   "source": [
    "np.linspace(0,10,50)"
   ]
  },
  {
   "cell_type": "code",
   "execution_count": 19,
   "id": "d048e3e3-a045-484f-8278-11be3725e965",
   "metadata": {},
   "outputs": [
    {
     "data": {
      "text/plain": [
       "array([1.        , 1.05263158, 1.10526316, 1.15789474, 1.21052632,\n",
       "       1.26315789, 1.31578947, 1.36842105, 1.42105263, 1.47368421,\n",
       "       1.52631579, 1.57894737, 1.63157895, 1.68421053, 1.73684211,\n",
       "       1.78947368, 1.84210526, 1.89473684, 1.94736842, 2.        ])"
      ]
     },
     "execution_count": 19,
     "metadata": {},
     "output_type": "execute_result"
    }
   ],
   "source": [
    "np.linspace(1,2,20)"
   ]
  },
  {
   "cell_type": "markdown",
   "id": "2679f5ab-83d1-401f-9020-e6b079422ea0",
   "metadata": {},
   "source": [
    "## eye\n",
    "\n",
    "Creates an identity matrix"
   ]
  },
  {
   "cell_type": "code",
   "execution_count": 20,
   "id": "4babd3f4-5a27-4085-b0ee-946ecced3ac2",
   "metadata": {},
   "outputs": [
    {
     "data": {
      "text/plain": [
       "array([[1., 0., 0., 0.],\n",
       "       [0., 1., 0., 0.],\n",
       "       [0., 0., 1., 0.],\n",
       "       [0., 0., 0., 1.]])"
      ]
     },
     "execution_count": 20,
     "metadata": {},
     "output_type": "execute_result"
    }
   ],
   "source": [
    "np.eye(4)"
   ]
  },
  {
   "cell_type": "markdown",
   "id": "cc8a9403-cf8e-4381-a0ea-5f7a927ff772",
   "metadata": {},
   "source": [
    "## Random \n",
    "\n",
    "Numpy also has lots of ways to create random number arrays:\n",
    "\n",
    "### rand\n",
    "Create an array of the given shape and populate it with\n",
    "random samples from a uniform distribution\n",
    "over ``[0, 1)``."
   ]
  },
  {
   "cell_type": "code",
   "execution_count": 21,
   "id": "da9a63d4-b064-4c8c-8c9b-6e9c35a9a57a",
   "metadata": {},
   "outputs": [
    {
     "data": {
      "text/plain": [
       "array([0.16727343, 0.63589535])"
      ]
     },
     "execution_count": 21,
     "metadata": {},
     "output_type": "execute_result"
    }
   ],
   "source": [
    "np.random.rand(2)"
   ]
  },
  {
   "cell_type": "code",
   "execution_count": 22,
   "id": "aa606c78-a840-43be-8d96-9f2967d21977",
   "metadata": {},
   "outputs": [
    {
     "data": {
      "text/plain": [
       "array([[0.17930117, 0.6009172 , 0.78877276, 0.20761123, 0.32587472],\n",
       "       [0.6248433 , 0.08860903, 0.56371122, 0.8974119 , 0.9921485 ],\n",
       "       [0.34566597, 0.7705865 , 0.93181759, 0.11167388, 0.35247012],\n",
       "       [0.45897719, 0.66551291, 0.15324784, 0.49562607, 0.21365845],\n",
       "       [0.25972106, 0.4654074 , 0.26416816, 0.56836083, 0.29971068]])"
      ]
     },
     "execution_count": 22,
     "metadata": {},
     "output_type": "execute_result"
    }
   ],
   "source": [
    "np.random.rand(5,5) #this is a 2D array"
   ]
  },
  {
   "cell_type": "code",
   "execution_count": 23,
   "id": "90c3f1ef-4ba3-4a52-9331-f4d0d5d5bf18",
   "metadata": {},
   "outputs": [
    {
     "data": {
      "text/plain": [
       "array([2.36966734e-01, 2.95168811e-01, 1.66161776e-01, 5.31510453e-01,\n",
       "       3.07384708e-01, 5.00902391e-01, 6.00822059e-01, 9.17281200e-01,\n",
       "       1.18472590e-02, 6.63861594e-01, 6.79215660e-01, 7.34442830e-01,\n",
       "       1.43110380e-01, 8.41071139e-01, 7.33471975e-04, 9.03739806e-02,\n",
       "       8.70439073e-01, 2.20612855e-01, 8.19048104e-01, 4.05704831e-01,\n",
       "       8.58720035e-01, 5.09661234e-01, 4.42322504e-01, 1.85719328e-01,\n",
       "       3.49060493e-01])"
      ]
     },
     "execution_count": 23,
     "metadata": {},
     "output_type": "execute_result"
    }
   ],
   "source": [
    "np.random.rand(25) #this is a linear array of 25 elements"
   ]
  },
  {
   "cell_type": "markdown",
   "id": "50f371d4-cd43-41ae-81ed-e0e147c0a907",
   "metadata": {},
   "source": [
    "### randn\n",
    "\n",
    "Return a sample (or samples) from the \"standard normal\" distribution. Unlike rand which is uniform:"
   ]
  },
  {
   "cell_type": "markdown",
   "id": "02ee78be-d3f8-4f19-8095-d6afc48145ba",
   "metadata": {},
   "source": [
    "The standard normal dist. is created around zero"
   ]
  },
  {
   "cell_type": "code",
   "execution_count": 24,
   "id": "aefa2509-f9b6-423c-aa72-cb1eec8f6385",
   "metadata": {},
   "outputs": [
    {
     "data": {
      "text/plain": [
       "array([-1.25482364,  1.78519521])"
      ]
     },
     "execution_count": 24,
     "metadata": {},
     "output_type": "execute_result"
    }
   ],
   "source": [
    "np.random.randn(2)"
   ]
  },
  {
   "cell_type": "code",
   "execution_count": 25,
   "id": "fe66ae03-ceb9-4129-bc23-e93c632463c1",
   "metadata": {},
   "outputs": [
    {
     "data": {
      "text/plain": [
       "array([[-0.92618434,  0.63894296,  1.12176455,  0.63121342,  0.32916493],\n",
       "       [ 0.19078694,  1.18372422,  0.98301792,  1.4452996 ,  0.60585614],\n",
       "       [-1.244934  , -0.74641554, -0.92418394, -2.14057347,  0.31236619],\n",
       "       [-0.34219671,  3.06915749,  2.10196984,  0.1530719 ,  1.08886696],\n",
       "       [ 0.38169484, -0.97492247,  0.18648762, -0.18104491, -0.08500078]])"
      ]
     },
     "execution_count": 25,
     "metadata": {},
     "output_type": "execute_result"
    }
   ],
   "source": [
    "np.random.randn(5,5)"
   ]
  },
  {
   "cell_type": "markdown",
   "id": "057d7d1e-c4fa-4479-90d6-c60a65f8df27",
   "metadata": {},
   "source": [
    "### randint\n",
    "Return random integers from `low` (inclusive) to `high` (exclusive)."
   ]
  },
  {
   "cell_type": "code",
   "execution_count": 26,
   "id": "e4ace567-81f5-45e2-aeea-92719300a41d",
   "metadata": {},
   "outputs": [
    {
     "data": {
      "text/plain": [
       "76"
      ]
     },
     "execution_count": 26,
     "metadata": {},
     "output_type": "execute_result"
    }
   ],
   "source": [
    "np.random.randint(1,100)"
   ]
  },
  {
   "cell_type": "code",
   "execution_count": 27,
   "id": "d25ab5f6-60eb-4e4d-a5f2-98222fee08ee",
   "metadata": {},
   "outputs": [
    {
     "data": {
      "text/plain": [
       "array([32, 79, 46, 37, 67,  3, 81, 95, 47, 40])"
      ]
     },
     "execution_count": 27,
     "metadata": {},
     "output_type": "execute_result"
    }
   ],
   "source": [
    "np.random.randint(1,100,10)  #(start , end, no of points)"
   ]
  },
  {
   "cell_type": "markdown",
   "id": "4187578c-43f6-40de-ba19-390dace78b91",
   "metadata": {},
   "source": [
    "## Array Attributes and Methods\n"
   ]
  },
  {
   "cell_type": "code",
   "execution_count": 28,
   "id": "33617e7a-be7b-483f-9909-288bf4cf4d78",
   "metadata": {},
   "outputs": [],
   "source": [
    "arr = np.arange(25)\n",
    "ranarr = np.random.randint(0,50,10)"
   ]
  },
  {
   "cell_type": "code",
   "execution_count": 29,
   "id": "18f9b053-be60-49c1-9193-be2d46dea38c",
   "metadata": {},
   "outputs": [
    {
     "data": {
      "text/plain": [
       "array([ 0,  1,  2,  3,  4,  5,  6,  7,  8,  9, 10, 11, 12, 13, 14, 15, 16,\n",
       "       17, 18, 19, 20, 21, 22, 23, 24])"
      ]
     },
     "execution_count": 29,
     "metadata": {},
     "output_type": "execute_result"
    }
   ],
   "source": [
    "arr"
   ]
  },
  {
   "cell_type": "code",
   "execution_count": 30,
   "id": "a15ca426-b435-4afb-9ade-7fe82230d126",
   "metadata": {},
   "outputs": [
    {
     "data": {
      "text/plain": [
       "array([38, 39,  9, 14, 16, 12, 27,  8, 32, 26])"
      ]
     },
     "execution_count": 30,
     "metadata": {},
     "output_type": "execute_result"
    }
   ],
   "source": [
    "ranarr"
   ]
  },
  {
   "cell_type": "markdown",
   "id": "f6906697-394d-4e52-8caa-a09cc0a180ff",
   "metadata": {},
   "source": [
    "## Reshape\n",
    "Returns an array containing the same data with a new shape."
   ]
  },
  {
   "cell_type": "code",
   "execution_count": 31,
   "id": "e0e7712d-14cf-4bcf-8505-ed4965e1543e",
   "metadata": {},
   "outputs": [
    {
     "data": {
      "text/plain": [
       "array([[ 0,  1,  2,  3,  4],\n",
       "       [ 5,  6,  7,  8,  9],\n",
       "       [10, 11, 12, 13, 14],\n",
       "       [15, 16, 17, 18, 19],\n",
       "       [20, 21, 22, 23, 24]])"
      ]
     },
     "execution_count": 31,
     "metadata": {},
     "output_type": "execute_result"
    }
   ],
   "source": [
    "arr.reshape(5,5) #converting 25*1 1-d array into 5*5 2d array"
   ]
  },
  {
   "cell_type": "code",
   "execution_count": 32,
   "id": "a4212082-9777-4d36-bd16-1bd51aaea16c",
   "metadata": {},
   "outputs": [],
   "source": [
    "arr2 = np.arange(16)"
   ]
  },
  {
   "cell_type": "code",
   "execution_count": 33,
   "id": "d526e0ed-9192-4258-99be-ad278dc6516c",
   "metadata": {},
   "outputs": [
    {
     "data": {
      "text/plain": [
       "array([ 0,  1,  2,  3,  4,  5,  6,  7,  8,  9, 10, 11, 12, 13, 14, 15])"
      ]
     },
     "execution_count": 33,
     "metadata": {},
     "output_type": "execute_result"
    }
   ],
   "source": [
    "arr2"
   ]
  },
  {
   "cell_type": "code",
   "execution_count": 34,
   "id": "615ae2ea-63e3-4558-bc3a-b25ecd95ea9c",
   "metadata": {},
   "outputs": [
    {
     "data": {
      "text/plain": [
       "array([[ 0,  1,  2,  3],\n",
       "       [ 4,  5,  6,  7],\n",
       "       [ 8,  9, 10, 11],\n",
       "       [12, 13, 14, 15]])"
      ]
     },
     "execution_count": 34,
     "metadata": {},
     "output_type": "execute_result"
    }
   ],
   "source": [
    "arr2.reshape(4,4)  #converting 16*1 1-d array into 4*4 2d array"
   ]
  },
  {
   "cell_type": "code",
   "execution_count": 35,
   "id": "c70c73c3-f3c8-4511-afaa-c082babde9aa",
   "metadata": {},
   "outputs": [
    {
     "data": {
      "text/plain": [
       "array([[[[ 0,  1],\n",
       "         [ 2,  3]],\n",
       "\n",
       "        [[ 4,  5],\n",
       "         [ 6,  7]]],\n",
       "\n",
       "\n",
       "       [[[ 8,  9],\n",
       "         [10, 11]],\n",
       "\n",
       "        [[12, 13],\n",
       "         [14, 15]]]])"
      ]
     },
     "execution_count": 35,
     "metadata": {},
     "output_type": "execute_result"
    }
   ],
   "source": [
    "arr2.reshape(2,2,2,2) #converting 16*1 1-d array into 2*2*2*2 4-d array"
   ]
  },
  {
   "cell_type": "markdown",
   "id": "e5aca279-35d5-481a-b6db-573d574a2fc2",
   "metadata": {},
   "source": [
    "### max,min,argmax,argmin\n",
    "\n",
    "These are useful methods for finding max or min values. Or to find their index locations using argmin or argmax"
   ]
  },
  {
   "cell_type": "code",
   "execution_count": 36,
   "id": "16003628-3af7-4765-ae43-749d14129ced",
   "metadata": {},
   "outputs": [
    {
     "data": {
      "text/plain": [
       "array([38, 39,  9, 14, 16, 12, 27,  8, 32, 26])"
      ]
     },
     "execution_count": 36,
     "metadata": {},
     "output_type": "execute_result"
    }
   ],
   "source": [
    "ranarr"
   ]
  },
  {
   "cell_type": "code",
   "execution_count": 37,
   "id": "5f971551-6aef-46c9-a406-f6ca8b1640e2",
   "metadata": {},
   "outputs": [
    {
     "data": {
      "text/plain": [
       "39"
      ]
     },
     "execution_count": 37,
     "metadata": {},
     "output_type": "execute_result"
    }
   ],
   "source": [
    "ranarr.max()"
   ]
  },
  {
   "cell_type": "code",
   "execution_count": 38,
   "id": "4170c51a-f549-4696-ac47-93d20c14a7d9",
   "metadata": {},
   "outputs": [
    {
     "data": {
      "text/plain": [
       "1"
      ]
     },
     "execution_count": 38,
     "metadata": {},
     "output_type": "execute_result"
    }
   ],
   "source": [
    "ranarr.argmax()"
   ]
  },
  {
   "cell_type": "code",
   "execution_count": 39,
   "id": "d1f7e3dc-eb57-4fae-bfe8-c14468420e9b",
   "metadata": {},
   "outputs": [
    {
     "data": {
      "text/plain": [
       "8"
      ]
     },
     "execution_count": 39,
     "metadata": {},
     "output_type": "execute_result"
    }
   ],
   "source": [
    "ranarr.min()"
   ]
  },
  {
   "cell_type": "code",
   "execution_count": 40,
   "id": "d4495b71-ede8-4ad9-b3eb-86759d17698c",
   "metadata": {},
   "outputs": [
    {
     "data": {
      "text/plain": [
       "7"
      ]
     },
     "execution_count": 40,
     "metadata": {},
     "output_type": "execute_result"
    }
   ],
   "source": [
    "ranarr.argmin()"
   ]
  },
  {
   "cell_type": "markdown",
   "id": "272716ec-5e09-4be0-b594-b013fd292394",
   "metadata": {},
   "source": [
    "## Shape\n",
    "\n",
    "Shape is an attribute that arrays have (not a method):"
   ]
  },
  {
   "cell_type": "code",
   "execution_count": 41,
   "id": "c5047192-5855-4b34-b0d5-8ea5739c41be",
   "metadata": {},
   "outputs": [
    {
     "data": {
      "text/plain": [
       "(25,)"
      ]
     },
     "execution_count": 41,
     "metadata": {},
     "output_type": "execute_result"
    }
   ],
   "source": [
    "arr.shape "
   ]
  },
  {
   "cell_type": "code",
   "execution_count": 42,
   "id": "edff0e4b-984c-440e-b867-43f2a8827ff0",
   "metadata": {},
   "outputs": [
    {
     "data": {
      "text/plain": [
       "array([[ 0,  1,  2,  3,  4,  5,  6,  7,  8,  9, 10, 11, 12, 13, 14, 15,\n",
       "        16, 17, 18, 19, 20, 21, 22, 23, 24]])"
      ]
     },
     "execution_count": 42,
     "metadata": {},
     "output_type": "execute_result"
    }
   ],
   "source": [
    "arr.reshape(1,25)"
   ]
  },
  {
   "cell_type": "code",
   "execution_count": 43,
   "id": "1ed975ee-d06f-4404-a5d3-bd02cb22c78e",
   "metadata": {},
   "outputs": [
    {
     "data": {
      "text/plain": [
       "(1, 25)"
      ]
     },
     "execution_count": 43,
     "metadata": {},
     "output_type": "execute_result"
    }
   ],
   "source": [
    "arr.reshape(1,25).shape"
   ]
  },
  {
   "cell_type": "code",
   "execution_count": 44,
   "id": "b7727894-6dd5-447c-8b09-108f10d7d83e",
   "metadata": {},
   "outputs": [
    {
     "data": {
      "text/plain": [
       "array([[ 0],\n",
       "       [ 1],\n",
       "       [ 2],\n",
       "       [ 3],\n",
       "       [ 4],\n",
       "       [ 5],\n",
       "       [ 6],\n",
       "       [ 7],\n",
       "       [ 8],\n",
       "       [ 9],\n",
       "       [10],\n",
       "       [11],\n",
       "       [12],\n",
       "       [13],\n",
       "       [14],\n",
       "       [15],\n",
       "       [16],\n",
       "       [17],\n",
       "       [18],\n",
       "       [19],\n",
       "       [20],\n",
       "       [21],\n",
       "       [22],\n",
       "       [23],\n",
       "       [24]])"
      ]
     },
     "execution_count": 44,
     "metadata": {},
     "output_type": "execute_result"
    }
   ],
   "source": [
    "arr.reshape(25,1)"
   ]
  },
  {
   "cell_type": "code",
   "execution_count": 45,
   "id": "5be4e563-e798-4eb7-8294-44cb67c0f2de",
   "metadata": {},
   "outputs": [
    {
     "data": {
      "text/plain": [
       "(25, 1)"
      ]
     },
     "execution_count": 45,
     "metadata": {},
     "output_type": "execute_result"
    }
   ],
   "source": [
    "arr.reshape(25,1).shape"
   ]
  },
  {
   "cell_type": "code",
   "execution_count": 46,
   "id": "9b12f8a3-9bdb-469b-9dc4-8918297f351a",
   "metadata": {},
   "outputs": [
    {
     "data": {
      "text/plain": [
       "array([[ 0,  1,  2,  3,  4],\n",
       "       [ 5,  6,  7,  8,  9],\n",
       "       [10, 11, 12, 13, 14],\n",
       "       [15, 16, 17, 18, 19],\n",
       "       [20, 21, 22, 23, 24]])"
      ]
     },
     "execution_count": 46,
     "metadata": {},
     "output_type": "execute_result"
    }
   ],
   "source": [
    "arr.reshape(5,5)"
   ]
  },
  {
   "cell_type": "code",
   "execution_count": 47,
   "id": "1d11ddaf-4138-4cf1-b8bc-984c81174fe7",
   "metadata": {},
   "outputs": [
    {
     "data": {
      "text/plain": [
       "(5, 5)"
      ]
     },
     "execution_count": 47,
     "metadata": {},
     "output_type": "execute_result"
    }
   ],
   "source": [
    "arr.reshape(5,5).shape"
   ]
  },
  {
   "cell_type": "markdown",
   "id": "7b091050-4a58-480b-94a2-f7493a17ce07",
   "metadata": {},
   "source": [
    "### dtype\n",
    "\n",
    "You can also grab the data type of the object in the array:"
   ]
  },
  {
   "cell_type": "code",
   "execution_count": 48,
   "id": "d371b7d4-32f2-4973-86a8-d5e868cb1330",
   "metadata": {},
   "outputs": [
    {
     "data": {
      "text/plain": [
       "<memory at 0x1092ac280>"
      ]
     },
     "execution_count": 48,
     "metadata": {},
     "output_type": "execute_result"
    }
   ],
   "source": [
    "arr.data #gives the data location"
   ]
  },
  {
   "cell_type": "code",
   "execution_count": 49,
   "id": "9b02157b-7a03-4f14-a3d7-aa718273d4cc",
   "metadata": {},
   "outputs": [
    {
     "data": {
      "text/plain": [
       "dtype('int64')"
      ]
     },
     "execution_count": 49,
     "metadata": {},
     "output_type": "execute_result"
    }
   ],
   "source": [
    "arr.dtype #gives the data type"
   ]
  },
  {
   "cell_type": "code",
   "execution_count": 50,
   "id": "a7352a2e-86c9-458f-8bbe-8b95c187f3a9",
   "metadata": {},
   "outputs": [
    {
     "data": {
      "text/plain": [
       "dtype('int64')"
      ]
     },
     "execution_count": 50,
     "metadata": {},
     "output_type": "execute_result"
    }
   ],
   "source": [
    "arr2.dtype"
   ]
  },
  {
   "cell_type": "code",
   "execution_count": 51,
   "id": "8eb1e3ac-8bb6-4c9c-a880-c4c84ebca99e",
   "metadata": {},
   "outputs": [],
   "source": [
    "list2 = ['a', 'b' , 'c']"
   ]
  },
  {
   "cell_type": "code",
   "execution_count": 52,
   "id": "7d7e82a7-ee36-49f4-9f24-9ebea92dec39",
   "metadata": {},
   "outputs": [],
   "source": [
    "arr3 = np.array(list2)"
   ]
  },
  {
   "cell_type": "code",
   "execution_count": 53,
   "id": "bda9614e-09de-4396-931e-0c2b9f9529d1",
   "metadata": {},
   "outputs": [
    {
     "data": {
      "text/plain": [
       "dtype('<U1')"
      ]
     },
     "execution_count": 53,
     "metadata": {},
     "output_type": "execute_result"
    }
   ],
   "source": [
    "arr3.dtype"
   ]
  },
  {
   "cell_type": "markdown",
   "id": "4cc291db-d7e0-4838-8986-a403903892a4",
   "metadata": {},
   "source": [
    "# NumPy Indexing and Selection\n",
    "\n",
    " selecting elements or groups of elements from an array."
   ]
  },
  {
   "cell_type": "code",
   "execution_count": 54,
   "id": "8318cb56-90d5-46c8-aafa-d860e2801661",
   "metadata": {},
   "outputs": [],
   "source": [
    "#creating sample array\n",
    "arr4 = np.arange(0,11)"
   ]
  },
  {
   "cell_type": "code",
   "execution_count": 55,
   "id": "905dbf62-294e-42af-a6ae-3181b7ba7338",
   "metadata": {},
   "outputs": [
    {
     "data": {
      "text/plain": [
       "array([ 0,  1,  2,  3,  4,  5,  6,  7,  8,  9, 10])"
      ]
     },
     "execution_count": 55,
     "metadata": {},
     "output_type": "execute_result"
    }
   ],
   "source": [
    "arr4"
   ]
  },
  {
   "cell_type": "markdown",
   "id": "71eadc0e-a8fe-4188-811b-23a6108f7827",
   "metadata": {},
   "source": [
    "## Bracket Indexing and Selection\n",
    "The simplest way to pick one or some elements of an array looks very similar to python lists:"
   ]
  },
  {
   "cell_type": "code",
   "execution_count": 56,
   "id": "23e1daeb-ba09-487f-ab80-676ea590f6c4",
   "metadata": {},
   "outputs": [
    {
     "data": {
      "text/plain": [
       "8"
      ]
     },
     "execution_count": 56,
     "metadata": {},
     "output_type": "execute_result"
    }
   ],
   "source": [
    "arr4[8]"
   ]
  },
  {
   "cell_type": "code",
   "execution_count": 57,
   "id": "69eab904-9ac8-40cf-ba51-1605bfaffa60",
   "metadata": {},
   "outputs": [
    {
     "data": {
      "text/plain": [
       "array([1, 2, 3, 4])"
      ]
     },
     "execution_count": 57,
     "metadata": {},
     "output_type": "execute_result"
    }
   ],
   "source": [
    "arr4[1:5]"
   ]
  },
  {
   "cell_type": "code",
   "execution_count": 58,
   "id": "e795fce7-1819-4399-a1f4-f4bcd119695e",
   "metadata": {},
   "outputs": [
    {
     "data": {
      "text/plain": [
       "array([0, 1, 2, 3, 4])"
      ]
     },
     "execution_count": 58,
     "metadata": {},
     "output_type": "execute_result"
    }
   ],
   "source": [
    "arr4[0:5]"
   ]
  },
  {
   "cell_type": "code",
   "execution_count": 59,
   "id": "9aaa4799-f922-4711-a699-290771443ab3",
   "metadata": {},
   "outputs": [
    {
     "data": {
      "text/plain": [
       "array([ 1,  2,  3,  4,  5,  6,  7,  8,  9, 10])"
      ]
     },
     "execution_count": 59,
     "metadata": {},
     "output_type": "execute_result"
    }
   ],
   "source": [
    "arr4[1:]"
   ]
  },
  {
   "cell_type": "code",
   "execution_count": 60,
   "id": "39cbebb7-09ca-418e-abe8-26fc58af77c4",
   "metadata": {},
   "outputs": [
    {
     "data": {
      "text/plain": [
       "array([0, 1, 2, 3, 4, 5, 6])"
      ]
     },
     "execution_count": 60,
     "metadata": {},
     "output_type": "execute_result"
    }
   ],
   "source": [
    "arr4[:7]"
   ]
  },
  {
   "cell_type": "markdown",
   "id": "1bb9a24e-15c6-47e9-bad9-cf3cba36e1f0",
   "metadata": {},
   "source": [
    "## Broadcasting\n",
    "\n",
    "Numpy arrays differ from a normal Python list because of their ability to broadcast:"
   ]
  },
  {
   "cell_type": "code",
   "execution_count": 61,
   "id": "80da01db-53b1-4d5b-afe2-90d88fb3be8b",
   "metadata": {},
   "outputs": [
    {
     "data": {
      "text/plain": [
       "array([100, 100, 100, 100, 100,   5,   6,   7,   8,   9,  10])"
      ]
     },
     "execution_count": 61,
     "metadata": {},
     "output_type": "execute_result"
    }
   ],
   "source": [
    "#we can change a value in a given range\n",
    "arr4[0:5] = 100\n",
    "\n",
    "arr4"
   ]
  },
  {
   "cell_type": "code",
   "execution_count": 62,
   "id": "31112296-e1f0-4ec9-86ec-dca1b6996950",
   "metadata": {},
   "outputs": [],
   "source": [
    "slice_of_arr = arr4[0:6] #(start : end)"
   ]
  },
  {
   "cell_type": "code",
   "execution_count": 63,
   "id": "0ca3c50c-4a2f-423d-8f86-e6df667c5ff9",
   "metadata": {},
   "outputs": [
    {
     "data": {
      "text/plain": [
       "array([100, 100, 100, 100, 100,   5])"
      ]
     },
     "execution_count": 63,
     "metadata": {},
     "output_type": "execute_result"
    }
   ],
   "source": [
    "slice_of_arr"
   ]
  },
  {
   "cell_type": "code",
   "execution_count": 64,
   "id": "3d7e0ac2-cbe8-46a4-96a8-532e69345321",
   "metadata": {},
   "outputs": [
    {
     "data": {
      "text/plain": [
       "array([99, 99, 99, 99, 99, 99])"
      ]
     },
     "execution_count": 64,
     "metadata": {},
     "output_type": "execute_result"
    }
   ],
   "source": [
    "slice_of_arr[:] = 99\n",
    "slice_of_arr"
   ]
  },
  {
   "cell_type": "code",
   "execution_count": 65,
   "id": "dd66a1dd-6ac1-4f6a-83b9-f45b61b56bf4",
   "metadata": {},
   "outputs": [
    {
     "data": {
      "text/plain": [
       "array([99, 99, 99, 99, 99, 99,  6,  7,  8,  9, 10])"
      ]
     },
     "execution_count": 65,
     "metadata": {},
     "output_type": "execute_result"
    }
   ],
   "source": [
    "arr4 #the changes also occour in the orignal array, no copies of array are made"
   ]
  },
  {
   "cell_type": "code",
   "execution_count": 66,
   "id": "13305ebe-1f66-4dd0-a40c-76baffc76180",
   "metadata": {},
   "outputs": [
    {
     "data": {
      "text/plain": [
       "array([99, 99, 99, 99, 99, 99,  6,  7,  8,  9, 10])"
      ]
     },
     "execution_count": 66,
     "metadata": {},
     "output_type": "execute_result"
    }
   ],
   "source": [
    "#to get a copy, meed to be explicit\n",
    "arr_copy = arr4.copy()\n",
    "\n",
    "arr_copy"
   ]
  },
  {
   "cell_type": "markdown",
   "id": "65ad0e96-635e-45c9-ac1d-4b58adb30320",
   "metadata": {},
   "source": [
    "## Indexing a 2D array (matrices)\n",
    "\n",
    "The general format is **arr_2d[row][col]** or **arr_2d[row,col]**. I recommend usually using the comma notation for clarity."
   ]
  },
  {
   "cell_type": "code",
   "execution_count": 67,
   "id": "6a6e43ed-a195-4160-8a4a-c6b9924df751",
   "metadata": {},
   "outputs": [
    {
     "data": {
      "text/plain": [
       "array([[ 5, 10, 15],\n",
       "       [20, 25, 30],\n",
       "       [35, 40, 45]])"
      ]
     },
     "execution_count": 67,
     "metadata": {},
     "output_type": "execute_result"
    }
   ],
   "source": [
    "arr_2d =np.array(([5,10,15], [20,25,30],[35,40,45]))\n",
    "\n",
    "arr_2d"
   ]
  },
  {
   "cell_type": "code",
   "execution_count": 68,
   "id": "5f4f1d5e-ac3c-4257-ad73-9501aa93dfc6",
   "metadata": {},
   "outputs": [
    {
     "data": {
      "text/plain": [
       "array([20, 25, 30])"
      ]
     },
     "execution_count": 68,
     "metadata": {},
     "output_type": "execute_result"
    }
   ],
   "source": [
    "arr_2d[1]"
   ]
  },
  {
   "cell_type": "code",
   "execution_count": 69,
   "id": "847be237-de1e-4790-9f6a-3bda4646d8f5",
   "metadata": {},
   "outputs": [
    {
     "data": {
      "text/plain": [
       "array([ 5, 10, 15])"
      ]
     },
     "execution_count": 69,
     "metadata": {},
     "output_type": "execute_result"
    }
   ],
   "source": [
    "arr_2d[0]"
   ]
  },
  {
   "cell_type": "code",
   "execution_count": 70,
   "id": "f5d29280-22e1-47f4-b235-7a2944a49468",
   "metadata": {},
   "outputs": [
    {
     "data": {
      "text/plain": [
       "20"
      ]
     },
     "execution_count": 70,
     "metadata": {},
     "output_type": "execute_result"
    }
   ],
   "source": [
    "arr_2d[1][0]"
   ]
  },
  {
   "cell_type": "code",
   "execution_count": 71,
   "id": "0255643d-a75e-4c18-abc8-c40bdf7f8898",
   "metadata": {},
   "outputs": [
    {
     "data": {
      "text/plain": [
       "20"
      ]
     },
     "execution_count": 71,
     "metadata": {},
     "output_type": "execute_result"
    }
   ],
   "source": [
    "arr_2d[1,0] #this is same as above"
   ]
  },
  {
   "cell_type": "markdown",
   "id": "14abf4be-2667-495c-92ce-fbadd0154b97",
   "metadata": {},
   "source": [
    "### 2D array slicing"
   ]
  },
  {
   "cell_type": "code",
   "execution_count": 72,
   "id": "c51a80eb-3fb3-4710-8337-e5f5cd04a918",
   "metadata": {},
   "outputs": [
    {
     "data": {
      "text/plain": [
       "array([[ 5, 10, 15],\n",
       "       [20, 25, 30],\n",
       "       [35, 40, 45]])"
      ]
     },
     "execution_count": 72,
     "metadata": {},
     "output_type": "execute_result"
    }
   ],
   "source": [
    "arr_2d"
   ]
  },
  {
   "cell_type": "code",
   "execution_count": 73,
   "id": "306c6910-4463-440c-b987-e978c67e37c8",
   "metadata": {},
   "outputs": [
    {
     "data": {
      "text/plain": [
       "array([[10, 15],\n",
       "       [25, 30]])"
      ]
     },
     "execution_count": 73,
     "metadata": {},
     "output_type": "execute_result"
    }
   ],
   "source": [
    "arr_2d[:2,1:] #all rows before 2 , and all cols after 1 and also 1"
   ]
  },
  {
   "cell_type": "code",
   "execution_count": 74,
   "id": "ab614b74-ba2f-46b6-97a8-0ed12fcdaf09",
   "metadata": {},
   "outputs": [
    {
     "data": {
      "text/plain": [
       "array([35, 40, 45])"
      ]
     },
     "execution_count": 74,
     "metadata": {},
     "output_type": "execute_result"
    }
   ],
   "source": [
    "arr_2d[2]"
   ]
  },
  {
   "cell_type": "code",
   "execution_count": 75,
   "id": "e193ebdc-e852-4521-b20b-7d7b510e081e",
   "metadata": {},
   "outputs": [
    {
     "data": {
      "text/plain": [
       "array([35, 40, 45])"
      ]
     },
     "execution_count": 75,
     "metadata": {},
     "output_type": "execute_result"
    }
   ],
   "source": [
    "arr_2d[2, :]"
   ]
  },
  {
   "cell_type": "code",
   "execution_count": 76,
   "id": "5072e26c-c262-461f-9521-1b3c34cb6d09",
   "metadata": {},
   "outputs": [
    {
     "data": {
      "text/plain": [
       "array([10, 25, 40])"
      ]
     },
     "execution_count": 76,
     "metadata": {},
     "output_type": "execute_result"
    }
   ],
   "source": [
    "arr_2d[ :,1]"
   ]
  },
  {
   "cell_type": "markdown",
   "id": "0b4017a4-f06c-4e51-a621-e737a9175494",
   "metadata": {},
   "source": [
    "### Fancy Indexing\n",
    "\n",
    "Fancy indexing allows you to select entire rows or columns out of order,to show this, let's quickly build out a numpy array:"
   ]
  },
  {
   "cell_type": "code",
   "execution_count": 77,
   "id": "bb24db81-713c-4199-878c-f79d01503942",
   "metadata": {},
   "outputs": [],
   "source": [
    "arr2d = np.zeros((10,10))"
   ]
  },
  {
   "cell_type": "code",
   "execution_count": 78,
   "id": "943d888f-ef73-4c2a-8819-eb1aaf51446f",
   "metadata": {},
   "outputs": [
    {
     "data": {
      "text/plain": [
       "(10, 10)"
      ]
     },
     "execution_count": 78,
     "metadata": {},
     "output_type": "execute_result"
    }
   ],
   "source": [
    "arr2d.shape"
   ]
  },
  {
   "cell_type": "code",
   "execution_count": 98,
   "id": "2f0ddf3c-1fc3-4ceb-8ff8-1758cda0d714",
   "metadata": {},
   "outputs": [],
   "source": [
    "arr_length = arr2d.shape[1]"
   ]
  },
  {
   "cell_type": "code",
   "execution_count": 99,
   "id": "52995cf7-41d0-4cd9-8be0-5f5c892b74a2",
   "metadata": {},
   "outputs": [
    {
     "data": {
      "text/plain": [
       "array([[0., 0., 0., 0., 0., 0., 0., 0., 0., 0.],\n",
       "       [0., 0., 0., 0., 0., 0., 0., 0., 0., 0.],\n",
       "       [0., 0., 0., 0., 0., 0., 0., 0., 0., 0.],\n",
       "       [0., 0., 0., 0., 0., 0., 0., 0., 0., 0.],\n",
       "       [0., 0., 0., 0., 0., 0., 0., 0., 0., 0.],\n",
       "       [0., 0., 0., 0., 0., 0., 0., 0., 0., 0.],\n",
       "       [0., 0., 0., 0., 0., 0., 0., 0., 0., 0.],\n",
       "       [0., 0., 0., 0., 0., 0., 0., 0., 0., 0.],\n",
       "       [0., 0., 0., 0., 0., 0., 0., 0., 0., 0.],\n",
       "       [0., 0., 0., 0., 0., 0., 0., 0., 0., 0.]])"
      ]
     },
     "execution_count": 99,
     "metadata": {},
     "output_type": "execute_result"
    }
   ],
   "source": [
    "arr2d"
   ]
  },
  {
   "cell_type": "code",
   "execution_count": 100,
   "id": "45475118-2576-412a-aefe-34dd08909ca1",
   "metadata": {},
   "outputs": [
    {
     "data": {
      "text/plain": [
       "array([[0., 0., 0., 0., 0., 0., 0., 0., 0., 0.],\n",
       "       [1., 1., 1., 1., 1., 1., 1., 1., 1., 1.],\n",
       "       [2., 2., 2., 2., 2., 2., 2., 2., 2., 2.],\n",
       "       [3., 3., 3., 3., 3., 3., 3., 3., 3., 3.],\n",
       "       [4., 4., 4., 4., 4., 4., 4., 4., 4., 4.],\n",
       "       [5., 5., 5., 5., 5., 5., 5., 5., 5., 5.],\n",
       "       [6., 6., 6., 6., 6., 6., 6., 6., 6., 6.],\n",
       "       [7., 7., 7., 7., 7., 7., 7., 7., 7., 7.],\n",
       "       [8., 8., 8., 8., 8., 8., 8., 8., 8., 8.],\n",
       "       [9., 9., 9., 9., 9., 9., 9., 9., 9., 9.]])"
      ]
     },
     "execution_count": 100,
     "metadata": {},
     "output_type": "execute_result"
    }
   ],
   "source": [
    "\n",
    "for i in range(arr_length):\n",
    "    arr2d[i] = i\n",
    "\n",
    "arr2d"
   ]
  },
  {
   "cell_type": "code",
   "execution_count": 101,
   "id": "71176268-41b1-4cfc-87a8-1f5237ec0b57",
   "metadata": {},
   "outputs": [
    {
     "data": {
      "text/plain": [
       "array([[2., 2., 2., 2., 2., 2., 2., 2., 2., 2.],\n",
       "       [4., 4., 4., 4., 4., 4., 4., 4., 4., 4.],\n",
       "       [6., 6., 6., 6., 6., 6., 6., 6., 6., 6.],\n",
       "       [8., 8., 8., 8., 8., 8., 8., 8., 8., 8.],\n",
       "       [9., 9., 9., 9., 9., 9., 9., 9., 9., 9.]])"
      ]
     },
     "execution_count": 101,
     "metadata": {},
     "output_type": "execute_result"
    }
   ],
   "source": [
    "arr2d[[2,4,6,8,9]] #this is fancy indexing"
   ]
  },
  {
   "cell_type": "code",
   "execution_count": 102,
   "id": "be7bb73f-2ca4-4964-bbe9-51988bb17b89",
   "metadata": {},
   "outputs": [
    {
     "data": {
      "text/plain": [
       "array([[6., 6., 6., 6., 6., 6., 6., 6., 6., 6.],\n",
       "       [5., 5., 5., 5., 5., 5., 5., 5., 5., 5.],\n",
       "       [2., 2., 2., 2., 2., 2., 2., 2., 2., 2.],\n",
       "       [0., 0., 0., 0., 0., 0., 0., 0., 0., 0.]])"
      ]
     },
     "execution_count": 102,
     "metadata": {},
     "output_type": "execute_result"
    }
   ],
   "source": [
    "arr2d[[6,5,2,0]] #order does not matter"
   ]
  },
  {
   "cell_type": "markdown",
   "id": "56b7371e-1df2-4fcb-9e54-c4110595e254",
   "metadata": {},
   "source": [
    "## Selection\n",
    "\n",
    " use of brackets for selection based off of comparison operators."
   ]
  },
  {
   "cell_type": "code",
   "execution_count": 103,
   "id": "5f5b4f38-c092-408e-b892-1c5ea6cb1d11",
   "metadata": {},
   "outputs": [
    {
     "data": {
      "text/plain": [
       "array([ 1,  2,  3,  4,  5,  6,  7,  8,  9, 10])"
      ]
     },
     "execution_count": 103,
     "metadata": {},
     "output_type": "execute_result"
    }
   ],
   "source": [
    "arr5 = np.arange(1,11)\n",
    "arr5"
   ]
  },
  {
   "cell_type": "code",
   "execution_count": 104,
   "id": "944dec32-686c-4079-9fa7-fcd0e7868445",
   "metadata": {},
   "outputs": [
    {
     "data": {
      "text/plain": [
       "array([False, False, False, False, False,  True,  True,  True,  True,\n",
       "        True])"
      ]
     },
     "execution_count": 104,
     "metadata": {},
     "output_type": "execute_result"
    }
   ],
   "source": [
    "arr5 > 5 #gives a boolean array "
   ]
  },
  {
   "cell_type": "code",
   "execution_count": 105,
   "id": "18a75816-9c12-4e1d-9025-208c53dc8cc2",
   "metadata": {},
   "outputs": [],
   "source": [
    "bool_arr = arr>7"
   ]
  },
  {
   "cell_type": "code",
   "execution_count": 106,
   "id": "8a581928-55fa-4122-a912-886c8c7aecea",
   "metadata": {},
   "outputs": [
    {
     "data": {
      "text/plain": [
       "array([False, False, False, False, False, False, False, False,  True,\n",
       "        True,  True,  True,  True,  True,  True,  True,  True,  True,\n",
       "        True,  True,  True,  True,  True,  True,  True])"
      ]
     },
     "execution_count": 106,
     "metadata": {},
     "output_type": "execute_result"
    }
   ],
   "source": [
    "bool_arr"
   ]
  },
  {
   "cell_type": "code",
   "execution_count": 107,
   "id": "8b151d7c-71a4-4a27-b378-101251489590",
   "metadata": {},
   "outputs": [
    {
     "data": {
      "text/plain": [
       "array([ 8,  9, 10, 11, 12, 13, 14, 15, 16, 17, 18, 19, 20, 21, 22, 23, 24])"
      ]
     },
     "execution_count": 107,
     "metadata": {},
     "output_type": "execute_result"
    }
   ],
   "source": [
    "arr[bool_arr]"
   ]
  },
  {
   "cell_type": "code",
   "execution_count": 108,
   "id": "c6e64864-275d-4b83-89b6-1d92e0b97373",
   "metadata": {},
   "outputs": [
    {
     "data": {
      "text/plain": [
       "array([ 3,  4,  5,  6,  7,  8,  9, 10, 11, 12, 13, 14, 15, 16, 17, 18, 19,\n",
       "       20, 21, 22, 23, 24])"
      ]
     },
     "execution_count": 108,
     "metadata": {},
     "output_type": "execute_result"
    }
   ],
   "source": [
    "arr[arr>2]"
   ]
  },
  {
   "cell_type": "code",
   "execution_count": 109,
   "id": "19a6a9bb-0953-4e71-abbf-8b68d8e63515",
   "metadata": {},
   "outputs": [
    {
     "data": {
      "text/plain": [
       "array([ 9, 10, 11, 12, 13, 14, 15, 16, 17, 18, 19, 20, 21, 22, 23, 24])"
      ]
     },
     "execution_count": 109,
     "metadata": {},
     "output_type": "execute_result"
    }
   ],
   "source": [
    "x = 8\n",
    "arr[arr>x]"
   ]
  },
  {
   "cell_type": "markdown",
   "id": "e9cd8bed-c869-48bb-8caf-653dff60c29a",
   "metadata": {},
   "source": [
    "# NumPy Operations"
   ]
  },
  {
   "cell_type": "markdown",
   "id": "17687bb5-38a9-4b25-beec-e3f40e57e99d",
   "metadata": {},
   "source": [
    "## Arithmetic\n",
    "\n",
    "You can easily perform array with array arithmetic, or scalar with array arithmetic. Let's see some examples:"
   ]
  },
  {
   "cell_type": "code",
   "execution_count": 110,
   "id": "bac3cf84-196d-4fed-a411-7686b702f874",
   "metadata": {},
   "outputs": [
    {
     "data": {
      "text/plain": [
       "array([ 0,  1,  2,  3,  4,  5,  6,  7,  8,  9, 10, 11, 12, 13, 14, 15, 16,\n",
       "       17, 18, 19])"
      ]
     },
     "execution_count": 110,
     "metadata": {},
     "output_type": "execute_result"
    }
   ],
   "source": [
    "arr6 = np.arange(0,20)\n",
    "arr6"
   ]
  },
  {
   "cell_type": "code",
   "execution_count": 111,
   "id": "48383f53-d0db-49de-b9d4-104e79cc72ac",
   "metadata": {},
   "outputs": [
    {
     "data": {
      "text/plain": [
       "array([ 0,  2,  4,  6,  8, 10, 12, 14, 16, 18, 20, 22, 24, 26, 28, 30, 32,\n",
       "       34, 36, 38])"
      ]
     },
     "execution_count": 111,
     "metadata": {},
     "output_type": "execute_result"
    }
   ],
   "source": [
    "arr6 + arr6"
   ]
  },
  {
   "cell_type": "code",
   "execution_count": 112,
   "id": "a32a212b-dd9e-402a-84e9-eaee9496a819",
   "metadata": {},
   "outputs": [],
   "source": [
    "arr7 = np.arange(120,140)"
   ]
  },
  {
   "cell_type": "code",
   "execution_count": 113,
   "id": "d6723c29-60b7-48e1-a8a2-a653f7c1ce1c",
   "metadata": {},
   "outputs": [
    {
     "data": {
      "text/plain": [
       "array([120, 122, 124, 126, 128, 130, 132, 134, 136, 138, 140, 142, 144,\n",
       "       146, 148, 150, 152, 154, 156, 158])"
      ]
     },
     "execution_count": 113,
     "metadata": {},
     "output_type": "execute_result"
    }
   ],
   "source": [
    "arr6 + arr7 #the dimentions should be same"
   ]
  },
  {
   "cell_type": "code",
   "execution_count": 114,
   "id": "37502fbe-6340-4412-9eab-be00c9a348c3",
   "metadata": {},
   "outputs": [
    {
     "data": {
      "text/plain": [
       "array([   0,  121,  244,  369,  496,  625,  756,  889, 1024, 1161, 1300,\n",
       "       1441, 1584, 1729, 1876, 2025, 2176, 2329, 2484, 2641])"
      ]
     },
     "execution_count": 114,
     "metadata": {},
     "output_type": "execute_result"
    }
   ],
   "source": [
    "arr6 * arr7"
   ]
  },
  {
   "cell_type": "code",
   "execution_count": 115,
   "id": "135c26aa-307d-4e97-ba1b-bff132ca613a",
   "metadata": {},
   "outputs": [
    {
     "data": {
      "text/plain": [
       "array([-120, -120, -120, -120, -120, -120, -120, -120, -120, -120, -120,\n",
       "       -120, -120, -120, -120, -120, -120, -120, -120, -120])"
      ]
     },
     "execution_count": 115,
     "metadata": {},
     "output_type": "execute_result"
    }
   ],
   "source": [
    "arr6 - arr7"
   ]
  },
  {
   "cell_type": "code",
   "execution_count": 116,
   "id": "52ad117c-7eef-46f2-9b93-f70fef80eeb5",
   "metadata": {},
   "outputs": [
    {
     "name": "stderr",
     "output_type": "stream",
     "text": [
      "/var/folders/hl/hf60khhn7ll1g11lwbjr00sw0000gn/T/ipykernel_77267/3781836516.py:3: RuntimeWarning: invalid value encountered in divide\n",
      "  arr6/arr6\n"
     ]
    },
    {
     "data": {
      "text/plain": [
       "array([nan,  1.,  1.,  1.,  1.,  1.,  1.,  1.,  1.,  1.,  1.,  1.,  1.,\n",
       "        1.,  1.,  1.,  1.,  1.,  1.,  1.])"
      ]
     },
     "execution_count": 116,
     "metadata": {},
     "output_type": "execute_result"
    }
   ],
   "source": [
    "# Warning on division by zero, but not an error!\n",
    "# Just replaced with nan\n",
    "arr6/arr6"
   ]
  },
  {
   "cell_type": "code",
   "execution_count": 117,
   "id": "9e92c4dd-d4e1-4421-bc3b-a1241d17485f",
   "metadata": {},
   "outputs": [
    {
     "name": "stderr",
     "output_type": "stream",
     "text": [
      "/var/folders/hl/hf60khhn7ll1g11lwbjr00sw0000gn/T/ipykernel_77267/3180675830.py:1: RuntimeWarning: divide by zero encountered in divide\n",
      "  1/arr6\n"
     ]
    },
    {
     "data": {
      "text/plain": [
       "array([       inf, 1.        , 0.5       , 0.33333333, 0.25      ,\n",
       "       0.2       , 0.16666667, 0.14285714, 0.125     , 0.11111111,\n",
       "       0.1       , 0.09090909, 0.08333333, 0.07692308, 0.07142857,\n",
       "       0.06666667, 0.0625    , 0.05882353, 0.05555556, 0.05263158])"
      ]
     },
     "execution_count": 117,
     "metadata": {},
     "output_type": "execute_result"
    }
   ],
   "source": [
    "1/arr6"
   ]
  },
  {
   "cell_type": "code",
   "execution_count": 118,
   "id": "2ef92aa7-b63b-47f6-93e1-932baafecb10",
   "metadata": {},
   "outputs": [
    {
     "data": {
      "text/plain": [
       "array([     0,      1,     16,     81,    256,    625,   1296,   2401,\n",
       "         4096,   6561,  10000,  14641,  20736,  28561,  38416,  50625,\n",
       "        65536,  83521, 104976, 130321])"
      ]
     },
     "execution_count": 118,
     "metadata": {},
     "output_type": "execute_result"
    }
   ],
   "source": [
    "arr6 ** 4"
   ]
  },
  {
   "cell_type": "code",
   "execution_count": 119,
   "id": "aad3064a-87d5-4dd9-b7a0-2d782094fd0f",
   "metadata": {},
   "outputs": [
    {
     "data": {
      "text/plain": [
       "array([                   0,                    1,                    0,\n",
       "        4137309267128563259,                    0,   592528690091790037,\n",
       "                          0, -7819604518968614473,                    0,\n",
       "        7103118512662025225,                    0, -3910812743174723789,\n",
       "                          0, -3172606404390435747,                    0,\n",
       "         278851996148032367,                    0,  1476716623258430609,\n",
       "                          0, -8179174654339325141])"
      ]
     },
     "execution_count": 119,
     "metadata": {},
     "output_type": "execute_result"
    }
   ],
   "source": [
    "arr6 ** arr7"
   ]
  },
  {
   "cell_type": "markdown",
   "id": "0d55cb39-ecec-44b8-a82a-ff234a87bb65",
   "metadata": {},
   "source": [
    "## Universal Array Functions\n",
    "\n",
    "Numpy comes with many [universal array functions](http://docs.scipy.org/doc/numpy/reference/ufuncs.html), which are essentially just mathematical operations you can use to perform the operation across the array. Let's show some common ones:"
   ]
  },
  {
   "cell_type": "code",
   "execution_count": 120,
   "id": "b1ce5b18-cc2a-4a87-ab19-bd82f671e216",
   "metadata": {},
   "outputs": [
    {
     "data": {
      "text/plain": [
       "array([0.        , 1.        , 1.41421356, 1.73205081, 2.        ,\n",
       "       2.23606798, 2.44948974, 2.64575131, 2.82842712, 3.        ,\n",
       "       3.16227766, 3.31662479, 3.46410162, 3.60555128, 3.74165739,\n",
       "       3.87298335, 4.        , 4.12310563, 4.24264069, 4.35889894])"
      ]
     },
     "execution_count": 120,
     "metadata": {},
     "output_type": "execute_result"
    }
   ],
   "source": [
    "np.sqrt(arr6)"
   ]
  },
  {
   "cell_type": "code",
   "execution_count": 121,
   "id": "cd591bd9-58c8-4201-89bf-7101591f34f6",
   "metadata": {},
   "outputs": [
    {
     "data": {
      "text/plain": [
       "array([1.00000000e+00, 2.71828183e+00, 7.38905610e+00, 2.00855369e+01,\n",
       "       5.45981500e+01, 1.48413159e+02, 4.03428793e+02, 1.09663316e+03,\n",
       "       2.98095799e+03, 8.10308393e+03, 2.20264658e+04, 5.98741417e+04,\n",
       "       1.62754791e+05, 4.42413392e+05, 1.20260428e+06, 3.26901737e+06,\n",
       "       8.88611052e+06, 2.41549528e+07, 6.56599691e+07, 1.78482301e+08])"
      ]
     },
     "execution_count": 121,
     "metadata": {},
     "output_type": "execute_result"
    }
   ],
   "source": [
    "np.exp(arr6)"
   ]
  },
  {
   "cell_type": "code",
   "execution_count": 122,
   "id": "25329a3c-86d0-4959-8ba3-47835a63e872",
   "metadata": {},
   "outputs": [
    {
     "data": {
      "text/plain": [
       "array([ 0.        ,  0.84147098,  0.90929743,  0.14112001, -0.7568025 ,\n",
       "       -0.95892427, -0.2794155 ,  0.6569866 ,  0.98935825,  0.41211849,\n",
       "       -0.54402111, -0.99999021, -0.53657292,  0.42016704,  0.99060736,\n",
       "        0.65028784, -0.28790332, -0.96139749, -0.75098725,  0.14987721])"
      ]
     },
     "execution_count": 122,
     "metadata": {},
     "output_type": "execute_result"
    }
   ],
   "source": [
    "np.sin(arr6)"
   ]
  },
  {
   "cell_type": "code",
   "execution_count": 123,
   "id": "4a627dbb-247e-45a7-9d76-0c067e71f631",
   "metadata": {},
   "outputs": [
    {
     "data": {
      "text/plain": [
       "array([ 1.        ,  0.54030231, -0.41614684, -0.9899925 , -0.65364362,\n",
       "        0.28366219,  0.96017029,  0.75390225, -0.14550003, -0.91113026,\n",
       "       -0.83907153,  0.0044257 ,  0.84385396,  0.90744678,  0.13673722,\n",
       "       -0.75968791, -0.95765948, -0.27516334,  0.66031671,  0.98870462])"
      ]
     },
     "execution_count": 123,
     "metadata": {},
     "output_type": "execute_result"
    }
   ],
   "source": [
    "np.cos(arr6)"
   ]
  },
  {
   "cell_type": "code",
   "execution_count": 125,
   "id": "385203c4-d62a-442b-ae5c-4ff729a0417d",
   "metadata": {},
   "outputs": [
    {
     "name": "stderr",
     "output_type": "stream",
     "text": [
      "/var/folders/hl/hf60khhn7ll1g11lwbjr00sw0000gn/T/ipykernel_77267/3307335837.py:1: RuntimeWarning: divide by zero encountered in log\n",
      "  np.log(arr6)\n"
     ]
    },
    {
     "data": {
      "text/plain": [
       "array([      -inf, 0.        , 0.69314718, 1.09861229, 1.38629436,\n",
       "       1.60943791, 1.79175947, 1.94591015, 2.07944154, 2.19722458,\n",
       "       2.30258509, 2.39789527, 2.48490665, 2.56494936, 2.63905733,\n",
       "       2.7080502 , 2.77258872, 2.83321334, 2.89037176, 2.94443898])"
      ]
     },
     "execution_count": 125,
     "metadata": {},
     "output_type": "execute_result"
    }
   ],
   "source": [
    "np.log(arr6)"
   ]
  },
  {
   "cell_type": "code",
   "execution_count": 126,
   "id": "dde9e9a1-2671-484c-8cdc-bd91bb31d3f4",
   "metadata": {},
   "outputs": [
    {
     "data": {
      "text/plain": [
       "array([1.56246319, 1.56253205, 1.56259979, 1.56266642, 1.56273199,\n",
       "       1.5627965 , 1.56285999, 1.56292247, 1.56298399, 1.56304454,\n",
       "       1.56310417, 1.56316289, 1.56322071, 1.56327767, 1.56333378,\n",
       "       1.56338905, 1.56344352, 1.56349719, 1.56355008, 1.56360221])"
      ]
     },
     "execution_count": 126,
     "metadata": {},
     "output_type": "execute_result"
    }
   ],
   "source": [
    "np.arctan(arr7)"
   ]
  },
  {
   "cell_type": "markdown",
   "id": "fd253f04-faae-46da-912d-79c9692e415f",
   "metadata": {},
   "source": [
    "## ------------ ** ------------------------------- ** -----------------"
   ]
  },
  {
   "cell_type": "code",
   "execution_count": null,
   "id": "43d599fa-94d5-4929-b3a8-dfd468df930a",
   "metadata": {},
   "outputs": [],
   "source": []
  }
 ],
 "metadata": {
  "kernelspec": {
   "display_name": "Python 3 (ipykernel)",
   "language": "python",
   "name": "python3"
  },
  "language_info": {
   "codemirror_mode": {
    "name": "ipython",
    "version": 3
   },
   "file_extension": ".py",
   "mimetype": "text/x-python",
   "name": "python",
   "nbconvert_exporter": "python",
   "pygments_lexer": "ipython3",
   "version": "3.11.5"
  }
 },
 "nbformat": 4,
 "nbformat_minor": 5
}
