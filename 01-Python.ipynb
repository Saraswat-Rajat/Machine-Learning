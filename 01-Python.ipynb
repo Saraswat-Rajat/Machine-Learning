{
 "cells": [
  {
   "cell_type": "markdown",
   "id": "c2558a49-1bca-4ec4-836c-7012e6c5023e",
   "metadata": {},
   "source": [
    "# Python Crash Course"
   ]
  },
  {
   "cell_type": "markdown",
   "id": "04ae5ae6-0b5c-4316-b8f6-a17811aa1f2f",
   "metadata": {},
   "source": [
    "#### This notebook will just go through the basic topics in order:\n",
    "\n",
    "- Intro\n",
    "- Data types\n",
    "    - Numbers\n",
    "    - Strings\n",
    "    - Printing\n",
    "    - Lists\n",
    "    - Dictionaries\n",
    "    - Booleans\n",
    "    - Tuples\n",
    "    - Sets\n",
    "- Comparison Operators\n",
    "- if, elif, else Statements\n",
    "- for Loops\n",
    "- while Loops\n",
    "- range()\n",
    "- list comprehension\n",
    "- functions\n",
    "- lambda expressions\n",
    "- map and filter\n",
    "- methods"
   ]
  },
  {
   "cell_type": "markdown",
   "id": "c9a47dda-98ae-4522-bb03-fd58606f5730",
   "metadata": {},
   "source": [
    "## Intro"
   ]
  },
  {
   "cell_type": "markdown",
   "id": "124e221b-7168-4373-8747-f0939b97419a",
   "metadata": {},
   "source": [
    "##### Python is a dynamically types, single threaded, interpreted language"
   ]
  },
  {
   "cell_type": "markdown",
   "id": "18a7d88c-4e88-473b-bf20-33630e28ff64",
   "metadata": {},
   "source": [
    "##### Python is a high level language with a fairly simple syntax"
   ]
  },
  {
   "cell_type": "code",
   "execution_count": 7,
   "id": "125366e3-a214-4f6e-ae5d-e0d42ece08d0",
   "metadata": {},
   "outputs": [
    {
     "name": "stdout",
     "output_type": "stream",
     "text": [
      "3\n"
     ]
    }
   ],
   "source": [
    "print(3)"
   ]
  },
  {
   "cell_type": "code",
   "execution_count": 8,
   "id": "774a3325-37cd-46f8-8f32-bb2611254b34",
   "metadata": {},
   "outputs": [
    {
     "name": "stdout",
     "output_type": "stream",
     "text": [
      "Hello World\n"
     ]
    }
   ],
   "source": [
    "print('Hello World')"
   ]
  },
  {
   "cell_type": "code",
   "execution_count": 9,
   "id": "3072c614-1aac-4266-ba02-48629457a3e1",
   "metadata": {},
   "outputs": [
    {
     "name": "stdout",
     "output_type": "stream",
     "text": [
      "True\n"
     ]
    }
   ],
   "source": [
    "print(True)"
   ]
  },
  {
   "cell_type": "code",
   "execution_count": 10,
   "id": "040d74e7-4352-45b3-8b89-de1d064c1d80",
   "metadata": {},
   "outputs": [
    {
     "name": "stdout",
     "output_type": "stream",
     "text": [
      "True\n"
     ]
    }
   ],
   "source": [
    "print(3 == 3)"
   ]
  },
  {
   "cell_type": "markdown",
   "id": "6acc6b19-b375-418c-a1cb-506ac48813df",
   "metadata": {},
   "source": [
    "## Data Types"
   ]
  },
  {
   "cell_type": "markdown",
   "id": "d485a00c-b890-484a-9ac5-4e2f4d6cc08c",
   "metadata": {},
   "source": [
    "### Numbers"
   ]
  },
  {
   "cell_type": "code",
   "execution_count": 11,
   "id": "6f09239a-efd7-457f-9818-c629b1bce404",
   "metadata": {},
   "outputs": [
    {
     "data": {
      "text/plain": [
       "2"
      ]
     },
     "execution_count": 11,
     "metadata": {},
     "output_type": "execute_result"
    }
   ],
   "source": [
    "1 + 1"
   ]
  },
  {
   "cell_type": "code",
   "execution_count": 12,
   "id": "06502056-a1b7-441b-a599-391094afd658",
   "metadata": {},
   "outputs": [
    {
     "data": {
      "text/plain": [
       "6"
      ]
     },
     "execution_count": 12,
     "metadata": {},
     "output_type": "execute_result"
    }
   ],
   "source": [
    "1 + 2 + 3"
   ]
  },
  {
   "cell_type": "code",
   "execution_count": 13,
   "id": "27026061-22fd-4d6b-b5ae-c0e4e87630a4",
   "metadata": {},
   "outputs": [
    {
     "data": {
      "text/plain": [
       "2"
      ]
     },
     "execution_count": 13,
     "metadata": {},
     "output_type": "execute_result"
    }
   ],
   "source": [
    "4 - 2"
   ]
  },
  {
   "cell_type": "code",
   "execution_count": 14,
   "id": "7934d8d9-cd7c-47ad-9cb5-958412747628",
   "metadata": {},
   "outputs": [
    {
     "data": {
      "text/plain": [
       "-2"
      ]
     },
     "execution_count": 14,
     "metadata": {},
     "output_type": "execute_result"
    }
   ],
   "source": [
    "2 - 4"
   ]
  },
  {
   "cell_type": "code",
   "execution_count": 15,
   "id": "266c939e-8557-4f6c-bcf8-142a522d5f8b",
   "metadata": {},
   "outputs": [
    {
     "data": {
      "text/plain": [
       "21"
      ]
     },
     "execution_count": 15,
     "metadata": {},
     "output_type": "execute_result"
    }
   ],
   "source": [
    "3 * 7"
   ]
  },
  {
   "cell_type": "code",
   "execution_count": 16,
   "id": "a3fda802-02f1-41ee-adf9-7d085d7427ec",
   "metadata": {},
   "outputs": [
    {
     "data": {
      "text/plain": [
       "2.5"
      ]
     },
     "execution_count": 16,
     "metadata": {},
     "output_type": "execute_result"
    }
   ],
   "source": [
    "5 / 2"
   ]
  },
  {
   "cell_type": "code",
   "execution_count": 17,
   "id": "6ab3e18c-8edf-4eb8-b589-d088bb385c48",
   "metadata": {},
   "outputs": [
    {
     "data": {
      "text/plain": [
       "2"
      ]
     },
     "execution_count": 17,
     "metadata": {},
     "output_type": "execute_result"
    }
   ],
   "source": [
    "5//2 #used for integer division"
   ]
  },
  {
   "cell_type": "markdown",
   "id": "104f26e6-cde3-4c53-9931-56e0b30c5889",
   "metadata": {},
   "source": [
    "##### python 3, promotes floating division as default"
   ]
  },
  {
   "cell_type": "code",
   "execution_count": 18,
   "id": "0310e9f8-c4da-489b-9ecf-bdbe05992dba",
   "metadata": {},
   "outputs": [
    {
     "data": {
      "text/plain": [
       "8"
      ]
     },
     "execution_count": 18,
     "metadata": {},
     "output_type": "execute_result"
    }
   ],
   "source": [
    "2 ** 3"
   ]
  },
  {
   "cell_type": "code",
   "execution_count": 19,
   "id": "6fd3c68a-ec2e-441b-9f93-350bee38f6ac",
   "metadata": {},
   "outputs": [
    {
     "data": {
      "text/plain": [
       "0"
      ]
     },
     "execution_count": 19,
     "metadata": {},
     "output_type": "execute_result"
    }
   ],
   "source": [
    "4 % 2"
   ]
  },
  {
   "cell_type": "code",
   "execution_count": 20,
   "id": "e5463938-7058-4f31-aede-6a4e2fb6037a",
   "metadata": {},
   "outputs": [
    {
     "data": {
      "text/plain": [
       "1"
      ]
     },
     "execution_count": 20,
     "metadata": {},
     "output_type": "execute_result"
    }
   ],
   "source": [
    "4 % 3"
   ]
  },
  {
   "cell_type": "code",
   "execution_count": 21,
   "id": "0af81ef0-724c-4c7e-83fb-4b07cbc37b8f",
   "metadata": {},
   "outputs": [
    {
     "data": {
      "text/plain": [
       "20"
      ]
     },
     "execution_count": 21,
     "metadata": {},
     "output_type": "execute_result"
    }
   ],
   "source": [
    "2 + 3 * 5 + 3"
   ]
  },
  {
   "cell_type": "markdown",
   "id": "f9582fa4-8a7c-42c4-8602-b808aabbb27b",
   "metadata": {},
   "source": [
    "##### python uses BODMAS rule in mathematical expressions"
   ]
  },
  {
   "cell_type": "code",
   "execution_count": 22,
   "id": "240fc4a5-6bb5-44ce-ab5c-13b5dfb37f98",
   "metadata": {},
   "outputs": [
    {
     "data": {
      "text/plain": [
       "55"
      ]
     },
     "execution_count": 22,
     "metadata": {},
     "output_type": "execute_result"
    }
   ],
   "source": [
    "(2 + 3) * (2 + 9)"
   ]
  },
  {
   "cell_type": "markdown",
   "id": "1276a364-b104-4116-8a34-a925fb04a320",
   "metadata": {},
   "source": [
    "### Variable assignment"
   ]
  },
  {
   "cell_type": "code",
   "execution_count": 23,
   "id": "ef00b893-0311-4742-85d5-e394ada0a5b9",
   "metadata": {},
   "outputs": [],
   "source": [
    "name_of_var = 3"
   ]
  },
  {
   "cell_type": "markdown",
   "id": "1e4a4e5f-6c25-4ccd-b3d1-e190e44979f0",
   "metadata": {},
   "source": [
    "##### Variable name:\n",
    "    - Must not start with number or special character\n",
    "    - Must not have spaces or other characters\n",
    "    - Must have meaningful names\n",
    "    - Must not be a predefined name in python(e.g. print , def, range etc.)"
   ]
  },
  {
   "cell_type": "code",
   "execution_count": 24,
   "id": "f70de073-8da2-43c0-87b2-6e420113d08c",
   "metadata": {},
   "outputs": [],
   "source": [
    "x = 3\n",
    "y = 5"
   ]
  },
  {
   "cell_type": "code",
   "execution_count": 25,
   "id": "111e016d-2fae-4d5f-9dbf-8540349b7b0d",
   "metadata": {},
   "outputs": [],
   "source": [
    "z = x + y"
   ]
  },
  {
   "cell_type": "code",
   "execution_count": 26,
   "id": "3dd942cb-5846-49ae-9bd4-a9c3686bc599",
   "metadata": {},
   "outputs": [
    {
     "data": {
      "text/plain": [
       "8"
      ]
     },
     "execution_count": 26,
     "metadata": {},
     "output_type": "execute_result"
    }
   ],
   "source": [
    "z"
   ]
  },
  {
   "cell_type": "code",
   "execution_count": 27,
   "id": "ab910f0f-8d15-493b-b59f-43a88497ce7d",
   "metadata": {},
   "outputs": [
    {
     "name": "stdout",
     "output_type": "stream",
     "text": [
      "8\n"
     ]
    }
   ],
   "source": [
    "print(z)"
   ]
  },
  {
   "cell_type": "markdown",
   "id": "f68ba89e-b93c-410e-8de8-6a82f469bcf1",
   "metadata": {},
   "source": [
    "##### both the above cells do the same functioning"
   ]
  },
  {
   "cell_type": "code",
   "execution_count": 28,
   "id": "cd12e936-7f7b-4ea9-8726-49792a624293",
   "metadata": {},
   "outputs": [
    {
     "name": "stdout",
     "output_type": "stream",
     "text": [
      "30\n"
     ]
    }
   ],
   "source": [
    "x = x + 2\n",
    "x = x + x * x\n",
    "print(x)"
   ]
  },
  {
   "cell_type": "code",
   "execution_count": 29,
   "id": "4bfa4650-cc9a-4795-8b90-5c27e281188c",
   "metadata": {},
   "outputs": [
    {
     "name": "stdout",
     "output_type": "stream",
     "text": [
      "12.0\n"
     ]
    }
   ],
   "source": [
    "y = x / y\n",
    "print(2*y)"
   ]
  },
  {
   "cell_type": "markdown",
   "id": "1269dae6-bd3b-4ded-ae73-1bc2cd0effed",
   "metadata": {},
   "source": [
    "### Strings"
   ]
  },
  {
   "cell_type": "code",
   "execution_count": 30,
   "id": "69a976a9-7107-4cef-a6c4-3e0d51b992a8",
   "metadata": {},
   "outputs": [
    {
     "data": {
      "text/plain": [
       "'Single Quotes'"
      ]
     },
     "execution_count": 30,
     "metadata": {},
     "output_type": "execute_result"
    }
   ],
   "source": [
    "'Single Quotes'"
   ]
  },
  {
   "cell_type": "code",
   "execution_count": 31,
   "id": "7f7b59bd-13e2-4ceb-a449-70e9a19c5f38",
   "metadata": {},
   "outputs": [
    {
     "data": {
      "text/plain": [
       "'Double Quotes'"
      ]
     },
     "execution_count": 31,
     "metadata": {},
     "output_type": "execute_result"
    }
   ],
   "source": [
    "\"Double Quotes\""
   ]
  },
  {
   "cell_type": "code",
   "execution_count": 32,
   "id": "5104ea16-7294-47ec-8b28-94df3e96efa2",
   "metadata": {},
   "outputs": [
    {
     "data": {
      "text/plain": [
       "\"Ravi's Car is good\""
      ]
     },
     "execution_count": 32,
     "metadata": {},
     "output_type": "execute_result"
    }
   ],
   "source": [
    "\"Ravi's Car is good\" #here the double quotes is a must as single quote is part of the string"
   ]
  },
  {
   "cell_type": "code",
   "execution_count": 33,
   "id": "04397557-206b-49c6-a21b-d432fa25b393",
   "metadata": {},
   "outputs": [
    {
     "data": {
      "text/plain": [
       "'Today is a \\ngood day'"
      ]
     },
     "execution_count": 33,
     "metadata": {},
     "output_type": "execute_result"
    }
   ],
   "source": [
    "'''Today is a \n",
    "good day'''#for multi line comments"
   ]
  },
  {
   "cell_type": "code",
   "execution_count": 34,
   "id": "dcc64ee9-accb-4a7d-a784-f5c11faf6321",
   "metadata": {},
   "outputs": [],
   "source": [
    "firstName = 'Pogo'\n",
    "lastName = 'Cat'\n",
    "\n",
    "name = firstName + lastName #string concatination"
   ]
  },
  {
   "cell_type": "code",
   "execution_count": 35,
   "id": "6c1b9570-d15d-485a-a03e-814a42819810",
   "metadata": {},
   "outputs": [
    {
     "data": {
      "text/plain": [
       "'PogoCat'"
      ]
     },
     "execution_count": 35,
     "metadata": {},
     "output_type": "execute_result"
    }
   ],
   "source": [
    "name "
   ]
  },
  {
   "cell_type": "markdown",
   "id": "7ff99b62-31f4-43dc-bc75-0b963fa1afe4",
   "metadata": {},
   "source": [
    "#### String formatting"
   ]
  },
  {
   "cell_type": "code",
   "execution_count": 36,
   "id": "9702ccad-92e7-4b2a-b4ec-a2379e4b824a",
   "metadata": {},
   "outputs": [
    {
     "data": {
      "text/plain": [
       "'Pogo Cat'"
      ]
     },
     "execution_count": 36,
     "metadata": {},
     "output_type": "execute_result"
    }
   ],
   "source": [
    "name = firstName + ' ' + lastName\n",
    "name"
   ]
  },
  {
   "cell_type": "code",
   "execution_count": 37,
   "id": "248babfc-2705-4027-aff9-4af487776532",
   "metadata": {},
   "outputs": [
    {
     "name": "stdout",
     "output_type": "stream",
     "text": [
      "My name is : Pogo Cat\n"
     ]
    }
   ],
   "source": [
    "print('My name is : {a} {b}'.format(a = firstName , b = lastName))"
   ]
  },
  {
   "cell_type": "code",
   "execution_count": 38,
   "id": "bca78789-ae24-4b0f-89b2-1adb9f5e9f1d",
   "metadata": {},
   "outputs": [
    {
     "name": "stdout",
     "output_type": "stream",
     "text": [
      "My name is Pogo Cat\n"
     ]
    }
   ],
   "source": [
    "print('My name is {} {}'.format(firstName, lastName))"
   ]
  },
  {
   "cell_type": "code",
   "execution_count": 39,
   "id": "c62f7dad-46a9-4ea4-a891-ca1f7b88b96b",
   "metadata": {},
   "outputs": [
    {
     "name": "stdout",
     "output_type": "stream",
     "text": [
      "Hello, my name is Pogo Cat\n"
     ]
    }
   ],
   "source": [
    "print(f\"Hello, my name is {firstName} {lastName}\") #f string"
   ]
  },
  {
   "cell_type": "code",
   "execution_count": 40,
   "id": "3550bbff-c80b-444c-a705-093dd9c34a62",
   "metadata": {},
   "outputs": [
    {
     "name": "stdout",
     "output_type": "stream",
     "text": [
      "Hello, My name is Pogo and I'm 23 years old.\n"
     ]
    }
   ],
   "source": [
    "name = 'Pogo'\n",
    "age = 23\n",
    "print(f\"Hello, My name is {name} and I'm {age} years old.\")"
   ]
  },
  {
   "cell_type": "markdown",
   "id": "c52a982b-6407-490d-8bbe-270fab64ad4d",
   "metadata": {},
   "source": [
    "### Lists"
   ]
  },
  {
   "cell_type": "markdown",
   "id": "b8445226-9762-4d28-981d-c815122e7e09",
   "metadata": {},
   "source": [
    "##### List are linear data structures in python they can store values of various data types"
   ]
  },
  {
   "cell_type": "markdown",
   "id": "4dc36da8-e282-4032-af0a-b290ca328081",
   "metadata": {},
   "source": [
    "##### Lists are mutable "
   ]
  },
  {
   "cell_type": "code",
   "execution_count": 41,
   "id": "45a57976-1025-4997-ac1c-f8074a2da805",
   "metadata": {},
   "outputs": [
    {
     "data": {
      "text/plain": [
       "[1, 2, 3]"
      ]
     },
     "execution_count": 41,
     "metadata": {},
     "output_type": "execute_result"
    }
   ],
   "source": [
    "[1,2,3]"
   ]
  },
  {
   "cell_type": "code",
   "execution_count": 42,
   "id": "cee78ffe-ada1-4f57-a2a4-260f1be0d5c0",
   "metadata": {},
   "outputs": [
    {
     "data": {
      "text/plain": [
       "['hi', 1, 2, 3]"
      ]
     },
     "execution_count": 42,
     "metadata": {},
     "output_type": "execute_result"
    }
   ],
   "source": [
    "['hi', 1,2,3]"
   ]
  },
  {
   "cell_type": "code",
   "execution_count": 43,
   "id": "ea29ea36-1fdc-4bdf-af61-56e60b725d2b",
   "metadata": {},
   "outputs": [],
   "source": [
    "my_list = ['a', 'b', 'c']"
   ]
  },
  {
   "cell_type": "code",
   "execution_count": 44,
   "id": "9ce218ea-ce2b-4f14-afee-33a9f6cb3b68",
   "metadata": {},
   "outputs": [],
   "source": [
    "my_list.append('d') # To add another element at the end of list"
   ]
  },
  {
   "cell_type": "code",
   "execution_count": 45,
   "id": "af969c04-a67e-4736-8329-ebb7e84e412f",
   "metadata": {},
   "outputs": [
    {
     "data": {
      "text/plain": [
       "['a', 'b', 'c', 'd']"
      ]
     },
     "execution_count": 45,
     "metadata": {},
     "output_type": "execute_result"
    }
   ],
   "source": [
    "my_list"
   ]
  },
  {
   "cell_type": "code",
   "execution_count": 46,
   "id": "f7d6ab33-602a-4312-8378-7cf07791fe10",
   "metadata": {},
   "outputs": [
    {
     "data": {
      "text/plain": [
       "'a'"
      ]
     },
     "execution_count": 46,
     "metadata": {},
     "output_type": "execute_result"
    }
   ],
   "source": [
    "my_list[0]"
   ]
  },
  {
   "cell_type": "code",
   "execution_count": 47,
   "id": "9237c44f-3761-4470-9b33-6ad98eb807fa",
   "metadata": {},
   "outputs": [
    {
     "data": {
      "text/plain": [
       "'d'"
      ]
     },
     "execution_count": 47,
     "metadata": {},
     "output_type": "execute_result"
    }
   ],
   "source": [
    "my_list[3]"
   ]
  },
  {
   "cell_type": "code",
   "execution_count": 48,
   "id": "eaec2143-3c77-4cc0-ac2c-468a078a2911",
   "metadata": {},
   "outputs": [],
   "source": [
    "my_list[2] = 'z'"
   ]
  },
  {
   "cell_type": "code",
   "execution_count": 49,
   "id": "f50bf568-5e84-4abd-80ab-82c80de15ab0",
   "metadata": {},
   "outputs": [
    {
     "data": {
      "text/plain": [
       "['a', 'b', 'z', 'd']"
      ]
     },
     "execution_count": 49,
     "metadata": {},
     "output_type": "execute_result"
    }
   ],
   "source": [
    "my_list"
   ]
  },
  {
   "cell_type": "code",
   "execution_count": 50,
   "id": "fcc0f092-0b12-46e1-8983-4e396c1fe92b",
   "metadata": {},
   "outputs": [],
   "source": [
    "my_list.append('e')"
   ]
  },
  {
   "cell_type": "code",
   "execution_count": 51,
   "id": "8abf8c63-da9a-4079-810e-f1a6630c75a0",
   "metadata": {},
   "outputs": [
    {
     "data": {
      "text/plain": [
       "['a', 'b', 'z', 'd', 'e']"
      ]
     },
     "execution_count": 51,
     "metadata": {},
     "output_type": "execute_result"
    }
   ],
   "source": [
    "my_list"
   ]
  },
  {
   "cell_type": "code",
   "execution_count": 52,
   "id": "2e32cd92-6dce-4f47-897e-055e00773dc3",
   "metadata": {},
   "outputs": [
    {
     "data": {
      "text/plain": [
       "['b', 'z', 'd', 'e']"
      ]
     },
     "execution_count": 52,
     "metadata": {},
     "output_type": "execute_result"
    }
   ],
   "source": [
    "my_list[1:] # From one to the end"
   ]
  },
  {
   "cell_type": "code",
   "execution_count": 53,
   "id": "43adc27d-65fd-4dcb-b7f8-ca920a54dc0b",
   "metadata": {},
   "outputs": [
    {
     "data": {
      "text/plain": [
       "['a', 'b', 'z']"
      ]
     },
     "execution_count": 53,
     "metadata": {},
     "output_type": "execute_result"
    }
   ],
   "source": [
    "my_list[:3] # from begining till 3 but not 3"
   ]
  },
  {
   "cell_type": "code",
   "execution_count": 54,
   "id": "c1142500-c30d-4607-8ba0-4c16feb9b665",
   "metadata": {},
   "outputs": [],
   "source": [
    "nest = [1,2,3,[4,5,['target', 'hi']]]  # Nested list"
   ]
  },
  {
   "cell_type": "code",
   "execution_count": 55,
   "id": "769b8191-4853-4d2f-9ce2-e12fb9223787",
   "metadata": {},
   "outputs": [
    {
     "data": {
      "text/plain": [
       "'e'"
      ]
     },
     "execution_count": 55,
     "metadata": {},
     "output_type": "execute_result"
    }
   ],
   "source": [
    "nest[3][2][0][4]"
   ]
  },
  {
   "cell_type": "code",
   "execution_count": 56,
   "id": "7a657408-7ea1-4ca6-9ef1-cd4024bd36f3",
   "metadata": {},
   "outputs": [
    {
     "data": {
      "text/plain": [
       "[4, 5, ['target', 'hi']]"
      ]
     },
     "execution_count": 56,
     "metadata": {},
     "output_type": "execute_result"
    }
   ],
   "source": [
    "nest[3]"
   ]
  },
  {
   "cell_type": "code",
   "execution_count": 57,
   "id": "fb6b7709-c61b-4b8b-925d-2c8e3e25ffbf",
   "metadata": {},
   "outputs": [
    {
     "data": {
      "text/plain": [
       "['target', 'hi']"
      ]
     },
     "execution_count": 57,
     "metadata": {},
     "output_type": "execute_result"
    }
   ],
   "source": [
    "nest[3][2]"
   ]
  },
  {
   "cell_type": "code",
   "execution_count": 58,
   "id": "99caba2c-ca62-4820-918e-a3242b16096c",
   "metadata": {},
   "outputs": [
    {
     "data": {
      "text/plain": [
       "'i'"
      ]
     },
     "execution_count": 58,
     "metadata": {},
     "output_type": "execute_result"
    }
   ],
   "source": [
    "nest[3][2][1][1]"
   ]
  },
  {
   "cell_type": "code",
   "execution_count": 59,
   "id": "983188e6-fb7b-44f2-bf64-61e77908cb45",
   "metadata": {},
   "outputs": [
    {
     "data": {
      "text/plain": [
       "'g'"
      ]
     },
     "execution_count": 59,
     "metadata": {},
     "output_type": "execute_result"
    }
   ],
   "source": [
    "nest[3][2][0][3]"
   ]
  },
  {
   "cell_type": "code",
   "execution_count": 60,
   "id": "5e380ca3-b9ea-46fa-9028-f00c32bb24e6",
   "metadata": {},
   "outputs": [
    {
     "data": {
      "text/plain": [
       "int"
      ]
     },
     "execution_count": 60,
     "metadata": {},
     "output_type": "execute_result"
    }
   ],
   "source": [
    "type(nest[0]) # type function checks the type of data structure"
   ]
  },
  {
   "cell_type": "markdown",
   "id": "637b350c-80e4-4071-9855-435c13b40ad7",
   "metadata": {},
   "source": [
    "### Dictonaries"
   ]
  },
  {
   "cell_type": "markdown",
   "id": "41eb61de-c84b-441b-b1fb-b4af2b8bd144",
   "metadata": {},
   "source": [
    "##### Dictionaries in python are used to stored key value pairs, the values are associated with keys"
   ]
  },
  {
   "cell_type": "markdown",
   "id": "c4ec4bf2-fc82-45ea-89ce-3b49e4faa1fd",
   "metadata": {},
   "source": [
    "##### The dictonaries are mutable"
   ]
  },
  {
   "cell_type": "code",
   "execution_count": 61,
   "id": "155c449c-3f65-4859-b038-9a1e952a7577",
   "metadata": {},
   "outputs": [],
   "source": [
    "d = {'key1' : 'item1' , 'key2' : 'item2'}"
   ]
  },
  {
   "cell_type": "code",
   "execution_count": 62,
   "id": "119e98b0-64b0-4c28-a091-f4570ca59cbb",
   "metadata": {},
   "outputs": [
    {
     "data": {
      "text/plain": [
       "{'key1': 'item1', 'key2': 'item2'}"
      ]
     },
     "execution_count": 62,
     "metadata": {},
     "output_type": "execute_result"
    }
   ],
   "source": [
    "d"
   ]
  },
  {
   "cell_type": "code",
   "execution_count": 63,
   "id": "868114a0-fb05-488e-baba-5b7752b82057",
   "metadata": {},
   "outputs": [],
   "source": [
    "d['key1'] = 'changed'"
   ]
  },
  {
   "cell_type": "code",
   "execution_count": 64,
   "id": "babc2dc8-8555-4c14-aced-b7299ce1e5f7",
   "metadata": {},
   "outputs": [],
   "source": [
    "d['key3'] = 'new'"
   ]
  },
  {
   "cell_type": "code",
   "execution_count": 65,
   "id": "c5827916-9ba2-475d-b262-3d5548ee47bc",
   "metadata": {},
   "outputs": [
    {
     "data": {
      "text/plain": [
       "{'key1': 'changed', 'key2': 'item2', 'key3': 'new'}"
      ]
     },
     "execution_count": 65,
     "metadata": {},
     "output_type": "execute_result"
    }
   ],
   "source": [
    "d"
   ]
  },
  {
   "cell_type": "markdown",
   "id": "3335cb04-d6f0-4661-a028-cbb58a4d6c68",
   "metadata": {},
   "source": [
    "### Tuples"
   ]
  },
  {
   "cell_type": "markdown",
   "id": "8aa662c7-e5d3-4347-8e9b-a9c496960352",
   "metadata": {},
   "source": [
    "##### Tuples in python are immutable and they contain one type of data elements"
   ]
  },
  {
   "cell_type": "code",
   "execution_count": 66,
   "id": "1e364876-b636-4a46-b664-dccf50f17a57",
   "metadata": {},
   "outputs": [],
   "source": [
    "t = (1,2,3)"
   ]
  },
  {
   "cell_type": "code",
   "execution_count": 67,
   "id": "859cb546-f4e7-4c8a-9636-4a1391938d77",
   "metadata": {},
   "outputs": [
    {
     "data": {
      "text/plain": [
       "1"
      ]
     },
     "execution_count": 67,
     "metadata": {},
     "output_type": "execute_result"
    }
   ],
   "source": [
    "t[0]"
   ]
  },
  {
   "cell_type": "code",
   "execution_count": 68,
   "id": "66af348d-5540-4457-951e-1b0699e64324",
   "metadata": {},
   "outputs": [],
   "source": [
    "# t[1] = 'New' , this is not possible"
   ]
  },
  {
   "cell_type": "markdown",
   "id": "3fd25fa8-4dbb-4635-9592-faf9aedbcf37",
   "metadata": {},
   "source": [
    "### Sets"
   ]
  },
  {
   "cell_type": "markdown",
   "id": "4ab71583-f810-401a-9f40-e84361a9fefd",
   "metadata": {},
   "source": [
    "##### Sets in python can contain only one type of values and they do not contain duplicate values"
   ]
  },
  {
   "cell_type": "markdown",
   "id": "77411568-c5a3-40eb-9ff1-bfbf00b3ffc8",
   "metadata": {},
   "source": [
    "##### The order of values in sets do not matter"
   ]
  },
  {
   "cell_type": "code",
   "execution_count": 69,
   "id": "cbd0486c-afae-4944-a475-381814576b7c",
   "metadata": {},
   "outputs": [],
   "source": [
    "f= {1,2,3,4,5}"
   ]
  },
  {
   "cell_type": "code",
   "execution_count": 70,
   "id": "954ee037-1ae2-4742-9b5f-06fd8b30a9a4",
   "metadata": {},
   "outputs": [
    {
     "name": "stdout",
     "output_type": "stream",
     "text": [
      "{1, 2, 3, 4, 5}\n"
     ]
    }
   ],
   "source": [
    "f = {1,5,1,1,2,3,3,4,3}\n",
    "print(f)"
   ]
  },
  {
   "cell_type": "markdown",
   "id": "bb9a10b3-040b-4103-9573-b286c85256d0",
   "metadata": {},
   "source": [
    "### Booleans"
   ]
  },
  {
   "cell_type": "code",
   "execution_count": 71,
   "id": "4ce00c20-6606-4b9f-8a65-3742d6d9c5e4",
   "metadata": {},
   "outputs": [
    {
     "data": {
      "text/plain": [
       "True"
      ]
     },
     "execution_count": 71,
     "metadata": {},
     "output_type": "execute_result"
    }
   ],
   "source": [
    "True"
   ]
  },
  {
   "cell_type": "code",
   "execution_count": 72,
   "id": "046ab1c8-2c2d-465b-9ba7-16429cbb8c01",
   "metadata": {},
   "outputs": [
    {
     "data": {
      "text/plain": [
       "False"
      ]
     },
     "execution_count": 72,
     "metadata": {},
     "output_type": "execute_result"
    }
   ],
   "source": [
    "False"
   ]
  },
  {
   "cell_type": "code",
   "execution_count": 73,
   "id": "737eb475-9280-4e24-afa5-ad8344b3c01f",
   "metadata": {},
   "outputs": [
    {
     "data": {
      "text/plain": [
       "True"
      ]
     },
     "execution_count": 73,
     "metadata": {},
     "output_type": "execute_result"
    }
   ],
   "source": [
    "1 > 0\n"
   ]
  },
  {
   "cell_type": "code",
   "execution_count": 74,
   "id": "61c7d35a-4299-41c3-a55c-9cb9518b6bd0",
   "metadata": {},
   "outputs": [
    {
     "data": {
      "text/plain": [
       "False"
      ]
     },
     "execution_count": 74,
     "metadata": {},
     "output_type": "execute_result"
    }
   ],
   "source": [
    "4 > 5"
   ]
  },
  {
   "cell_type": "markdown",
   "id": "ca118a9b-96a3-442b-826d-035964be7d74",
   "metadata": {},
   "source": [
    "## Comparision Operators"
   ]
  },
  {
   "cell_type": "code",
   "execution_count": 75,
   "id": "6a168945-e708-4c93-b284-0547a342def5",
   "metadata": {},
   "outputs": [
    {
     "data": {
      "text/plain": [
       "False"
      ]
     },
     "execution_count": 75,
     "metadata": {},
     "output_type": "execute_result"
    }
   ],
   "source": [
    "1 > 2"
   ]
  },
  {
   "cell_type": "code",
   "execution_count": 76,
   "id": "2a12c682-2d43-4ad7-ae05-66fe9cfbdaea",
   "metadata": {},
   "outputs": [
    {
     "data": {
      "text/plain": [
       "True"
      ]
     },
     "execution_count": 76,
     "metadata": {},
     "output_type": "execute_result"
    }
   ],
   "source": [
    "1 < 2"
   ]
  },
  {
   "cell_type": "code",
   "execution_count": 77,
   "id": "e1c64120-7662-4de8-b1ec-25493c0f03d5",
   "metadata": {},
   "outputs": [
    {
     "data": {
      "text/plain": [
       "True"
      ]
     },
     "execution_count": 77,
     "metadata": {},
     "output_type": "execute_result"
    }
   ],
   "source": [
    "1 >= 1"
   ]
  },
  {
   "cell_type": "code",
   "execution_count": 78,
   "id": "11c69d88-be0a-4976-97f8-8873da3c47a7",
   "metadata": {},
   "outputs": [
    {
     "data": {
      "text/plain": [
       "True"
      ]
     },
     "execution_count": 78,
     "metadata": {},
     "output_type": "execute_result"
    }
   ],
   "source": [
    "1 <= 4"
   ]
  },
  {
   "cell_type": "code",
   "execution_count": 79,
   "id": "560655b9-8735-4e6c-ad86-55268d2557dc",
   "metadata": {},
   "outputs": [
    {
     "data": {
      "text/plain": [
       "True"
      ]
     },
     "execution_count": 79,
     "metadata": {},
     "output_type": "execute_result"
    }
   ],
   "source": [
    "1 == 1 "
   ]
  },
  {
   "cell_type": "code",
   "execution_count": 80,
   "id": "70b734c8-f05f-430a-b82c-403ffe345a60",
   "metadata": {},
   "outputs": [
    {
     "data": {
      "text/plain": [
       "False"
      ]
     },
     "execution_count": 80,
     "metadata": {},
     "output_type": "execute_result"
    }
   ],
   "source": [
    "'hi' == 'bye'"
   ]
  },
  {
   "cell_type": "code",
   "execution_count": 81,
   "id": "79dcdd74-0f04-4cd8-8a42-bb089e7a8402",
   "metadata": {},
   "outputs": [
    {
     "data": {
      "text/plain": [
       "True"
      ]
     },
     "execution_count": 81,
     "metadata": {},
     "output_type": "execute_result"
    }
   ],
   "source": [
    "'pogo' == 'pogo'"
   ]
  },
  {
   "cell_type": "markdown",
   "id": "a679fffa-cdc8-4bae-9231-6dddea9b3c7e",
   "metadata": {},
   "source": [
    "## Logic Operators"
   ]
  },
  {
   "cell_type": "code",
   "execution_count": 82,
   "id": "98eaa582-6e72-4d62-bc91-56edbe1edb81",
   "metadata": {},
   "outputs": [
    {
     "data": {
      "text/plain": [
       "False"
      ]
     },
     "execution_count": 82,
     "metadata": {},
     "output_type": "execute_result"
    }
   ],
   "source": [
    "(1>2) and (2<3)"
   ]
  },
  {
   "cell_type": "code",
   "execution_count": 158,
   "id": "546dcf8d-c2a4-4585-aa22-427c17b38a40",
   "metadata": {},
   "outputs": [
    {
     "data": {
      "text/plain": [
       "True"
      ]
     },
     "execution_count": 158,
     "metadata": {},
     "output_type": "execute_result"
    }
   ],
   "source": [
    "(1 > 2) or (2 < 3)"
   ]
  },
  {
   "cell_type": "code",
   "execution_count": 84,
   "id": "cfa58334-2a6e-46af-91dd-0d76ee631734",
   "metadata": {},
   "outputs": [
    {
     "data": {
      "text/plain": [
       "True"
      ]
     },
     "execution_count": 84,
     "metadata": {},
     "output_type": "execute_result"
    }
   ],
   "source": [
    "(1 == 2) or (2 == 3) or (4 == 4)"
   ]
  },
  {
   "cell_type": "code",
   "execution_count": 85,
   "id": "53b231de-e261-487f-83b9-1729c0aae1e7",
   "metadata": {},
   "outputs": [
    {
     "data": {
      "text/plain": [
       "False"
      ]
     },
     "execution_count": 85,
     "metadata": {},
     "output_type": "execute_result"
    }
   ],
   "source": [
    "not True"
   ]
  },
  {
   "cell_type": "markdown",
   "id": "bfee921d-4ddd-4454-9765-5ca9edc44a27",
   "metadata": {},
   "source": [
    "## if, else, elif, Statement"
   ]
  },
  {
   "cell_type": "code",
   "execution_count": 86,
   "id": "bd30a954-99f3-4930-8e2c-e269882b83ec",
   "metadata": {},
   "outputs": [
    {
     "name": "stdout",
     "output_type": "stream",
     "text": [
      "Yep!\n"
     ]
    }
   ],
   "source": [
    "if 1 < 2:\n",
    "    print('Yep!')"
   ]
  },
  {
   "cell_type": "code",
   "execution_count": 87,
   "id": "53a17558-d21d-4c78-a0dd-2a74e53ca72c",
   "metadata": {},
   "outputs": [],
   "source": [
    "if 1 > 2:\n",
    "    print('yep!')"
   ]
  },
  {
   "cell_type": "code",
   "execution_count": 88,
   "id": "3b37ee7c-f133-4c5b-a2a4-97d635b6ef50",
   "metadata": {},
   "outputs": [
    {
     "name": "stdout",
     "output_type": "stream",
     "text": [
      "first\n"
     ]
    }
   ],
   "source": [
    "if 1 < 2:\n",
    "    print('first')\n",
    "else:\n",
    "    print('last')\n",
    "    "
   ]
  },
  {
   "cell_type": "code",
   "execution_count": 89,
   "id": "a207c2d6-6796-47bc-b5cb-828e0f0d48cb",
   "metadata": {},
   "outputs": [
    {
     "name": "stdout",
     "output_type": "stream",
     "text": [
      "last\n"
     ]
    }
   ],
   "source": [
    "if 1 > 2:\n",
    "    print('first')\n",
    "else:\n",
    "    print('last')"
   ]
  },
  {
   "cell_type": "code",
   "execution_count": 90,
   "id": "67c082f0-9366-4cfb-a83b-4e458e1f482c",
   "metadata": {},
   "outputs": [
    {
     "name": "stdout",
     "output_type": "stream",
     "text": [
      "middle\n"
     ]
    }
   ],
   "source": [
    "if 1 == 2:\n",
    "    print('first')\n",
    "elif 3 == 3:\n",
    "    print('middle')\n",
    "else:\n",
    "    print('Last')"
   ]
  },
  {
   "cell_type": "markdown",
   "id": "327433dc-b1c1-403f-88be-0c42e63dbfde",
   "metadata": {},
   "source": [
    "## for Loops"
   ]
  },
  {
   "cell_type": "code",
   "execution_count": 91,
   "id": "809e3a7f-5ed4-44e0-9787-b73b11269e07",
   "metadata": {},
   "outputs": [],
   "source": [
    "seq = [1,2,3,4,5]"
   ]
  },
  {
   "cell_type": "code",
   "execution_count": 92,
   "id": "7390ff6f-069a-442c-a1b0-b27ae7b14c34",
   "metadata": {},
   "outputs": [
    {
     "name": "stdout",
     "output_type": "stream",
     "text": [
      "1\n",
      "2\n",
      "3\n",
      "4\n",
      "5\n"
     ]
    }
   ],
   "source": [
    "for item in seq:\n",
    "    print(item)"
   ]
  },
  {
   "cell_type": "code",
   "execution_count": 93,
   "id": "b002a237-1b75-4a10-95fc-b29b7bddef5a",
   "metadata": {},
   "outputs": [
    {
     "name": "stdout",
     "output_type": "stream",
     "text": [
      "1\n",
      "2\n",
      "3\n",
      "4\n",
      "5\n",
      "6\n",
      "7\n",
      "8\n",
      "9\n"
     ]
    }
   ],
   "source": [
    "num = [1,2,3,4,5,6,7,8,9]\n",
    "for item in num:\n",
    "    print(item)"
   ]
  },
  {
   "cell_type": "code",
   "execution_count": 94,
   "id": "6514121a-3741-458f-a77b-8d0472dd6ffb",
   "metadata": {},
   "outputs": [
    {
     "name": "stdout",
     "output_type": "stream",
     "text": [
      "1\n",
      "2\n",
      "3\n",
      "4\n"
     ]
    }
   ],
   "source": [
    "num = [1,2,3,4,5,6,7,8,9]\n",
    "for item in num:\n",
    "    if(item == 5):\n",
    "        break  #this stops the iteration if condn is met\n",
    "    print(item)"
   ]
  },
  {
   "cell_type": "code",
   "execution_count": 95,
   "id": "7a33504a-fa97-4ef8-9b12-5d72548487ce",
   "metadata": {},
   "outputs": [
    {
     "name": "stdout",
     "output_type": "stream",
     "text": [
      "1\n",
      "2\n",
      "3\n",
      "4\n",
      "6\n",
      "7\n",
      "8\n",
      "9\n"
     ]
    }
   ],
   "source": [
    "num = [1,2,3,4,5,6,7,8,9]\n",
    "for item in num:\n",
    "    if(item == 5):\n",
    "        continue  #this skips the iteratioin if condn is met\n",
    "    print(item)"
   ]
  },
  {
   "cell_type": "code",
   "execution_count": 96,
   "id": "fe2afc9b-63a9-4afa-a146-ce9c4697cff2",
   "metadata": {},
   "outputs": [
    {
     "name": "stdout",
     "output_type": "stream",
     "text": [
      "Yep\n",
      "Yep\n",
      "Yep\n",
      "Yep\n",
      "Yep\n"
     ]
    }
   ],
   "source": [
    "for item in seq:\n",
    "    print('Yep')"
   ]
  },
  {
   "cell_type": "code",
   "execution_count": 97,
   "id": "1014d42f-0272-400c-8712-af347401c317",
   "metadata": {},
   "outputs": [
    {
     "name": "stdout",
     "output_type": "stream",
     "text": [
      "2\n",
      "4\n",
      "6\n",
      "8\n",
      "10\n"
     ]
    }
   ],
   "source": [
    "for jelly in seq:\n",
    "    print(jelly+jelly)"
   ]
  },
  {
   "cell_type": "markdown",
   "id": "6a3cc3fd-9cff-409b-b1c5-9255a22f6c62",
   "metadata": {},
   "source": [
    "## while Loops"
   ]
  },
  {
   "cell_type": "code",
   "execution_count": 98,
   "id": "2a06f580-e75f-46f0-ab01-46875ffcb6b5",
   "metadata": {},
   "outputs": [
    {
     "name": "stdout",
     "output_type": "stream",
     "text": [
      "i is: 1\n",
      "i is: 2\n",
      "i is: 3\n",
      "i is: 4\n"
     ]
    }
   ],
   "source": [
    "i = 1\n",
    "while i < 5:\n",
    "    print(f'i is: {i}')\n",
    "    i = i+1"
   ]
  },
  {
   "cell_type": "code",
   "execution_count": 99,
   "id": "db0894db-fc3a-404a-be7e-b85713c60b9d",
   "metadata": {},
   "outputs": [
    {
     "name": "stdout",
     "output_type": "stream",
     "text": [
      " i is 0\n",
      " i is 1\n",
      " i is 2\n",
      " i is 3\n",
      " i is 4\n",
      " i is 5\n",
      " i is 6\n",
      " i is 7\n",
      " i is 8\n",
      " i is 9\n",
      " i is 10\n",
      " i is 11\n"
     ]
    }
   ],
   "source": [
    " i =0\n",
    "while i < 12:\n",
    "    print(f' i is {i}')\n",
    "    i = i+ 1"
   ]
  },
  {
   "cell_type": "markdown",
   "id": "99948be8-1405-4975-8549-ce39dade060a",
   "metadata": {},
   "source": [
    "## range()"
   ]
  },
  {
   "cell_type": "code",
   "execution_count": 100,
   "id": "c52ab6f8-de4a-4c5e-af2a-db212a182806",
   "metadata": {},
   "outputs": [
    {
     "data": {
      "text/plain": [
       "range(0, 5)"
      ]
     },
     "execution_count": 100,
     "metadata": {},
     "output_type": "execute_result"
    }
   ],
   "source": [
    "range(5)"
   ]
  },
  {
   "cell_type": "code",
   "execution_count": 101,
   "id": "288e6537-2dff-4f2f-92d8-0ae81239693d",
   "metadata": {},
   "outputs": [
    {
     "name": "stdout",
     "output_type": "stream",
     "text": [
      "0\n",
      "1\n",
      "2\n",
      "3\n",
      "4\n"
     ]
    }
   ],
   "source": [
    "for i in range(5):\n",
    "    print(i)"
   ]
  },
  {
   "cell_type": "code",
   "execution_count": 161,
   "id": "015af5c0-91f2-4364-a81f-4fbe920a8add",
   "metadata": {},
   "outputs": [
    {
     "data": {
      "text/plain": [
       "[0, 1, 2, 3, 4]"
      ]
     },
     "execution_count": 161,
     "metadata": {},
     "output_type": "execute_result"
    }
   ],
   "source": [
    "list(range(5))"
   ]
  },
  {
   "cell_type": "code",
   "execution_count": 162,
   "id": "3f7cfc70-e0c3-468b-85ea-712a2a905f1e",
   "metadata": {},
   "outputs": [
    {
     "data": {
      "text/plain": [
       "[2, 3, 4]"
      ]
     },
     "execution_count": 162,
     "metadata": {},
     "output_type": "execute_result"
    }
   ],
   "source": [
    "list(range(2,5))"
   ]
  },
  {
   "cell_type": "code",
   "execution_count": 160,
   "id": "64c7e768-286f-43ae-96c2-66175a97ebbe",
   "metadata": {},
   "outputs": [
    {
     "data": {
      "text/plain": [
       "(0, 1, 2, 3, 4, 5)"
      ]
     },
     "execution_count": 160,
     "metadata": {},
     "output_type": "execute_result"
    }
   ],
   "source": [
    "tuple(range(6))"
   ]
  },
  {
   "cell_type": "code",
   "execution_count": 103,
   "id": "9b48e15c-7ff6-4ee0-afac-5e7524130181",
   "metadata": {},
   "outputs": [
    {
     "name": "stdout",
     "output_type": "stream",
     "text": [
      "3\n",
      "4\n",
      "5\n",
      "6\n",
      "7\n",
      "8\n",
      "9\n",
      "10\n",
      "11\n"
     ]
    }
   ],
   "source": [
    "for i in range(3,12):\n",
    "    print(i)"
   ]
  },
  {
   "cell_type": "code",
   "execution_count": 104,
   "id": "ac205540-6477-4dad-b51c-c29b01a2a361",
   "metadata": {},
   "outputs": [
    {
     "data": {
      "text/plain": [
       "[3, 4, 5]"
      ]
     },
     "execution_count": 104,
     "metadata": {},
     "output_type": "execute_result"
    }
   ],
   "source": [
    "list(range(3,6))"
   ]
  },
  {
   "cell_type": "markdown",
   "id": "0c292569-d6f4-4816-a17d-b61faa0be43e",
   "metadata": {},
   "source": [
    "## list comprehension"
   ]
  },
  {
   "cell_type": "code",
   "execution_count": 105,
   "id": "a1427201-2d07-4e98-a16a-05e197ccd700",
   "metadata": {},
   "outputs": [],
   "source": [
    "x = [1,2,3,4]"
   ]
  },
  {
   "cell_type": "code",
   "execution_count": 106,
   "id": "05dfb5a9-e3d3-4588-bfad-81db4d340cef",
   "metadata": {},
   "outputs": [
    {
     "name": "stdout",
     "output_type": "stream",
     "text": [
      "[1, 4, 9, 16]\n"
     ]
    }
   ],
   "source": [
    "out = []\n",
    "for item in x:\n",
    "    out.append(item**2)\n",
    "print(out) #getting the square of all elements in the list"
   ]
  },
  {
   "cell_type": "code",
   "execution_count": 107,
   "id": "32a5bf60-815b-4d6b-99f5-248c0324844d",
   "metadata": {},
   "outputs": [
    {
     "data": {
      "text/plain": [
       "[1, 4, 9, 16]"
      ]
     },
     "execution_count": 107,
     "metadata": {},
     "output_type": "execute_result"
    }
   ],
   "source": [
    "[item**2 for item in x]"
   ]
  },
  {
   "cell_type": "code",
   "execution_count": 108,
   "id": "9da34bce-fc46-4cd4-9192-79068051e1a2",
   "metadata": {},
   "outputs": [],
   "source": [
    "## functions"
   ]
  },
  {
   "cell_type": "markdown",
   "id": "eb97c647-efe6-4b19-8277-8dec063d46b9",
   "metadata": {},
   "source": [
    "functions are the blocks of code which return a single value"
   ]
  },
  {
   "cell_type": "code",
   "execution_count": 109,
   "id": "a6b38965-8873-415b-acab-96f14217e935",
   "metadata": {},
   "outputs": [],
   "source": [
    "def my_func(param1='default'):\n",
    "    \"\"\"\n",
    "    Docstring goes here.\n",
    "    \"\"\"\n",
    "    print(param1)"
   ]
  },
  {
   "cell_type": "code",
   "execution_count": 110,
   "id": "3ac0b18d-9e5c-4bfe-9bab-af80cc3c202b",
   "metadata": {},
   "outputs": [
    {
     "data": {
      "text/plain": [
       "<function __main__.my_func(param1='default')>"
      ]
     },
     "execution_count": 110,
     "metadata": {},
     "output_type": "execute_result"
    }
   ],
   "source": [
    "my_func"
   ]
  },
  {
   "cell_type": "code",
   "execution_count": 111,
   "id": "719946d5-a68b-4928-b5fa-bbce95c04f2c",
   "metadata": {},
   "outputs": [
    {
     "name": "stdout",
     "output_type": "stream",
     "text": [
      "default\n"
     ]
    }
   ],
   "source": [
    "my_func()"
   ]
  },
  {
   "cell_type": "code",
   "execution_count": 112,
   "id": "f514bf02-615a-48ae-ab8a-ac75a4f6a305",
   "metadata": {},
   "outputs": [
    {
     "name": "stdout",
     "output_type": "stream",
     "text": [
      "new param\n"
     ]
    }
   ],
   "source": [
    "my_func('new param')"
   ]
  },
  {
   "cell_type": "code",
   "execution_count": 113,
   "id": "36644d8f-6336-45e8-bd3e-35555bce6998",
   "metadata": {},
   "outputs": [
    {
     "name": "stdout",
     "output_type": "stream",
     "text": [
      "new param\n"
     ]
    }
   ],
   "source": [
    "my_func(param1='new param')"
   ]
  },
  {
   "cell_type": "code",
   "execution_count": 114,
   "id": "b873f3c5-2855-48c9-9387-ab00e671fce4",
   "metadata": {},
   "outputs": [],
   "source": [
    "def square(x):\n",
    "    return x**2"
   ]
  },
  {
   "cell_type": "code",
   "execution_count": 115,
   "id": "b8e6eece-8b0a-408d-8ec7-775a4b9ab455",
   "metadata": {},
   "outputs": [],
   "source": [
    "out = square(2)"
   ]
  },
  {
   "cell_type": "code",
   "execution_count": 116,
   "id": "beb12f03-88f3-4840-92fc-c7606aa87ece",
   "metadata": {},
   "outputs": [
    {
     "name": "stdout",
     "output_type": "stream",
     "text": [
      "4\n"
     ]
    }
   ],
   "source": [
    "print(out)"
   ]
  },
  {
   "cell_type": "code",
   "execution_count": 117,
   "id": "eb5e949a-d507-4730-b3c4-5864c20cff46",
   "metadata": {},
   "outputs": [
    {
     "data": {
      "text/plain": [
       "range"
      ]
     },
     "execution_count": 117,
     "metadata": {},
     "output_type": "execute_result"
    }
   ],
   "source": [
    "range"
   ]
  },
  {
   "cell_type": "code",
   "execution_count": 118,
   "id": "b936bcb1-5559-4547-90ae-0ed1926160f0",
   "metadata": {},
   "outputs": [
    {
     "name": "stdout",
     "output_type": "stream",
     "text": [
      "125\n"
     ]
    }
   ],
   "source": [
    "def cube(x):\n",
    "    return x ** 3\n",
    "\n",
    "out = cube(5)\n",
    "print(out)"
   ]
  },
  {
   "cell_type": "markdown",
   "id": "371fb630-9329-4e25-8b4e-80ff8730cc48",
   "metadata": {},
   "source": [
    "## lambda expressions"
   ]
  },
  {
   "cell_type": "markdown",
   "id": "648b76c4-a446-4c74-89fe-844af6fbb79d",
   "metadata": {},
   "source": [
    "they make code faster by implementing functions in single line˛"
   ]
  },
  {
   "cell_type": "code",
   "execution_count": 119,
   "id": "0c4ec468-f426-43ff-a63e-c560b207d846",
   "metadata": {},
   "outputs": [],
   "source": [
    "def times2(var):\n",
    "    return var*2"
   ]
  },
  {
   "cell_type": "code",
   "execution_count": 120,
   "id": "d5c66556-8c08-4cc0-9410-5193a18c0500",
   "metadata": {},
   "outputs": [
    {
     "data": {
      "text/plain": [
       "4"
      ]
     },
     "execution_count": 120,
     "metadata": {},
     "output_type": "execute_result"
    }
   ],
   "source": [
    "times2(2)"
   ]
  },
  {
   "cell_type": "code",
   "execution_count": 121,
   "id": "93cc5037-6926-41f3-b31f-5cb293fc4163",
   "metadata": {},
   "outputs": [
    {
     "data": {
      "text/plain": [
       "<function __main__.<lambda>(var)>"
      ]
     },
     "execution_count": 121,
     "metadata": {},
     "output_type": "execute_result"
    }
   ],
   "source": [
    "lambda var: var*2"
   ]
  },
  {
   "cell_type": "code",
   "execution_count": 122,
   "id": "80a9e810-8030-400b-aac8-ecc31679fcf6",
   "metadata": {},
   "outputs": [],
   "source": [
    "add = lambda x : x + 1"
   ]
  },
  {
   "cell_type": "code",
   "execution_count": 123,
   "id": "46980c44-d2ce-40d9-8087-913d8518b553",
   "metadata": {},
   "outputs": [],
   "source": [
    "result1 = add(3)"
   ]
  },
  {
   "cell_type": "code",
   "execution_count": 124,
   "id": "bd0ae75f-1fe9-474b-bfd4-05caafbf2254",
   "metadata": {},
   "outputs": [],
   "source": [
    "multiply = lambda x:x * 2"
   ]
  },
  {
   "cell_type": "code",
   "execution_count": 125,
   "id": "853471c6-2bac-4a29-a130-b448bbc6f135",
   "metadata": {},
   "outputs": [],
   "source": [
    "result2 = multiply(3)"
   ]
  },
  {
   "cell_type": "code",
   "execution_count": 126,
   "id": "fcecdfea-9d41-4ef3-a3a1-c483d7c64c66",
   "metadata": {},
   "outputs": [
    {
     "data": {
      "text/plain": [
       "4"
      ]
     },
     "execution_count": 126,
     "metadata": {},
     "output_type": "execute_result"
    }
   ],
   "source": [
    "result1"
   ]
  },
  {
   "cell_type": "code",
   "execution_count": 127,
   "id": "c161e382-7bb0-4d10-a0d1-2b1f7b3297a6",
   "metadata": {},
   "outputs": [
    {
     "data": {
      "text/plain": [
       "6"
      ]
     },
     "execution_count": 127,
     "metadata": {},
     "output_type": "execute_result"
    }
   ],
   "source": [
    "result2"
   ]
  },
  {
   "cell_type": "markdown",
   "id": "8d990df3-1401-4035-8697-4d4ad0e4b017",
   "metadata": {},
   "source": [
    "## map and filter"
   ]
  },
  {
   "cell_type": "markdown",
   "id": "25ac8dba-70be-49f2-9160-58690e77bba4",
   "metadata": {},
   "source": [
    "map is used for aggregation of code"
   ]
  },
  {
   "cell_type": "markdown",
   "id": "24d8eff5-e30d-49c6-bd84-86cf96fc58a4",
   "metadata": {},
   "source": [
    "filter is used for providing conditions in the lambda function"
   ]
  },
  {
   "cell_type": "code",
   "execution_count": 128,
   "id": "7610c85c-7e92-4848-ab57-2a15c98c4e22",
   "metadata": {},
   "outputs": [],
   "source": [
    "seq = [1,2,3,4,5]"
   ]
  },
  {
   "cell_type": "code",
   "execution_count": 129,
   "id": "4950b54c-7abc-4f62-b529-ec1d60f8ee58",
   "metadata": {},
   "outputs": [
    {
     "data": {
      "text/plain": [
       "<map at 0x1065352d0>"
      ]
     },
     "execution_count": 129,
     "metadata": {},
     "output_type": "execute_result"
    }
   ],
   "source": [
    "map(times2,seq)"
   ]
  },
  {
   "cell_type": "code",
   "execution_count": 130,
   "id": "527f3f30-b64f-402a-9f6f-c4dfd33f2203",
   "metadata": {},
   "outputs": [
    {
     "data": {
      "text/plain": [
       "[2, 4, 6, 8, 10]"
      ]
     },
     "execution_count": 130,
     "metadata": {},
     "output_type": "execute_result"
    }
   ],
   "source": [
    "list(map(times2,seq))"
   ]
  },
  {
   "cell_type": "code",
   "execution_count": 131,
   "id": "265bac60-5f87-487c-a674-2de254e1d615",
   "metadata": {},
   "outputs": [
    {
     "data": {
      "text/plain": [
       "[2, 4, 6, 8, 10]"
      ]
     },
     "execution_count": 131,
     "metadata": {},
     "output_type": "execute_result"
    }
   ],
   "source": [
    "list(map(lambda var: var*2,seq))"
   ]
  },
  {
   "cell_type": "code",
   "execution_count": 132,
   "id": "82e24436-7292-40f8-bced-7afe83eab336",
   "metadata": {},
   "outputs": [
    {
     "data": {
      "text/plain": [
       "<filter at 0x1065350c0>"
      ]
     },
     "execution_count": 132,
     "metadata": {},
     "output_type": "execute_result"
    }
   ],
   "source": [
    "filter(lambda item: item%2 == 0,seq)"
   ]
  },
  {
   "cell_type": "code",
   "execution_count": 133,
   "id": "7f9d9c1a-5372-445f-90d2-8f475a7527b7",
   "metadata": {},
   "outputs": [
    {
     "data": {
      "text/plain": [
       "[2, 4]"
      ]
     },
     "execution_count": 133,
     "metadata": {},
     "output_type": "execute_result"
    }
   ],
   "source": [
    "list(filter(lambda item: item%2 == 0,seq))"
   ]
  },
  {
   "cell_type": "markdown",
   "id": "d2f48565-9101-43ca-ac0b-11c2a9992efc",
   "metadata": {},
   "source": [
    "## methods"
   ]
  },
  {
   "cell_type": "code",
   "execution_count": 134,
   "id": "2a1dcb99-dd18-4fe4-9163-edac491fc666",
   "metadata": {},
   "outputs": [],
   "source": [
    "st = 'hello my name is Sam'\n"
   ]
  },
  {
   "cell_type": "code",
   "execution_count": 135,
   "id": "0dc48bea-1439-4da6-a0d9-f50efbecf2e5",
   "metadata": {},
   "outputs": [
    {
     "data": {
      "text/plain": [
       "'hello my name is sam'"
      ]
     },
     "execution_count": 135,
     "metadata": {},
     "output_type": "execute_result"
    }
   ],
   "source": [
    "st.lower()"
   ]
  },
  {
   "cell_type": "code",
   "execution_count": 136,
   "id": "7347aa43-f812-42c2-8e45-f6cb0ce0a2ff",
   "metadata": {},
   "outputs": [
    {
     "data": {
      "text/plain": [
       "'Hello my name is sam'"
      ]
     },
     "execution_count": 136,
     "metadata": {},
     "output_type": "execute_result"
    }
   ],
   "source": [
    "st.capitalize()"
   ]
  },
  {
   "cell_type": "code",
   "execution_count": 137,
   "id": "92a78d4d-67f2-468e-bd71-1d407b99aa4c",
   "metadata": {},
   "outputs": [
    {
     "data": {
      "text/plain": [
       "'HELLO MY NAME IS SAM'"
      ]
     },
     "execution_count": 137,
     "metadata": {},
     "output_type": "execute_result"
    }
   ],
   "source": [
    "st.upper()"
   ]
  },
  {
   "cell_type": "code",
   "execution_count": 138,
   "id": "e464a20f-13c7-4e8a-be33-33ed112a019d",
   "metadata": {},
   "outputs": [
    {
     "data": {
      "text/plain": [
       "False"
      ]
     },
     "execution_count": 138,
     "metadata": {},
     "output_type": "execute_result"
    }
   ],
   "source": [
    "st.isupper()"
   ]
  },
  {
   "cell_type": "code",
   "execution_count": 139,
   "id": "9c8bf1e1-ce7d-4242-b91f-0e4a85ed7ef3",
   "metadata": {},
   "outputs": [
    {
     "data": {
      "text/plain": [
       "False"
      ]
     },
     "execution_count": 139,
     "metadata": {},
     "output_type": "execute_result"
    }
   ],
   "source": [
    "st.islower()"
   ]
  },
  {
   "cell_type": "code",
   "execution_count": 140,
   "id": "7dde515c-8f20-4256-a45f-27434a317b81",
   "metadata": {},
   "outputs": [
    {
     "data": {
      "text/plain": [
       "False"
      ]
     },
     "execution_count": 140,
     "metadata": {},
     "output_type": "execute_result"
    }
   ],
   "source": [
    "st.isnumeric() #checks if string is only numeric"
   ]
  },
  {
   "cell_type": "code",
   "execution_count": 141,
   "id": "f7735735-1de7-4f4b-a19c-f76085659294",
   "metadata": {},
   "outputs": [
    {
     "data": {
      "text/plain": [
       "False"
      ]
     },
     "execution_count": 141,
     "metadata": {},
     "output_type": "execute_result"
    }
   ],
   "source": [
    "st.isalpha() #checks if string is only alphabatical"
   ]
  },
  {
   "cell_type": "code",
   "execution_count": 142,
   "id": "899b7a57-891c-49c7-9e89-4e149822b3d7",
   "metadata": {},
   "outputs": [
    {
     "data": {
      "text/plain": [
       "False"
      ]
     },
     "execution_count": 142,
     "metadata": {},
     "output_type": "execute_result"
    }
   ],
   "source": [
    "st.isalnum()\n",
    " #checks if string is only alphanumeric"
   ]
  },
  {
   "cell_type": "code",
   "execution_count": 143,
   "id": "79561812-be4d-4034-a33a-cfadcd6f4b35",
   "metadata": {},
   "outputs": [
    {
     "data": {
      "text/plain": [
       "6"
      ]
     },
     "execution_count": 143,
     "metadata": {},
     "output_type": "execute_result"
    }
   ],
   "source": [
    "st.find('my') #finds the substring and returns the index"
   ]
  },
  {
   "cell_type": "code",
   "execution_count": 144,
   "id": "7082f4c5-1fdb-4c15-91ff-97a0fa1b18ec",
   "metadata": {},
   "outputs": [
    {
     "data": {
      "text/plain": [
       "['hello', 'my', 'name', 'is', 'Sam']"
      ]
     },
     "execution_count": 144,
     "metadata": {},
     "output_type": "execute_result"
    }
   ],
   "source": [
    "st.split()"
   ]
  },
  {
   "cell_type": "code",
   "execution_count": 145,
   "id": "893a5dc2-07c2-4df9-a294-34b5d3df4b9b",
   "metadata": {},
   "outputs": [],
   "source": [
    "tweet = 'Go Sports! #Sports'"
   ]
  },
  {
   "cell_type": "code",
   "execution_count": 146,
   "id": "48ccaa7e-4ea1-4120-b8e7-2ba332102693",
   "metadata": {},
   "outputs": [
    {
     "data": {
      "text/plain": [
       "['Go Sports! ', 'Sports']"
      ]
     },
     "execution_count": 146,
     "metadata": {},
     "output_type": "execute_result"
    }
   ],
   "source": [
    "tweet.split('#')"
   ]
  },
  {
   "cell_type": "code",
   "execution_count": 163,
   "id": "60abe6cd-980c-4f58-8c27-245d98338c24",
   "metadata": {},
   "outputs": [
    {
     "data": {
      "text/plain": [
       "'Sports'"
      ]
     },
     "execution_count": 163,
     "metadata": {},
     "output_type": "execute_result"
    }
   ],
   "source": [
    "tweet.split('#')[1]"
   ]
  },
  {
   "cell_type": "code",
   "execution_count": 164,
   "id": "20844581-ba9c-473d-95ee-ba32fe1deae8",
   "metadata": {},
   "outputs": [
    {
     "data": {
      "text/plain": [
       "'Go Sports! '"
      ]
     },
     "execution_count": 164,
     "metadata": {},
     "output_type": "execute_result"
    }
   ],
   "source": [
    "tweet.split('#')[0]"
   ]
  },
  {
   "cell_type": "code",
   "execution_count": 148,
   "id": "61d4b929-c5c7-4f98-a950-05e881539a1c",
   "metadata": {},
   "outputs": [
    {
     "data": {
      "text/plain": [
       "{'key1': 'changed', 'key2': 'item2', 'key3': 'new'}"
      ]
     },
     "execution_count": 148,
     "metadata": {},
     "output_type": "execute_result"
    }
   ],
   "source": [
    "d"
   ]
  },
  {
   "cell_type": "code",
   "execution_count": 149,
   "id": "83a9681c-65d3-4e6e-8779-8c8d0083f97a",
   "metadata": {},
   "outputs": [
    {
     "data": {
      "text/plain": [
       "dict_keys(['key1', 'key2', 'key3'])"
      ]
     },
     "execution_count": 149,
     "metadata": {},
     "output_type": "execute_result"
    }
   ],
   "source": [
    "d.keys()"
   ]
  },
  {
   "cell_type": "code",
   "execution_count": 150,
   "id": "f6e23329-2c52-4cf2-b958-0d1211dc3bca",
   "metadata": {},
   "outputs": [
    {
     "data": {
      "text/plain": [
       "dict_items([('key1', 'changed'), ('key2', 'item2'), ('key3', 'new')])"
      ]
     },
     "execution_count": 150,
     "metadata": {},
     "output_type": "execute_result"
    }
   ],
   "source": [
    "d.items()"
   ]
  },
  {
   "cell_type": "code",
   "execution_count": 151,
   "id": "68babe13-77a9-4bdd-8c2a-7578e445f5cc",
   "metadata": {},
   "outputs": [],
   "source": [
    "lst = [1,2,3]"
   ]
  },
  {
   "cell_type": "code",
   "execution_count": 152,
   "id": "ecd6515c-a9c4-4df6-a12f-5dc9860bac44",
   "metadata": {},
   "outputs": [
    {
     "data": {
      "text/plain": [
       "3"
      ]
     },
     "execution_count": 152,
     "metadata": {},
     "output_type": "execute_result"
    }
   ],
   "source": [
    "lst.pop()"
   ]
  },
  {
   "cell_type": "code",
   "execution_count": 153,
   "id": "fcd4bd3a-526e-4a9b-bf6e-e4fc5dd1fcf1",
   "metadata": {},
   "outputs": [
    {
     "data": {
      "text/plain": [
       "[1, 2]"
      ]
     },
     "execution_count": 153,
     "metadata": {},
     "output_type": "execute_result"
    }
   ],
   "source": [
    "lst"
   ]
  },
  {
   "cell_type": "code",
   "execution_count": 154,
   "id": "fa4b27bb-47a6-4fc4-bc60-03c65034150c",
   "metadata": {},
   "outputs": [
    {
     "data": {
      "text/plain": [
       "False"
      ]
     },
     "execution_count": 154,
     "metadata": {},
     "output_type": "execute_result"
    }
   ],
   "source": [
    "'x' in [1,2,3]"
   ]
  },
  {
   "cell_type": "code",
   "execution_count": 155,
   "id": "f0e13a3b-0f96-47ed-85a9-6c0744293643",
   "metadata": {},
   "outputs": [
    {
     "data": {
      "text/plain": [
       "True"
      ]
     },
     "execution_count": 155,
     "metadata": {},
     "output_type": "execute_result"
    }
   ],
   "source": [
    "'x' in ['x','y','z']"
   ]
  },
  {
   "cell_type": "code",
   "execution_count": 156,
   "id": "464e31b8-17a8-41e9-905d-41283b38eaed",
   "metadata": {},
   "outputs": [
    {
     "name": "stdout",
     "output_type": "stream",
     "text": [
      "6\n",
      "(1, 2)\n",
      "(3, 4)\n",
      "(5, 6)\n",
      "this is called tuple unpaking\n",
      "1\n",
      "2\n",
      "3\n",
      "4\n",
      "5\n",
      "6\n"
     ]
    }
   ],
   "source": [
    "x = [(1,2),(3,4),(5,6)]\n",
    "print(x[2][1])\n",
    "\n",
    "for item in x:\n",
    "    print(item)\n",
    "    \n",
    "print('this is called tuple unpaking')\n",
    "\n",
    "for a,b in x:\n",
    "    print(a)\n",
    "    print(b)"
   ]
  },
  {
   "cell_type": "code",
   "execution_count": null,
   "id": "c07150ad-31e7-4e07-b3ae-e02a5800f213",
   "metadata": {},
   "outputs": [],
   "source": []
  }
 ],
 "metadata": {
  "kernelspec": {
   "display_name": "Python 3 (ipykernel)",
   "language": "python",
   "name": "python3"
  },
  "language_info": {
   "codemirror_mode": {
    "name": "ipython",
    "version": 3
   },
   "file_extension": ".py",
   "mimetype": "text/x-python",
   "name": "python",
   "nbconvert_exporter": "python",
   "pygments_lexer": "ipython3",
   "version": "3.11.5"
  }
 },
 "nbformat": 4,
 "nbformat_minor": 5
}
